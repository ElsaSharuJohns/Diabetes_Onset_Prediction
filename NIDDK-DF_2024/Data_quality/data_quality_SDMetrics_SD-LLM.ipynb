{
 "cells": [
  {
   "cell_type": "code",
   "execution_count": null,
   "id": "c035a1fd",
   "metadata": {},
   "outputs": [],
   "source": [
    "#pip install sdmetrics"
   ]
  },
  {
   "cell_type": "code",
   "execution_count": null,
   "id": "e675cfe6",
   "metadata": {},
   "outputs": [],
   "source": [
    "from sdmetrics import load_demo\n",
    "from sdmetrics.reports.single_table import QualityReport\n",
    "import pandas as pd"
   ]
  },
  {
   "cell_type": "code",
   "execution_count": null,
   "id": "be70d02b",
   "metadata": {},
   "outputs": [],
   "source": [
    "#real_data, synthetic_data, metadata = load_demo(modality='single_table')\n",
    "tgt=pd.read_csv(\"C:/Users/admin/Documents/Diabetes_Research/1.Paper/NIDDK-DF_2024/Data_quality/NIDDK-DF-new-3targets.csv\",decimal=\",\")\n",
    "syn=pd.read_csv(\"C:/Users/admin/Documents/Diabetes_Research/1.Paper/NIDDK-DF_2024/Data_quality/NIDDK-DF_SD-LLM_2024_all.csv\")"
   ]
  },
  {
   "cell_type": "code",
   "execution_count": null,
   "id": "f25bf9a7",
   "metadata": {},
   "outputs": [],
   "source": [
    "tgt = tgt.astype({'chol_hdl_ratio': float, 'bmi': float, 'waist_hip_ratio': float, 'gender': 'category', 'Outcome': 'category'})"
   ]
  },
  {
   "cell_type": "code",
   "execution_count": null,
   "id": "514161ee",
   "metadata": {},
   "outputs": [],
   "source": [
    "tgt.columns"
   ]
  },
  {
   "cell_type": "code",
   "execution_count": null,
   "id": "9095928b",
   "metadata": {},
   "outputs": [],
   "source": [
    "syn = syn.astype({'chol_hdl_ratio': float, 'bmi': float, 'waist_hip_ratio': float, 'gender': 'category', 'Outcome': 'category'})"
   ]
  },
  {
   "cell_type": "markdown",
   "id": "0d249a28",
   "metadata": {},
   "source": [
    "### For real and synthetic data"
   ]
  },
  {
   "cell_type": "code",
   "execution_count": null,
   "id": "fbb1ae24",
   "metadata": {},
   "outputs": [],
   "source": [
    "# calculate whether the synthetic data respects the min/max bounds\n",
    "# set by the real data\n",
    "from sdmetrics.single_column import BoundaryAdherence\n",
    "\n",
    "BoundaryAdherence.compute(\n",
    "    tgt['glucose'],\n",
    "    syn['glucose']\n",
    ")"
   ]
  },
  {
   "cell_type": "code",
   "execution_count": null,
   "id": "33b9275c",
   "metadata": {},
   "outputs": [],
   "source": [
    "import json \n",
    "\n",
    "with open('metadata.json') as f:\n",
    "    my_metadata_dict = json.load(f)\n",
    "\n",
    "# use my_metadata_dict in the SDMetrics library"
   ]
  },
  {
   "cell_type": "code",
   "execution_count": null,
   "id": "8a749b75",
   "metadata": {},
   "outputs": [],
   "source": [
    "# calculate whether the synthetic data is new or whether it's an exact copy of the real data\n",
    "from sdmetrics.single_table import NewRowSynthesis\n",
    "\n",
    "NewRowSynthesis.compute(\n",
    "    tgt,\n",
    "    syn,\n",
    "    my_metadata_dict\n",
    ")"
   ]
  },
  {
   "cell_type": "code",
   "execution_count": null,
   "id": "5f6b2214",
   "metadata": {},
   "outputs": [],
   "source": [
    "from sdmetrics import load_demo\n",
    "from sdmetrics.reports.single_table import QualityReport\n",
    "\n",
    "metadata = my_metadata_dict\n",
    "\n",
    "real_data, synthetic_data = tgt, syn\n",
    "\n",
    "my_report = QualityReport()\n",
    "my_report.generate(real_data, synthetic_data, metadata)"
   ]
  },
  {
   "cell_type": "code",
   "execution_count": null,
   "id": "16462866",
   "metadata": {},
   "outputs": [],
   "source": [
    "my_report.save(filepath='syn_data_quality_report.pkl')\n",
    "\n",
    "# load it at any point in the future\n",
    "my_report = QualityReport.load(filepath='syn_data_quality_report.pkl')"
   ]
  },
  {
   "cell_type": "code",
   "execution_count": null,
   "id": "193a04c1",
   "metadata": {
    "scrolled": true
   },
   "outputs": [],
   "source": [
    "my_report.get_visualization(property_name='Column Pair Trends')"
   ]
  }
 ],
 "metadata": {
  "kernelspec": {
   "display_name": "Python 3 (ipykernel)",
   "language": "python",
   "name": "python3"
  },
  "language_info": {
   "codemirror_mode": {
    "name": "ipython",
    "version": 3
   },
   "file_extension": ".py",
   "mimetype": "text/x-python",
   "name": "python",
   "nbconvert_exporter": "python",
   "pygments_lexer": "ipython3",
   "version": "3.10.12"
  }
 },
 "nbformat": 4,
 "nbformat_minor": 5
}
