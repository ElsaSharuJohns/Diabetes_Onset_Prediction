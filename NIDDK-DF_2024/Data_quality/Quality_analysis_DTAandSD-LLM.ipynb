{
 "cells": [
  {
   "cell_type": "code",
   "execution_count": null,
   "id": "a1b6e37c",
   "metadata": {},
   "outputs": [],
   "source": [
    "import pandas as pd\n",
    "import numpy as np"
   ]
  },
  {
   "cell_type": "code",
   "execution_count": null,
   "id": "ed0fc4f8",
   "metadata": {},
   "outputs": [],
   "source": [
    "tgt=pd.read_csv(\"C:/Users/admin/Documents/Diabetes_Research/1.Paper/NIDDK-DF_2024/Data_quality/NIDDK-DF-new-3targets.csv\")"
   ]
  },
  {
   "cell_type": "code",
   "execution_count": null,
   "id": "e5bdee2c",
   "metadata": {},
   "outputs": [],
   "source": [
    "tgt = tgt[['Patient_id', 'cholesterol', 'glucose', 'hdl_chol', 'chol_hdl_ratio', 'age', 'gender',\n",
    "       'height', 'weight', 'bmi', 'systolic_bp', 'diastolic_bp', 'waist',\n",
    "       'hip', 'waist_hip_ratio', 'Outcome']]"
   ]
  },
  {
   "cell_type": "code",
   "execution_count": null,
   "id": "0954c67b",
   "metadata": {},
   "outputs": [],
   "source": [
    "syn_sdllm=pd.read_csv(\"C:/Users/admin/Documents/Diabetes_Research/1.Paper/NIDDK-DF_2024/NIDDK-DF_SD-LLM_2024_all.csv\")"
   ]
  },
  {
   "cell_type": "code",
   "execution_count": null,
   "id": "d2503395",
   "metadata": {},
   "outputs": [],
   "source": [
    "print(f\"fetched synthetic data with {tgt.shape[0]:,} records and {tgt.shape[1]} attributes\")\n",
    "print(f\"fetched synthetic data with {syn_sdllm.shape[0]:,} records and {syn_sdllm.shape[1]} attributes\")"
   ]
  },
  {
   "cell_type": "code",
   "execution_count": null,
   "id": "3dbfb34e",
   "metadata": {},
   "outputs": [],
   "source": [
    "tgt['Outcome'].value_counts()"
   ]
  },
  {
   "cell_type": "code",
   "execution_count": null,
   "id": "f029b9b9",
   "metadata": {},
   "outputs": [],
   "source": [
    "syn['Outcome'].value_counts()"
   ]
  },
  {
   "cell_type": "code",
   "execution_count": null,
   "id": "a09f0191",
   "metadata": {},
   "outputs": [],
   "source": [
    "syn_sdllm['Outcome'].value_counts()"
   ]
  },
  {
   "cell_type": "code",
   "execution_count": null,
   "id": "bdcd43c6",
   "metadata": {},
   "outputs": [],
   "source": [
    "tgt.info()"
   ]
  },
  {
   "cell_type": "code",
   "execution_count": null,
   "id": "88374136",
   "metadata": {},
   "outputs": [],
   "source": [
    "tgt = tgt.astype({'chol_hdl_ratio': float, 'bmi': float, 'waist_hip_ratio': float, 'Outcome': 'category'})"
   ]
  },
  {
   "cell_type": "code",
   "execution_count": null,
   "id": "d974ae65",
   "metadata": {},
   "outputs": [],
   "source": [
    "syn.info()"
   ]
  },
  {
   "cell_type": "code",
   "execution_count": null,
   "id": "15df5df6",
   "metadata": {},
   "outputs": [],
   "source": [
    "syn_sdllm.info()"
   ]
  },
  {
   "cell_type": "code",
   "execution_count": null,
   "id": "16634c31",
   "metadata": {},
   "outputs": [],
   "source": [
    "syn_sdllm = syn_sdllm.astype({'chol_hdl_ratio': float, 'bmi': float, 'waist_hip_ratio': float, 'gender': 'category', 'Outcome': 'category'})"
   ]
  },
  {
   "cell_type": "code",
   "execution_count": null,
   "id": "ae064b5b",
   "metadata": {},
   "outputs": [],
   "source": [
    "syn = syn[['Patient_id','cholesterol', 'glucose', 'hdl_chol', 'chol_hdl_ratio', 'age', 'gender',\n",
    "       'height', 'weight', 'bmi', 'systolic_bp', 'diastolic_bp', 'waist',\n",
    "       'hip', 'waist_hip_ratio', 'Outcome']]"
   ]
  },
  {
   "cell_type": "code",
   "execution_count": null,
   "id": "91efcc3f",
   "metadata": {},
   "outputs": [],
   "source": [
    "syn_sdllm = syn_sdllm[['Patient_id','cholesterol', 'glucose', 'hdl_chol', 'chol_hdl_ratio', 'age', 'gender',\n",
    "       'height', 'weight', 'bmi', 'systolic_bp', 'diastolic_bp', 'waist',\n",
    "       'hip', 'waist_hip_ratio', 'Outcome']]"
   ]
  },
  {
   "cell_type": "code",
   "execution_count": null,
   "id": "10d8c798",
   "metadata": {},
   "outputs": [],
   "source": [
    "# Import label encoder \n",
    "from sklearn import preprocessing \n",
    "\n",
    "label_encoder = preprocessing.LabelEncoder() \n",
    "\n",
    "# Encode labels in column 'gender'. \n",
    "syn['gender']= label_encoder.fit_transform(syn['gender']) \n",
    "\n",
    "syn['gender'].unique() \n",
    "\n",
    "# Encode labels in column 'gender'. \n",
    "tgt['gender']= label_encoder.fit_transform(tgt['gender']) \n",
    "\n",
    "tgt['gender'].unique() "
   ]
  },
  {
   "cell_type": "markdown",
   "id": "572b8caf",
   "metadata": {},
   "source": [
    "#### For more details\n",
    "https://mostly.ai/blog/synthetic-data-quality-assurance"
   ]
  },
  {
   "cell_type": "code",
   "execution_count": null,
   "id": "fcf1093a",
   "metadata": {},
   "outputs": [],
   "source": [
    "# calculate whether the synthetic data respects the min/max bounds\n",
    "# set by the real data\n",
    "from sdmetrics.single_column import BoundaryAdherence\n",
    "\n",
    "BoundaryAdherence.compute(\n",
    "    tgt['glucose'],\n",
    "    syn['glucose']\n",
    ")"
   ]
  },
  {
   "cell_type": "code",
   "execution_count": null,
   "id": "8acb16b7",
   "metadata": {},
   "outputs": [],
   "source": [
    "# calculate whether the synthetic data respects the min/max bounds\n",
    "# set by the real data\n",
    "from sdmetrics.single_column import BoundaryAdherence\n",
    "\n",
    "BoundaryAdherence.compute(\n",
    "    tgt['glucose'],\n",
    "    syn_sdllm['glucose']\n",
    ")"
   ]
  },
  {
   "cell_type": "code",
   "execution_count": null,
   "id": "673b3e17",
   "metadata": {},
   "outputs": [],
   "source": [
    "from sklearn.compose import make_column_transformer\n",
    "from sklearn.neighbors import NearestNeighbors\n",
    "from sklearn.preprocessing import OneHotEncoder\n",
    "from sklearn.impute import SimpleImputer"
   ]
  },
  {
   "cell_type": "code",
   "execution_count": null,
   "id": "f0983296",
   "metadata": {},
   "outputs": [],
   "source": [
    "def quality_metrics(tgt, syn):\n",
    "    no_of_records = min(tgt.shape[0] // 2, syn.shape[0], 10_000)\n",
    "    tgt = tgt.sample(n=2 * no_of_records)\n",
    "    trn = tgt.head(no_of_records)\n",
    "    #print(trn.info())\n",
    "    hol = tgt.tail(no_of_records)\n",
    "    #print(hol.info())\n",
    "    syn = syn.sample(n=no_of_records)\n",
    "        \n",
    "    string_cols = trn.select_dtypes(exclude=np.number).columns\n",
    "    numeric_cols = trn.select_dtypes(include=np.number).columns\n",
    "    transformer = make_column_transformer((SimpleImputer(missing_values=np.nan, strategy=\"mean\"), numeric_cols),(OneHotEncoder(), string_cols),remainder=\"passthrough\",)\n",
    "    transformer.fit(pd.concat([trn, hol, syn], axis=0))\n",
    "    trn_hot = transformer.transform(trn)\n",
    "    hol_hot = transformer.transform(hol)\n",
    "    syn_hot = transformer.transform(syn)\n",
    "\n",
    "\n",
    "    # calculcate distances to nearest neighbors\n",
    "    index = NearestNeighbors(n_neighbors=2, algorithm=\"brute\", metric=\"l1\", n_jobs=-1)\n",
    "    index.fit(trn_hot)\n",
    "    # k-nearest-neighbor search for both training and synthetic data, k=2 to calculate DCR + NNDR\n",
    "    dcrs_hol, _ = index.kneighbors(hol_hot)\n",
    "    dcrs_syn, _ = index.kneighbors(syn_hot)\n",
    "    dcrs_hol = np.square(dcrs_hol)\n",
    "    dcrs_syn = np.square(dcrs_syn)\n",
    "    \n",
    "    dcr_bound = np.maximum(np.quantile(dcrs_hol[:, 0], 0.95), 1e-8)\n",
    "    ndcr_hol = dcrs_hol[:, 0] / dcr_bound\n",
    "    ndcr_syn = dcrs_syn[:, 0] / dcr_bound\n",
    "    \n",
    "    return dcrs_hol, dcrs_syn, ndcr_hol, ndcr_syn "
   ]
  },
  {
   "cell_type": "markdown",
   "id": "e55b458c",
   "metadata": {},
   "source": [
    "### For DTA"
   ]
  },
  {
   "cell_type": "code",
   "execution_count": null,
   "id": "a8489577",
   "metadata": {},
   "outputs": [],
   "source": [
    "dcrs_hol, dcrs_syn, ndcr_hol, ndcr_syn = quality_metrics(tgt, syn)"
   ]
  },
  {
   "cell_type": "code",
   "execution_count": null,
   "id": "2c21f3bc",
   "metadata": {},
   "outputs": [],
   "source": [
    "print(f\"Normalized DCR 5-th percentile original  {np.percentile(ndcr_hol, 5):.3f}\")\n",
    "print(f\"Normalized DCR 5-th percentile synthetic {np.percentile(ndcr_syn, 5):.3f}\")\n",
    "\n",
    "print(f\"NNDR 5-th percentile original  {np.percentile(dcrs_hol[:,0]/dcrs_hol[:,1], 5):.3f}\")\n",
    "print(f\"NNDR 5-th percentile synthetic {np.percentile(dcrs_syn[:,0]/dcrs_syn[:,1], 5):.3f}\")"
   ]
  },
  {
   "cell_type": "markdown",
   "id": "5572c641",
   "metadata": {},
   "source": [
    "### For SD-LLM"
   ]
  },
  {
   "cell_type": "code",
   "execution_count": null,
   "id": "9e09aa7c",
   "metadata": {},
   "outputs": [],
   "source": [
    "dcrs_hol1, dcrs_syn1, ndcr_hol1, ndcr_syn1 = quality_metrics(tgt, syn_sdllm)"
   ]
  },
  {
   "cell_type": "code",
   "execution_count": null,
   "id": "f8274890",
   "metadata": {},
   "outputs": [],
   "source": [
    "print(f\"Normalized DCR 5-th percentile original_prediabetic  {np.percentile(ndcr_hol1, 5):.3f}\")\n",
    "print(f\"Normalized DCR 5-th percentile synthetic_prediabetic {np.percentile(ndcr_syn1, 5):.3f}\")\n",
    "\n",
    "print(f\"NNDR 5-th percentile original  {np.percentile(dcrs_hol1[:,0]/dcrs_hol1[:,1], 5):.3f}\")\n",
    "print(f\"NNDR 5-th percentile synthetic {np.percentile(dcrs_syn1[:,0]/dcrs_syn1[:,1], 5):.3f}\")"
   ]
  },
  {
   "cell_type": "markdown",
   "id": "50b9aba8",
   "metadata": {},
   "source": [
    "For both privacy metrics, the distance value for the synthetic dataset should be similar but not smaller. This gives us confidence that our synthetic record has not learned privacy-revealing information from the training data."
   ]
  }
 ],
 "metadata": {
  "kernelspec": {
   "display_name": "Python 3 (ipykernel)",
   "language": "python",
   "name": "python3"
  },
  "language_info": {
   "codemirror_mode": {
    "name": "ipython",
    "version": 3
   },
   "file_extension": ".py",
   "mimetype": "text/x-python",
   "name": "python",
   "nbconvert_exporter": "python",
   "pygments_lexer": "ipython3",
   "version": "3.10.12"
  }
 },
 "nbformat": 4,
 "nbformat_minor": 5
}
