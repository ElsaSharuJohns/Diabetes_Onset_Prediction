{
 "cells": [
  {
   "cell_type": "markdown",
   "metadata": {},
   "source": [
    "## Diabetes Prediction using Diagnostic Features Dataset DTA"
   ]
  },
  {
   "cell_type": "markdown",
   "metadata": {},
   "source": [
    "<h3>Importing Libraries</h3>"
   ]
  },
  {
   "cell_type": "code",
   "execution_count": 3,
   "metadata": {},
   "outputs": [],
   "source": [
    "import os\n",
    "import sys\n",
    "module_path = os.path.abspath(os.path.join('..'))\n",
    "if module_path not in sys.path:\n",
    "    sys.path.append(module_path)"
   ]
  },
  {
   "cell_type": "code",
   "execution_count": 4,
   "metadata": {},
   "outputs": [],
   "source": [
    "import pandas as pd\n",
    "import numpy as np\n",
    "import torch\n",
    "from torch import nn\n",
    "from torch import optim\n",
    "from sklearn.preprocessing import StandardScaler\n",
    "from functools import partial\n",
    "import mlprepare as mlp\n",
    "import deep_tabular_augmentation as dta\n",
    "from sklearn.model_selection import train_test_split\n",
    "\n",
    "from sklearn.ensemble import RandomForestClassifier\n",
    "from sklearn.metrics import confusion_matrix"
   ]
  },
  {
   "cell_type": "markdown",
   "metadata": {},
   "source": [
    "**Loading the Dataset**"
   ]
  },
  {
   "cell_type": "code",
   "execution_count": 5,
   "metadata": {},
   "outputs": [],
   "source": [
    "import time\n",
    "# store starting time\n",
    "begin_dataprep = time.time()"
   ]
  },
  {
   "cell_type": "code",
   "execution_count": 6,
   "metadata": {},
   "outputs": [],
   "source": [
    "device = torch.device('cuda' if torch.cuda.is_available() else 'cpu')"
   ]
  },
  {
   "cell_type": "code",
   "execution_count": 7,
   "metadata": {},
   "outputs": [
    {
     "data": {
      "text/plain": [
       "True"
      ]
     },
     "execution_count": 7,
     "metadata": {},
     "output_type": "execute_result"
    }
   ],
   "source": [
    "torch.cuda.is_available()"
   ]
  },
  {
   "cell_type": "markdown",
   "metadata": {},
   "source": [
    "### Encoding codes used\n",
    "code used for categories = {'female':1,\n",
    "            'male':0,\n",
    "            'Normal':0,\n",
    "            'Diabetes':1,\n",
    "            'Prediabetic':2,\n",
    "           }"
   ]
  },
  {
   "cell_type": "code",
   "execution_count": 8,
   "metadata": {},
   "outputs": [
    {
     "data": {
      "text/html": [
       "<div>\n",
       "<style scoped>\n",
       "    .dataframe tbody tr th:only-of-type {\n",
       "        vertical-align: middle;\n",
       "    }\n",
       "\n",
       "    .dataframe tbody tr th {\n",
       "        vertical-align: top;\n",
       "    }\n",
       "\n",
       "    .dataframe thead th {\n",
       "        text-align: right;\n",
       "    }\n",
       "</style>\n",
       "<table border=\"1\" class=\"dataframe\">\n",
       "  <thead>\n",
       "    <tr style=\"text-align: right;\">\n",
       "      <th></th>\n",
       "      <th>cholesterol</th>\n",
       "      <th>glucose</th>\n",
       "      <th>hdl_chol</th>\n",
       "      <th>chol_hdl_ratio</th>\n",
       "      <th>age</th>\n",
       "      <th>gender</th>\n",
       "      <th>height</th>\n",
       "      <th>weight</th>\n",
       "      <th>bmi</th>\n",
       "      <th>systolic_bp</th>\n",
       "      <th>diastolic_bp</th>\n",
       "      <th>waist</th>\n",
       "      <th>hip</th>\n",
       "      <th>waist_hip_ratio</th>\n",
       "      <th>Outcome</th>\n",
       "    </tr>\n",
       "  </thead>\n",
       "  <tbody>\n",
       "    <tr>\n",
       "      <th>0</th>\n",
       "      <td>193</td>\n",
       "      <td>77</td>\n",
       "      <td>49</td>\n",
       "      <td>3.9</td>\n",
       "      <td>19</td>\n",
       "      <td>0</td>\n",
       "      <td>61</td>\n",
       "      <td>119</td>\n",
       "      <td>22.5</td>\n",
       "      <td>118</td>\n",
       "      <td>70</td>\n",
       "      <td>32</td>\n",
       "      <td>38</td>\n",
       "      <td>0.84</td>\n",
       "      <td>0</td>\n",
       "    </tr>\n",
       "    <tr>\n",
       "      <th>1</th>\n",
       "      <td>146</td>\n",
       "      <td>79</td>\n",
       "      <td>41</td>\n",
       "      <td>3.6</td>\n",
       "      <td>19</td>\n",
       "      <td>0</td>\n",
       "      <td>60</td>\n",
       "      <td>135</td>\n",
       "      <td>26.4</td>\n",
       "      <td>108</td>\n",
       "      <td>58</td>\n",
       "      <td>33</td>\n",
       "      <td>40</td>\n",
       "      <td>0.83</td>\n",
       "      <td>0</td>\n",
       "    </tr>\n",
       "    <tr>\n",
       "      <th>2</th>\n",
       "      <td>217</td>\n",
       "      <td>75</td>\n",
       "      <td>54</td>\n",
       "      <td>4.0</td>\n",
       "      <td>20</td>\n",
       "      <td>0</td>\n",
       "      <td>67</td>\n",
       "      <td>187</td>\n",
       "      <td>29.3</td>\n",
       "      <td>110</td>\n",
       "      <td>72</td>\n",
       "      <td>40</td>\n",
       "      <td>45</td>\n",
       "      <td>0.89</td>\n",
       "      <td>0</td>\n",
       "    </tr>\n",
       "    <tr>\n",
       "      <th>3</th>\n",
       "      <td>226</td>\n",
       "      <td>97</td>\n",
       "      <td>70</td>\n",
       "      <td>3.2</td>\n",
       "      <td>20</td>\n",
       "      <td>0</td>\n",
       "      <td>64</td>\n",
       "      <td>114</td>\n",
       "      <td>19.6</td>\n",
       "      <td>122</td>\n",
       "      <td>64</td>\n",
       "      <td>31</td>\n",
       "      <td>39</td>\n",
       "      <td>0.79</td>\n",
       "      <td>0</td>\n",
       "    </tr>\n",
       "    <tr>\n",
       "      <th>4</th>\n",
       "      <td>164</td>\n",
       "      <td>91</td>\n",
       "      <td>67</td>\n",
       "      <td>2.4</td>\n",
       "      <td>20</td>\n",
       "      <td>0</td>\n",
       "      <td>70</td>\n",
       "      <td>141</td>\n",
       "      <td>20.2</td>\n",
       "      <td>122</td>\n",
       "      <td>86</td>\n",
       "      <td>32</td>\n",
       "      <td>39</td>\n",
       "      <td>0.82</td>\n",
       "      <td>0</td>\n",
       "    </tr>\n",
       "  </tbody>\n",
       "</table>\n",
       "</div>"
      ],
      "text/plain": [
       "   cholesterol  glucose  hdl_chol  chol_hdl_ratio  age  gender  height  \\\n",
       "0          193       77        49             3.9   19       0      61   \n",
       "1          146       79        41             3.6   19       0      60   \n",
       "2          217       75        54             4.0   20       0      67   \n",
       "3          226       97        70             3.2   20       0      64   \n",
       "4          164       91        67             2.4   20       0      70   \n",
       "\n",
       "   weight   bmi  systolic_bp  diastolic_bp  waist  hip  waist_hip_ratio  \\\n",
       "0     119  22.5          118            70     32   38             0.84   \n",
       "1     135  26.4          108            58     33   40             0.83   \n",
       "2     187  29.3          110            72     40   45             0.89   \n",
       "3     114  19.6          122            64     31   39             0.79   \n",
       "4     141  20.2          122            86     32   39             0.82   \n",
       "\n",
       "   Outcome  \n",
       "0        0  \n",
       "1        0  \n",
       "2        0  \n",
       "3        0  \n",
       "4        0  "
      ]
     },
     "execution_count": 8,
     "metadata": {},
     "output_type": "execute_result"
    }
   ],
   "source": [
    "#Reading the data and some data are not present as decimals\n",
    "df=pd.read_csv(\"NIDDK-DF-new-3targets.csv\")\n",
    "pd.set_option('display.max_row',df.shape[0])\n",
    "pd.set_option('display.max_column',df.shape[1]) \n",
    "df.head()"
   ]
  },
  {
   "cell_type": "code",
   "execution_count": 9,
   "metadata": {},
   "outputs": [
    {
     "data": {
      "text/plain": [
       "cholesterol          int64\n",
       "glucose              int64\n",
       "hdl_chol             int64\n",
       "chol_hdl_ratio     float64\n",
       "age                  int64\n",
       "gender               int64\n",
       "height               int64\n",
       "weight               int64\n",
       "bmi                float64\n",
       "systolic_bp          int64\n",
       "diastolic_bp         int64\n",
       "waist                int64\n",
       "hip                  int64\n",
       "waist_hip_ratio    float64\n",
       "Outcome              int64\n",
       "dtype: object"
      ]
     },
     "execution_count": 9,
     "metadata": {},
     "output_type": "execute_result"
    }
   ],
   "source": [
    "df.dtypes"
   ]
  },
  {
   "cell_type": "code",
   "execution_count": 10,
   "metadata": {},
   "outputs": [],
   "source": [
    "df.rename({'Outcome': 'Class'}, axis=1, inplace=True)"
   ]
  },
  {
   "cell_type": "code",
   "execution_count": 11,
   "metadata": {},
   "outputs": [
    {
     "data": {
      "text/plain": [
       "cholesterol          int64\n",
       "glucose              int64\n",
       "hdl_chol             int64\n",
       "chol_hdl_ratio     float64\n",
       "age                  int64\n",
       "gender               int64\n",
       "height               int64\n",
       "weight               int64\n",
       "bmi                float64\n",
       "systolic_bp          int64\n",
       "diastolic_bp         int64\n",
       "waist                int64\n",
       "hip                  int64\n",
       "waist_hip_ratio    float64\n",
       "Class                int64\n",
       "dtype: object"
      ]
     },
     "execution_count": 11,
     "metadata": {},
     "output_type": "execute_result"
    }
   ],
   "source": [
    "df.dtypes"
   ]
  },
  {
   "cell_type": "code",
   "execution_count": 12,
   "metadata": {
    "scrolled": true
   },
   "outputs": [
    {
     "name": "stdout",
     "output_type": "stream",
     "text": [
      "There are 0 duplicates\n",
      "There is now 390 rows\n",
      "There is now 15 columns\n"
     ]
    }
   ],
   "source": [
    "# Eliminate duplicates\n",
    "#Delete original label\n",
    "#df['gender'] = df['gender'].astype('str')\n",
    "print('There are' , df.duplicated().sum() , 'duplicates')\n",
    "df.loc[df.duplicated(keep=False),:]\n",
    "df.drop_duplicates(keep='first',inplace=True)\n",
    "print('There is now' , df.shape[0] , 'rows')\n",
    "print('There is now' , df.shape[1] , 'columns')"
   ]
  },
  {
   "cell_type": "code",
   "execution_count": 13,
   "metadata": {},
   "outputs": [],
   "source": [
    "df_old=df"
   ]
  },
  {
   "cell_type": "code",
   "execution_count": 14,
   "metadata": {},
   "outputs": [
    {
     "data": {
      "text/plain": [
       "\"df = pd.get_dummies(df, columns = ['gender'])\\n#print(df)\\nprint('There is now' , df.shape[0] , 'rows')\\nprint('There is now' , df.shape[1] , 'columns')\""
      ]
     },
     "execution_count": 14,
     "metadata": {},
     "output_type": "execute_result"
    }
   ],
   "source": [
    "'''df = pd.get_dummies(df, columns = ['gender'])\n",
    "#print(df)\n",
    "print('There is now' , df.shape[0] , 'rows')\n",
    "print('There is now' , df.shape[1] , 'columns')'''"
   ]
  },
  {
   "cell_type": "code",
   "execution_count": 15,
   "metadata": {},
   "outputs": [
    {
     "data": {
      "text/plain": [
       "Index(['cholesterol', 'glucose', 'hdl_chol', 'chol_hdl_ratio', 'age', 'gender',\n",
       "       'height', 'weight', 'bmi', 'systolic_bp', 'diastolic_bp', 'waist',\n",
       "       'hip', 'waist_hip_ratio', 'Class'],\n",
       "      dtype='object')"
      ]
     },
     "execution_count": 15,
     "metadata": {},
     "output_type": "execute_result"
    }
   ],
   "source": [
    "df.columns"
   ]
  },
  {
   "cell_type": "code",
   "execution_count": 16,
   "metadata": {},
   "outputs": [
    {
     "data": {
      "text/plain": [
       "0    279\n",
       "1     60\n",
       "2     51\n",
       "Name: Class, dtype: int64"
      ]
     },
     "execution_count": 16,
     "metadata": {},
     "output_type": "execute_result"
    }
   ],
   "source": [
    "df['Class'].value_counts()"
   ]
  },
  {
   "cell_type": "code",
   "execution_count": 17,
   "metadata": {},
   "outputs": [
    {
     "data": {
      "text/plain": [
       "228"
      ]
     },
     "execution_count": 17,
     "metadata": {},
     "output_type": "execute_result"
    }
   ],
   "source": [
    "difference_in_class_occurences = df['Class'].value_counts()[0]-df['Class'].value_counts()[2]\n",
    "difference_in_class_occurences"
   ]
  },
  {
   "cell_type": "code",
   "execution_count": 18,
   "metadata": {},
   "outputs": [
    {
     "name": "stdout",
     "output_type": "stream",
     "text": [
      "Number of normal people 279\n",
      "Number of diabetic people 60\n",
      "Number of prediabetic people 51\n"
     ]
    }
   ],
   "source": [
    "#Class occurences for all classes\n",
    "print('Number of normal people', df['Class'].value_counts()[0])\n",
    "print('Number of diabetic people', df['Class'].value_counts()[1])\n",
    "print('Number of prediabetic people', df['Class'].value_counts()[2])"
   ]
  },
  {
   "cell_type": "code",
   "execution_count": 19,
   "metadata": {},
   "outputs": [],
   "source": [
    "X_train, X_test, y_train, y_test = mlp.split_df(df, dep_var='Class', test_size=0.3, split_mode='random')\n",
    "\n",
    "x_scaler = StandardScaler()\n",
    "\n",
    "X_train_scaled = x_scaler.fit_transform(X_train)\n",
    "\n",
    "X_test_scaled = x_scaler.transform(X_test)\n",
    "\n",
    "X_train_diab = X_train_scaled[np.where(y_train==0)[0]] ##For Prediabetic\n",
    "X_test_diab = X_test_scaled[np.where(y_test==0)[0]]  ##For Prediabetic"
   ]
  },
  {
   "cell_type": "code",
   "execution_count": 20,
   "metadata": {},
   "outputs": [
    {
     "data": {
      "text/plain": [
       "(192, 14)"
      ]
     },
     "execution_count": 20,
     "metadata": {},
     "output_type": "execute_result"
    }
   ],
   "source": [
    "X_train_diab.shape"
   ]
  },
  {
   "cell_type": "code",
   "execution_count": 21,
   "metadata": {},
   "outputs": [
    {
     "data": {
      "text/plain": [
       "(87, 14)"
      ]
     },
     "execution_count": 21,
     "metadata": {},
     "output_type": "execute_result"
    }
   ],
   "source": [
    "X_test_diab.shape"
   ]
  },
  {
   "cell_type": "code",
   "execution_count": 22,
   "metadata": {},
   "outputs": [],
   "source": [
    "datasets = dta.create_datasets(X_train_diab, y_train.values[np.where(y_train==0)], X_test_diab, y_test.values[np.where(y_test==0)])\n",
    "data = dta.DataBunch(*dta.create_loaders(datasets, device='cuda')) # earlier 'cpu'"
   ]
  },
  {
   "cell_type": "code",
   "execution_count": 23,
   "metadata": {},
   "outputs": [],
   "source": [
    "D_in = X_train_diab.shape[1]\n",
    "VAE_arch = [50, 12, 12]\n",
    "target_name = 'Class'\n",
    "target_class = 0\n",
    "df_cols = list(df.columns)\n",
    "\n",
    "model = dta.Autoencoder(D_in, VAE_arch, latent_dim=5).to(device)\n",
    "opt = optim.Adam(model.parameters(), lr=0.01)\n",
    "loss_func = dta.customLoss()"
   ]
  },
  {
   "cell_type": "code",
   "execution_count": 24,
   "metadata": {},
   "outputs": [],
   "source": [
    "learn = dta.Learner(model, opt, loss_func, data, target_name, target_class, df_cols)\n",
    "\n",
    "run = dta.Runner(cb_funcs=[dta.LR_Find, dta.Recorder])\n",
    "\n",
    "run.fit(100, learn)"
   ]
  },
  {
   "cell_type": "code",
   "execution_count": 25,
   "metadata": {},
   "outputs": [
    {
     "data": {
      "image/png": "[encoded data removed]",
      "text/plain": [
       "<Figure size 640x480 with 1 Axes>"
      ]
     },
     "metadata": {},
     "output_type": "display_data"
    }
   ],
   "source": [
    "run.recorder.plot(skip_last=5)"
   ]
  },
  {
   "cell_type": "code",
   "execution_count": 26,
   "metadata": {},
   "outputs": [],
   "source": [
    "sched = dta.combine_scheds([0.3, 0.7], [dta.sched_cos(0.01, 0.1), dta.sched_cos(0.1, 0.01)])"
   ]
  },
  {
   "cell_type": "code",
   "execution_count": 27,
   "metadata": {},
   "outputs": [
    {
     "name": "stdout",
     "output_type": "stream",
     "text": [
      "epoch: 50\n",
      "train loss is: 4.283169746398926\n",
      "validation loss is: 1.2226626873016357\n",
      "epoch: 100\n",
      "train loss is: 1.253494381904602\n",
      "validation loss is: 0.9537752270698547\n",
      "epoch: 150\n",
      "train loss is: 1.0640909671783447\n",
      "validation loss is: 0.9451726078987122\n",
      "epoch: 200\n",
      "train loss is: 0.998530924320221\n",
      "validation loss is: 0.9421562552452087\n",
      "epoch: 250\n",
      "train loss is: 0.966469407081604\n",
      "validation loss is: 0.9407380223274231\n",
      "epoch: 300\n",
      "train loss is: 0.9473779797554016\n",
      "validation loss is: 0.9398635029792786\n",
      "epoch: 350\n",
      "train loss is: 0.9343193769454956\n",
      "validation loss is: 0.9392707347869873\n",
      "epoch: 400\n",
      "train loss is: 0.924404501914978\n",
      "validation loss is: 0.9386141300201416\n"
     ]
    }
   ],
   "source": [
    "cbfs = [partial(dta.LossTracker, show_every=50), dta.Recorder, partial(dta.ParamScheduler, 'lr', sched)]\n",
    "model = dta.Autoencoder(D_in, VAE_arch, latent_dim=20).to(device)\n",
    "opt = optim.Adam(model.parameters(), lr=0.01)\n",
    "learn = dta.Learner(model, opt, loss_func, data, target_name, target_class, df_cols)\n",
    "run = dta.Runner(cb_funcs=cbfs)\n",
    "run.fit(400, learn)"
   ]
  },
  {
   "cell_type": "code",
   "execution_count": 28,
   "metadata": {},
   "outputs": [
    {
     "data": {
      "image/png": "[encoded data removed]",
      "text/plain": [
       "<Figure size 640x480 with 1 Axes>"
      ]
     },
     "metadata": {},
     "output_type": "display_data"
    }
   ],
   "source": [
    "run.loss_tracker.plot_train_vs_val_loss()"
   ]
  },
  {
   "cell_type": "code",
   "execution_count": 29,
   "metadata": {},
   "outputs": [
    {
     "data": {
      "image/png": "[encoded data removed]",
      "text/plain": [
       "<Figure size 640x480 with 1 Axes>"
      ]
     },
     "metadata": {},
     "output_type": "display_data"
    }
   ],
   "source": [
    "run.loss_tracker.plot_train_vs_val_loss_last_epochs(show_last=100)"
   ]
  },
  {
   "cell_type": "code",
   "execution_count": 30,
   "metadata": {},
   "outputs": [
    {
     "data": {
      "text/plain": [
       "[4.128791576653887,\n",
       " 2.787378355183128,\n",
       " 1.7115410859181104,\n",
       " 0.1439520629806995,\n",
       " 1.5825986537177985,\n",
       " 0.04931128780120321,\n",
       " 0.38393952157336825,\n",
       " 3.9142008124001135,\n",
       " 0.6316779349367725,\n",
       " 2.2749098718046676,\n",
       " 1.3723254425387925,\n",
       " 0.5591861975012694,\n",
       " 0.5474480224682063,\n",
       " 0.00720310788182547,\n",
       " 0.0]"
      ]
     },
     "execution_count": 30,
     "metadata": {},
     "output_type": "execute_result"
    }
   ],
   "source": [
    "df_cols = list(df.columns)\n",
    "list(df[df['Class']==0][df_cols].std()/10)"
   ]
  },
  {
   "cell_type": "code",
   "execution_count": 31,
   "metadata": {},
   "outputs": [
    {
     "data": {
      "text/html": [
       "<div>\n",
       "<style scoped>\n",
       "    .dataframe tbody tr th:only-of-type {\n",
       "        vertical-align: middle;\n",
       "    }\n",
       "\n",
       "    .dataframe tbody tr th {\n",
       "        vertical-align: top;\n",
       "    }\n",
       "\n",
       "    .dataframe thead th {\n",
       "        text-align: right;\n",
       "    }\n",
       "</style>\n",
       "<table border=\"1\" class=\"dataframe\">\n",
       "  <thead>\n",
       "    <tr style=\"text-align: right;\">\n",
       "      <th></th>\n",
       "      <th>cholesterol</th>\n",
       "      <th>glucose</th>\n",
       "      <th>hdl_chol</th>\n",
       "      <th>chol_hdl_ratio</th>\n",
       "      <th>age</th>\n",
       "      <th>gender</th>\n",
       "      <th>height</th>\n",
       "      <th>weight</th>\n",
       "      <th>bmi</th>\n",
       "      <th>systolic_bp</th>\n",
       "      <th>diastolic_bp</th>\n",
       "      <th>waist</th>\n",
       "      <th>hip</th>\n",
       "      <th>waist_hip_ratio</th>\n",
       "      <th>Class</th>\n",
       "    </tr>\n",
       "  </thead>\n",
       "  <tbody>\n",
       "    <tr>\n",
       "      <th>0</th>\n",
       "      <td>199.692495</td>\n",
       "      <td>83.659173</td>\n",
       "      <td>53.494800</td>\n",
       "      <td>4.460864</td>\n",
       "      <td>43.708050</td>\n",
       "      <td>0.399783</td>\n",
       "      <td>65.524799</td>\n",
       "      <td>174.060137</td>\n",
       "      <td>27.278662</td>\n",
       "      <td>137.003455</td>\n",
       "      <td>83.049474</td>\n",
       "      <td>37.006908</td>\n",
       "      <td>42.388326</td>\n",
       "      <td>0.875887</td>\n",
       "      <td>0</td>\n",
       "    </tr>\n",
       "    <tr>\n",
       "      <th>1</th>\n",
       "      <td>203.323548</td>\n",
       "      <td>87.924762</td>\n",
       "      <td>48.956189</td>\n",
       "      <td>4.278413</td>\n",
       "      <td>40.806894</td>\n",
       "      <td>0.436164</td>\n",
       "      <td>65.706929</td>\n",
       "      <td>177.986111</td>\n",
       "      <td>27.623752</td>\n",
       "      <td>130.790364</td>\n",
       "      <td>82.834855</td>\n",
       "      <td>37.820887</td>\n",
       "      <td>42.166886</td>\n",
       "      <td>0.870257</td>\n",
       "      <td>0</td>\n",
       "    </tr>\n",
       "    <tr>\n",
       "      <th>2</th>\n",
       "      <td>204.129328</td>\n",
       "      <td>83.616040</td>\n",
       "      <td>52.356787</td>\n",
       "      <td>4.047796</td>\n",
       "      <td>41.236792</td>\n",
       "      <td>0.396343</td>\n",
       "      <td>65.717754</td>\n",
       "      <td>170.953652</td>\n",
       "      <td>28.134840</td>\n",
       "      <td>131.912305</td>\n",
       "      <td>81.075953</td>\n",
       "      <td>37.145673</td>\n",
       "      <td>43.538805</td>\n",
       "      <td>0.877971</td>\n",
       "      <td>0</td>\n",
       "    </tr>\n",
       "    <tr>\n",
       "      <th>3</th>\n",
       "      <td>201.323840</td>\n",
       "      <td>96.133443</td>\n",
       "      <td>51.202701</td>\n",
       "      <td>4.162128</td>\n",
       "      <td>43.099514</td>\n",
       "      <td>0.410553</td>\n",
       "      <td>66.197369</td>\n",
       "      <td>174.144716</td>\n",
       "      <td>27.246751</td>\n",
       "      <td>130.594987</td>\n",
       "      <td>82.899084</td>\n",
       "      <td>36.765509</td>\n",
       "      <td>40.754445</td>\n",
       "      <td>0.871119</td>\n",
       "      <td>0</td>\n",
       "    </tr>\n",
       "    <tr>\n",
       "      <th>4</th>\n",
       "      <td>198.535751</td>\n",
       "      <td>84.591270</td>\n",
       "      <td>52.433568</td>\n",
       "      <td>4.157186</td>\n",
       "      <td>44.795519</td>\n",
       "      <td>0.386716</td>\n",
       "      <td>66.578926</td>\n",
       "      <td>172.509138</td>\n",
       "      <td>27.347693</td>\n",
       "      <td>129.473524</td>\n",
       "      <td>82.910106</td>\n",
       "      <td>37.282787</td>\n",
       "      <td>42.578646</td>\n",
       "      <td>0.874897</td>\n",
       "      <td>0</td>\n",
       "    </tr>\n",
       "  </tbody>\n",
       "</table>\n",
       "</div>"
      ],
      "text/plain": [
       "   cholesterol    glucose   hdl_chol  chol_hdl_ratio        age    gender  \\\n",
       "0   199.692495  83.659173  53.494800        4.460864  43.708050  0.399783   \n",
       "1   203.323548  87.924762  48.956189        4.278413  40.806894  0.436164   \n",
       "2   204.129328  83.616040  52.356787        4.047796  41.236792  0.396343   \n",
       "3   201.323840  96.133443  51.202701        4.162128  43.099514  0.410553   \n",
       "4   198.535751  84.591270  52.433568        4.157186  44.795519  0.386716   \n",
       "\n",
       "      height      weight        bmi  systolic_bp  diastolic_bp      waist  \\\n",
       "0  65.524799  174.060137  27.278662   137.003455     83.049474  37.006908   \n",
       "1  65.706929  177.986111  27.623752   130.790364     82.834855  37.820887   \n",
       "2  65.717754  170.953652  28.134840   131.912305     81.075953  37.145673   \n",
       "3  66.197369  174.144716  27.246751   130.594987     82.899084  36.765509   \n",
       "4  66.578926  172.509138  27.347693   129.473524     82.910106  37.282787   \n",
       "\n",
       "         hip  waist_hip_ratio  Class  \n",
       "0  42.388326         0.875887      0  \n",
       "1  42.166886         0.870257      0  \n",
       "2  43.538805         0.877971      0  \n",
       "3  40.754445         0.871119      0  \n",
       "4  42.578646         0.874897      0  "
      ]
     },
     "execution_count": 31,
     "metadata": {},
     "output_type": "execute_result"
    }
   ],
   "source": [
    "# difference_in_class_occurences = 1000\n",
    "df_fake = run.predict_df(learn, no_samples=difference_in_class_occurences, scaler=x_scaler)\n",
    "std_list = list(df[df['Class']==0][df_cols].std()/10)\n",
    "df_fake_with_noise = run.predict_with_noise_df(learn, no_samples=difference_in_class_occurences, mu=0, sigma=std_list, scaler=x_scaler)\n",
    "df_fake_with_noise.head()"
   ]
  },
  {
   "cell_type": "code",
   "execution_count": 32,
   "metadata": {},
   "outputs": [
    {
     "data": {
      "text/plain": [
       "(228, 15)"
      ]
     },
     "execution_count": 32,
     "metadata": {},
     "output_type": "execute_result"
    }
   ],
   "source": [
    "df_fake_with_noise.shape"
   ]
  },
  {
   "cell_type": "code",
   "execution_count": 33,
   "metadata": {},
   "outputs": [
    {
     "data": {
      "text/html": [
       "<div>\n",
       "<style scoped>\n",
       "    .dataframe tbody tr th:only-of-type {\n",
       "        vertical-align: middle;\n",
       "    }\n",
       "\n",
       "    .dataframe tbody tr th {\n",
       "        vertical-align: top;\n",
       "    }\n",
       "\n",
       "    .dataframe thead th {\n",
       "        text-align: right;\n",
       "    }\n",
       "</style>\n",
       "<table border=\"1\" class=\"dataframe\">\n",
       "  <thead>\n",
       "    <tr style=\"text-align: right;\">\n",
       "      <th></th>\n",
       "      <th>cholesterol</th>\n",
       "      <th>glucose</th>\n",
       "      <th>hdl_chol</th>\n",
       "      <th>chol_hdl_ratio</th>\n",
       "      <th>age</th>\n",
       "      <th>gender</th>\n",
       "      <th>height</th>\n",
       "      <th>weight</th>\n",
       "      <th>bmi</th>\n",
       "      <th>systolic_bp</th>\n",
       "      <th>diastolic_bp</th>\n",
       "      <th>waist</th>\n",
       "      <th>hip</th>\n",
       "      <th>waist_hip_ratio</th>\n",
       "      <th>Class</th>\n",
       "    </tr>\n",
       "  </thead>\n",
       "  <tbody>\n",
       "    <tr>\n",
       "      <th>count</th>\n",
       "      <td>228.000000</td>\n",
       "      <td>228.000000</td>\n",
       "      <td>228.000000</td>\n",
       "      <td>228.000000</td>\n",
       "      <td>228.000000</td>\n",
       "      <td>228.000000</td>\n",
       "      <td>228.000000</td>\n",
       "      <td>228.000000</td>\n",
       "      <td>228.000000</td>\n",
       "      <td>228.000000</td>\n",
       "      <td>228.000000</td>\n",
       "      <td>228.000000</td>\n",
       "      <td>228.000000</td>\n",
       "      <td>228.000000</td>\n",
       "      <td>228.0</td>\n",
       "    </tr>\n",
       "    <tr>\n",
       "      <th>mean</th>\n",
       "      <td>202.139739</td>\n",
       "      <td>88.307595</td>\n",
       "      <td>51.841980</td>\n",
       "      <td>4.187940</td>\n",
       "      <td>43.675428</td>\n",
       "      <td>0.392179</td>\n",
       "      <td>66.014251</td>\n",
       "      <td>173.916895</td>\n",
       "      <td>28.261814</td>\n",
       "      <td>133.500934</td>\n",
       "      <td>81.945106</td>\n",
       "      <td>37.205448</td>\n",
       "      <td>42.642896</td>\n",
       "      <td>0.871447</td>\n",
       "      <td>0.0</td>\n",
       "    </tr>\n",
       "    <tr>\n",
       "      <th>std</th>\n",
       "      <td>3.694839</td>\n",
       "      <td>2.778725</td>\n",
       "      <td>1.824011</td>\n",
       "      <td>0.157364</td>\n",
       "      <td>1.535899</td>\n",
       "      <td>0.049534</td>\n",
       "      <td>0.414156</td>\n",
       "      <td>3.796986</td>\n",
       "      <td>0.655850</td>\n",
       "      <td>2.112199</td>\n",
       "      <td>1.389127</td>\n",
       "      <td>0.498924</td>\n",
       "      <td>0.602654</td>\n",
       "      <td>0.007882</td>\n",
       "      <td>0.0</td>\n",
       "    </tr>\n",
       "    <tr>\n",
       "      <th>min</th>\n",
       "      <td>192.493760</td>\n",
       "      <td>80.732579</td>\n",
       "      <td>47.558446</td>\n",
       "      <td>3.652629</td>\n",
       "      <td>38.237550</td>\n",
       "      <td>0.265787</td>\n",
       "      <td>64.872788</td>\n",
       "      <td>159.964248</td>\n",
       "      <td>26.639895</td>\n",
       "      <td>127.460855</td>\n",
       "      <td>77.910948</td>\n",
       "      <td>35.856161</td>\n",
       "      <td>40.754445</td>\n",
       "      <td>0.839947</td>\n",
       "      <td>0.0</td>\n",
       "    </tr>\n",
       "    <tr>\n",
       "      <th>25%</th>\n",
       "      <td>199.690443</td>\n",
       "      <td>86.363557</td>\n",
       "      <td>50.641258</td>\n",
       "      <td>4.075550</td>\n",
       "      <td>42.678453</td>\n",
       "      <td>0.358859</td>\n",
       "      <td>65.726088</td>\n",
       "      <td>171.451482</td>\n",
       "      <td>27.777120</td>\n",
       "      <td>131.920827</td>\n",
       "      <td>81.088709</td>\n",
       "      <td>36.897533</td>\n",
       "      <td>42.232748</td>\n",
       "      <td>0.866912</td>\n",
       "      <td>0.0</td>\n",
       "    </tr>\n",
       "    <tr>\n",
       "      <th>50%</th>\n",
       "      <td>202.030605</td>\n",
       "      <td>88.231255</td>\n",
       "      <td>51.751281</td>\n",
       "      <td>4.187271</td>\n",
       "      <td>43.657350</td>\n",
       "      <td>0.394387</td>\n",
       "      <td>66.041690</td>\n",
       "      <td>174.059989</td>\n",
       "      <td>28.280219</td>\n",
       "      <td>133.698976</td>\n",
       "      <td>81.770682</td>\n",
       "      <td>37.205393</td>\n",
       "      <td>42.661455</td>\n",
       "      <td>0.871285</td>\n",
       "      <td>0.0</td>\n",
       "    </tr>\n",
       "    <tr>\n",
       "      <th>75%</th>\n",
       "      <td>204.586974</td>\n",
       "      <td>89.886424</td>\n",
       "      <td>53.035813</td>\n",
       "      <td>4.280431</td>\n",
       "      <td>44.615122</td>\n",
       "      <td>0.427284</td>\n",
       "      <td>66.294050</td>\n",
       "      <td>176.242233</td>\n",
       "      <td>28.691132</td>\n",
       "      <td>134.794411</td>\n",
       "      <td>82.893263</td>\n",
       "      <td>37.568087</td>\n",
       "      <td>43.085595</td>\n",
       "      <td>0.876831</td>\n",
       "      <td>0.0</td>\n",
       "    </tr>\n",
       "    <tr>\n",
       "      <th>max</th>\n",
       "      <td>212.043862</td>\n",
       "      <td>97.028178</td>\n",
       "      <td>56.773454</td>\n",
       "      <td>4.674063</td>\n",
       "      <td>47.798236</td>\n",
       "      <td>0.528945</td>\n",
       "      <td>67.070262</td>\n",
       "      <td>185.539406</td>\n",
       "      <td>30.110210</td>\n",
       "      <td>139.887517</td>\n",
       "      <td>86.689866</td>\n",
       "      <td>38.456996</td>\n",
       "      <td>44.228088</td>\n",
       "      <td>0.894681</td>\n",
       "      <td>0.0</td>\n",
       "    </tr>\n",
       "  </tbody>\n",
       "</table>\n",
       "</div>"
      ],
      "text/plain": [
       "       cholesterol     glucose    hdl_chol  chol_hdl_ratio         age  \\\n",
       "count   228.000000  228.000000  228.000000      228.000000  228.000000   \n",
       "mean    202.139739   88.307595   51.841980        4.187940   43.675428   \n",
       "std       3.694839    2.778725    1.824011        0.157364    1.535899   \n",
       "min     192.493760   80.732579   47.558446        3.652629   38.237550   \n",
       "25%     199.690443   86.363557   50.641258        4.075550   42.678453   \n",
       "50%     202.030605   88.231255   51.751281        4.187271   43.657350   \n",
       "75%     204.586974   89.886424   53.035813        4.280431   44.615122   \n",
       "max     212.043862   97.028178   56.773454        4.674063   47.798236   \n",
       "\n",
       "           gender      height      weight         bmi  systolic_bp  \\\n",
       "count  228.000000  228.000000  228.000000  228.000000   228.000000   \n",
       "mean     0.392179   66.014251  173.916895   28.261814   133.500934   \n",
       "std      0.049534    0.414156    3.796986    0.655850     2.112199   \n",
       "min      0.265787   64.872788  159.964248   26.639895   127.460855   \n",
       "25%      0.358859   65.726088  171.451482   27.777120   131.920827   \n",
       "50%      0.394387   66.041690  174.059989   28.280219   133.698976   \n",
       "75%      0.427284   66.294050  176.242233   28.691132   134.794411   \n",
       "max      0.528945   67.070262  185.539406   30.110210   139.887517   \n",
       "\n",
       "       diastolic_bp       waist         hip  waist_hip_ratio  Class  \n",
       "count    228.000000  228.000000  228.000000       228.000000  228.0  \n",
       "mean      81.945106   37.205448   42.642896         0.871447    0.0  \n",
       "std        1.389127    0.498924    0.602654         0.007882    0.0  \n",
       "min       77.910948   35.856161   40.754445         0.839947    0.0  \n",
       "25%       81.088709   36.897533   42.232748         0.866912    0.0  \n",
       "50%       81.770682   37.205393   42.661455         0.871285    0.0  \n",
       "75%       82.893263   37.568087   43.085595         0.876831    0.0  \n",
       "max       86.689866   38.456996   44.228088         0.894681    0.0  "
      ]
     },
     "execution_count": 33,
     "metadata": {},
     "output_type": "execute_result"
    }
   ],
   "source": [
    "df_fake_with_noise.describe()"
   ]
  },
  {
   "cell_type": "code",
   "execution_count": 34,
   "metadata": {},
   "outputs": [],
   "source": [
    "data1=df[df['Class']==0]"
   ]
  },
  {
   "cell_type": "code",
   "execution_count": 35,
   "metadata": {},
   "outputs": [
    {
     "data": {
      "text/html": [
       "<div>\n",
       "<style scoped>\n",
       "    .dataframe tbody tr th:only-of-type {\n",
       "        vertical-align: middle;\n",
       "    }\n",
       "\n",
       "    .dataframe tbody tr th {\n",
       "        vertical-align: top;\n",
       "    }\n",
       "\n",
       "    .dataframe thead th {\n",
       "        text-align: right;\n",
       "    }\n",
       "</style>\n",
       "<table border=\"1\" class=\"dataframe\">\n",
       "  <thead>\n",
       "    <tr style=\"text-align: right;\">\n",
       "      <th></th>\n",
       "      <th>cholesterol</th>\n",
       "      <th>glucose</th>\n",
       "      <th>hdl_chol</th>\n",
       "      <th>chol_hdl_ratio</th>\n",
       "      <th>age</th>\n",
       "      <th>gender</th>\n",
       "      <th>height</th>\n",
       "      <th>weight</th>\n",
       "      <th>bmi</th>\n",
       "      <th>systolic_bp</th>\n",
       "      <th>diastolic_bp</th>\n",
       "      <th>waist</th>\n",
       "      <th>hip</th>\n",
       "      <th>waist_hip_ratio</th>\n",
       "      <th>Class</th>\n",
       "    </tr>\n",
       "  </thead>\n",
       "  <tbody>\n",
       "    <tr>\n",
       "      <th>count</th>\n",
       "      <td>279.000000</td>\n",
       "      <td>279.000000</td>\n",
       "      <td>279.000000</td>\n",
       "      <td>279.000000</td>\n",
       "      <td>279.000000</td>\n",
       "      <td>279.000000</td>\n",
       "      <td>279.000000</td>\n",
       "      <td>279.000000</td>\n",
       "      <td>279.000000</td>\n",
       "      <td>279.000000</td>\n",
       "      <td>279.000000</td>\n",
       "      <td>279.000000</td>\n",
       "      <td>279.000000</td>\n",
       "      <td>279.000000</td>\n",
       "      <td>279.0</td>\n",
       "    </tr>\n",
       "    <tr>\n",
       "      <th>mean</th>\n",
       "      <td>202.154122</td>\n",
       "      <td>88.308244</td>\n",
       "      <td>51.071685</td>\n",
       "      <td>4.306810</td>\n",
       "      <td>43.824373</td>\n",
       "      <td>0.412186</td>\n",
       "      <td>65.992832</td>\n",
       "      <td>173.982079</td>\n",
       "      <td>28.172760</td>\n",
       "      <td>134.146953</td>\n",
       "      <td>82.304659</td>\n",
       "      <td>37.200717</td>\n",
       "      <td>42.480287</td>\n",
       "      <td>0.876165</td>\n",
       "      <td>0.0</td>\n",
       "    </tr>\n",
       "    <tr>\n",
       "      <th>std</th>\n",
       "      <td>41.287916</td>\n",
       "      <td>27.873784</td>\n",
       "      <td>17.115411</td>\n",
       "      <td>1.439521</td>\n",
       "      <td>15.825987</td>\n",
       "      <td>0.493113</td>\n",
       "      <td>3.839395</td>\n",
       "      <td>39.142008</td>\n",
       "      <td>6.316779</td>\n",
       "      <td>22.749099</td>\n",
       "      <td>13.723254</td>\n",
       "      <td>5.591862</td>\n",
       "      <td>5.474480</td>\n",
       "      <td>0.072031</td>\n",
       "      <td>0.0</td>\n",
       "    </tr>\n",
       "    <tr>\n",
       "      <th>min</th>\n",
       "      <td>78.000000</td>\n",
       "      <td>48.000000</td>\n",
       "      <td>12.000000</td>\n",
       "      <td>1.900000</td>\n",
       "      <td>19.000000</td>\n",
       "      <td>0.000000</td>\n",
       "      <td>55.000000</td>\n",
       "      <td>99.000000</td>\n",
       "      <td>15.200000</td>\n",
       "      <td>90.000000</td>\n",
       "      <td>48.000000</td>\n",
       "      <td>26.000000</td>\n",
       "      <td>32.000000</td>\n",
       "      <td>0.680000</td>\n",
       "      <td>0.0</td>\n",
       "    </tr>\n",
       "    <tr>\n",
       "      <th>25%</th>\n",
       "      <td>174.000000</td>\n",
       "      <td>77.000000</td>\n",
       "      <td>40.000000</td>\n",
       "      <td>3.200000</td>\n",
       "      <td>31.000000</td>\n",
       "      <td>0.000000</td>\n",
       "      <td>63.000000</td>\n",
       "      <td>145.000000</td>\n",
       "      <td>23.400000</td>\n",
       "      <td>120.000000</td>\n",
       "      <td>72.000000</td>\n",
       "      <td>33.000000</td>\n",
       "      <td>39.000000</td>\n",
       "      <td>0.830000</td>\n",
       "      <td>0.0</td>\n",
       "    </tr>\n",
       "    <tr>\n",
       "      <th>50%</th>\n",
       "      <td>198.000000</td>\n",
       "      <td>84.000000</td>\n",
       "      <td>47.000000</td>\n",
       "      <td>4.100000</td>\n",
       "      <td>41.000000</td>\n",
       "      <td>0.000000</td>\n",
       "      <td>66.000000</td>\n",
       "      <td>170.000000</td>\n",
       "      <td>27.500000</td>\n",
       "      <td>130.000000</td>\n",
       "      <td>81.000000</td>\n",
       "      <td>37.000000</td>\n",
       "      <td>42.000000</td>\n",
       "      <td>0.870000</td>\n",
       "      <td>0.0</td>\n",
       "    </tr>\n",
       "    <tr>\n",
       "      <th>75%</th>\n",
       "      <td>224.500000</td>\n",
       "      <td>91.000000</td>\n",
       "      <td>59.000000</td>\n",
       "      <td>5.250000</td>\n",
       "      <td>54.000000</td>\n",
       "      <td>1.000000</td>\n",
       "      <td>69.000000</td>\n",
       "      <td>195.500000</td>\n",
       "      <td>31.500000</td>\n",
       "      <td>142.000000</td>\n",
       "      <td>90.000000</td>\n",
       "      <td>41.000000</td>\n",
       "      <td>46.000000</td>\n",
       "      <td>0.920000</td>\n",
       "      <td>0.0</td>\n",
       "    </tr>\n",
       "    <tr>\n",
       "      <th>max</th>\n",
       "      <td>347.000000</td>\n",
       "      <td>371.000000</td>\n",
       "      <td>120.000000</td>\n",
       "      <td>10.600000</td>\n",
       "      <td>92.000000</td>\n",
       "      <td>1.000000</td>\n",
       "      <td>76.000000</td>\n",
       "      <td>308.000000</td>\n",
       "      <td>50.500000</td>\n",
       "      <td>250.000000</td>\n",
       "      <td>124.000000</td>\n",
       "      <td>52.000000</td>\n",
       "      <td>64.000000</td>\n",
       "      <td>1.140000</td>\n",
       "      <td>0.0</td>\n",
       "    </tr>\n",
       "  </tbody>\n",
       "</table>\n",
       "</div>"
      ],
      "text/plain": [
       "       cholesterol     glucose    hdl_chol  chol_hdl_ratio         age  \\\n",
       "count   279.000000  279.000000  279.000000      279.000000  279.000000   \n",
       "mean    202.154122   88.308244   51.071685        4.306810   43.824373   \n",
       "std      41.287916   27.873784   17.115411        1.439521   15.825987   \n",
       "min      78.000000   48.000000   12.000000        1.900000   19.000000   \n",
       "25%     174.000000   77.000000   40.000000        3.200000   31.000000   \n",
       "50%     198.000000   84.000000   47.000000        4.100000   41.000000   \n",
       "75%     224.500000   91.000000   59.000000        5.250000   54.000000   \n",
       "max     347.000000  371.000000  120.000000       10.600000   92.000000   \n",
       "\n",
       "           gender      height      weight         bmi  systolic_bp  \\\n",
       "count  279.000000  279.000000  279.000000  279.000000   279.000000   \n",
       "mean     0.412186   65.992832  173.982079   28.172760   134.146953   \n",
       "std      0.493113    3.839395   39.142008    6.316779    22.749099   \n",
       "min      0.000000   55.000000   99.000000   15.200000    90.000000   \n",
       "25%      0.000000   63.000000  145.000000   23.400000   120.000000   \n",
       "50%      0.000000   66.000000  170.000000   27.500000   130.000000   \n",
       "75%      1.000000   69.000000  195.500000   31.500000   142.000000   \n",
       "max      1.000000   76.000000  308.000000   50.500000   250.000000   \n",
       "\n",
       "       diastolic_bp       waist         hip  waist_hip_ratio  Class  \n",
       "count    279.000000  279.000000  279.000000       279.000000  279.0  \n",
       "mean      82.304659   37.200717   42.480287         0.876165    0.0  \n",
       "std       13.723254    5.591862    5.474480         0.072031    0.0  \n",
       "min       48.000000   26.000000   32.000000         0.680000    0.0  \n",
       "25%       72.000000   33.000000   39.000000         0.830000    0.0  \n",
       "50%       81.000000   37.000000   42.000000         0.870000    0.0  \n",
       "75%       90.000000   41.000000   46.000000         0.920000    0.0  \n",
       "max      124.000000   52.000000   64.000000         1.140000    0.0  "
      ]
     },
     "execution_count": 35,
     "metadata": {},
     "output_type": "execute_result"
    }
   ],
   "source": [
    "data1.describe()"
   ]
  },
  {
   "cell_type": "code",
   "execution_count": 36,
   "metadata": {},
   "outputs": [
    {
     "name": "stdout",
     "output_type": "stream",
     "text": [
      "<class 'pandas.core.frame.DataFrame'>\n",
      "RangeIndex: 228 entries, 0 to 227\n",
      "Data columns (total 15 columns):\n",
      " #   Column           Non-Null Count  Dtype  \n",
      "---  ------           --------------  -----  \n",
      " 0   cholesterol      228 non-null    float64\n",
      " 1   glucose          228 non-null    float64\n",
      " 2   hdl_chol         228 non-null    float64\n",
      " 3   chol_hdl_ratio   228 non-null    float64\n",
      " 4   age              228 non-null    float64\n",
      " 5   gender           228 non-null    float64\n",
      " 6   height           228 non-null    float64\n",
      " 7   weight           228 non-null    float64\n",
      " 8   bmi              228 non-null    float64\n",
      " 9   systolic_bp      228 non-null    float64\n",
      " 10  diastolic_bp     228 non-null    float64\n",
      " 11  waist            228 non-null    float64\n",
      " 12  hip              228 non-null    float64\n",
      " 13  waist_hip_ratio  228 non-null    float64\n",
      " 14  Class            228 non-null    int64  \n",
      "dtypes: float64(14), int64(1)\n",
      "memory usage: 26.8 KB\n"
     ]
    }
   ],
   "source": [
    "df_fake_with_noise.info()"
   ]
  },
  {
   "cell_type": "code",
   "execution_count": 37,
   "metadata": {},
   "outputs": [],
   "source": [
    "df_fake_with_noise['gender'] = np.where((df_fake_with_noise['gender']<=0.5),'female','male')"
   ]
  },
  {
   "cell_type": "code",
   "execution_count": 38,
   "metadata": {},
   "outputs": [],
   "source": [
    "df_fake['gender'] = np.where((df_fake['gender']<=0.5),'female','male')"
   ]
  },
  {
   "cell_type": "code",
   "execution_count": 39,
   "metadata": {},
   "outputs": [
    {
     "data": {
      "text/plain": [
       "female    228\n",
       "Name: gender, dtype: int64"
      ]
     },
     "execution_count": 39,
     "metadata": {},
     "output_type": "execute_result"
    }
   ],
   "source": [
    "df_fake['gender'].value_counts()"
   ]
  },
  {
   "cell_type": "code",
   "execution_count": 40,
   "metadata": {},
   "outputs": [
    {
     "data": {
      "text/plain": [
       "female    226\n",
       "male        2\n",
       "Name: gender, dtype: int64"
      ]
     },
     "execution_count": 40,
     "metadata": {},
     "output_type": "execute_result"
    }
   ],
   "source": [
    "df_fake_with_noise['gender'].value_counts()"
   ]
  },
  {
   "cell_type": "code",
   "execution_count": 41,
   "metadata": {},
   "outputs": [],
   "source": [
    "df_final = pd.concat([df_old, df_fake_with_noise], ignore_index=True)"
   ]
  },
  {
   "cell_type": "code",
   "execution_count": 42,
   "metadata": {},
   "outputs": [
    {
     "name": "stdout",
     "output_type": "stream",
     "text": [
      "<class 'pandas.core.frame.DataFrame'>\n",
      "RangeIndex: 618 entries, 0 to 617\n",
      "Data columns (total 15 columns):\n",
      " #   Column           Non-Null Count  Dtype  \n",
      "---  ------           --------------  -----  \n",
      " 0   cholesterol      618 non-null    float64\n",
      " 1   glucose          618 non-null    float64\n",
      " 2   hdl_chol         618 non-null    float64\n",
      " 3   chol_hdl_ratio   618 non-null    float64\n",
      " 4   age              618 non-null    float64\n",
      " 5   gender           618 non-null    object \n",
      " 6   height           618 non-null    float64\n",
      " 7   weight           618 non-null    float64\n",
      " 8   bmi              618 non-null    float64\n",
      " 9   systolic_bp      618 non-null    float64\n",
      " 10  diastolic_bp     618 non-null    float64\n",
      " 11  waist            618 non-null    float64\n",
      " 12  hip              618 non-null    float64\n",
      " 13  waist_hip_ratio  618 non-null    float64\n",
      " 14  Class            618 non-null    int64  \n",
      "dtypes: float64(13), int64(1), object(1)\n",
      "memory usage: 72.5+ KB\n"
     ]
    }
   ],
   "source": [
    "df_final.info()"
   ]
  },
  {
   "cell_type": "code",
   "execution_count": 43,
   "metadata": {},
   "outputs": [],
   "source": [
    "#save data\n",
    "df_final.to_csv('NIDDK-DF_DTA_normal.csv',index=False, header=True)"
   ]
  },
  {
   "cell_type": "code",
   "execution_count": 44,
   "metadata": {},
   "outputs": [],
   "source": [
    "#save data\n",
    "df_fake_with_noise.to_csv('NIDDK-DF_DTA_normal_syn_withnoise.csv',index=False, header=True)\n",
    "df_fake.to_csv('NIDDK-DF_DTA_normal_syn.csv',index=False, header=True)"
   ]
  },
  {
   "cell_type": "markdown",
   "metadata": {},
   "source": [
    "Details of DTA can be found in:\n",
    "\n",
    "https://github.com/lschmiddey/deep_tabular_augmentation?tab=MIT-1-ov-file\n",
    "\n",
    "\n",
    "MIT License\n",
    "\n",
    "Copyright (c) 2021 lschmiddey\n",
    "\n",
    "Permission is hereby granted, free of charge, to any person obtaining a copy\n",
    "of this software and associated documentation files (the \"Software\"), to deal\n",
    "in the Software without restriction, including without limitation the rights\n",
    "to use, copy, modify, merge, publish, distribute, sublicense, and/or sell\n",
    "copies of the Software, and to permit persons to whom the Software is\n",
    "furnished to do so, subject to the following conditions:\n",
    "\n",
    "The above copyright notice and this permission notice shall be included in all\n",
    "copies or substantial portions of the Software.\n",
    "\n",
    "THE SOFTWARE IS PROVIDED \"AS IS\", WITHOUT WARRANTY OF ANY KIND, EXPRESS OR\n",
    "IMPLIED, INCLUDING BUT NOT LIMITED TO THE WARRANTIES OF MERCHANTABILITY,\n",
    "FITNESS FOR A PARTICULAR PURPOSE AND NONINFRINGEMENT. IN NO EVENT SHALL THE\n",
    "AUTHORS OR COPYRIGHT HOLDERS BE LIABLE FOR ANY CLAIM, DAMAGES OR OTHER\n",
    "LIABILITY, WHETHER IN AN ACTION OF CONTRACT, TORT OR OTHERWISE, ARISING FROM,\n",
    "OUT OF OR IN CONNECTION WITH THE SOFTWARE OR THE USE OR OTHER DEALINGS IN THE\n",
    "SOFTWARE."
   ]
  },
  {
   "cell_type": "code",
   "execution_count": null,
   "metadata": {},
   "outputs": [],
   "source": []
  }
 ],
 "metadata": {
  "kernelspec": {
   "display_name": "Python 3 (ipykernel)",
   "language": "python",
   "name": "python3"
  },
  "language_info": {
   "codemirror_mode": {
    "name": "ipython",
    "version": 3
   },
   "file_extension": ".py",
   "mimetype": "text/x-python",
   "name": "python",
   "nbconvert_exporter": "python",
   "pygments_lexer": "ipython3",
   "version": "3.10.12"
  }
 },
 "nbformat": 4,
 "nbformat_minor": 4
}
