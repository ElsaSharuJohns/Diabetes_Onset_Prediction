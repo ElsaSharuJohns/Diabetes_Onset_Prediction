{
 "cells": [
  {
   "cell_type": "markdown",
   "id": "8f9e2412",
   "metadata": {},
   "source": [
    "# Sylhet dataset: FRS-RI and ML"
   ]
  },
  {
   "cell_type": "code",
   "execution_count": 1,
   "id": "3d58edb5",
   "metadata": {},
   "outputs": [],
   "source": [
    "from sklearn.linear_model import LinearRegression,LogisticRegression\n",
    "from sklearn.svm import SVC\n",
    "from sklearn.tree import DecisionTreeClassifier,DecisionTreeRegressor\n",
    "from sklearn.model_selection import train_test_split\n",
    "from sklearn.metrics import accuracy_score,f1_score,precision_score,recall_score\n",
    "from sklearn.neighbors import KNeighborsClassifier\n",
    "from sklearn.naive_bayes import GaussianNB\n",
    "\n",
    "from sklearn.ensemble import (\n",
    "    BaggingClassifier,BaggingRegressor,\n",
    "    RandomForestClassifier,RandomForestRegressor,\n",
    "    AdaBoostClassifier,AdaBoostRegressor,\n",
    "    GradientBoostingClassifier,GradientBoostingRegressor)\n",
    "\n",
    "import sys\n",
    "\n",
    "import pandas as pd \n",
    "from sklearn.preprocessing import LabelEncoder\n",
    "from sklearn.preprocessing import MinMaxScaler,StandardScaler\n",
    "import matplotlib.pyplot as plt\n",
    "import time\n",
    "\n",
    "import numpy as np \n",
    "np.random.seed(0)\n",
    "\n",
    "import warnings\n",
    "warnings.filterwarnings('ignore') "
   ]
  },
  {
   "cell_type": "markdown",
   "id": "9a4b106b",
   "metadata": {},
   "source": [
    "## Instance selection"
   ]
  },
  {
   "cell_type": "code",
   "execution_count": 2,
   "id": "4b223c4f",
   "metadata": {},
   "outputs": [],
   "source": [
    "MAX_INT = 10\n",
    "\n",
    "import math\n",
    "from pprint import pprint as pp\n",
    "from heapq import *\n",
    "\n",
    "class InstanceSelection:\n",
    "\t\"\"\"\n",
    "\tA class to model pipeline for selecting representative instances\n",
    "\tof a given dataset\n",
    "\n",
    "\tAttributes\n",
    "\t-----------\n",
    "\tdataset_matrix : a 2-D matrix of real numbers\n",
    "\tnrows\t\t   : no. of rows in the dataset \n",
    "\tncols\t\t   : no. of columns in the dataset\n",
    "\tfuzzy_relation_matrix : a 2-D matrix with fuzzy relation values\n",
    "\tlower_approx_matrix : a 1-D list of lower approximation values of each instance\n",
    "\tvisited\t\t\t: to keep track of processed instances while finding rule covering\n",
    "\trepresentative_instances_list : a list of list of representative instances of the dataset \n",
    "\n",
    "\n",
    "\tMethods\n",
    "\t------------\n",
    "\t_init_params():\n",
    "\t\tInitializes various parameters\n",
    "\n",
    "\t_get_relation_value(val_i,val_j)\n",
    "\t\tCalculates fuzzy relation value  \n",
    "\n",
    "\t_is_instance_covered(row_index_i,row_index_j)\n",
    "\t\tTells if an instance is covered by a fuzzy rule\n",
    "\n",
    "\tcompute_fuzzy_relations()\n",
    "\t\tComputes fuzzy relation matrix\n",
    "\n",
    "\tcompute_lower_approximation()\n",
    "\t\tComputes Lower approximation matrix\n",
    "\n",
    "\t_init_count_rule()\n",
    "\t\tCounts the number of instances covered by each rule\n",
    "\n",
    "\tfind_rule_covering()\n",
    "\t\tFinds which instances are covered by which rule and\n",
    "\t\twhich rules cover which instances\n",
    "\n",
    "\tfind_representative_instances()\n",
    "\t\treturns a set of list of instances which are representative of the dataset\n",
    "\n",
    "\tapply()\n",
    "\t\tcalls all the functions \n",
    "\t\"\"\"\n",
    "\n",
    "\tdef __init__(self, dataset_matrix):\n",
    "\t\t# print(\"Initialising instance..\")\n",
    "\t\tself.dataset_matrix = dataset_matrix\n",
    "\t\tself.ncols = len(self.dataset_matrix[0])\n",
    "\t\tself.nrows = len(self.dataset_matrix)\n",
    "\t\tself.rep_list = []\n",
    "\t\tself.representative_instances_list = []\n",
    "\t\tself._init_params()\n",
    "\n",
    "\tdef _init_params(self):\n",
    "\t\t# print(\"Initialising parameters..\")\n",
    "\t\tself.fuzzy_relation_matrix = [[MAX_INT] * self.nrows for i in range(self.nrows)]\n",
    "\t\tself.rule_instances_mapping = [[] for i in range(self.nrows)]\n",
    "\t\tself.instance_rules_mapping = [[] for i in range(self.nrows)]\n",
    "\t\tself.lower_approx_matrix = [MAX_INT for i in range(self.nrows)]\n",
    "\t\tself.visited = [False]*self.nrows\n",
    "\n",
    "\tdef _get_relation_value(self, vali, valj):\n",
    "\t\treturn (1 - abs(vali - valj))\n",
    "\n",
    "\tdef _is_instance_covered(self, row_indi, row_indj):\n",
    "\t\tif (1 - self.fuzzy_relation_matrix[row_indi][row_indj]) < self.lower_approx_matrix[row_indi]:\n",
    "\t\t\treturn True\n",
    "\t\treturn False\n",
    "\n",
    "\tdef compute_fuzzy_relations(self, attr_index_list = None):\n",
    "\t\tself._init_params()\n",
    "\t\t#print(\"In compute_fuzzy_relations..\")\n",
    "\t\tif not attr_index_list:\n",
    "\t\t\tattr_index_list = set(list(range(self.ncols-1)))\n",
    "\t\tfor i in range(self.nrows):\n",
    "\t\t\tfor j in range(i,self.nrows):\n",
    "\t\t\t\tfor k in attr_index_list:\n",
    "\t\t\t\t\tself.fuzzy_relation_matrix[i][j] = self.fuzzy_relation_matrix[j][i] = min(self.fuzzy_relation_matrix[i][j], \n",
    "\t\t\t\t\t\t\t\tself._get_relation_value(self.dataset_matrix[i][k], self.dataset_matrix[j][k]))\n",
    "\t\t\t\t\tself.fuzzy_relation_matrix[i][j] = self.fuzzy_relation_matrix[j][i] = round(self.fuzzy_relation_matrix[i][j], 2)\n",
    "\t\n",
    "\tdef compute_lower_approximation(self):\n",
    "\t\t#print(\"In compute_lower_approximation\")\n",
    "\t\tfor row in range(self.nrows):\n",
    "\t\t\tfor col in range(self.nrows):\n",
    "\t\t\t\ti_label = int(self.dataset_matrix[row][self.ncols-1])\n",
    "\t\t\t\tj_label = int(self.dataset_matrix[col][self.ncols-1])\n",
    "\n",
    "\t\t\t\tdiff_class = 0\n",
    "\t\t\t\tif(i_label != j_label):\n",
    "\t\t\t\t\tdiff_class = 1\n",
    "\n",
    "\t\t\t\tself.lower_approx_matrix[row] = min(self.lower_approx_matrix[row], max(1 - self.fuzzy_relation_matrix[row][col], 1 - diff_class))\n",
    "\n",
    "\t\t\tself.lower_approx_matrix[row] = round(self.lower_approx_matrix[row], 2)\n",
    "\n",
    "\n",
    "\tdef _init_count_rule(self):\n",
    "\t\tself.rule_instances_count = []\n",
    "\t\tfor rule in range(self.nrows):\n",
    "\t\t\tself.rule_instances_count.append(len(self.rule_instances_mapping[rule]))\n",
    "\n",
    "\tdef find_rule_covering(self):\n",
    "\t\t# print(\"In find_rule_covering\")\n",
    "\t\tfor rowi in range(self.nrows):\n",
    "\t\t\tfor rowj in range(self.nrows):\n",
    "\t\t\t\tif self._is_instance_covered(rowi, rowj):\n",
    "\t\t\t\t\tself.rule_instances_mapping[rowi].append(rowj)\n",
    "\t\t\t\t\tself.instance_rules_mapping[rowj].append(rowi)\n",
    "\n",
    "\t\tself._init_count_rule()\n",
    "\n",
    "\tdef find_representative_instances(self):\n",
    "\t\tif(len(self.representative_instances_list)>0):\n",
    "\t\t\treturn\n",
    "\n",
    "\t\tall_done = True\n",
    "\t\tfor rule, done in enumerate(self.visited):\n",
    "\t\t\tif not done:\n",
    "\t\t\t\tall_done = False\n",
    "\t\t\t\tbreak\n",
    "\n",
    "\t\tif all_done:\n",
    "\t\t\tsorted_rep_list = sorted(self.rep_list)\n",
    "\t\t\tif sorted_rep_list not in self.representative_instances_list:\n",
    "\t\t\t\tself.representative_instances_list.append(sorted_rep_list)\n",
    "\t\t\treturn\n",
    "\n",
    "\t\tmax_count = -1\n",
    "\n",
    "\t\tfor rule, count in enumerate(self.rule_instances_count):\n",
    "\t\t\tif not self.visited[rule]:\n",
    "\t\t\t\tmax_count = max(max_count, count)\n",
    "\n",
    "\t\tmax_count_list = []\n",
    "\n",
    "\t\tfor rule, count in enumerate(self.rule_instances_count):\n",
    "\t\t\tif count == max_count and not self.visited[rule]:\n",
    "\t\t\t\tmax_count_list.append(rule)\n",
    "\n",
    "\t\tfor rule in max_count_list:\n",
    "\t\t\tself.visited[rule] = True\n",
    "\t\t\tself.rep_list.append(rule)\n",
    "\t\t\tfor adj_rule in self.rule_instances_mapping[rule]:\n",
    "\t\t\t\tself.visited[adj_rule] = True\n",
    "\n",
    "\t\t\tself.find_representative_instances()\n",
    "\t\t\tif(len(self.representative_instances_list)>0):\n",
    "\t\t\t\treturn\n",
    "\t\t\tfor adj_rule in self.rule_instances_mapping[rule]:\n",
    "\t\t\t\tself.visited[adj_rule] = False\n",
    "\t\t\tself.visited[rule] = False\n",
    "\t\t\tself.rep_list.pop()\n",
    "\n",
    "\tdef apply(self):\n",
    "\t\tself.compute_fuzzy_relations()\n",
    "\t\tself.compute_lower_approximation()\n",
    "\t\tself.find_rule_covering()\n",
    "\t\tself.find_representative_instances()\n",
    "\t\tself.visited = [False]*self.nrows\n",
    "\t\n",
    "\tdef debug(self):\n",
    "\t\tpass"
   ]
  },
  {
   "cell_type": "markdown",
   "id": "bac2ac53",
   "metadata": {},
   "source": [
    "## Feature selection"
   ]
  },
  {
   "cell_type": "code",
   "execution_count": 3,
   "id": "7d53ff00",
   "metadata": {},
   "outputs": [],
   "source": [
    "class FeatureSelection:\n",
    "    def __init__(self, rep_instances_set):\n",
    "        self.rep_feature_set = set() \n",
    "        self.threshold = -1\n",
    "        self.rep_instances_set = rep_instances_set\n",
    "\n",
    "    def _get_instance_based_dependency_val(self, instance_selection_obj, attr_set):\n",
    "        # print(\"ATTR SET : \",attr_set)\n",
    "        #pp(instance_selection_obj.fuzzy_relation_matrix)\n",
    "        instance_selection_obj.compute_fuzzy_relations(attr_set)\n",
    "        #pp(instance_selection_obj.fuzzy_relation_matrix)\n",
    "        instance_selection_obj.compute_lower_approximation()\n",
    "        pos_sum = 0\n",
    "        for instance in self.rep_instances_set:\n",
    "            pos_sum += instance_selection_obj.lower_approx_matrix[instance]\n",
    "        gamma_star_b = pos_sum/instance_selection_obj.nrows\n",
    "        return gamma_star_b\n",
    "\n",
    "\n",
    "\n",
    "    def find_rep_feature_set(self, instance_selection_obj):\n",
    "        nattr = instance_selection_obj.ncols-1\n",
    "        all_attr_set = set(list(range(nattr))) #A\n",
    "        gamma_star_a = self._get_instance_based_dependency_val(instance_selection_obj, all_attr_set)\n",
    "        gamma_star_a = round(gamma_star_a, 4)\n",
    "        while self.threshold < gamma_star_a:\n",
    "            rem_attr = all_attr_set.difference(self.rep_feature_set)\n",
    "            max_gamma_star = -1\n",
    "            best_attr = None\n",
    "            for attr in rem_attr:\n",
    "                self.rep_feature_set.add(attr)\n",
    "                gamma_star = self._get_instance_based_dependency_val(instance_selection_obj, self.rep_feature_set)\n",
    "                gamma_star = round(gamma_star, 4)\n",
    "                # print(\"Gamma star : \",gamma_star,attr)\n",
    "                if max_gamma_star < gamma_star and gamma_star >= self.threshold:\n",
    "                    max_gamma_star = gamma_star\n",
    "                    best_attr = attr\n",
    "                self.rep_feature_set.discard(attr)\n",
    "            if best_attr is None:\n",
    "                return\n",
    "            self.rep_feature_set.add(best_attr)\n",
    "            # print(best_attr+1, \" IS SELECTED\")\n",
    "            self.threshold = max_gamma_star\n",
    "    \n",
    "    def apply(self, instance_selection_obj):\n",
    "        self.find_rep_feature_set(instance_selection_obj)"
   ]
  },
  {
   "cell_type": "markdown",
   "id": "5585055c",
   "metadata": {},
   "source": [
    "## Testing ML models"
   ]
  },
  {
   "cell_type": "code",
   "execution_count": 4,
   "id": "dba0583b",
   "metadata": {},
   "outputs": [],
   "source": [
    "models = [\n",
    "    DecisionTreeClassifier(max_depth=3),\n",
    "    KNeighborsClassifier(n_neighbors=5),\n",
    "    SVC(C=1.0),\n",
    "    GaussianNB(),\n",
    "    LogisticRegression(),\n",
    "    BaggingClassifier(),\n",
    "    RandomForestClassifier(),\n",
    "    AdaBoostClassifier(),\n",
    "    GradientBoostingClassifier()\n",
    "]"
   ]
  },
  {
   "cell_type": "code",
   "execution_count": 5,
   "id": "ebdf21bb",
   "metadata": {},
   "outputs": [],
   "source": [
    "def test_model(data,target,model):\n",
    "    train_x,test_x,train_y,test_y = train_test_split(data,target,test_size=0.2,stratify=target,random_state=0)\n",
    "    model.fit(train_x,train_y)\n",
    "    predictions = model.predict(test_x)\n",
    "    accuracy = accuracy_score(predictions,test_y)\n",
    "    precision = precision_score(predictions,test_y,average='micro')\n",
    "    recall = recall_score(predictions,test_y,average='micro')\n",
    "    f1 = f1_score(predictions,test_y,average='micro')\n",
    "    return accuracy,precision,recall,f1"
   ]
  },
  {
   "cell_type": "markdown",
   "id": "2f799dfd",
   "metadata": {},
   "source": [
    "## Testing on dataset"
   ]
  },
  {
   "cell_type": "code",
   "execution_count": 6,
   "id": "f42d120d",
   "metadata": {},
   "outputs": [],
   "source": [
    "import time\n",
    "start_time = time.time()"
   ]
  },
  {
   "cell_type": "code",
   "execution_count": 7,
   "id": "0a7654f6",
   "metadata": {},
   "outputs": [
    {
     "data": {
      "text/html": [
       "<div>\n",
       "<style scoped>\n",
       "    .dataframe tbody tr th:only-of-type {\n",
       "        vertical-align: middle;\n",
       "    }\n",
       "\n",
       "    .dataframe tbody tr th {\n",
       "        vertical-align: top;\n",
       "    }\n",
       "\n",
       "    .dataframe thead th {\n",
       "        text-align: right;\n",
       "    }\n",
       "</style>\n",
       "<table border=\"1\" class=\"dataframe\">\n",
       "  <thead>\n",
       "    <tr style=\"text-align: right;\">\n",
       "      <th></th>\n",
       "      <th>age</th>\n",
       "      <th>gender</th>\n",
       "      <th>polyuria</th>\n",
       "      <th>polydipsia</th>\n",
       "      <th>sudden_weight_loss</th>\n",
       "      <th>weakness</th>\n",
       "      <th>polyphagia</th>\n",
       "      <th>genital_thrush</th>\n",
       "      <th>visual_blurring</th>\n",
       "      <th>itching</th>\n",
       "      <th>irritability</th>\n",
       "      <th>delayed_healing</th>\n",
       "      <th>partial_paresis</th>\n",
       "      <th>muscle_stiffness</th>\n",
       "      <th>alopecia</th>\n",
       "      <th>obesity</th>\n",
       "      <th>class</th>\n",
       "    </tr>\n",
       "  </thead>\n",
       "  <tbody>\n",
       "    <tr>\n",
       "      <th>0</th>\n",
       "      <td>40</td>\n",
       "      <td>Male</td>\n",
       "      <td>0</td>\n",
       "      <td>1</td>\n",
       "      <td>0</td>\n",
       "      <td>1</td>\n",
       "      <td>0</td>\n",
       "      <td>0</td>\n",
       "      <td>0</td>\n",
       "      <td>1</td>\n",
       "      <td>0</td>\n",
       "      <td>1</td>\n",
       "      <td>0</td>\n",
       "      <td>1</td>\n",
       "      <td>1</td>\n",
       "      <td>1</td>\n",
       "      <td>1</td>\n",
       "    </tr>\n",
       "    <tr>\n",
       "      <th>1</th>\n",
       "      <td>58</td>\n",
       "      <td>Male</td>\n",
       "      <td>0</td>\n",
       "      <td>0</td>\n",
       "      <td>0</td>\n",
       "      <td>1</td>\n",
       "      <td>0</td>\n",
       "      <td>0</td>\n",
       "      <td>1</td>\n",
       "      <td>0</td>\n",
       "      <td>0</td>\n",
       "      <td>0</td>\n",
       "      <td>1</td>\n",
       "      <td>0</td>\n",
       "      <td>1</td>\n",
       "      <td>0</td>\n",
       "      <td>1</td>\n",
       "    </tr>\n",
       "    <tr>\n",
       "      <th>2</th>\n",
       "      <td>41</td>\n",
       "      <td>Male</td>\n",
       "      <td>1</td>\n",
       "      <td>0</td>\n",
       "      <td>0</td>\n",
       "      <td>1</td>\n",
       "      <td>1</td>\n",
       "      <td>0</td>\n",
       "      <td>0</td>\n",
       "      <td>1</td>\n",
       "      <td>0</td>\n",
       "      <td>1</td>\n",
       "      <td>0</td>\n",
       "      <td>1</td>\n",
       "      <td>1</td>\n",
       "      <td>0</td>\n",
       "      <td>1</td>\n",
       "    </tr>\n",
       "    <tr>\n",
       "      <th>3</th>\n",
       "      <td>45</td>\n",
       "      <td>Male</td>\n",
       "      <td>0</td>\n",
       "      <td>0</td>\n",
       "      <td>1</td>\n",
       "      <td>1</td>\n",
       "      <td>1</td>\n",
       "      <td>1</td>\n",
       "      <td>0</td>\n",
       "      <td>1</td>\n",
       "      <td>0</td>\n",
       "      <td>1</td>\n",
       "      <td>0</td>\n",
       "      <td>0</td>\n",
       "      <td>0</td>\n",
       "      <td>0</td>\n",
       "      <td>1</td>\n",
       "    </tr>\n",
       "    <tr>\n",
       "      <th>4</th>\n",
       "      <td>60</td>\n",
       "      <td>Male</td>\n",
       "      <td>1</td>\n",
       "      <td>1</td>\n",
       "      <td>1</td>\n",
       "      <td>1</td>\n",
       "      <td>1</td>\n",
       "      <td>0</td>\n",
       "      <td>1</td>\n",
       "      <td>1</td>\n",
       "      <td>1</td>\n",
       "      <td>1</td>\n",
       "      <td>1</td>\n",
       "      <td>1</td>\n",
       "      <td>1</td>\n",
       "      <td>1</td>\n",
       "      <td>1</td>\n",
       "    </tr>\n",
       "  </tbody>\n",
       "</table>\n",
       "</div>"
      ],
      "text/plain": [
       "   age gender  polyuria  polydipsia  sudden_weight_loss  weakness  polyphagia  \\\n",
       "0   40   Male         0           1                   0         1           0   \n",
       "1   58   Male         0           0                   0         1           0   \n",
       "2   41   Male         1           0                   0         1           1   \n",
       "3   45   Male         0           0                   1         1           1   \n",
       "4   60   Male         1           1                   1         1           1   \n",
       "\n",
       "   genital_thrush  visual_blurring  itching  irritability  delayed_healing  \\\n",
       "0               0                0        1             0                1   \n",
       "1               0                1        0             0                0   \n",
       "2               0                0        1             0                1   \n",
       "3               1                0        1             0                1   \n",
       "4               0                1        1             1                1   \n",
       "\n",
       "   partial_paresis  muscle_stiffness  alopecia  obesity  class  \n",
       "0                0                 1         1        1      1  \n",
       "1                1                 0         1        0      1  \n",
       "2                0                 1         1        0      1  \n",
       "3                0                 0         0        0      1  \n",
       "4                1                 1         1        1      1  "
      ]
     },
     "execution_count": 7,
     "metadata": {},
     "output_type": "execute_result"
    }
   ],
   "source": [
    "data = pd.read_csv('diabetes_data_17features.csv',delimiter=\";\")\n",
    "df = data.copy()\n",
    "pd.set_option('display.max_row',df.shape[0])\n",
    "pd.set_option('display.max_column',df.shape[1]) \n",
    "df.head()\n",
    "# 0, 1, 2, 3, 6, 10, 11"
   ]
  },
  {
   "cell_type": "code",
   "execution_count": 8,
   "id": "d03f6c54",
   "metadata": {},
   "outputs": [
    {
     "data": {
      "text/plain": [
       "1    0.615385\n",
       "0    0.384615\n",
       "Name: class, dtype: float64"
      ]
     },
     "execution_count": 8,
     "metadata": {},
     "output_type": "execute_result"
    }
   ],
   "source": [
    "df['class'].value_counts(normalize=True) #Class 1 means diabetic"
   ]
  },
  {
   "cell_type": "code",
   "execution_count": 9,
   "id": "4231b60a",
   "metadata": {},
   "outputs": [],
   "source": [
    "def encoding(df):\n",
    "    code = {'Female':1,\n",
    "            'Male':0}\n",
    "    for col in df.select_dtypes('object'):\n",
    "        df.loc[:,col]=df[col].map(code)        \n",
    "    return df\n",
    "\n",
    "'''def imputation(df):\n",
    "    df = df.dropna(axis=0)\n",
    "    return df'''\n",
    "\n",
    "\"\"\"def feature_engineering(df):\n",
    "    useless_columns = ['patient_number']\n",
    "    df = df.drop(useless_columns,axis=1)\n",
    "    return df\"\"\"\n",
    "\n",
    "def preprocessing(df):\n",
    "    df = encoding(df)\n",
    "    #df = feature_engineering(df)\n",
    "    #df = imputation(df)\n",
    "    \n",
    "    X = df.drop('class',axis=1)\n",
    "    y = df['class']    \n",
    "\n",
    "    return df,X,y"
   ]
  },
  {
   "cell_type": "code",
   "execution_count": 10,
   "id": "c50b2e9c",
   "metadata": {},
   "outputs": [
    {
     "data": {
      "text/html": [
       "<div>\n",
       "<style scoped>\n",
       "    .dataframe tbody tr th:only-of-type {\n",
       "        vertical-align: middle;\n",
       "    }\n",
       "\n",
       "    .dataframe tbody tr th {\n",
       "        vertical-align: top;\n",
       "    }\n",
       "\n",
       "    .dataframe thead th {\n",
       "        text-align: right;\n",
       "    }\n",
       "</style>\n",
       "<table border=\"1\" class=\"dataframe\">\n",
       "  <thead>\n",
       "    <tr style=\"text-align: right;\">\n",
       "      <th></th>\n",
       "      <th>age</th>\n",
       "      <th>gender</th>\n",
       "      <th>polyuria</th>\n",
       "      <th>polydipsia</th>\n",
       "      <th>sudden_weight_loss</th>\n",
       "      <th>weakness</th>\n",
       "      <th>polyphagia</th>\n",
       "      <th>genital_thrush</th>\n",
       "      <th>visual_blurring</th>\n",
       "      <th>itching</th>\n",
       "      <th>irritability</th>\n",
       "      <th>delayed_healing</th>\n",
       "      <th>partial_paresis</th>\n",
       "      <th>muscle_stiffness</th>\n",
       "      <th>alopecia</th>\n",
       "      <th>obesity</th>\n",
       "      <th>class</th>\n",
       "    </tr>\n",
       "  </thead>\n",
       "  <tbody>\n",
       "    <tr>\n",
       "      <th>0</th>\n",
       "      <td>40</td>\n",
       "      <td>0</td>\n",
       "      <td>0</td>\n",
       "      <td>1</td>\n",
       "      <td>0</td>\n",
       "      <td>1</td>\n",
       "      <td>0</td>\n",
       "      <td>0</td>\n",
       "      <td>0</td>\n",
       "      <td>1</td>\n",
       "      <td>0</td>\n",
       "      <td>1</td>\n",
       "      <td>0</td>\n",
       "      <td>1</td>\n",
       "      <td>1</td>\n",
       "      <td>1</td>\n",
       "      <td>1</td>\n",
       "    </tr>\n",
       "    <tr>\n",
       "      <th>1</th>\n",
       "      <td>58</td>\n",
       "      <td>0</td>\n",
       "      <td>0</td>\n",
       "      <td>0</td>\n",
       "      <td>0</td>\n",
       "      <td>1</td>\n",
       "      <td>0</td>\n",
       "      <td>0</td>\n",
       "      <td>1</td>\n",
       "      <td>0</td>\n",
       "      <td>0</td>\n",
       "      <td>0</td>\n",
       "      <td>1</td>\n",
       "      <td>0</td>\n",
       "      <td>1</td>\n",
       "      <td>0</td>\n",
       "      <td>1</td>\n",
       "    </tr>\n",
       "    <tr>\n",
       "      <th>2</th>\n",
       "      <td>41</td>\n",
       "      <td>0</td>\n",
       "      <td>1</td>\n",
       "      <td>0</td>\n",
       "      <td>0</td>\n",
       "      <td>1</td>\n",
       "      <td>1</td>\n",
       "      <td>0</td>\n",
       "      <td>0</td>\n",
       "      <td>1</td>\n",
       "      <td>0</td>\n",
       "      <td>1</td>\n",
       "      <td>0</td>\n",
       "      <td>1</td>\n",
       "      <td>1</td>\n",
       "      <td>0</td>\n",
       "      <td>1</td>\n",
       "    </tr>\n",
       "    <tr>\n",
       "      <th>3</th>\n",
       "      <td>45</td>\n",
       "      <td>0</td>\n",
       "      <td>0</td>\n",
       "      <td>0</td>\n",
       "      <td>1</td>\n",
       "      <td>1</td>\n",
       "      <td>1</td>\n",
       "      <td>1</td>\n",
       "      <td>0</td>\n",
       "      <td>1</td>\n",
       "      <td>0</td>\n",
       "      <td>1</td>\n",
       "      <td>0</td>\n",
       "      <td>0</td>\n",
       "      <td>0</td>\n",
       "      <td>0</td>\n",
       "      <td>1</td>\n",
       "    </tr>\n",
       "    <tr>\n",
       "      <th>4</th>\n",
       "      <td>60</td>\n",
       "      <td>0</td>\n",
       "      <td>1</td>\n",
       "      <td>1</td>\n",
       "      <td>1</td>\n",
       "      <td>1</td>\n",
       "      <td>1</td>\n",
       "      <td>0</td>\n",
       "      <td>1</td>\n",
       "      <td>1</td>\n",
       "      <td>1</td>\n",
       "      <td>1</td>\n",
       "      <td>1</td>\n",
       "      <td>1</td>\n",
       "      <td>1</td>\n",
       "      <td>1</td>\n",
       "      <td>1</td>\n",
       "    </tr>\n",
       "  </tbody>\n",
       "</table>\n",
       "</div>"
      ],
      "text/plain": [
       "   age  gender  polyuria  polydipsia  sudden_weight_loss  weakness  \\\n",
       "0   40       0         0           1                   0         1   \n",
       "1   58       0         0           0                   0         1   \n",
       "2   41       0         1           0                   0         1   \n",
       "3   45       0         0           0                   1         1   \n",
       "4   60       0         1           1                   1         1   \n",
       "\n",
       "   polyphagia  genital_thrush  visual_blurring  itching  irritability  \\\n",
       "0           0               0                0        1             0   \n",
       "1           0               0                1        0             0   \n",
       "2           1               0                0        1             0   \n",
       "3           1               1                0        1             0   \n",
       "4           1               0                1        1             1   \n",
       "\n",
       "   delayed_healing  partial_paresis  muscle_stiffness  alopecia  obesity  \\\n",
       "0                1                0                 1         1        1   \n",
       "1                0                1                 0         1        0   \n",
       "2                1                0                 1         1        0   \n",
       "3                1                0                 0         0        0   \n",
       "4                1                1                 1         1        1   \n",
       "\n",
       "   class  \n",
       "0      1  \n",
       "1      1  \n",
       "2      1  \n",
       "3      1  \n",
       "4      1  "
      ]
     },
     "execution_count": 10,
     "metadata": {},
     "output_type": "execute_result"
    }
   ],
   "source": [
    "df,_,_ = preprocessing(df)\n",
    "df.head()"
   ]
  },
  {
   "cell_type": "code",
   "execution_count": 11,
   "id": "c7ca92e1",
   "metadata": {},
   "outputs": [
    {
     "name": "stdout",
     "output_type": "stream",
     "text": [
      "Time taken in mins: 0.0015497287114461264\n",
      "Time taken in hours: 2.582881185743544e-05\n"
     ]
    }
   ],
   "source": [
    "# store end time\n",
    "preprocess = time.time()\n",
    "time_tkn1 = preprocess-start_time\n",
    "print('Time taken in mins:',time_tkn1/(60))\n",
    "print('Time taken in hours:',time_tkn1/(60*60))"
   ]
  },
  {
   "cell_type": "code",
   "execution_count": 12,
   "id": "c7738a0d",
   "metadata": {},
   "outputs": [],
   "source": [
    "fsstart_time = time.time()"
   ]
  },
  {
   "cell_type": "code",
   "execution_count": 13,
   "id": "0e578004",
   "metadata": {},
   "outputs": [],
   "source": [
    "data = np.asarray(df)\n",
    "time_taken = {}"
   ]
  },
  {
   "cell_type": "code",
   "execution_count": 14,
   "id": "ffd719d9",
   "metadata": {},
   "outputs": [],
   "source": [
    "MAX_ITERATIONS = len(data)\n",
    "\n",
    "for size in range(MAX_ITERATIONS-1,MAX_ITERATIONS):\n",
    "    np.random.shuffle(data)\n",
    "    test_data = data[:size]\n",
    "    \n",
    "    #start_time1 = time.time()\n",
    "    InstanceSelector = InstanceSelection(test_data)\n",
    "    InstanceSelector.apply()\n",
    "    #end_time1 = time.time()\n",
    "    #algo1_time = end_time1-start_time1\n",
    "\n",
    "    #start_time2 = time.time()\n",
    "    feature_selection_obj = FeatureSelection(InstanceSelector.representative_instances_list[0])\n",
    "    feature_selection_obj.apply(InstanceSelector)\n",
    "    #end_time2 = time.time()\n",
    "\n",
    "    representative_instances = InstanceSelector.representative_instances_list\n",
    "    feature_set = list(feature_selection_obj.rep_feature_set)"
   ]
  },
  {
   "cell_type": "code",
   "execution_count": 15,
   "id": "08677fc7",
   "metadata": {},
   "outputs": [
    {
     "data": {
      "text/plain": [
       "[0, 1, 2, 3, 6, 10, 11]"
      ]
     },
     "execution_count": 15,
     "metadata": {},
     "output_type": "execute_result"
    }
   ],
   "source": [
    "feature_set"
   ]
  },
  {
   "cell_type": "code",
   "execution_count": 16,
   "id": "57cd1b70",
   "metadata": {},
   "outputs": [
    {
     "name": "stdout",
     "output_type": "stream",
     "text": [
      "Time taken in mins: 1.9796674331029256\n",
      "Time taken in hours: 0.032994457218382095\n"
     ]
    }
   ],
   "source": [
    "# store end time\n",
    "fs_end = time.time()\n",
    "time_tkn_2 = fs_end-fsstart_time\n",
    "print('Time taken in mins:',time_tkn_2/(60))\n",
    "print('Time taken in hours:',time_tkn_2/(60*60))"
   ]
  },
  {
   "cell_type": "code",
   "execution_count": 17,
   "id": "f2953c3e",
   "metadata": {},
   "outputs": [],
   "source": [
    "X_train,X_test,y_train,y_test = train_test_split(data[:,feature_set],data[:,-1],test_size=0.2,stratify=data[:,-1],random_state=0)"
   ]
  },
  {
   "cell_type": "markdown",
   "id": "81fae83d",
   "metadata": {},
   "source": [
    "## Creating models"
   ]
  },
  {
   "cell_type": "code",
   "execution_count": 18,
   "id": "65d5900c",
   "metadata": {},
   "outputs": [],
   "source": [
    "from sklearn.pipeline import make_pipeline\n",
    "\n",
    "preprocessor = make_pipeline(MinMaxScaler())\n",
    "RandomPipeline = make_pipeline(preprocessor,RandomForestClassifier(random_state=42))\n",
    "AdaPipeline = make_pipeline(preprocessor,AdaBoostClassifier(random_state=42))\n",
    "SVMPipeline = make_pipeline(preprocessor,SVC(random_state=42,probability=True))\n",
    "KNNPipeline = make_pipeline(preprocessor,KNeighborsClassifier())\n",
    "LRPipeline = make_pipeline(preprocessor,LogisticRegression(solver='sag',random_state=42))"
   ]
  },
  {
   "cell_type": "code",
   "execution_count": 19,
   "id": "1a00a1a1",
   "metadata": {},
   "outputs": [],
   "source": [
    "dict_of_models = {'RandomForest': RandomPipeline,\n",
    "'AdaBoost': AdaPipeline,\n",
    "'SVM': SVMPipeline,\n",
    "'KNN': KNNPipeline,\n",
    "'LR': LRPipeline}"
   ]
  },
  {
   "cell_type": "code",
   "execution_count": 20,
   "id": "048d6705",
   "metadata": {},
   "outputs": [],
   "source": [
    "def evaluation(model):\n",
    "    model.fit(X_train, y_train)\n",
    "    # calculating the probabilities\n",
    "    y_pred_proba = model.predict_proba(X_test)\n",
    "\n",
    "    # finding the predicted valued\n",
    "    y_pred = np.argmax(y_pred_proba,axis=1)\n",
    "    print('Accuracy = ', accuracy_score(y_test, y_pred))\n",
    "    print('-')\n",
    "    print(confusion_matrix(y_test,y_pred))\n",
    "    print('-')\n",
    "    print(classification_report(y_test,y_pred))\n",
    "    print('-')\n",
    "    \n",
    "    N, train_score, test_score = learning_curve(model, X_train, y_train, \n",
    "                                               cv=4, scoring='f1', \n",
    "                                               train_sizes=np.linspace(0.1,1,10))\n",
    "    plt.figure(figsize=(5,5))\n",
    "    plt.plot(N, train_score.mean(axis=1), label='train score')\n",
    "    plt.plot(N, test_score.mean(axis=1), label='validation score')\n",
    "    print(\"ACCURACY OF THE MODEL: \", accuracy_score(y_test, y_pred))\n",
    "    print(\"Recall score of the model: \", recall_score(y_test, y_pred))\n",
    "    print(\"precision of the model: \", precision_score(y_test, y_pred))\n",
    "    plt.legend()\n",
    "    plt.show()"
   ]
  },
  {
   "cell_type": "code",
   "execution_count": 21,
   "id": "b365a631",
   "metadata": {},
   "outputs": [],
   "source": [
    "from sklearn.metrics import f1_score, accuracy_score, confusion_matrix, classification_report, roc_curve\n",
    "from sklearn.model_selection import learning_curve, cross_val_score, GridSearchCV"
   ]
  },
  {
   "cell_type": "code",
   "execution_count": 22,
   "id": "36f86810",
   "metadata": {},
   "outputs": [
    {
     "name": "stdout",
     "output_type": "stream",
     "text": [
      "---------------------------------\n",
      "RandomForest\n",
      "Accuracy =  0.9423076923076923\n",
      "-\n",
      "[[36  4]\n",
      " [ 2 62]]\n",
      "-\n",
      "              precision    recall  f1-score   support\n",
      "\n",
      "           0       0.95      0.90      0.92        40\n",
      "           1       0.94      0.97      0.95        64\n",
      "\n",
      "    accuracy                           0.94       104\n",
      "   macro avg       0.94      0.93      0.94       104\n",
      "weighted avg       0.94      0.94      0.94       104\n",
      "\n",
      "-\n",
      "ACCURACY OF THE MODEL:  0.9423076923076923\n",
      "Recall score of the model:  0.96875\n",
      "precision of the model:  0.9393939393939394\n"
     ]
    },
    {
     "data": {
      "image/png": "[encoded data removed]",
      "text/plain": [
       "<Figure size 360x360 with 1 Axes>"
      ]
     },
     "metadata": {
      "needs_background": "light"
     },
     "output_type": "display_data"
    },
    {
     "name": "stdout",
     "output_type": "stream",
     "text": [
      "---------------------------------\n",
      "AdaBoost\n",
      "Accuracy =  0.9230769230769231\n",
      "-\n",
      "[[36  4]\n",
      " [ 4 60]]\n",
      "-\n",
      "              precision    recall  f1-score   support\n",
      "\n",
      "           0       0.90      0.90      0.90        40\n",
      "           1       0.94      0.94      0.94        64\n",
      "\n",
      "    accuracy                           0.92       104\n",
      "   macro avg       0.92      0.92      0.92       104\n",
      "weighted avg       0.92      0.92      0.92       104\n",
      "\n",
      "-\n",
      "ACCURACY OF THE MODEL:  0.9230769230769231\n",
      "Recall score of the model:  0.9375\n",
      "precision of the model:  0.9375\n"
     ]
    },
    {
     "data": {
      "image/png": "[encoded data removed]",
      "text/plain": [
       "<Figure size 360x360 with 1 Axes>"
      ]
     },
     "metadata": {
      "needs_background": "light"
     },
     "output_type": "display_data"
    },
    {
     "name": "stdout",
     "output_type": "stream",
     "text": [
      "---------------------------------\n",
      "SVM\n",
      "Accuracy =  0.9519230769230769\n",
      "-\n",
      "[[38  2]\n",
      " [ 3 61]]\n",
      "-\n",
      "              precision    recall  f1-score   support\n",
      "\n",
      "           0       0.93      0.95      0.94        40\n",
      "           1       0.97      0.95      0.96        64\n",
      "\n",
      "    accuracy                           0.95       104\n",
      "   macro avg       0.95      0.95      0.95       104\n",
      "weighted avg       0.95      0.95      0.95       104\n",
      "\n",
      "-\n",
      "ACCURACY OF THE MODEL:  0.9519230769230769\n",
      "Recall score of the model:  0.953125\n",
      "precision of the model:  0.9682539682539683\n"
     ]
    },
    {
     "data": {
      "image/png": "[encoded data removed]",
      "text/plain": [
       "<Figure size 360x360 with 1 Axes>"
      ]
     },
     "metadata": {
      "needs_background": "light"
     },
     "output_type": "display_data"
    },
    {
     "name": "stdout",
     "output_type": "stream",
     "text": [
      "---------------------------------\n",
      "KNN\n",
      "Accuracy =  0.9230769230769231\n",
      "-\n",
      "[[39  1]\n",
      " [ 7 57]]\n",
      "-\n",
      "              precision    recall  f1-score   support\n",
      "\n",
      "           0       0.85      0.97      0.91        40\n",
      "           1       0.98      0.89      0.93        64\n",
      "\n",
      "    accuracy                           0.92       104\n",
      "   macro avg       0.92      0.93      0.92       104\n",
      "weighted avg       0.93      0.92      0.92       104\n",
      "\n",
      "-\n",
      "ACCURACY OF THE MODEL:  0.9230769230769231\n",
      "Recall score of the model:  0.890625\n",
      "precision of the model:  0.9827586206896551\n"
     ]
    },
    {
     "data": {
      "image/png": "[encoded data removed]",
      "text/plain": [
       "<Figure size 360x360 with 1 Axes>"
      ]
     },
     "metadata": {
      "needs_background": "light"
     },
     "output_type": "display_data"
    },
    {
     "name": "stdout",
     "output_type": "stream",
     "text": [
      "---------------------------------\n",
      "LR\n",
      "Accuracy =  0.9038461538461539\n",
      "-\n",
      "[[35  5]\n",
      " [ 5 59]]\n",
      "-\n",
      "              precision    recall  f1-score   support\n",
      "\n",
      "           0       0.88      0.88      0.88        40\n",
      "           1       0.92      0.92      0.92        64\n",
      "\n",
      "    accuracy                           0.90       104\n",
      "   macro avg       0.90      0.90      0.90       104\n",
      "weighted avg       0.90      0.90      0.90       104\n",
      "\n",
      "-\n",
      "ACCURACY OF THE MODEL:  0.9038461538461539\n",
      "Recall score of the model:  0.921875\n",
      "precision of the model:  0.921875\n"
     ]
    },
    {
     "data": {
      "image/png": "[encoded data removed]",
      "text/plain": [
       "<Figure size 360x360 with 1 Axes>"
      ]
     },
     "metadata": {
      "needs_background": "light"
     },
     "output_type": "display_data"
    }
   ],
   "source": [
    "for name, model in dict_of_models.items():\n",
    "    print('---------------------------------')\n",
    "    print(name)\n",
    "    evaluation(model)"
   ]
  },
  {
   "cell_type": "markdown",
   "id": "190681cf",
   "metadata": {
    "papermill": {
     "duration": 0.314923,
     "end_time": "2021-08-27T11:31:42.837587",
     "exception": false,
     "start_time": "2021-08-27T11:31:42.522664",
     "status": "completed"
    },
    "tags": []
   },
   "source": [
    "## Using RandomForest"
   ]
  },
  {
   "cell_type": "code",
   "execution_count": 23,
   "id": "d3015323",
   "metadata": {},
   "outputs": [],
   "source": [
    "rf_start_time = time.time()"
   ]
  },
  {
   "cell_type": "code",
   "execution_count": 24,
   "id": "b67e2900",
   "metadata": {
    "execution": {
     "iopub.execute_input": "2021-08-27T11:31:43.499423Z",
     "iopub.status.busy": "2021-08-27T11:31:43.498826Z",
     "iopub.status.idle": "2021-08-27T11:31:43.637742Z",
     "shell.execute_reply": "2021-08-27T11:31:43.636874Z",
     "shell.execute_reply.started": "2021-08-25T22:27:54.018071Z"
    },
    "papermill": {
     "duration": 0.482504,
     "end_time": "2021-08-27T11:31:43.637937",
     "exception": false,
     "start_time": "2021-08-27T11:31:43.155433",
     "status": "completed"
    },
    "tags": []
   },
   "outputs": [],
   "source": [
    "RandomPipeline.fit(X_train, y_train)\n",
    "y_proba = RandomPipeline.predict_proba(X_test)\n",
    "ypred_RF = np.argmax(y_proba,axis=1)\n",
    "#print(\"RandomForest : \", accuracy_score(y_test, ypred_RF))"
   ]
  },
  {
   "cell_type": "code",
   "execution_count": 25,
   "id": "9b204465",
   "metadata": {},
   "outputs": [
    {
     "data": {
      "text/plain": [
       "Text(0.5, 15.0, 'Predicted label')"
      ]
     },
     "execution_count": 25,
     "metadata": {},
     "output_type": "execute_result"
    },
    {
     "data": {
      "image/png": "[encoded data removed]",
      "text/plain": [
       "<Figure size 432x288 with 2 Axes>"
      ]
     },
     "metadata": {
      "needs_background": "light"
     },
     "output_type": "display_data"
    }
   ],
   "source": [
    "from sklearn import metrics\n",
    "import seaborn as sns\n",
    "cnf_matrix = metrics.confusion_matrix(y_test, ypred_RF)\n",
    "p = sns.heatmap(pd.DataFrame(cnf_matrix), annot=True, cmap=\"YlGnBu\" ,fmt='g')\n",
    "plt.title('Confusion matrix', y=1.1)\n",
    "plt.ylabel('Actual label')\n",
    "plt.xlabel('Predicted label')"
   ]
  },
  {
   "cell_type": "code",
   "execution_count": 26,
   "id": "41c23aee",
   "metadata": {},
   "outputs": [],
   "source": [
    "from sklearn.preprocessing import LabelBinarizer\n",
    "from sklearn.metrics import roc_curve, auc\n",
    "from sklearn.metrics import roc_auc_score"
   ]
  },
  {
   "cell_type": "code",
   "execution_count": 27,
   "id": "eb4e2641",
   "metadata": {},
   "outputs": [],
   "source": [
    "def multiclass_roc_auc_score(y_test, y_pred, average=\"macro\"):\n",
    "    lb = LabelBinarizer()\n",
    "    lb.fit(y_test)\n",
    "    y_test = lb.transform(y_test)\n",
    "    y_pred = lb.transform(y_pred)\n",
    "    return roc_auc_score(y_test, y_pred, average=average)"
   ]
  },
  {
   "cell_type": "code",
   "execution_count": 28,
   "id": "3d3dd728",
   "metadata": {},
   "outputs": [
    {
     "name": "stdout",
     "output_type": "stream",
     "text": [
      "0.9343750000000001\n"
     ]
    }
   ],
   "source": [
    "print(multiclass_roc_auc_score(y_test, ypred_RF))"
   ]
  },
  {
   "cell_type": "code",
   "execution_count": 29,
   "id": "2e64cc3e",
   "metadata": {},
   "outputs": [
    {
     "data": {
      "image/png": "[encoded data removed]",
      "text/plain": [
       "<Figure size 432x288 with 1 Axes>"
      ]
     },
     "metadata": {
      "needs_background": "light"
     },
     "output_type": "display_data"
    }
   ],
   "source": [
    "from sklearn.metrics import roc_curve\n",
    "y_pred_keras_pr = RandomPipeline.predict_proba(X=X_test)\n",
    "import scikitplot as skplt\n",
    "plot = skplt.metrics.plot_roc(y_test, y_pred_keras_pr)"
   ]
  },
  {
   "cell_type": "code",
   "execution_count": 30,
   "id": "25b74436",
   "metadata": {},
   "outputs": [
    {
     "name": "stdout",
     "output_type": "stream",
     "text": [
      "Time taken in mins: 0.0079758087793986\n",
      "Time taken in hours: 0.00013293014632331\n"
     ]
    }
   ],
   "source": [
    "# store end time\n",
    "rf_end = time.time()\n",
    "time_rf_end = rf_end-rf_start_time\n",
    "print('Time taken in mins:',time_rf_end/(60))\n",
    "print('Time taken in hours:',time_rf_end/(60*60))"
   ]
  },
  {
   "cell_type": "markdown",
   "id": "61c21226",
   "metadata": {
    "papermill": {
     "duration": 0.323427,
     "end_time": "2021-08-27T11:31:45.049963",
     "exception": false,
     "start_time": "2021-08-27T11:31:44.726536",
     "status": "completed"
    },
    "tags": []
   },
   "source": [
    "### Optimization"
   ]
  },
  {
   "cell_type": "code",
   "execution_count": 31,
   "id": "ace44e85",
   "metadata": {
    "execution": {
     "iopub.execute_input": "2021-08-27T11:31:45.695458Z",
     "iopub.status.busy": "2021-08-27T11:31:45.694514Z",
     "iopub.status.idle": "2021-08-27T11:31:45.699740Z",
     "shell.execute_reply": "2021-08-27T11:31:45.699155Z",
     "shell.execute_reply.started": "2021-08-25T22:27:54.401044Z"
    },
    "papermill": {
     "duration": 0.328575,
     "end_time": "2021-08-27T11:31:45.699873",
     "exception": false,
     "start_time": "2021-08-27T11:31:45.371298",
     "status": "completed"
    },
    "tags": []
   },
   "outputs": [
    {
     "data": {
      "text/plain": [
       "dict_keys(['memory', 'steps', 'verbose', 'pipeline', 'randomforestclassifier', 'pipeline__memory', 'pipeline__steps', 'pipeline__verbose', 'pipeline__minmaxscaler', 'pipeline__minmaxscaler__clip', 'pipeline__minmaxscaler__copy', 'pipeline__minmaxscaler__feature_range', 'randomforestclassifier__bootstrap', 'randomforestclassifier__ccp_alpha', 'randomforestclassifier__class_weight', 'randomforestclassifier__criterion', 'randomforestclassifier__max_depth', 'randomforestclassifier__max_features', 'randomforestclassifier__max_leaf_nodes', 'randomforestclassifier__max_samples', 'randomforestclassifier__min_impurity_decrease', 'randomforestclassifier__min_samples_leaf', 'randomforestclassifier__min_samples_split', 'randomforestclassifier__min_weight_fraction_leaf', 'randomforestclassifier__n_estimators', 'randomforestclassifier__n_jobs', 'randomforestclassifier__oob_score', 'randomforestclassifier__random_state', 'randomforestclassifier__verbose', 'randomforestclassifier__warm_start'])"
      ]
     },
     "execution_count": 31,
     "metadata": {},
     "output_type": "execute_result"
    }
   ],
   "source": [
    "from sklearn.model_selection import RandomizedSearchCV\n",
    "RandomPipeline.get_params().keys()"
   ]
  },
  {
   "cell_type": "code",
   "execution_count": 32,
   "id": "22c2414d",
   "metadata": {
    "execution": {
     "iopub.execute_input": "2021-08-27T11:31:46.344338Z",
     "iopub.status.busy": "2021-08-27T11:31:46.343369Z",
     "iopub.status.idle": "2021-08-27T11:31:46.348387Z",
     "shell.execute_reply": "2021-08-27T11:31:46.347949Z",
     "shell.execute_reply.started": "2021-08-25T22:27:54.412339Z"
    },
    "papermill": {
     "duration": 0.330148,
     "end_time": "2021-08-27T11:31:46.348543",
     "exception": false,
     "start_time": "2021-08-27T11:31:46.018395",
     "status": "completed"
    },
    "tags": []
   },
   "outputs": [],
   "source": [
    "hyper_params = {\n",
    "    'randomforestclassifier__n_estimators':[10,100,150,250,400,600],\n",
    "    'randomforestclassifier__criterion':['gini','entropy'],\n",
    "    'randomforestclassifier__min_samples_split':[2,6,12],\n",
    "    'randomforestclassifier__min_samples_leaf':[1,4,6,10],\n",
    "    'randomforestclassifier__max_features':['auto','srqt','log2',int,float],\n",
    "    'randomforestclassifier__n_jobs':[-1],\n",
    "    'randomforestclassifier__verbose':[0,1,2],\n",
    "    'randomforestclassifier__class_weight':['balanced','balanced_subsample'],\n",
    "    'randomforestclassifier__n_jobs':[-1],\n",
    "}"
   ]
  },
  {
   "cell_type": "code",
   "execution_count": 33,
   "id": "a1ab6ca8",
   "metadata": {
    "_kg_hide-output": true,
    "execution": {
     "iopub.execute_input": "2021-08-27T11:31:46.994215Z",
     "iopub.status.busy": "2021-08-27T11:31:46.993609Z",
     "iopub.status.idle": "2021-08-27T11:36:19.820832Z",
     "shell.execute_reply": "2021-08-27T11:36:19.821416Z",
     "shell.execute_reply.started": "2021-08-25T22:27:54.423952Z"
    },
    "jupyter": {
     "outputs_hidden": true
    },
    "papermill": {
     "duration": 273.155835,
     "end_time": "2021-08-27T11:36:19.821773",
     "exception": false,
     "start_time": "2021-08-27T11:31:46.665938",
     "status": "completed"
    },
    "tags": []
   },
   "outputs": [
    {
     "name": "stderr",
     "output_type": "stream",
     "text": [
      "[Parallel(n_jobs=-1)]: Using backend LokyBackend with 16 concurrent workers.\n",
      "[Parallel(n_jobs=-1)]: Using backend LokyBackend with 16 concurrent workers.\n",
      "[Parallel(n_jobs=-1)]: Using backend LokyBackend with 16 concurrent workers.\n",
      "[Parallel(n_jobs=-1)]: Using backend LokyBackend with 16 concurrent workers.\n",
      "[Parallel(n_jobs=-1)]: Using backend LokyBackend with 16 concurrent workers.\n",
      "[Parallel(n_jobs=-1)]: Using backend LokyBackend with 16 concurrent workers.\n",
      "[Parallel(n_jobs=-1)]: Using backend LokyBackend with 16 concurrent workers.\n",
      "[Parallel(n_jobs=-1)]: Using backend LokyBackend with 16 concurrent workers.\n",
      "[Parallel(n_jobs=-1)]: Done   9 tasks      | elapsed:    1.4s\n",
      "[Parallel(n_jobs=-1)]: Using backend LokyBackend with 16 concurrent workers.\n",
      "[Parallel(n_jobs=-1)]: Using backend LokyBackend with 16 concurrent workers.\n",
      "[Parallel(n_jobs=-1)]: Using backend LokyBackend with 16 concurrent workers.\n",
      "[Parallel(n_jobs=-1)]: Using backend LokyBackend with 16 concurrent workers.\n",
      "[Parallel(n_jobs=-1)]: Using backend LokyBackend with 16 concurrent workers.\n",
      "[Parallel(n_jobs=-1)]: Done  18 tasks      | elapsed:    1.2s\n",
      "[Parallel(n_jobs=-1)]: Using backend LokyBackend with 16 concurrent workers.\n",
      "[Parallel(n_jobs=-1)]: Using backend LokyBackend with 16 concurrent workers.\n",
      "[Parallel(n_jobs=-1)]: Using backend LokyBackend with 16 concurrent workers.\n",
      "[Parallel(n_jobs=-1)]: Done  18 tasks      | elapsed:    1.1s\n",
      "[Parallel(n_jobs=-1)]: Done 119 out of 150 | elapsed:    1.2s remaining:    0.2s\n",
      "[Parallel(n_jobs=-1)]: Done 150 out of 150 | elapsed:    1.3s finished\n",
      "[Parallel(n_jobs=16)]: Using backend ThreadingBackend with 16 concurrent workers.\n",
      "[Parallel(n_jobs=16)]: Done  18 tasks      | elapsed:    0.0s\n",
      "[Parallel(n_jobs=16)]: Done 150 out of 150 | elapsed:    0.0s finished\n",
      "[Parallel(n_jobs=-1)]: Using backend LokyBackend with 16 concurrent workers.\n",
      "[Parallel(n_jobs=-1)]: Done  18 tasks      | elapsed:    0.0s\n",
      "[Parallel(n_jobs=-1)]: Done 150 out of 150 | elapsed:    0.0s finished\n",
      "[Parallel(n_jobs=16)]: Using backend ThreadingBackend with 16 concurrent workers.\n",
      "[Parallel(n_jobs=16)]: Done  18 tasks      | elapsed:    0.0s\n",
      "[Parallel(n_jobs=16)]: Done 150 out of 150 | elapsed:    0.0s finished\n",
      "[Parallel(n_jobs=-1)]: Using backend LokyBackend with 16 concurrent workers.\n",
      "[Parallel(n_jobs=-1)]: Done  18 tasks      | elapsed:    0.0s\n",
      "[Parallel(n_jobs=-1)]: Done 150 out of 150 | elapsed:    0.0s finished\n",
      "[Parallel(n_jobs=16)]: Using backend ThreadingBackend with 16 concurrent workers.\n",
      "[Parallel(n_jobs=16)]: Done  18 tasks      | elapsed:    0.0s\n",
      "[Parallel(n_jobs=16)]: Done 150 out of 150 | elapsed:    0.0s finished\n",
      "[Parallel(n_jobs=-1)]: Using backend LokyBackend with 16 concurrent workers.\n",
      "[Parallel(n_jobs=-1)]: Done  18 tasks      | elapsed:    0.0s\n",
      "[Parallel(n_jobs=-1)]: Done 150 out of 150 | elapsed:    0.0s finished\n",
      "[Parallel(n_jobs=16)]: Using backend ThreadingBackend with 16 concurrent workers.\n",
      "[Parallel(n_jobs=16)]: Done  18 tasks      | elapsed:    0.0s\n",
      "[Parallel(n_jobs=16)]: Done 150 out of 150 | elapsed:    0.0s finished\n",
      "[Parallel(n_jobs=-1)]: Using backend LokyBackend with 16 concurrent workers.\n",
      "[Parallel(n_jobs=-1)]: Done  18 tasks      | elapsed:    0.0s\n",
      "[Parallel(n_jobs=-1)]: Done 150 out of 150 | elapsed:    0.0s finished\n",
      "[Parallel(n_jobs=16)]: Using backend ThreadingBackend with 16 concurrent workers.\n",
      "[Parallel(n_jobs=16)]: Done  18 tasks      | elapsed:    0.0s\n",
      "[Parallel(n_jobs=16)]: Done 150 out of 150 | elapsed:    0.0s finished\n",
      "[Parallel(n_jobs=-1)]: Using backend LokyBackend with 16 concurrent workers.\n",
      "[Parallel(n_jobs=-1)]: Using backend LokyBackend with 16 concurrent workers.\n",
      "[Parallel(n_jobs=-1)]: Using backend LokyBackend with 16 concurrent workers.\n",
      "[Parallel(n_jobs=-1)]: Using backend LokyBackend with 16 concurrent workers.\n",
      "[Parallel(n_jobs=-1)]: Using backend LokyBackend with 16 concurrent workers.\n",
      "[Parallel(n_jobs=-1)]: Using backend LokyBackend with 16 concurrent workers.\n",
      "[Parallel(n_jobs=-1)]: Done  18 tasks      | elapsed:    1.1s\n",
      "[Parallel(n_jobs=-1)]: Done 520 tasks      | elapsed:    1.4s\n",
      "[Parallel(n_jobs=-1)]: Done 600 out of 600 | elapsed:    1.4s finished\n",
      "[Parallel(n_jobs=16)]: Using backend ThreadingBackend with 16 concurrent workers.\n",
      "[Parallel(n_jobs=16)]: Done  18 tasks      | elapsed:    0.0s\n",
      "[Parallel(n_jobs=16)]: Done 168 tasks      | elapsed:    0.0s\n",
      "[Parallel(n_jobs=16)]: Done 418 tasks      | elapsed:    0.0s\n",
      "[Parallel(n_jobs=16)]: Done 600 out of 600 | elapsed:    0.0s finished\n",
      "[Parallel(n_jobs=-1)]: Using backend LokyBackend with 16 concurrent workers.\n",
      "[Parallel(n_jobs=-1)]: Done  18 tasks      | elapsed:    0.0s\n",
      "[Parallel(n_jobs=-1)]: Done 520 tasks      | elapsed:    0.1s\n",
      "[Parallel(n_jobs=-1)]: Done 600 out of 600 | elapsed:    0.1s finished\n",
      "[Parallel(n_jobs=16)]: Using backend ThreadingBackend with 16 concurrent workers.\n",
      "[Parallel(n_jobs=16)]: Done  18 tasks      | elapsed:    0.0s\n",
      "[Parallel(n_jobs=16)]: Done 168 tasks      | elapsed:    0.0s\n",
      "[Parallel(n_jobs=16)]: Done 418 tasks      | elapsed:    0.0s\n",
      "[Parallel(n_jobs=16)]: Done 600 out of 600 | elapsed:    0.0s finished\n",
      "[Parallel(n_jobs=-1)]: Using backend LokyBackend with 16 concurrent workers.\n",
      "[Parallel(n_jobs=-1)]: Done  18 tasks      | elapsed:    0.0s\n",
      "[Parallel(n_jobs=-1)]: Done 520 tasks      | elapsed:    0.1s\n",
      "[Parallel(n_jobs=-1)]: Done 600 out of 600 | elapsed:    0.1s finished\n",
      "[Parallel(n_jobs=16)]: Using backend ThreadingBackend with 16 concurrent workers.\n",
      "[Parallel(n_jobs=16)]: Done  18 tasks      | elapsed:    0.0s\n",
      "[Parallel(n_jobs=16)]: Done 168 tasks      | elapsed:    0.0s\n",
      "[Parallel(n_jobs=16)]: Done 418 tasks      | elapsed:    0.0s\n",
      "[Parallel(n_jobs=16)]: Done 600 out of 600 | elapsed:    0.0s finished\n",
      "[Parallel(n_jobs=-1)]: Using backend LokyBackend with 16 concurrent workers.\n",
      "[Parallel(n_jobs=-1)]: Done  18 tasks      | elapsed:    0.0s\n",
      "[Parallel(n_jobs=-1)]: Done 520 tasks      | elapsed:    0.0s\n",
      "[Parallel(n_jobs=-1)]: Done 600 out of 600 | elapsed:    0.1s finished\n",
      "[Parallel(n_jobs=16)]: Using backend ThreadingBackend with 16 concurrent workers.\n",
      "[Parallel(n_jobs=16)]: Done  18 tasks      | elapsed:    0.0s\n",
      "[Parallel(n_jobs=16)]: Done 168 tasks      | elapsed:    0.0s\n",
      "[Parallel(n_jobs=16)]: Done 418 tasks      | elapsed:    0.0s\n",
      "[Parallel(n_jobs=16)]: Done 600 out of 600 | elapsed:    0.0s finished\n",
      "[Parallel(n_jobs=-1)]: Using backend LokyBackend with 16 concurrent workers.\n",
      "[Parallel(n_jobs=-1)]: Done  18 tasks      | elapsed:    0.0s\n",
      "[Parallel(n_jobs=-1)]: Done 520 tasks      | elapsed:    0.0s\n",
      "[Parallel(n_jobs=-1)]: Done 600 out of 600 | elapsed:    0.1s finished\n",
      "[Parallel(n_jobs=16)]: Using backend ThreadingBackend with 16 concurrent workers.\n",
      "[Parallel(n_jobs=16)]: Done  18 tasks      | elapsed:    0.0s\n",
      "[Parallel(n_jobs=16)]: Done 168 tasks      | elapsed:    0.0s\n",
      "[Parallel(n_jobs=16)]: Done 418 tasks      | elapsed:    0.0s\n",
      "[Parallel(n_jobs=16)]: Done 600 out of 600 | elapsed:    0.0s finished\n",
      "[Parallel(n_jobs=-1)]: Using backend LokyBackend with 16 concurrent workers.\n",
      "[Parallel(n_jobs=-1)]: Using backend LokyBackend with 16 concurrent workers.\n",
      "[Parallel(n_jobs=-1)]: Done   9 tasks      | elapsed:    1.1s\n",
      "[Parallel(n_jobs=-1)]: Using backend LokyBackend with 16 concurrent workers.\n",
      "[Parallel(n_jobs=-1)]: Done   9 tasks      | elapsed:    1.1s\n",
      "[Parallel(n_jobs=-1)]: Using backend LokyBackend with 16 concurrent workers.\n",
      "[Parallel(n_jobs=-1)]: Done   9 tasks      | elapsed:    1.1s\n",
      "[Parallel(n_jobs=-1)]: Using backend LokyBackend with 16 concurrent workers.\n",
      "[Parallel(n_jobs=-1)]: Using backend LokyBackend with 16 concurrent workers.\n",
      "[Parallel(n_jobs=-1)]: Done   9 tasks      | elapsed:    1.2s\n",
      "[Parallel(n_jobs=-1)]: Done 400 out of 400 | elapsed:    1.3s finished\n",
      "[Parallel(n_jobs=16)]: Using backend ThreadingBackend with 16 concurrent workers.\n",
      "[Parallel(n_jobs=16)]: Done   9 tasks      | elapsed:    0.0s\n",
      "[Parallel(n_jobs=16)]: Done 130 tasks      | elapsed:    0.0s\n",
      "[Parallel(n_jobs=16)]: Done 333 tasks      | elapsed:    0.0s\n",
      "[Parallel(n_jobs=16)]: Done 400 out of 400 | elapsed:    0.0s finished\n",
      "[Parallel(n_jobs=-1)]: Using backend LokyBackend with 16 concurrent workers.\n",
      "[Parallel(n_jobs=-1)]: Done   9 tasks      | elapsed:    0.0s\n",
      "[Parallel(n_jobs=-1)]: Done 400 out of 400 | elapsed:    0.0s finished\n",
      "[Parallel(n_jobs=16)]: Using backend ThreadingBackend with 16 concurrent workers.\n",
      "[Parallel(n_jobs=16)]: Done   9 tasks      | elapsed:    0.0s\n",
      "[Parallel(n_jobs=16)]: Done 130 tasks      | elapsed:    0.0s\n",
      "[Parallel(n_jobs=16)]: Done 333 tasks      | elapsed:    0.0s\n",
      "[Parallel(n_jobs=16)]: Done 400 out of 400 | elapsed:    0.0s finished\n"
     ]
    },
    {
     "name": "stderr",
     "output_type": "stream",
     "text": [
      "[Parallel(n_jobs=-1)]: Using backend LokyBackend with 16 concurrent workers.\n",
      "[Parallel(n_jobs=-1)]: Done   9 tasks      | elapsed:    0.0s\n",
      "[Parallel(n_jobs=-1)]: Done 400 out of 400 | elapsed:    0.0s finished\n",
      "[Parallel(n_jobs=16)]: Using backend ThreadingBackend with 16 concurrent workers.\n",
      "[Parallel(n_jobs=16)]: Done   9 tasks      | elapsed:    0.0s\n",
      "[Parallel(n_jobs=16)]: Done 130 tasks      | elapsed:    0.0s\n",
      "[Parallel(n_jobs=16)]: Done 333 tasks      | elapsed:    0.0s\n",
      "[Parallel(n_jobs=16)]: Done 400 out of 400 | elapsed:    0.0s finished\n",
      "[Parallel(n_jobs=-1)]: Using backend LokyBackend with 16 concurrent workers.\n",
      "[Parallel(n_jobs=-1)]: Done   9 tasks      | elapsed:    0.0s\n",
      "[Parallel(n_jobs=-1)]: Done 400 out of 400 | elapsed:    0.0s finished\n",
      "[Parallel(n_jobs=16)]: Using backend ThreadingBackend with 16 concurrent workers.\n",
      "[Parallel(n_jobs=16)]: Done   9 tasks      | elapsed:    0.0s\n",
      "[Parallel(n_jobs=16)]: Done 130 tasks      | elapsed:    0.0s\n",
      "[Parallel(n_jobs=16)]: Done 333 tasks      | elapsed:    0.0s\n",
      "[Parallel(n_jobs=16)]: Done 400 out of 400 | elapsed:    0.0s finished\n",
      "[Parallel(n_jobs=-1)]: Using backend LokyBackend with 16 concurrent workers.\n",
      "[Parallel(n_jobs=-1)]: Done   9 tasks      | elapsed:    0.0s\n",
      "[Parallel(n_jobs=-1)]: Done 400 out of 400 | elapsed:    0.0s finished\n",
      "[Parallel(n_jobs=16)]: Using backend ThreadingBackend with 16 concurrent workers.\n",
      "[Parallel(n_jobs=16)]: Done   9 tasks      | elapsed:    0.0s\n",
      "[Parallel(n_jobs=16)]: Done 130 tasks      | elapsed:    0.0s\n",
      "[Parallel(n_jobs=16)]: Done 333 tasks      | elapsed:    0.0s\n",
      "[Parallel(n_jobs=16)]: Done 400 out of 400 | elapsed:    0.0s finished\n",
      "[Parallel(n_jobs=-1)]: Using backend LokyBackend with 16 concurrent workers.\n",
      "[Parallel(n_jobs=-1)]: Done   9 tasks      | elapsed:    0.0s\n",
      "[Parallel(n_jobs=-1)]: Done 250 out of 250 | elapsed:    0.0s finished\n",
      "[Parallel(n_jobs=16)]: Using backend ThreadingBackend with 16 concurrent workers.\n",
      "[Parallel(n_jobs=16)]: Done   9 tasks      | elapsed:    0.0s\n",
      "[Parallel(n_jobs=16)]: Done 130 tasks      | elapsed:    0.0s\n",
      "[Parallel(n_jobs=16)]: Done 250 out of 250 | elapsed:    0.0s finished\n",
      "[Parallel(n_jobs=-1)]: Using backend LokyBackend with 16 concurrent workers.\n",
      "[Parallel(n_jobs=-1)]: Done   9 tasks      | elapsed:    0.0s\n",
      "[Parallel(n_jobs=-1)]: Done 250 out of 250 | elapsed:    0.0s finished\n",
      "[Parallel(n_jobs=16)]: Using backend ThreadingBackend with 16 concurrent workers.\n",
      "[Parallel(n_jobs=16)]: Done   9 tasks      | elapsed:    0.0s\n",
      "[Parallel(n_jobs=16)]: Done 130 tasks      | elapsed:    0.0s\n",
      "[Parallel(n_jobs=16)]: Done 250 out of 250 | elapsed:    0.0s finished\n",
      "[Parallel(n_jobs=-1)]: Using backend LokyBackend with 16 concurrent workers.\n",
      "[Parallel(n_jobs=-1)]: Done   9 tasks      | elapsed:    0.0s\n",
      "[Parallel(n_jobs=-1)]: Done 250 out of 250 | elapsed:    0.0s finished\n",
      "[Parallel(n_jobs=16)]: Using backend ThreadingBackend with 16 concurrent workers.\n",
      "[Parallel(n_jobs=16)]: Done   9 tasks      | elapsed:    0.0s\n",
      "[Parallel(n_jobs=16)]: Done 130 tasks      | elapsed:    0.0s\n",
      "[Parallel(n_jobs=16)]: Done 250 out of 250 | elapsed:    0.0s finished\n",
      "[Parallel(n_jobs=-1)]: Using backend LokyBackend with 16 concurrent workers.\n",
      "[Parallel(n_jobs=-1)]: Done   9 tasks      | elapsed:    0.0s\n",
      "[Parallel(n_jobs=-1)]: Done 250 out of 250 | elapsed:    0.0s finished\n",
      "[Parallel(n_jobs=16)]: Using backend ThreadingBackend with 16 concurrent workers.\n",
      "[Parallel(n_jobs=16)]: Done   9 tasks      | elapsed:    0.0s\n",
      "[Parallel(n_jobs=16)]: Done 130 tasks      | elapsed:    0.0s\n",
      "[Parallel(n_jobs=16)]: Done 250 out of 250 | elapsed:    0.0s finished\n",
      "[Parallel(n_jobs=-1)]: Using backend LokyBackend with 16 concurrent workers.\n",
      "[Parallel(n_jobs=-1)]: Done   9 tasks      | elapsed:    0.0s\n",
      "[Parallel(n_jobs=-1)]: Done 250 out of 250 | elapsed:    0.0s finished\n",
      "[Parallel(n_jobs=16)]: Using backend ThreadingBackend with 16 concurrent workers.\n",
      "[Parallel(n_jobs=16)]: Done   9 tasks      | elapsed:    0.0s\n",
      "[Parallel(n_jobs=16)]: Done 130 tasks      | elapsed:    0.0s\n",
      "[Parallel(n_jobs=16)]: Done 250 out of 250 | elapsed:    0.0s finished\n",
      "[Parallel(n_jobs=-1)]: Using backend LokyBackend with 16 concurrent workers.\n",
      "[Parallel(n_jobs=-1)]: Using backend LokyBackend with 16 concurrent workers.\n",
      "[Parallel(n_jobs=-1)]: Using backend LokyBackend with 16 concurrent workers.\n",
      "[Parallel(n_jobs=-1)]: Using backend LokyBackend with 16 concurrent workers.\n",
      "[Parallel(n_jobs=-1)]: Using backend LokyBackend with 16 concurrent workers.\n",
      "[Parallel(n_jobs=-1)]: Using backend LokyBackend with 16 concurrent workers.\n",
      "[Parallel(n_jobs=-1)]: Done   9 tasks      | elapsed:    1.2s\n",
      "[Parallel(n_jobs=-1)]: Done 400 out of 400 | elapsed:    1.3s finished\n",
      "[Parallel(n_jobs=16)]: Using backend ThreadingBackend with 16 concurrent workers.\n",
      "[Parallel(n_jobs=16)]: Done   9 tasks      | elapsed:    0.0s\n",
      "[Parallel(n_jobs=16)]: Done 130 tasks      | elapsed:    0.0s\n",
      "[Parallel(n_jobs=16)]: Done 333 tasks      | elapsed:    0.0s\n",
      "[Parallel(n_jobs=16)]: Done 400 out of 400 | elapsed:    0.0s finished\n",
      "[Parallel(n_jobs=-1)]: Using backend LokyBackend with 16 concurrent workers.\n",
      "[Parallel(n_jobs=-1)]: Done   9 tasks      | elapsed:    0.0s\n",
      "[Parallel(n_jobs=-1)]: Done 400 out of 400 | elapsed:    0.0s finished\n",
      "[Parallel(n_jobs=16)]: Using backend ThreadingBackend with 16 concurrent workers.\n",
      "[Parallel(n_jobs=16)]: Done   9 tasks      | elapsed:    0.0s\n",
      "[Parallel(n_jobs=16)]: Done 130 tasks      | elapsed:    0.0s\n",
      "[Parallel(n_jobs=16)]: Done 333 tasks      | elapsed:    0.0s\n",
      "[Parallel(n_jobs=16)]: Done 400 out of 400 | elapsed:    0.0s finished\n",
      "[Parallel(n_jobs=-1)]: Using backend LokyBackend with 16 concurrent workers.\n",
      "[Parallel(n_jobs=-1)]: Done   9 tasks      | elapsed:    0.0s\n",
      "[Parallel(n_jobs=-1)]: Done 400 out of 400 | elapsed:    0.0s finished\n",
      "[Parallel(n_jobs=16)]: Using backend ThreadingBackend with 16 concurrent workers.\n",
      "[Parallel(n_jobs=16)]: Done   9 tasks      | elapsed:    0.0s\n",
      "[Parallel(n_jobs=16)]: Done 130 tasks      | elapsed:    0.0s\n",
      "[Parallel(n_jobs=16)]: Done 333 tasks      | elapsed:    0.0s\n",
      "[Parallel(n_jobs=16)]: Done 400 out of 400 | elapsed:    0.0s finished\n",
      "[Parallel(n_jobs=-1)]: Using backend LokyBackend with 16 concurrent workers.\n",
      "[Parallel(n_jobs=-1)]: Done   9 tasks      | elapsed:    0.0s\n",
      "[Parallel(n_jobs=-1)]: Done 400 out of 400 | elapsed:    0.0s finished\n",
      "[Parallel(n_jobs=16)]: Using backend ThreadingBackend with 16 concurrent workers.\n",
      "[Parallel(n_jobs=16)]: Done   9 tasks      | elapsed:    0.0s\n",
      "[Parallel(n_jobs=16)]: Done 130 tasks      | elapsed:    0.0s\n",
      "[Parallel(n_jobs=16)]: Done 333 tasks      | elapsed:    0.0s\n",
      "[Parallel(n_jobs=16)]: Done 400 out of 400 | elapsed:    0.0s finished\n",
      "[Parallel(n_jobs=-1)]: Using backend LokyBackend with 16 concurrent workers.\n",
      "[Parallel(n_jobs=-1)]: Done   9 tasks      | elapsed:    0.0s\n",
      "[Parallel(n_jobs=-1)]: Done 400 out of 400 | elapsed:    0.0s finished\n",
      "[Parallel(n_jobs=16)]: Using backend ThreadingBackend with 16 concurrent workers.\n",
      "[Parallel(n_jobs=16)]: Done   9 tasks      | elapsed:    0.0s\n",
      "[Parallel(n_jobs=16)]: Done 130 tasks      | elapsed:    0.0s\n",
      "[Parallel(n_jobs=16)]: Done 333 tasks      | elapsed:    0.0s\n",
      "[Parallel(n_jobs=16)]: Done 400 out of 400 | elapsed:    0.0s finished\n",
      "[Parallel(n_jobs=-1)]: Using backend LokyBackend with 16 concurrent workers.\n",
      "[Parallel(n_jobs=-1)]: Using backend LokyBackend with 16 concurrent workers.\n",
      "[Parallel(n_jobs=-1)]: Using backend LokyBackend with 16 concurrent workers.\n",
      "[Parallel(n_jobs=-1)]: Using backend LokyBackend with 16 concurrent workers.\n",
      "[Parallel(n_jobs=-1)]: Using backend LokyBackend with 16 concurrent workers.\n",
      "[Parallel(n_jobs=-1)]: Using backend LokyBackend with 16 concurrent workers.\n",
      "[Parallel(n_jobs=-1)]: Done   9 tasks      | elapsed:    1.2s\n",
      "[Parallel(n_jobs=-1)]: Done 400 out of 400 | elapsed:    1.3s finished\n",
      "[Parallel(n_jobs=16)]: Using backend ThreadingBackend with 16 concurrent workers.\n",
      "[Parallel(n_jobs=16)]: Done   9 tasks      | elapsed:    0.0s\n",
      "[Parallel(n_jobs=16)]: Done 130 tasks      | elapsed:    0.0s\n",
      "[Parallel(n_jobs=16)]: Done 333 tasks      | elapsed:    0.0s\n",
      "[Parallel(n_jobs=16)]: Done 400 out of 400 | elapsed:    0.0s finished\n",
      "[Parallel(n_jobs=-1)]: Using backend LokyBackend with 16 concurrent workers.\n",
      "[Parallel(n_jobs=-1)]: Done   9 tasks      | elapsed:    0.0s\n",
      "[Parallel(n_jobs=-1)]: Done 400 out of 400 | elapsed:    0.0s finished\n",
      "[Parallel(n_jobs=16)]: Using backend ThreadingBackend with 16 concurrent workers.\n",
      "[Parallel(n_jobs=16)]: Done   9 tasks      | elapsed:    0.0s\n",
      "[Parallel(n_jobs=16)]: Done 130 tasks      | elapsed:    0.0s\n",
      "[Parallel(n_jobs=16)]: Done 333 tasks      | elapsed:    0.0s\n",
      "[Parallel(n_jobs=16)]: Done 400 out of 400 | elapsed:    0.0s finished\n"
     ]
    },
    {
     "name": "stderr",
     "output_type": "stream",
     "text": [
      "[Parallel(n_jobs=-1)]: Using backend LokyBackend with 16 concurrent workers.\n",
      "[Parallel(n_jobs=-1)]: Done   9 tasks      | elapsed:    0.0s\n",
      "[Parallel(n_jobs=-1)]: Done 400 out of 400 | elapsed:    0.0s finished\n",
      "[Parallel(n_jobs=16)]: Using backend ThreadingBackend with 16 concurrent workers.\n",
      "[Parallel(n_jobs=16)]: Done   9 tasks      | elapsed:    0.0s\n",
      "[Parallel(n_jobs=16)]: Done 130 tasks      | elapsed:    0.0s\n",
      "[Parallel(n_jobs=16)]: Done 333 tasks      | elapsed:    0.0s\n",
      "[Parallel(n_jobs=16)]: Done 400 out of 400 | elapsed:    0.0s finished\n",
      "[Parallel(n_jobs=-1)]: Using backend LokyBackend with 16 concurrent workers.\n",
      "[Parallel(n_jobs=-1)]: Done   9 tasks      | elapsed:    0.0s\n",
      "[Parallel(n_jobs=-1)]: Done 400 out of 400 | elapsed:    0.0s finished\n",
      "[Parallel(n_jobs=16)]: Using backend ThreadingBackend with 16 concurrent workers.\n",
      "[Parallel(n_jobs=16)]: Done   9 tasks      | elapsed:    0.0s\n",
      "[Parallel(n_jobs=16)]: Done 130 tasks      | elapsed:    0.0s\n",
      "[Parallel(n_jobs=16)]: Done 333 tasks      | elapsed:    0.0s\n",
      "[Parallel(n_jobs=16)]: Done 400 out of 400 | elapsed:    0.0s finished\n",
      "[Parallel(n_jobs=-1)]: Using backend LokyBackend with 16 concurrent workers.\n",
      "[Parallel(n_jobs=-1)]: Done   9 tasks      | elapsed:    0.0s\n",
      "[Parallel(n_jobs=-1)]: Done 400 out of 400 | elapsed:    0.0s finished\n",
      "[Parallel(n_jobs=16)]: Using backend ThreadingBackend with 16 concurrent workers.\n",
      "[Parallel(n_jobs=16)]: Done   9 tasks      | elapsed:    0.0s\n",
      "[Parallel(n_jobs=16)]: Done 130 tasks      | elapsed:    0.0s\n",
      "[Parallel(n_jobs=16)]: Done 333 tasks      | elapsed:    0.0s\n",
      "[Parallel(n_jobs=16)]: Done 400 out of 400 | elapsed:    0.0s finished\n",
      "[Parallel(n_jobs=-1)]: Using backend LokyBackend with 16 concurrent workers.\n",
      "[Parallel(n_jobs=-1)]: Done  18 tasks      | elapsed:    0.0s\n",
      "[Parallel(n_jobs=-1)]: Done 250 out of 250 | elapsed:    0.0s finished\n",
      "[Parallel(n_jobs=16)]: Using backend ThreadingBackend with 16 concurrent workers.\n",
      "[Parallel(n_jobs=16)]: Done  18 tasks      | elapsed:    0.0s\n",
      "[Parallel(n_jobs=16)]: Done 168 tasks      | elapsed:    0.0s\n",
      "[Parallel(n_jobs=16)]: Done 250 out of 250 | elapsed:    0.0s finished\n",
      "[Parallel(n_jobs=-1)]: Using backend LokyBackend with 16 concurrent workers.\n",
      "[Parallel(n_jobs=-1)]: Done  18 tasks      | elapsed:    0.0s\n",
      "[Parallel(n_jobs=-1)]: Done 250 out of 250 | elapsed:    0.0s finished\n",
      "[Parallel(n_jobs=16)]: Using backend ThreadingBackend with 16 concurrent workers.\n",
      "[Parallel(n_jobs=16)]: Done  18 tasks      | elapsed:    0.0s\n",
      "[Parallel(n_jobs=16)]: Done 168 tasks      | elapsed:    0.0s\n",
      "[Parallel(n_jobs=16)]: Done 250 out of 250 | elapsed:    0.0s finished\n",
      "[Parallel(n_jobs=-1)]: Using backend LokyBackend with 16 concurrent workers.\n",
      "[Parallel(n_jobs=-1)]: Done  18 tasks      | elapsed:    0.0s\n",
      "[Parallel(n_jobs=-1)]: Done 250 out of 250 | elapsed:    0.0s finished\n",
      "[Parallel(n_jobs=16)]: Using backend ThreadingBackend with 16 concurrent workers.\n",
      "[Parallel(n_jobs=16)]: Done  18 tasks      | elapsed:    0.0s\n",
      "[Parallel(n_jobs=16)]: Done 168 tasks      | elapsed:    0.0s\n",
      "[Parallel(n_jobs=16)]: Done 250 out of 250 | elapsed:    0.0s finished\n",
      "[Parallel(n_jobs=-1)]: Using backend LokyBackend with 16 concurrent workers.\n",
      "[Parallel(n_jobs=-1)]: Done  18 tasks      | elapsed:    0.0s\n",
      "[Parallel(n_jobs=-1)]: Done 250 out of 250 | elapsed:    0.0s finished\n",
      "[Parallel(n_jobs=16)]: Using backend ThreadingBackend with 16 concurrent workers.\n",
      "[Parallel(n_jobs=16)]: Done  18 tasks      | elapsed:    0.0s\n",
      "[Parallel(n_jobs=16)]: Done 168 tasks      | elapsed:    0.0s\n",
      "[Parallel(n_jobs=16)]: Done 250 out of 250 | elapsed:    0.0s finished\n",
      "[Parallel(n_jobs=-1)]: Using backend LokyBackend with 16 concurrent workers.\n",
      "[Parallel(n_jobs=-1)]: Done  18 tasks      | elapsed:    0.0s\n",
      "[Parallel(n_jobs=-1)]: Done 250 out of 250 | elapsed:    0.0s finished\n",
      "[Parallel(n_jobs=16)]: Using backend ThreadingBackend with 16 concurrent workers.\n",
      "[Parallel(n_jobs=16)]: Done  18 tasks      | elapsed:    0.0s\n",
      "[Parallel(n_jobs=16)]: Done 168 tasks      | elapsed:    0.0s\n",
      "[Parallel(n_jobs=16)]: Done 250 out of 250 | elapsed:    0.0s finished\n",
      "[Parallel(n_jobs=-1)]: Using backend LokyBackend with 16 concurrent workers.\n",
      "[Parallel(n_jobs=-1)]: Done   3 out of  10 | elapsed:    0.0s remaining:    0.0s\n",
      "[Parallel(n_jobs=-1)]: Done  10 out of  10 | elapsed:    0.0s finished\n",
      "[Parallel(n_jobs=10)]: Using backend ThreadingBackend with 10 concurrent workers.\n",
      "[Parallel(n_jobs=10)]: Done   3 out of  10 | elapsed:    0.0s remaining:    0.0s\n",
      "[Parallel(n_jobs=10)]: Done  10 out of  10 | elapsed:    0.0s finished\n",
      "[Parallel(n_jobs=-1)]: Using backend LokyBackend with 16 concurrent workers.\n",
      "[Parallel(n_jobs=-1)]: Done   3 out of  10 | elapsed:    0.0s remaining:    0.0s\n",
      "[Parallel(n_jobs=-1)]: Done  10 out of  10 | elapsed:    0.0s finished\n",
      "[Parallel(n_jobs=10)]: Using backend ThreadingBackend with 10 concurrent workers.\n",
      "[Parallel(n_jobs=10)]: Done   3 out of  10 | elapsed:    0.0s remaining:    0.0s\n",
      "[Parallel(n_jobs=10)]: Done  10 out of  10 | elapsed:    0.0s finished\n",
      "[Parallel(n_jobs=-1)]: Using backend LokyBackend with 16 concurrent workers.\n",
      "[Parallel(n_jobs=-1)]: Done   3 out of  10 | elapsed:    0.0s remaining:    0.0s\n",
      "[Parallel(n_jobs=-1)]: Done  10 out of  10 | elapsed:    0.0s finished\n",
      "[Parallel(n_jobs=10)]: Using backend ThreadingBackend with 10 concurrent workers.\n",
      "[Parallel(n_jobs=10)]: Done   3 out of  10 | elapsed:    0.0s remaining:    0.0s\n",
      "[Parallel(n_jobs=10)]: Done  10 out of  10 | elapsed:    0.0s finished\n",
      "[Parallel(n_jobs=-1)]: Using backend LokyBackend with 16 concurrent workers.\n",
      "[Parallel(n_jobs=-1)]: Done   3 out of  10 | elapsed:    0.0s remaining:    0.0s\n",
      "[Parallel(n_jobs=-1)]: Done  10 out of  10 | elapsed:    0.0s finished\n",
      "[Parallel(n_jobs=10)]: Using backend ThreadingBackend with 10 concurrent workers.\n",
      "[Parallel(n_jobs=10)]: Done   3 out of  10 | elapsed:    0.0s remaining:    0.0s\n",
      "[Parallel(n_jobs=10)]: Done  10 out of  10 | elapsed:    0.0s finished\n",
      "[Parallel(n_jobs=-1)]: Using backend LokyBackend with 16 concurrent workers.\n",
      "[Parallel(n_jobs=-1)]: Done   3 out of  10 | elapsed:    0.0s remaining:    0.0s\n",
      "[Parallel(n_jobs=-1)]: Done  10 out of  10 | elapsed:    0.0s finished\n",
      "[Parallel(n_jobs=10)]: Using backend ThreadingBackend with 10 concurrent workers.\n",
      "[Parallel(n_jobs=10)]: Done   3 out of  10 | elapsed:    0.0s remaining:    0.0s\n",
      "[Parallel(n_jobs=10)]: Done  10 out of  10 | elapsed:    0.0s finished\n",
      "[Parallel(n_jobs=-1)]: Using backend LokyBackend with 16 concurrent workers.\n",
      "[Parallel(n_jobs=-1)]: Done   3 out of  10 | elapsed:    1.0s remaining:    2.4s\n",
      "[Parallel(n_jobs=-1)]: Using backend LokyBackend with 16 concurrent workers.\n",
      "[Parallel(n_jobs=-1)]: Done   3 out of  10 | elapsed:    0.9s remaining:    2.2s\n",
      "[Parallel(n_jobs=-1)]: Using backend LokyBackend with 16 concurrent workers.\n",
      "[Parallel(n_jobs=-1)]: Done   3 out of  10 | elapsed:    1.0s remaining:    2.4s\n",
      "[Parallel(n_jobs=-1)]: Using backend LokyBackend with 16 concurrent workers.\n",
      "[Parallel(n_jobs=-1)]: Done   3 out of  10 | elapsed:    1.1s remaining:    2.6s\n",
      "[Parallel(n_jobs=-1)]: Using backend LokyBackend with 16 concurrent workers.\n",
      "[Parallel(n_jobs=-1)]: Done   3 out of  10 | elapsed:    0.9s remaining:    2.3s\n",
      "[Parallel(n_jobs=-1)]: Using backend LokyBackend with 16 concurrent workers.\n",
      "[Parallel(n_jobs=-1)]: Using backend LokyBackend with 16 concurrent workers.\n",
      "[Parallel(n_jobs=-1)]: Using backend LokyBackend with 16 concurrent workers.\n",
      "[Parallel(n_jobs=-1)]: Done  18 tasks      | elapsed:    1.2s\n",
      "[Parallel(n_jobs=-1)]: Using backend LokyBackend with 16 concurrent workers.\n",
      "[Parallel(n_jobs=-1)]: Using backend LokyBackend with 16 concurrent workers.\n",
      "[Parallel(n_jobs=-1)]: Using backend LokyBackend with 16 concurrent workers.\n",
      "[Parallel(n_jobs=-1)]: Using backend LokyBackend with 16 concurrent workers.\n",
      "[Parallel(n_jobs=-1)]: Using backend LokyBackend with 16 concurrent workers.\n",
      "[Parallel(n_jobs=-1)]: Using backend LokyBackend with 16 concurrent workers.\n",
      "[Parallel(n_jobs=-1)]: Using backend LokyBackend with 16 concurrent workers.\n",
      "[Parallel(n_jobs=-1)]: Using backend LokyBackend with 16 concurrent workers.\n",
      "[Parallel(n_jobs=-1)]: Using backend LokyBackend with 16 concurrent workers.\n",
      "[Parallel(n_jobs=-1)]: Using backend LokyBackend with 16 concurrent workers.\n"
     ]
    },
    {
     "name": "stderr",
     "output_type": "stream",
     "text": [
      "[Parallel(n_jobs=-1)]: Using backend LokyBackend with 16 concurrent workers.\n",
      "[Parallel(n_jobs=-1)]: Using backend LokyBackend with 16 concurrent workers.\n",
      "[Parallel(n_jobs=-1)]: Using backend LokyBackend with 16 concurrent workers.\n",
      "[Parallel(n_jobs=-1)]: Using backend LokyBackend with 16 concurrent workers.\n",
      "[Parallel(n_jobs=-1)]: Done   9 tasks      | elapsed:    1.2s\n",
      "[Parallel(n_jobs=-1)]: Using backend LokyBackend with 16 concurrent workers.\n",
      "[Parallel(n_jobs=-1)]: Using backend LokyBackend with 16 concurrent workers.\n",
      "[Parallel(n_jobs=-1)]: Done   9 tasks      | elapsed:    1.3s\n",
      "[Parallel(n_jobs=-1)]: Using backend LokyBackend with 16 concurrent workers.\n",
      "[Parallel(n_jobs=-1)]: Done   9 tasks      | elapsed:    1.2s\n",
      "[Parallel(n_jobs=-1)]: Using backend LokyBackend with 16 concurrent workers.\n",
      "[Parallel(n_jobs=-1)]: Using backend LokyBackend with 16 concurrent workers.\n",
      "[Parallel(n_jobs=-1)]: Using backend LokyBackend with 16 concurrent workers.\n",
      "[Parallel(n_jobs=-1)]: Done  18 tasks      | elapsed:    1.2s\n",
      "[Parallel(n_jobs=-1)]: Using backend LokyBackend with 16 concurrent workers.\n",
      "[Parallel(n_jobs=-1)]: Using backend LokyBackend with 16 concurrent workers.\n",
      "[Parallel(n_jobs=-1)]: Using backend LokyBackend with 16 concurrent workers.\n",
      "[Parallel(n_jobs=-1)]: Done  18 tasks      | elapsed:    1.2s\n",
      "[Parallel(n_jobs=-1)]: Done 520 tasks      | elapsed:    1.4s\n",
      "[Parallel(n_jobs=-1)]: Done 600 out of 600 | elapsed:    1.4s finished\n",
      "[Parallel(n_jobs=16)]: Using backend ThreadingBackend with 16 concurrent workers.\n",
      "[Parallel(n_jobs=16)]: Done  18 tasks      | elapsed:    0.0s\n",
      "[Parallel(n_jobs=16)]: Done 168 tasks      | elapsed:    0.0s\n",
      "[Parallel(n_jobs=16)]: Done 418 tasks      | elapsed:    0.0s\n",
      "[Parallel(n_jobs=16)]: Done 600 out of 600 | elapsed:    0.0s finished\n",
      "[Parallel(n_jobs=-1)]: Using backend LokyBackend with 16 concurrent workers.\n",
      "[Parallel(n_jobs=-1)]: Done  18 tasks      | elapsed:    0.0s\n",
      "[Parallel(n_jobs=-1)]: Done 520 tasks      | elapsed:    0.0s\n",
      "[Parallel(n_jobs=-1)]: Done 600 out of 600 | elapsed:    0.1s finished\n",
      "[Parallel(n_jobs=16)]: Using backend ThreadingBackend with 16 concurrent workers.\n",
      "[Parallel(n_jobs=16)]: Done  18 tasks      | elapsed:    0.0s\n",
      "[Parallel(n_jobs=16)]: Done 168 tasks      | elapsed:    0.0s\n",
      "[Parallel(n_jobs=16)]: Done 418 tasks      | elapsed:    0.0s\n",
      "[Parallel(n_jobs=16)]: Done 600 out of 600 | elapsed:    0.0s finished\n",
      "[Parallel(n_jobs=-1)]: Using backend LokyBackend with 16 concurrent workers.\n",
      "[Parallel(n_jobs=-1)]: Done  18 tasks      | elapsed:    0.0s\n",
      "[Parallel(n_jobs=-1)]: Done 520 tasks      | elapsed:    0.0s\n",
      "[Parallel(n_jobs=-1)]: Done 600 out of 600 | elapsed:    0.1s finished\n",
      "[Parallel(n_jobs=16)]: Using backend ThreadingBackend with 16 concurrent workers.\n",
      "[Parallel(n_jobs=16)]: Done  18 tasks      | elapsed:    0.0s\n",
      "[Parallel(n_jobs=16)]: Done 168 tasks      | elapsed:    0.0s\n",
      "[Parallel(n_jobs=16)]: Done 418 tasks      | elapsed:    0.0s\n",
      "[Parallel(n_jobs=16)]: Done 600 out of 600 | elapsed:    0.0s finished\n",
      "[Parallel(n_jobs=-1)]: Using backend LokyBackend with 16 concurrent workers.\n",
      "[Parallel(n_jobs=-1)]: Done  18 tasks      | elapsed:    0.0s\n",
      "[Parallel(n_jobs=-1)]: Done 520 tasks      | elapsed:    0.0s\n",
      "[Parallel(n_jobs=-1)]: Done 600 out of 600 | elapsed:    0.1s finished\n",
      "[Parallel(n_jobs=16)]: Using backend ThreadingBackend with 16 concurrent workers.\n",
      "[Parallel(n_jobs=16)]: Done  18 tasks      | elapsed:    0.0s\n",
      "[Parallel(n_jobs=16)]: Done 168 tasks      | elapsed:    0.0s\n",
      "[Parallel(n_jobs=16)]: Done 418 tasks      | elapsed:    0.0s\n",
      "[Parallel(n_jobs=16)]: Done 600 out of 600 | elapsed:    0.0s finished\n",
      "[Parallel(n_jobs=-1)]: Using backend LokyBackend with 16 concurrent workers.\n",
      "[Parallel(n_jobs=-1)]: Done  18 tasks      | elapsed:    0.0s\n",
      "[Parallel(n_jobs=-1)]: Done 520 tasks      | elapsed:    0.0s\n",
      "[Parallel(n_jobs=-1)]: Done 600 out of 600 | elapsed:    0.1s finished\n",
      "[Parallel(n_jobs=16)]: Using backend ThreadingBackend with 16 concurrent workers.\n",
      "[Parallel(n_jobs=16)]: Done  18 tasks      | elapsed:    0.0s\n",
      "[Parallel(n_jobs=16)]: Done 168 tasks      | elapsed:    0.0s\n",
      "[Parallel(n_jobs=16)]: Done 418 tasks      | elapsed:    0.0s\n",
      "[Parallel(n_jobs=16)]: Done 600 out of 600 | elapsed:    0.0s finished\n",
      "[Parallel(n_jobs=-1)]: Using backend LokyBackend with 16 concurrent workers.\n",
      "[Parallel(n_jobs=-1)]: Using backend LokyBackend with 16 concurrent workers.\n",
      "[Parallel(n_jobs=-1)]: Using backend LokyBackend with 16 concurrent workers.\n",
      "[Parallel(n_jobs=-1)]: Using backend LokyBackend with 16 concurrent workers.\n",
      "[Parallel(n_jobs=-1)]: Using backend LokyBackend with 16 concurrent workers.\n",
      "[Parallel(n_jobs=-1)]: Using backend LokyBackend with 16 concurrent workers.\n",
      "[Parallel(n_jobs=-1)]: Using backend LokyBackend with 16 concurrent workers.\n",
      "[Parallel(n_jobs=-1)]: Using backend LokyBackend with 16 concurrent workers.\n",
      "[Parallel(n_jobs=-1)]: Using backend LokyBackend with 16 concurrent workers.\n",
      "[Parallel(n_jobs=-1)]: Using backend LokyBackend with 16 concurrent workers.\n",
      "[Parallel(n_jobs=-1)]: Using backend LokyBackend with 16 concurrent workers.\n",
      "[Parallel(n_jobs=-1)]: Using backend LokyBackend with 16 concurrent workers.\n",
      "[Parallel(n_jobs=-1)]: Done  18 tasks      | elapsed:    1.2s\n",
      "[Parallel(n_jobs=-1)]: Using backend LokyBackend with 16 concurrent workers.\n",
      "[Parallel(n_jobs=-1)]: Using backend LokyBackend with 16 concurrent workers.\n",
      "[Parallel(n_jobs=-1)]: Done  18 tasks      | elapsed:    1.3s\n",
      "[Parallel(n_jobs=-1)]: Using backend LokyBackend with 16 concurrent workers.\n",
      "[Parallel(n_jobs=-1)]: Using backend LokyBackend with 16 concurrent workers.\n",
      "[Parallel(n_jobs=-1)]: Done  10 out of  10 | elapsed:    1.1s finished\n",
      "[Parallel(n_jobs=10)]: Using backend ThreadingBackend with 10 concurrent workers.\n",
      "[Parallel(n_jobs=10)]: Done   2 out of  10 | elapsed:    0.0s remaining:    0.0s\n",
      "[Parallel(n_jobs=10)]: Done  10 out of  10 | elapsed:    0.0s finished\n",
      "[Parallel(n_jobs=-1)]: Using backend LokyBackend with 16 concurrent workers.\n",
      "[Parallel(n_jobs=-1)]: Done  10 out of  10 | elapsed:    0.4s finished\n",
      "[Parallel(n_jobs=10)]: Using backend ThreadingBackend with 10 concurrent workers.\n",
      "[Parallel(n_jobs=10)]: Done   2 out of  10 | elapsed:    0.0s remaining:    0.0s\n",
      "[Parallel(n_jobs=10)]: Done  10 out of  10 | elapsed:    0.0s finished\n",
      "[Parallel(n_jobs=-1)]: Using backend LokyBackend with 16 concurrent workers.\n",
      "[Parallel(n_jobs=-1)]: Done  10 out of  10 | elapsed:    0.0s finished\n",
      "[Parallel(n_jobs=10)]: Using backend ThreadingBackend with 10 concurrent workers.\n",
      "[Parallel(n_jobs=10)]: Done   2 out of  10 | elapsed:    0.0s remaining:    0.0s\n",
      "[Parallel(n_jobs=10)]: Done  10 out of  10 | elapsed:    0.0s finished\n",
      "[Parallel(n_jobs=-1)]: Using backend LokyBackend with 16 concurrent workers.\n",
      "[Parallel(n_jobs=-1)]: Done  10 out of  10 | elapsed:    0.0s finished\n",
      "[Parallel(n_jobs=10)]: Using backend ThreadingBackend with 10 concurrent workers.\n",
      "[Parallel(n_jobs=10)]: Done   2 out of  10 | elapsed:    0.0s remaining:    0.0s\n",
      "[Parallel(n_jobs=10)]: Done  10 out of  10 | elapsed:    0.0s finished\n",
      "[Parallel(n_jobs=-1)]: Using backend LokyBackend with 16 concurrent workers.\n",
      "[Parallel(n_jobs=-1)]: Done  10 out of  10 | elapsed:    0.0s finished\n",
      "[Parallel(n_jobs=10)]: Using backend ThreadingBackend with 10 concurrent workers.\n",
      "[Parallel(n_jobs=10)]: Done   2 out of  10 | elapsed:    0.0s remaining:    0.0s\n",
      "[Parallel(n_jobs=10)]: Done  10 out of  10 | elapsed:    0.0s finished\n",
      "[Parallel(n_jobs=-1)]: Using backend LokyBackend with 16 concurrent workers.\n",
      "[Parallel(n_jobs=-1)]: Done  18 tasks      | elapsed:    0.0s\n",
      "[Parallel(n_jobs=-1)]: Done 250 out of 250 | elapsed:    0.0s finished\n",
      "[Parallel(n_jobs=16)]: Using backend ThreadingBackend with 16 concurrent workers.\n",
      "[Parallel(n_jobs=16)]: Done  18 tasks      | elapsed:    0.0s\n",
      "[Parallel(n_jobs=16)]: Done 168 tasks      | elapsed:    0.0s\n",
      "[Parallel(n_jobs=16)]: Done 250 out of 250 | elapsed:    0.0s finished\n",
      "[Parallel(n_jobs=-1)]: Using backend LokyBackend with 16 concurrent workers.\n",
      "[Parallel(n_jobs=-1)]: Done  18 tasks      | elapsed:    0.0s\n",
      "[Parallel(n_jobs=-1)]: Done 250 out of 250 | elapsed:    0.0s finished\n",
      "[Parallel(n_jobs=16)]: Using backend ThreadingBackend with 16 concurrent workers.\n",
      "[Parallel(n_jobs=16)]: Done  18 tasks      | elapsed:    0.0s\n",
      "[Parallel(n_jobs=16)]: Done 168 tasks      | elapsed:    0.0s\n"
     ]
    },
    {
     "name": "stderr",
     "output_type": "stream",
     "text": [
      "[Parallel(n_jobs=16)]: Done 250 out of 250 | elapsed:    0.0s finished\n",
      "[Parallel(n_jobs=-1)]: Using backend LokyBackend with 16 concurrent workers.\n",
      "[Parallel(n_jobs=-1)]: Done  18 tasks      | elapsed:    0.0s\n",
      "[Parallel(n_jobs=-1)]: Done 250 out of 250 | elapsed:    0.0s finished\n",
      "[Parallel(n_jobs=16)]: Using backend ThreadingBackend with 16 concurrent workers.\n",
      "[Parallel(n_jobs=16)]: Done  18 tasks      | elapsed:    0.0s\n",
      "[Parallel(n_jobs=16)]: Done 168 tasks      | elapsed:    0.0s\n",
      "[Parallel(n_jobs=16)]: Done 250 out of 250 | elapsed:    0.0s finished\n",
      "[Parallel(n_jobs=-1)]: Using backend LokyBackend with 16 concurrent workers.\n",
      "[Parallel(n_jobs=-1)]: Done  18 tasks      | elapsed:    0.0s\n",
      "[Parallel(n_jobs=-1)]: Done 250 out of 250 | elapsed:    0.0s finished\n",
      "[Parallel(n_jobs=16)]: Using backend ThreadingBackend with 16 concurrent workers.\n",
      "[Parallel(n_jobs=16)]: Done  18 tasks      | elapsed:    0.0s\n",
      "[Parallel(n_jobs=16)]: Done 168 tasks      | elapsed:    0.0s\n",
      "[Parallel(n_jobs=16)]: Done 250 out of 250 | elapsed:    0.0s finished\n",
      "[Parallel(n_jobs=-1)]: Using backend LokyBackend with 16 concurrent workers.\n",
      "[Parallel(n_jobs=-1)]: Done  18 tasks      | elapsed:    0.0s\n",
      "[Parallel(n_jobs=-1)]: Done 250 out of 250 | elapsed:    0.0s finished\n",
      "[Parallel(n_jobs=16)]: Using backend ThreadingBackend with 16 concurrent workers.\n",
      "[Parallel(n_jobs=16)]: Done  18 tasks      | elapsed:    0.0s\n",
      "[Parallel(n_jobs=16)]: Done 168 tasks      | elapsed:    0.0s\n",
      "[Parallel(n_jobs=16)]: Done 250 out of 250 | elapsed:    0.0s finished\n",
      "[Parallel(n_jobs=-1)]: Using backend LokyBackend with 16 concurrent workers.\n",
      "[Parallel(n_jobs=-1)]: Done  10 out of  10 | elapsed:    1.0s finished\n",
      "[Parallel(n_jobs=10)]: Using backend ThreadingBackend with 10 concurrent workers.\n",
      "[Parallel(n_jobs=10)]: Done   2 out of  10 | elapsed:    0.0s remaining:    0.0s\n",
      "[Parallel(n_jobs=10)]: Done  10 out of  10 | elapsed:    0.0s finished\n",
      "[Parallel(n_jobs=-1)]: Using backend LokyBackend with 16 concurrent workers.\n",
      "[Parallel(n_jobs=-1)]: Done  10 out of  10 | elapsed:    0.4s finished\n",
      "[Parallel(n_jobs=10)]: Using backend ThreadingBackend with 10 concurrent workers.\n",
      "[Parallel(n_jobs=10)]: Done   2 out of  10 | elapsed:    0.0s remaining:    0.0s\n",
      "[Parallel(n_jobs=10)]: Done  10 out of  10 | elapsed:    0.0s finished\n",
      "[Parallel(n_jobs=-1)]: Using backend LokyBackend with 16 concurrent workers.\n",
      "[Parallel(n_jobs=-1)]: Done  10 out of  10 | elapsed:    0.0s finished\n",
      "[Parallel(n_jobs=10)]: Using backend ThreadingBackend with 10 concurrent workers.\n",
      "[Parallel(n_jobs=10)]: Done   2 out of  10 | elapsed:    0.0s remaining:    0.0s\n",
      "[Parallel(n_jobs=10)]: Done  10 out of  10 | elapsed:    0.0s finished\n",
      "[Parallel(n_jobs=-1)]: Using backend LokyBackend with 16 concurrent workers.\n",
      "[Parallel(n_jobs=-1)]: Done  10 out of  10 | elapsed:    0.0s finished\n",
      "[Parallel(n_jobs=10)]: Using backend ThreadingBackend with 10 concurrent workers.\n",
      "[Parallel(n_jobs=10)]: Done   2 out of  10 | elapsed:    0.0s remaining:    0.0s\n",
      "[Parallel(n_jobs=10)]: Done  10 out of  10 | elapsed:    0.0s finished\n",
      "[Parallel(n_jobs=-1)]: Using backend LokyBackend with 16 concurrent workers.\n",
      "[Parallel(n_jobs=-1)]: Done  10 out of  10 | elapsed:    0.0s finished\n",
      "[Parallel(n_jobs=10)]: Using backend ThreadingBackend with 10 concurrent workers.\n",
      "[Parallel(n_jobs=10)]: Done   2 out of  10 | elapsed:    0.0s remaining:    0.0s\n",
      "[Parallel(n_jobs=10)]: Done  10 out of  10 | elapsed:    0.0s finished\n",
      "[Parallel(n_jobs=-1)]: Using backend LokyBackend with 16 concurrent workers.\n",
      "[Parallel(n_jobs=-1)]: Done   9 tasks      | elapsed:    0.0s\n",
      "[Parallel(n_jobs=-1)]: Done 250 out of 250 | elapsed:    0.0s finished\n",
      "[Parallel(n_jobs=16)]: Using backend ThreadingBackend with 16 concurrent workers.\n",
      "[Parallel(n_jobs=16)]: Done   9 tasks      | elapsed:    0.0s\n",
      "[Parallel(n_jobs=16)]: Done 130 tasks      | elapsed:    0.0s\n",
      "[Parallel(n_jobs=16)]: Done 250 out of 250 | elapsed:    0.0s finished\n",
      "[Parallel(n_jobs=-1)]: Using backend LokyBackend with 16 concurrent workers.\n",
      "[Parallel(n_jobs=-1)]: Done   9 tasks      | elapsed:    0.0s\n",
      "[Parallel(n_jobs=-1)]: Done 250 out of 250 | elapsed:    0.0s finished\n",
      "[Parallel(n_jobs=16)]: Using backend ThreadingBackend with 16 concurrent workers.\n",
      "[Parallel(n_jobs=16)]: Done   9 tasks      | elapsed:    0.0s\n",
      "[Parallel(n_jobs=16)]: Done 130 tasks      | elapsed:    0.0s\n",
      "[Parallel(n_jobs=16)]: Done 250 out of 250 | elapsed:    0.0s finished\n",
      "[Parallel(n_jobs=-1)]: Using backend LokyBackend with 16 concurrent workers.\n",
      "[Parallel(n_jobs=-1)]: Done   9 tasks      | elapsed:    0.0s\n",
      "[Parallel(n_jobs=-1)]: Done 250 out of 250 | elapsed:    0.0s finished\n",
      "[Parallel(n_jobs=16)]: Using backend ThreadingBackend with 16 concurrent workers.\n",
      "[Parallel(n_jobs=16)]: Done   9 tasks      | elapsed:    0.0s\n",
      "[Parallel(n_jobs=16)]: Done 130 tasks      | elapsed:    0.0s\n",
      "[Parallel(n_jobs=16)]: Done 250 out of 250 | elapsed:    0.0s finished\n",
      "[Parallel(n_jobs=-1)]: Using backend LokyBackend with 16 concurrent workers.\n",
      "[Parallel(n_jobs=-1)]: Done   9 tasks      | elapsed:    0.0s\n",
      "[Parallel(n_jobs=-1)]: Done 250 out of 250 | elapsed:    0.0s finished\n",
      "[Parallel(n_jobs=16)]: Using backend ThreadingBackend with 16 concurrent workers.\n",
      "[Parallel(n_jobs=16)]: Done   9 tasks      | elapsed:    0.0s\n",
      "[Parallel(n_jobs=16)]: Done 130 tasks      | elapsed:    0.0s\n",
      "[Parallel(n_jobs=16)]: Done 250 out of 250 | elapsed:    0.0s finished\n",
      "[Parallel(n_jobs=-1)]: Using backend LokyBackend with 16 concurrent workers.\n",
      "[Parallel(n_jobs=-1)]: Done   9 tasks      | elapsed:    0.0s\n"
     ]
    },
    {
     "name": "stdout",
     "output_type": "stream",
     "text": [
      "building tree 1 of 10\n",
      "building tree 2 of 10\n",
      "building tree 3 of 10\n",
      "building tree 4 of 10\n",
      "building tree 5 of 10\n",
      "building tree 6 of 10\n",
      "building tree 7 of 10\n",
      "building tree 8 of 10\n",
      "building tree 9 of 10\n",
      "building tree 10 of 10\n"
     ]
    },
    {
     "name": "stderr",
     "output_type": "stream",
     "text": [
      "[Parallel(n_jobs=-1)]: Done 250 out of 250 | elapsed:    0.0s finished\n",
      "[Parallel(n_jobs=16)]: Using backend ThreadingBackend with 16 concurrent workers.\n",
      "[Parallel(n_jobs=16)]: Done   9 tasks      | elapsed:    0.0s\n",
      "[Parallel(n_jobs=16)]: Done 130 tasks      | elapsed:    0.0s\n",
      "[Parallel(n_jobs=16)]: Done 250 out of 250 | elapsed:    0.0s finished\n",
      "[Parallel(n_jobs=-1)]: Using backend ThreadingBackend with 16 concurrent workers.\n",
      "[Parallel(n_jobs=-1)]: Done   3 out of  10 | elapsed:    0.0s remaining:    0.0s\n",
      "[Parallel(n_jobs=-1)]: Done  10 out of  10 | elapsed:    0.0s finished\n",
      "[Parallel(n_jobs=10)]: Using backend ThreadingBackend with 10 concurrent workers.\n",
      "[Parallel(n_jobs=10)]: Done   3 out of  10 | elapsed:    0.0s remaining:    0.0s\n",
      "[Parallel(n_jobs=10)]: Done  10 out of  10 | elapsed:    0.0s finished\n"
     ]
    }
   ],
   "source": [
    "RF_grid = RandomizedSearchCV(RandomPipeline,hyper_params,scoring='accuracy',n_iter=40)\n",
    "RF_grid.fit(X_train,y_train)\n",
    "ypred = RF_grid.predict(X_test)"
   ]
  },
  {
   "cell_type": "code",
   "execution_count": 34,
   "id": "71333729",
   "metadata": {},
   "outputs": [
    {
     "name": "stderr",
     "output_type": "stream",
     "text": [
      "[Parallel(n_jobs=10)]: Using backend ThreadingBackend with 10 concurrent workers.\n",
      "[Parallel(n_jobs=10)]: Done   3 out of  10 | elapsed:    0.0s remaining:    0.0s\n",
      "[Parallel(n_jobs=10)]: Done  10 out of  10 | elapsed:    0.0s finished\n"
     ]
    }
   ],
   "source": [
    "ypred_RF = RF_grid.predict(X_test)"
   ]
  },
  {
   "cell_type": "code",
   "execution_count": 35,
   "id": "fab1727d",
   "metadata": {
    "execution": {
     "iopub.execute_input": "2021-08-27T11:36:20.544410Z",
     "iopub.status.busy": "2021-08-27T11:36:20.543826Z",
     "iopub.status.idle": "2021-08-27T11:36:20.551559Z",
     "shell.execute_reply": "2021-08-27T11:36:20.551102Z",
     "shell.execute_reply.started": "2021-08-25T22:32:37.284015Z"
    },
    "papermill": {
     "duration": 0.371581,
     "end_time": "2021-08-27T11:36:20.551702",
     "exception": false,
     "start_time": "2021-08-27T11:36:20.180121",
     "status": "completed"
    },
    "tags": []
   },
   "outputs": [
    {
     "name": "stdout",
     "output_type": "stream",
     "text": [
      "              precision    recall  f1-score   support\n",
      "\n",
      "           0       0.92      0.90      0.91        40\n",
      "           1       0.94      0.95      0.95        64\n",
      "\n",
      "    accuracy                           0.93       104\n",
      "   macro avg       0.93      0.93      0.93       104\n",
      "weighted avg       0.93      0.93      0.93       104\n",
      "\n",
      "0.9326923076923077\n"
     ]
    }
   ],
   "source": [
    "print(classification_report(y_test,ypred_RF))\n",
    "print(accuracy_score(y_test, ypred_RF))"
   ]
  },
  {
   "cell_type": "code",
   "execution_count": 36,
   "id": "46534cf5",
   "metadata": {},
   "outputs": [
    {
     "name": "stdout",
     "output_type": "stream",
     "text": [
      "ACCURACY OF THE MODEL:  0.9326923076923077\n",
      "Recall score of the model:  0.953125\n",
      "precision of the model:  0.9384615384615385\n"
     ]
    }
   ],
   "source": [
    "print(\"ACCURACY OF THE MODEL: \", accuracy_score(y_test, ypred_RF))\n",
    "print(\"Recall score of the model: \", recall_score(y_test, ypred_RF))\n",
    "print(\"precision of the model: \", precision_score(y_test, ypred_RF))"
   ]
  },
  {
   "cell_type": "code",
   "execution_count": 37,
   "id": "f239a011",
   "metadata": {},
   "outputs": [],
   "source": [
    "def multiclass_roc_auc_score(y_test, ypred_RF, average=\"macro\"):\n",
    "    lb = LabelBinarizer()\n",
    "    lb.fit(y_test)\n",
    "    y_test = lb.transform(y_test)\n",
    "    y_pred = lb.transform(ypred_RF)\n",
    "    return roc_auc_score(y_test, ypred_RF, average=average)"
   ]
  },
  {
   "cell_type": "code",
   "execution_count": 38,
   "id": "8463bcf7",
   "metadata": {},
   "outputs": [
    {
     "name": "stdout",
     "output_type": "stream",
     "text": [
      "0.9265625\n"
     ]
    }
   ],
   "source": [
    "print(multiclass_roc_auc_score(y_test, ypred_RF))"
   ]
  },
  {
   "cell_type": "code",
   "execution_count": 39,
   "id": "a509600f",
   "metadata": {},
   "outputs": [
    {
     "data": {
      "text/plain": [
       "Text(0.5, 15.0, 'Predicted label')"
      ]
     },
     "execution_count": 39,
     "metadata": {},
     "output_type": "execute_result"
    },
    {
     "data": {
      "image/png": "[encoded data removed]",
      "text/plain": [
       "<Figure size 432x288 with 2 Axes>"
      ]
     },
     "metadata": {
      "needs_background": "light"
     },
     "output_type": "display_data"
    }
   ],
   "source": [
    "from sklearn import metrics\n",
    "import seaborn as sns\n",
    "cnf_matrix = metrics.confusion_matrix(y_test, ypred_RF)\n",
    "p = sns.heatmap(pd.DataFrame(cnf_matrix), annot=True, cmap=\"YlGnBu\" ,fmt='g')\n",
    "plt.title('Confusion matrix', y=1.1)\n",
    "plt.ylabel('Actual label')\n",
    "plt.xlabel('Predicted label')"
   ]
  },
  {
   "cell_type": "markdown",
   "id": "f9470863",
   "metadata": {
    "papermill": {
     "duration": 0.353648,
     "end_time": "2021-08-27T11:36:21.258059",
     "exception": false,
     "start_time": "2021-08-27T11:36:20.904411",
     "status": "completed"
    },
    "tags": []
   },
   "source": [
    "## Using KNN"
   ]
  },
  {
   "cell_type": "code",
   "execution_count": 40,
   "id": "6f92bf13",
   "metadata": {},
   "outputs": [],
   "source": [
    "knn_start_time = time.time()"
   ]
  },
  {
   "cell_type": "code",
   "execution_count": 41,
   "id": "9286030f",
   "metadata": {
    "execution": {
     "iopub.execute_input": "2021-08-27T11:36:22.020576Z",
     "iopub.status.busy": "2021-08-27T11:36:22.019931Z",
     "iopub.status.idle": "2021-08-27T11:36:22.475820Z",
     "shell.execute_reply": "2021-08-27T11:36:22.476324Z",
     "shell.execute_reply.started": "2021-08-25T22:36:36.655141Z"
    },
    "papermill": {
     "duration": 0.867049,
     "end_time": "2021-08-27T11:36:22.476507",
     "exception": false,
     "start_time": "2021-08-27T11:36:21.609458",
     "status": "completed"
    },
    "tags": []
   },
   "outputs": [
    {
     "data": {
      "text/plain": [
       "Text(0, 0.5, 'Mean Err')"
      ]
     },
     "execution_count": 41,
     "metadata": {},
     "output_type": "execute_result"
    },
    {
     "data": {
      "image/png": "[encoded data removed]",
      "text/plain": [
       "<Figure size 720x576 with 1 Axes>"
      ]
     },
     "metadata": {
      "needs_background": "light"
     },
     "output_type": "display_data"
    }
   ],
   "source": [
    "err = []\n",
    "  \n",
    "for i in range(1, 40):\n",
    "    \n",
    "    model = make_pipeline(preprocessor,KNeighborsClassifier(n_neighbors = i))\n",
    "    model.fit(X_train, y_train)\n",
    "    pred_i = model.predict(X_test)\n",
    "    err.append(np.mean(pred_i != y_test))\n",
    "  \n",
    "plt.figure(figsize =(10, 8))\n",
    "plt.plot(range(1, 40), err, color ='blue',\n",
    "                linestyle ='dashed', marker ='o',\n",
    "         markerfacecolor ='blue', markersize = 8)\n",
    "  \n",
    "plt.title('Mean Err = f(K)')\n",
    "plt.xlabel('K')\n",
    "plt.ylabel('Mean Err')"
   ]
  },
  {
   "cell_type": "code",
   "execution_count": 42,
   "id": "29aa9ad8",
   "metadata": {
    "execution": {
     "iopub.execute_input": "2021-08-27T11:36:23.188075Z",
     "iopub.status.busy": "2021-08-27T11:36:23.187464Z",
     "iopub.status.idle": "2021-08-27T11:36:23.203040Z",
     "shell.execute_reply": "2021-08-27T11:36:23.203725Z",
     "shell.execute_reply.started": "2021-08-25T22:36:39.613394Z"
    },
    "papermill": {
     "duration": 0.374066,
     "end_time": "2021-08-27T11:36:23.203944",
     "exception": false,
     "start_time": "2021-08-27T11:36:22.829878",
     "status": "completed"
    },
    "tags": []
   },
   "outputs": [
    {
     "name": "stdout",
     "output_type": "stream",
     "text": [
      "KNN :  0.9038461538461539\n"
     ]
    }
   ],
   "source": [
    "KNNPipeline = make_pipeline(preprocessor,KNeighborsClassifier(n_neighbors = 34))\n",
    "KNNPipeline.fit(X_train, y_train)\n",
    "y_proba = KNNPipeline.predict_proba(X_test)\n",
    "ypred_KNN = np.argmax(y_proba,axis=1)\n",
    "print(\"KNN : \", accuracy_score(y_test, ypred_KNN))"
   ]
  },
  {
   "cell_type": "code",
   "execution_count": 43,
   "id": "299de962",
   "metadata": {},
   "outputs": [
    {
     "name": "stdout",
     "output_type": "stream",
     "text": [
      "ACCURACY OF THE MODEL:  0.9038461538461539\n",
      "Recall score of the model:  0.859375\n",
      "precision of the model:  0.9821428571428571\n"
     ]
    }
   ],
   "source": [
    "print(\"ACCURACY OF THE MODEL: \", accuracy_score(y_test, ypred_KNN))\n",
    "print(\"Recall score of the model: \", recall_score(y_test, ypred_KNN))\n",
    "print(\"precision of the model: \", precision_score(y_test, ypred_KNN))"
   ]
  },
  {
   "cell_type": "code",
   "execution_count": 44,
   "id": "fa0c9d0e",
   "metadata": {},
   "outputs": [
    {
     "data": {
      "text/plain": [
       "Text(0.5, 15.0, 'Predicted label')"
      ]
     },
     "execution_count": 44,
     "metadata": {},
     "output_type": "execute_result"
    },
    {
     "data": {
      "image/png": "[encoded data removed]",
      "text/plain": [
       "<Figure size 432x288 with 2 Axes>"
      ]
     },
     "metadata": {
      "needs_background": "light"
     },
     "output_type": "display_data"
    }
   ],
   "source": [
    "from sklearn import metrics\n",
    "import seaborn as sns\n",
    "cnf_matrix = metrics.confusion_matrix(y_test, ypred_KNN)\n",
    "p = sns.heatmap(pd.DataFrame(cnf_matrix), annot=True, cmap=\"YlGnBu\" ,fmt='g')\n",
    "plt.title('Confusion matrix', y=1.1)\n",
    "plt.ylabel('Actual label')\n",
    "plt.xlabel('Predicted label')"
   ]
  },
  {
   "cell_type": "code",
   "execution_count": 45,
   "id": "bace4660",
   "metadata": {},
   "outputs": [
    {
     "name": "stdout",
     "output_type": "stream",
     "text": [
      "Time taken in mins: 0.007036761442820231\n",
      "Time taken in hours: 0.00011727935738033718\n"
     ]
    }
   ],
   "source": [
    "# store end time\n",
    "end_knn = time.time()\n",
    "time_tkn_knn = end_knn-knn_start_time\n",
    "print('Time taken in mins:',time_tkn_knn/(60))\n",
    "print('Time taken in hours:',time_tkn_knn/(60*60))"
   ]
  },
  {
   "cell_type": "markdown",
   "id": "5c4e1dfb",
   "metadata": {
    "papermill": {
     "duration": 0.359968,
     "end_time": "2021-08-27T11:36:23.925030",
     "exception": false,
     "start_time": "2021-08-27T11:36:23.565062",
     "status": "completed"
    },
    "tags": []
   },
   "source": [
    "## Using XGBoost"
   ]
  },
  {
   "cell_type": "code",
   "execution_count": 46,
   "id": "ca877ccb",
   "metadata": {},
   "outputs": [],
   "source": [
    "XG_start_time = time.time()"
   ]
  },
  {
   "cell_type": "code",
   "execution_count": 47,
   "id": "462203fb",
   "metadata": {
    "execution": {
     "iopub.execute_input": "2021-08-27T11:36:24.638767Z",
     "iopub.status.busy": "2021-08-27T11:36:24.637967Z",
     "iopub.status.idle": "2021-08-27T11:36:42.565476Z",
     "shell.execute_reply": "2021-08-27T11:36:42.566217Z",
     "shell.execute_reply.started": "2021-08-25T22:32:37.881875Z"
    },
    "papermill": {
     "duration": 18.288235,
     "end_time": "2021-08-27T11:36:42.566384",
     "exception": false,
     "start_time": "2021-08-27T11:36:24.278149",
     "status": "completed"
    },
    "tags": []
   },
   "outputs": [
    {
     "name": "stdout",
     "output_type": "stream",
     "text": [
      "Accuracy =  0.9423076923076923\n",
      "-\n",
      "[[37  3]\n",
      " [ 3 61]]\n",
      "-\n",
      "              precision    recall  f1-score   support\n",
      "\n",
      "           0       0.93      0.93      0.93        40\n",
      "           1       0.95      0.95      0.95        64\n",
      "\n",
      "    accuracy                           0.94       104\n",
      "   macro avg       0.94      0.94      0.94       104\n",
      "weighted avg       0.94      0.94      0.94       104\n",
      "\n",
      "-\n",
      "ACCURACY OF THE MODEL:  0.9423076923076923\n",
      "Recall score of the model:  0.953125\n",
      "precision of the model:  0.953125\n"
     ]
    },
    {
     "data": {
      "image/png": "[encoded data removed]",
      "text/plain": [
       "<Figure size 360x360 with 1 Axes>"
      ]
     },
     "metadata": {
      "needs_background": "light"
     },
     "output_type": "display_data"
    }
   ],
   "source": [
    "import xgboost as xgb\n",
    "gbm = xgb.XGBClassifier(\n",
    "     learning_rate = 0.02,\n",
    "     n_estimators= 2000,\n",
    "     max_depth= 4,\n",
    "     min_child_weight= 2,\n",
    "     #gamma=1,\n",
    "     gamma=0.9,                        \n",
    "     subsample=0.8,\n",
    "     colsample_bytree=0.8,\n",
    "     objective= 'binary:logistic',\n",
    "     eval_metric = 'logloss',\n",
    "     nthread= -1,\n",
    "     scale_pos_weight=1).fit(X_train, y_train)\n",
    "evaluation (gbm)"
   ]
  },
  {
   "cell_type": "code",
   "execution_count": 48,
   "id": "dc8ed550",
   "metadata": {},
   "outputs": [],
   "source": [
    "ypred_XG=gbm.predict(X_test)"
   ]
  },
  {
   "cell_type": "code",
   "execution_count": 49,
   "id": "a8d614e8",
   "metadata": {},
   "outputs": [],
   "source": [
    "#! pip install scikit-plot\n",
    "from sklearn.preprocessing import LabelBinarizer\n",
    "from sklearn.metrics import roc_curve, auc\n",
    "from sklearn.metrics import roc_auc_score"
   ]
  },
  {
   "cell_type": "code",
   "execution_count": 50,
   "id": "81123020",
   "metadata": {},
   "outputs": [
    {
     "name": "stdout",
     "output_type": "stream",
     "text": [
      "ACCURACY OF THE MODEL:  0.9423076923076923\n",
      "Recall score of the model:  0.953125\n",
      "precision of the model:  0.953125\n"
     ]
    }
   ],
   "source": [
    "print(\"ACCURACY OF THE MODEL: \", accuracy_score(y_test, ypred_XG))\n",
    "print(\"Recall score of the model: \", recall_score(y_test, ypred_XG))\n",
    "print(\"precision of the model: \", precision_score(y_test, ypred_XG))"
   ]
  },
  {
   "cell_type": "code",
   "execution_count": 51,
   "id": "b36a4df2",
   "metadata": {},
   "outputs": [
    {
     "name": "stdout",
     "output_type": "stream",
     "text": [
      "0.9423076923076923\n",
      "              precision    recall  f1-score   support\n",
      "\n",
      "           0       0.93      0.93      0.93        40\n",
      "           1       0.95      0.95      0.95        64\n",
      "\n",
      "    accuracy                           0.94       104\n",
      "   macro avg       0.94      0.94      0.94       104\n",
      "weighted avg       0.94      0.94      0.94       104\n",
      "\n"
     ]
    }
   ],
   "source": [
    "from sklearn.metrics import classification_report, accuracy_score\n",
    "\n",
    "print(accuracy_score(y_test, ypred_XG))\n",
    "print(classification_report(y_test, ypred_XG))"
   ]
  },
  {
   "cell_type": "code",
   "execution_count": 52,
   "id": "ee098b2b",
   "metadata": {},
   "outputs": [
    {
     "data": {
      "text/plain": [
       "Text(0.5, 15.0, 'Predicted label')"
      ]
     },
     "execution_count": 52,
     "metadata": {},
     "output_type": "execute_result"
    },
    {
     "data": {
      "image/png": "[encoded data removed]",
      "text/plain": [
       "<Figure size 432x288 with 2 Axes>"
      ]
     },
     "metadata": {
      "needs_background": "light"
     },
     "output_type": "display_data"
    }
   ],
   "source": [
    "from sklearn import metrics\n",
    "import seaborn as sns\n",
    "cnf_matrix = metrics.confusion_matrix(y_test, ypred_XG)\n",
    "p = sns.heatmap(pd.DataFrame(cnf_matrix), annot=True, cmap=\"YlGnBu\" ,fmt='g')\n",
    "plt.title('Confusion matrix', y=1.1)\n",
    "plt.ylabel('Actual label')\n",
    "plt.xlabel('Predicted label')"
   ]
  },
  {
   "cell_type": "code",
   "execution_count": 53,
   "id": "d2889fe3",
   "metadata": {},
   "outputs": [],
   "source": [
    "from sklearn.preprocessing import LabelBinarizer\n",
    "from sklearn.metrics import roc_curve, auc\n",
    "from sklearn.metrics import roc_auc_score"
   ]
  },
  {
   "cell_type": "code",
   "execution_count": 54,
   "id": "16e2b376",
   "metadata": {},
   "outputs": [
    {
     "name": "stdout",
     "output_type": "stream",
     "text": [
      "0.9390625\n"
     ]
    }
   ],
   "source": [
    "print(multiclass_roc_auc_score(y_test, ypred_XG))"
   ]
  },
  {
   "cell_type": "code",
   "execution_count": 55,
   "id": "174b2ccc",
   "metadata": {
    "scrolled": false
   },
   "outputs": [
    {
     "data": {
      "image/png": "[encoded data removed]",
      "text/plain": [
       "<Figure size 432x288 with 1 Axes>"
      ]
     },
     "metadata": {
      "needs_background": "light"
     },
     "output_type": "display_data"
    }
   ],
   "source": [
    "from sklearn.metrics import roc_curve\n",
    "y_pred_keras_pr = gbm.predict_proba(X=X_test)\n",
    "import scikitplot as skplt\n",
    "plot = skplt.metrics.plot_roc(y_test, y_pred_keras_pr)"
   ]
  },
  {
   "cell_type": "code",
   "execution_count": 56,
   "id": "92bdaed2",
   "metadata": {
    "scrolled": false
   },
   "outputs": [
    {
     "name": "stdout",
     "output_type": "stream",
     "text": [
      "Time taken in mins: 0.40666327079137166\n",
      "Time taken in hours: 0.006777721179856195\n"
     ]
    }
   ],
   "source": [
    "# store end time\n",
    "end_XG = time.time()\n",
    "time_tkn_XG = end_XG-XG_start_time\n",
    "print('Time taken in mins:',time_tkn_XG/(60))\n",
    "print('Time taken in hours:',time_tkn_XG/(60*60))"
   ]
  },
  {
   "cell_type": "markdown",
   "id": "d4d81cf2",
   "metadata": {},
   "source": [
    "### Using SVM"
   ]
  },
  {
   "cell_type": "code",
   "execution_count": 57,
   "id": "1f9d81be",
   "metadata": {},
   "outputs": [],
   "source": [
    "svm_start_time = time.time()"
   ]
  },
  {
   "cell_type": "code",
   "execution_count": 58,
   "id": "71e97fb2",
   "metadata": {},
   "outputs": [
    {
     "name": "stdout",
     "output_type": "stream",
     "text": [
      "SVM :  0.9519230769230769\n"
     ]
    }
   ],
   "source": [
    "SVMPipeline.fit(X_train, y_train)\n",
    "y_proba = SVMPipeline.predict_proba(X_test)\n",
    "y_pred = np.argmax(y_proba,axis=1)\n",
    "SVM_score = accuracy_score(y_test, y_pred)\n",
    "print(\"SVM : \", SVM_score)"
   ]
  },
  {
   "cell_type": "code",
   "execution_count": 59,
   "id": "c96b71df",
   "metadata": {},
   "outputs": [
    {
     "data": {
      "text/plain": [
       "dict_keys(['memory', 'steps', 'verbose', 'pipeline', 'svc', 'pipeline__memory', 'pipeline__steps', 'pipeline__verbose', 'pipeline__minmaxscaler', 'pipeline__minmaxscaler__clip', 'pipeline__minmaxscaler__copy', 'pipeline__minmaxscaler__feature_range', 'svc__C', 'svc__break_ties', 'svc__cache_size', 'svc__class_weight', 'svc__coef0', 'svc__decision_function_shape', 'svc__degree', 'svc__gamma', 'svc__kernel', 'svc__max_iter', 'svc__probability', 'svc__random_state', 'svc__shrinking', 'svc__tol', 'svc__verbose'])"
      ]
     },
     "execution_count": 59,
     "metadata": {},
     "output_type": "execute_result"
    }
   ],
   "source": [
    "SVMPipeline.get_params().keys()"
   ]
  },
  {
   "cell_type": "code",
   "execution_count": 60,
   "id": "187d6409",
   "metadata": {},
   "outputs": [],
   "source": [
    "from sklearn.utils.fixes import loguniform\n",
    "\n",
    "hyper_params = {\n",
    "    'svc__C': loguniform(1e0, 1e3),\n",
    "    'svc__gamma': loguniform(1e-4, 1e-3),\n",
    "    'svc__kernel': ['rbf'],\n",
    "    'svc__class_weight':['balanced', None]\n",
    "               }"
   ]
  },
  {
   "cell_type": "code",
   "execution_count": 61,
   "id": "a73a90d5",
   "metadata": {},
   "outputs": [
    {
     "name": "stdout",
     "output_type": "stream",
     "text": [
      "0.9230769230769231\n",
      "              precision    recall  f1-score   support\n",
      "\n",
      "           0       0.88      0.93      0.90        40\n",
      "           1       0.95      0.92      0.94        64\n",
      "\n",
      "    accuracy                           0.92       104\n",
      "   macro avg       0.92      0.92      0.92       104\n",
      "weighted avg       0.92      0.92      0.92       104\n",
      "\n"
     ]
    }
   ],
   "source": [
    "SVM_grid = RandomizedSearchCV(SVMPipeline,hyper_params,scoring='accuracy',n_iter=40)\n",
    "SVM_grid.fit(X_train,y_train)\n",
    "y_pred_svm = SVM_grid.predict(X_test)\n",
    "SVM_score = accuracy_score(y_test, y_pred_svm)\n",
    "print(SVM_score)\n",
    "print(classification_report(y_test,y_pred_svm))"
   ]
  },
  {
   "cell_type": "code",
   "execution_count": 62,
   "id": "a5284ad6",
   "metadata": {},
   "outputs": [
    {
     "name": "stdout",
     "output_type": "stream",
     "text": [
      "0.9234375\n"
     ]
    }
   ],
   "source": [
    "print(multiclass_roc_auc_score(y_test, y_pred_svm))"
   ]
  },
  {
   "cell_type": "code",
   "execution_count": 63,
   "id": "d9492dc5",
   "metadata": {},
   "outputs": [
    {
     "data": {
      "image/png": "[encoded data removed]",
      "text/plain": [
       "<Figure size 432x288 with 1 Axes>"
      ]
     },
     "metadata": {
      "needs_background": "light"
     },
     "output_type": "display_data"
    }
   ],
   "source": [
    "y_pred_keras_svm = SVM_grid.predict_proba(X=X_test)\n",
    "import scikitplot as skplt\n",
    "plot = skplt.metrics.plot_roc(y_test, y_pred_keras_svm)"
   ]
  },
  {
   "cell_type": "code",
   "execution_count": 64,
   "id": "30fd9f78",
   "metadata": {},
   "outputs": [
    {
     "name": "stdout",
     "output_type": "stream",
     "text": [
      "ACCURACY OF THE MODEL:  0.9230769230769231\n",
      "Recall score of the model:  0.921875\n",
      "precision of the model:  0.9516129032258065\n"
     ]
    }
   ],
   "source": [
    "print(\"ACCURACY OF THE MODEL: \", accuracy_score(y_test, y_pred_svm))\n",
    "print(\"Recall score of the model: \", recall_score(y_test, y_pred_svm))\n",
    "print(\"precision of the model: \", precision_score(y_test, y_pred_svm))"
   ]
  },
  {
   "cell_type": "code",
   "execution_count": 65,
   "id": "6a5fdd87",
   "metadata": {},
   "outputs": [
    {
     "name": "stdout",
     "output_type": "stream",
     "text": [
      "Time taken in hours: 0.001150492098596361\n"
     ]
    }
   ],
   "source": [
    "# store end time\n",
    "end_svm = time.time()\n",
    "time_tkn_svm = end_svm-svm_start_time\n",
    "print('Time taken in hours:',time_tkn_svm/(60*60))"
   ]
  }
 ],
 "metadata": {
  "kernelspec": {
   "display_name": "Python 3 (ipykernel)",
   "language": "python",
   "name": "python3"
  },
  "language_info": {
   "codemirror_mode": {
    "name": "ipython",
    "version": 3
   },
   "file_extension": ".py",
   "mimetype": "text/x-python",
   "name": "python",
   "nbconvert_exporter": "python",
   "pygments_lexer": "ipython3",
   "version": "3.9.13"
  }
 },
 "nbformat": 4,
 "nbformat_minor": 5
}
