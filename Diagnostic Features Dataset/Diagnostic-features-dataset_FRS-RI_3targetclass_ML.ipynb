{
 "cells": [
  {
   "cell_type": "markdown",
   "id": "784d8e5c",
   "metadata": {
    "colab_type": "text",
    "id": "BUeYb3WIs9x2"
   },
   "source": [
    "## Diagnostic features dataset with FRS-RI Feature Selection and ML"
   ]
  },
  {
   "cell_type": "code",
   "execution_count": null,
   "id": "b8f501f6",
   "metadata": {
    "colab": {},
    "colab_type": "code",
    "id": "kJ0C2UNbr46d"
   },
   "outputs": [],
   "source": [
    "MAX_INT = 10\n",
    "\n",
    "import math\n",
    "from pprint import pprint as pp\n",
    "from heapq import *\n",
    "\n",
    "class InstanceSelection:\n",
    "\t\"\"\"\n",
    "\tA class to model pipeline for selecting representative instances\n",
    "\tof a given dataset\n",
    "\n",
    "\tAttributes\n",
    "\t-----------\n",
    "\tdataset_matrix : a 2-D matrix of real numbers\n",
    "\tnrows\t\t   : no. of rows in the dataset \n",
    "\tncols\t\t   : no. of columns in the dataset\n",
    "\tfuzzy_relation_matrix : a 2-D matrix with fuzzy relation values\n",
    "\tlower_approx_matrix : a 1-D list of lower approximation values of each instance\n",
    "\tvisited\t\t\t: to keep track of processed instances while finding rule covering\n",
    "\trepresentative_instances_list : a list of list of representative instances of the dataset \n",
    "\n",
    "\n",
    "\tMethods\n",
    "\t------------\n",
    "\t_init_params():\n",
    "\t\tInitializes various parameters\n",
    "\n",
    "\t_get_relation_value(val_i,val_j)\n",
    "\t\tCalculates fuzzy relation value  \n",
    "\n",
    "\t_is_instance_covered(row_index_i,row_index_j)\n",
    "\t\tTells if an instance is covered by a fuzzy rule\n",
    "\n",
    "\tcompute_fuzzy_relations()\n",
    "\t\tComputes fuzzy relation matrix\n",
    "\n",
    "\tcompute_lower_approximation()\n",
    "\t\tComputes Lower approximation matrix\n",
    "\n",
    "\t_init_count_rule()\n",
    "\t\tCounts the number of instances covered by each rule\n",
    "\n",
    "\tfind_rule_covering()\n",
    "\t\tFinds which instances are covered by which rule and\n",
    "\t\twhich rules cover which instances\n",
    "\n",
    "\tfind_representative_instances()\n",
    "\t\treturns a set of list of instances which are representative of the dataset\n",
    "\n",
    "\tapply()\n",
    "\t\tcalls all the functions \n",
    "\t\"\"\"\n",
    "\n",
    "\tdef __init__(self, dataset_matrix):\n",
    "\t\t# print(\"Initialising instance..\")\n",
    "\t\tself.dataset_matrix = dataset_matrix\n",
    "\t\tself.ncols = len(self.dataset_matrix[0])\n",
    "\t\tself.nrows = len(self.dataset_matrix)\n",
    "\t\tself.rep_list = []\n",
    "\t\tself.representative_instances_list = []\n",
    "\t\tself._init_params()\n",
    "\n",
    "\tdef _init_params(self):\n",
    "\t\t# print(\"Initialising parameters..\")\n",
    "\t\tself.fuzzy_relation_matrix = [[MAX_INT] * self.nrows for i in range(self.nrows)]\n",
    "\t\tself.rule_instances_mapping = [[] for i in range(self.nrows)]\n",
    "\t\tself.instance_rules_mapping = [[] for i in range(self.nrows)]\n",
    "\t\tself.lower_approx_matrix = [MAX_INT for i in range(self.nrows)]\n",
    "\t\tself.visited = [False]*self.nrows\n",
    "\n",
    "\tdef _get_relation_value(self, vali, valj):\n",
    "\t\treturn (1 - abs(vali - valj))\n",
    "\n",
    "\tdef _is_instance_covered(self, row_indi, row_indj):\n",
    "\t\tif (1 - self.fuzzy_relation_matrix[row_indi][row_indj]) < self.lower_approx_matrix[row_indi]:\n",
    "\t\t\treturn True\n",
    "\t\treturn False\n",
    "\n",
    "\tdef compute_fuzzy_relations(self, attr_index_list = None):\n",
    "\t\tself._init_params()\n",
    "\t\t#print(\"In compute_fuzzy_relations..\")\n",
    "\t\tif not attr_index_list:\n",
    "\t\t\tattr_index_list = set(list(range(self.ncols-1)))\n",
    "\t\tfor i in range(self.nrows):\n",
    "\t\t\tfor j in range(i,self.nrows):\n",
    "\t\t\t\tfor k in attr_index_list:\n",
    "\t\t\t\t\tself.fuzzy_relation_matrix[i][j] = self.fuzzy_relation_matrix[j][i] = min(self.fuzzy_relation_matrix[i][j], \n",
    "\t\t\t\t\t\t\t\tself._get_relation_value(self.dataset_matrix[i][k], self.dataset_matrix[j][k]))\n",
    "\t\t\t\t\tself.fuzzy_relation_matrix[i][j] = self.fuzzy_relation_matrix[j][i] = round(self.fuzzy_relation_matrix[i][j], 2)\n",
    "\t\n",
    "\tdef compute_lower_approximation(self):\n",
    "\t\t#print(\"In compute_lower_approximation\")\n",
    "\t\tfor row in range(self.nrows):\n",
    "\t\t\tfor col in range(self.nrows):\n",
    "\t\t\t\ti_label = int(self.dataset_matrix[row][self.ncols-1])\n",
    "\t\t\t\tj_label = int(self.dataset_matrix[col][self.ncols-1])\n",
    "\n",
    "\t\t\t\tdiff_class = 0\n",
    "\t\t\t\tif(i_label != j_label):\n",
    "\t\t\t\t\tdiff_class = 1\n",
    "\n",
    "\t\t\t\tself.lower_approx_matrix[row] = min(self.lower_approx_matrix[row], max(1 - self.fuzzy_relation_matrix[row][col], 1 - diff_class))\n",
    "\n",
    "\t\t\tself.lower_approx_matrix[row] = round(self.lower_approx_matrix[row], 2)\n",
    "\n",
    "\n",
    "\tdef _init_count_rule(self):\n",
    "\t\tself.rule_instances_count = []\n",
    "\t\tfor rule in range(self.nrows):\n",
    "\t\t\tself.rule_instances_count.append(len(self.rule_instances_mapping[rule]))\n",
    "\n",
    "\tdef find_rule_covering(self):\n",
    "\t\t# print(\"In find_rule_covering\")\n",
    "\t\tfor rowi in range(self.nrows):\n",
    "\t\t\tfor rowj in range(self.nrows):\n",
    "\t\t\t\tif self._is_instance_covered(rowi, rowj):\n",
    "\t\t\t\t\tself.rule_instances_mapping[rowi].append(rowj)\n",
    "\t\t\t\t\tself.instance_rules_mapping[rowj].append(rowi)\n",
    "\n",
    "\t\tself._init_count_rule()\n",
    "\n",
    "\tdef find_representative_instances(self):\n",
    "\t\tif(len(self.representative_instances_list)>0):\n",
    "\t\t\treturn\n",
    "\n",
    "\t\tall_done = True\n",
    "\t\tfor rule, done in enumerate(self.visited):\n",
    "\t\t\tif not done:\n",
    "\t\t\t\tall_done = False\n",
    "\t\t\t\tbreak\n",
    "\n",
    "\t\tif all_done:\n",
    "\t\t\tsorted_rep_list = sorted(self.rep_list)\n",
    "\t\t\tif sorted_rep_list not in self.representative_instances_list:\n",
    "\t\t\t\tself.representative_instances_list.append(sorted_rep_list)\n",
    "\t\t\treturn\n",
    "\n",
    "\t\tmax_count = -1\n",
    "\n",
    "\t\tfor rule, count in enumerate(self.rule_instances_count):\n",
    "\t\t\tif not self.visited[rule]:\n",
    "\t\t\t\tmax_count = max(max_count, count)\n",
    "\n",
    "\t\tmax_count_list = []\n",
    "\n",
    "\t\tfor rule, count in enumerate(self.rule_instances_count):\n",
    "\t\t\tif count == max_count and not self.visited[rule]:\n",
    "\t\t\t\tmax_count_list.append(rule)\n",
    "\n",
    "\t\tfor rule in max_count_list:\n",
    "\t\t\tself.visited[rule] = True\n",
    "\t\t\tself.rep_list.append(rule)\n",
    "\t\t\tfor adj_rule in self.rule_instances_mapping[rule]:\n",
    "\t\t\t\tself.visited[adj_rule] = True\n",
    "\n",
    "\t\t\tself.find_representative_instances()\n",
    "\t\t\tif(len(self.representative_instances_list)>0):\n",
    "\t\t\t\treturn\n",
    "\t\t\tfor adj_rule in self.rule_instances_mapping[rule]:\n",
    "\t\t\t\tself.visited[adj_rule] = False\n",
    "\t\t\tself.visited[rule] = False\n",
    "\t\t\tself.rep_list.pop()\n",
    "\n",
    "\tdef apply(self):\n",
    "\t\tself.compute_fuzzy_relations()\n",
    "\t\tself.compute_lower_approximation()\n",
    "\t\tself.find_rule_covering()\n",
    "\t\tself.find_representative_instances()\n",
    "\t\tself.visited = [False]*self.nrows\n",
    "\t\n",
    "\tdef debug(self):\n",
    "\t\tpass"
   ]
  },
  {
   "cell_type": "markdown",
   "id": "f9f794e5",
   "metadata": {
    "colab_type": "text",
    "id": "Hp8EZ9lmtCRE"
   },
   "source": [
    "# Feature selection"
   ]
  },
  {
   "cell_type": "code",
   "execution_count": null,
   "id": "6711ea46",
   "metadata": {
    "colab": {},
    "colab_type": "code",
    "id": "VJFWm1O8r9K6"
   },
   "outputs": [],
   "source": [
    "class FeatureSelection:\n",
    "    def __init__(self, rep_instances_set):\n",
    "        self.rep_feature_set = set() \n",
    "        self.threshold = -1\n",
    "        self.rep_instances_set = rep_instances_set\n",
    "\n",
    "    def _get_instance_based_dependency_val(self, instance_selection_obj, attr_set):\n",
    "        # print(\"ATTR SET : \",attr_set)\n",
    "        #pp(instance_selection_obj.fuzzy_relation_matrix)\n",
    "        instance_selection_obj.compute_fuzzy_relations(attr_set)\n",
    "        #pp(instance_selection_obj.fuzzy_relation_matrix)\n",
    "        instance_selection_obj.compute_lower_approximation()\n",
    "        pos_sum = 0\n",
    "        for instance in self.rep_instances_set:\n",
    "            pos_sum += instance_selection_obj.lower_approx_matrix[instance]\n",
    "        gamma_star_b = pos_sum/instance_selection_obj.nrows\n",
    "        return gamma_star_b\n",
    "\n",
    "\n",
    "\n",
    "    def find_rep_feature_set(self, instance_selection_obj):\n",
    "        nattr = instance_selection_obj.ncols-1\n",
    "        all_attr_set = set(list(range(nattr))) #A\n",
    "        gamma_star_a = self._get_instance_based_dependency_val(instance_selection_obj, all_attr_set)\n",
    "        gamma_star_a = round(gamma_star_a, 4)\n",
    "        while self.threshold < gamma_star_a:\n",
    "            rem_attr = all_attr_set.difference(self.rep_feature_set)\n",
    "            max_gamma_star = -1\n",
    "            best_attr = None\n",
    "            for attr in rem_attr:\n",
    "                self.rep_feature_set.add(attr)\n",
    "                gamma_star = self._get_instance_based_dependency_val(instance_selection_obj, self.rep_feature_set)\n",
    "                gamma_star = round(gamma_star, 4)\n",
    "                # print(\"Gamma star : \",gamma_star,attr)\n",
    "                if max_gamma_star < gamma_star and gamma_star >= self.threshold:\n",
    "                    max_gamma_star = gamma_star\n",
    "                    best_attr = attr\n",
    "                self.rep_feature_set.discard(attr)\n",
    "            if best_attr is None:\n",
    "                return\n",
    "            self.rep_feature_set.add(best_attr)\n",
    "            # print(best_attr+1, \" IS SELECTED\")\n",
    "            self.threshold = max_gamma_star\n",
    "    \n",
    "    def apply(self, instance_selection_obj):\n",
    "        self.find_rep_feature_set(instance_selection_obj)"
   ]
  },
  {
   "cell_type": "markdown",
   "id": "1097600d",
   "metadata": {
    "colab_type": "text",
    "id": "nG4CJm-WtcKU"
   },
   "source": [
    "# Importing algorithms to test"
   ]
  },
  {
   "cell_type": "code",
   "execution_count": null,
   "id": "e9f629aa",
   "metadata": {
    "cellView": "both",
    "colab": {},
    "colab_type": "code",
    "id": "YWrwcHsKqgpb"
   },
   "outputs": [],
   "source": [
    "from sklearn.linear_model import LinearRegression,LogisticRegression\n",
    "from sklearn.svm import SVC\n",
    "from sklearn.tree import DecisionTreeClassifier,DecisionTreeRegressor\n",
    "from sklearn.model_selection import train_test_split\n",
    "from sklearn.metrics import accuracy_score,f1_score,precision_score,recall_score\n",
    "from sklearn.neighbors import KNeighborsClassifier\n",
    "from sklearn.naive_bayes import GaussianNB\n",
    "\n",
    "from sklearn.ensemble import RandomForestClassifier, AdaBoostClassifier\n",
    "\n",
    "from sklearn.pipeline import make_pipeline\n",
    "\n",
    "from sklearn.preprocessing import RobustScaler,StandardScaler,MinMaxScaler\n",
    "\n",
    "import warnings\n",
    "warnings.filterwarnings('ignore') "
   ]
  },
  {
   "cell_type": "code",
   "execution_count": null,
   "id": "f505de4e",
   "metadata": {
    "colab": {},
    "colab_type": "code",
    "id": "rmxrW6NSrsf5"
   },
   "outputs": [],
   "source": [
    "import sys\n",
    "\n",
    "import pandas as pd \n",
    "from sklearn.preprocessing import LabelEncoder\n",
    "from sklearn.preprocessing import MinMaxScaler,StandardScaler\n",
    "import matplotlib.pyplot as plt\n",
    "import time\n",
    "\n",
    "import numpy as np \n",
    "np.random.seed(0)"
   ]
  },
  {
   "cell_type": "markdown",
   "id": "79578ff9",
   "metadata": {
    "colab_type": "text",
    "id": "tgXAHLiOtGov"
   },
   "source": [
    "# Testing on dataset"
   ]
  },
  {
   "cell_type": "code",
   "execution_count": null,
   "id": "ca530a67",
   "metadata": {
    "colab": {},
    "colab_type": "code",
    "id": "DeVtuF1XsiSS"
   },
   "outputs": [],
   "source": [
    "df = pd.read_csv(\"diabetes_16fdata_3targetclasses.csv\")"
   ]
  },
  {
   "cell_type": "code",
   "execution_count": null,
   "id": "93f9eca3",
   "metadata": {},
   "outputs": [],
   "source": [
    "pd.set_option('display.max_row',df.shape[0])\n",
    "pd.set_option('display.max_column',df.shape[1]) \n",
    "df.head()"
   ]
  },
  {
   "cell_type": "code",
   "execution_count": null,
   "id": "6b9bc6a7",
   "metadata": {
    "scrolled": true
   },
   "outputs": [],
   "source": [
    "# Eliminate duplicates\n",
    "print('There are' , df.duplicated().sum() , 'duplicates')\n",
    "df.loc[df.duplicated(keep=False),:]\n",
    "df.drop_duplicates(keep='first',inplace=True)\n",
    "print('There is now' , df.shape[0] , 'rows')\n",
    "print('There is now' , df.shape[1] , 'columns')"
   ]
  },
  {
   "cell_type": "code",
   "execution_count": null,
   "id": "d3c20dad",
   "metadata": {},
   "outputs": [],
   "source": [
    "data = np.asarray(df)\n",
    "time_taken = {}"
   ]
  },
  {
   "cell_type": "code",
   "execution_count": null,
   "id": "4e8458bf",
   "metadata": {
    "colab": {
     "base_uri": "https://localhost:8080/",
     "height": 208
    },
    "colab_type": "code",
    "id": "SyMOLeLJre65",
    "outputId": "deaee666-a4d9-48f3-cf5f-7bfe32254f09"
   },
   "outputs": [],
   "source": [
    "MAX_ITERATIONS = len(data)\n",
    "\n",
    "for size in range(MAX_ITERATIONS-1,MAX_ITERATIONS):\n",
    "    np.random.shuffle(data)\n",
    "    test_data = data[:size]\n",
    "    \n",
    "    start_time1 = time.time()\n",
    "    InstanceSelector = InstanceSelection(test_data)\n",
    "    InstanceSelector.apply()\n",
    "    end_time1 = time.time()\n",
    "    algo1_time = end_time1-start_time1\n",
    "\n",
    "    start_time2 = time.time()\n",
    "    feature_selection_obj = FeatureSelection(InstanceSelector.representative_instances_list[0])\n",
    "    feature_selection_obj.apply(InstanceSelector)\n",
    "    end_time2 = time.time()\n",
    "\n",
    "    representative_instances = InstanceSelector.representative_instances_list\n",
    "    feature_set = list(feature_selection_obj.rep_feature_set)"
   ]
  },
  {
   "cell_type": "code",
   "execution_count": null,
   "id": "6d842164",
   "metadata": {},
   "outputs": [],
   "source": [
    "data_fuzzy=pd.DataFrame(data[:,feature_set])\n",
    "data_fuzzy_2=pd.DataFrame(data[:,-1])"
   ]
  },
  {
   "cell_type": "code",
   "execution_count": null,
   "id": "c29f91a2",
   "metadata": {},
   "outputs": [],
   "source": [
    "df_fuzzy= pd.concat(objs=[data_fuzzy,data_fuzzy_2],axis=1)\n",
    "df_fuzzy.columns=['glucose','weight','Outcome']"
   ]
  },
  {
   "cell_type": "code",
   "execution_count": null,
   "id": "5d24fc69",
   "metadata": {},
   "outputs": [],
   "source": [
    "df_fuzzy.shape"
   ]
  },
  {
   "cell_type": "code",
   "execution_count": null,
   "id": "0b490e3c",
   "metadata": {},
   "outputs": [],
   "source": [
    "df_fuzzy.head"
   ]
  },
  {
   "cell_type": "code",
   "execution_count": null,
   "id": "f6031ab3",
   "metadata": {},
   "outputs": [],
   "source": [
    "#df_fuzzy.to_csv('diabetes_16fdata_fuzzy_3targets.csv',index=False, header=df_fuzzy.columns)"
   ]
  },
  {
   "cell_type": "code",
   "execution_count": null,
   "id": "7a740d76",
   "metadata": {},
   "outputs": [],
   "source": [
    "# test size of 0.2 had low accuracy"
   ]
  },
  {
   "cell_type": "code",
   "execution_count": null,
   "id": "fb00eafb",
   "metadata": {},
   "outputs": [],
   "source": [
    "X_train,X_test,y_train,y_test = train_test_split(data[:,feature_set],data[:,-1],test_size=0.30,stratify=data[:,-1],random_state=0)"
   ]
  },
  {
   "cell_type": "code",
   "execution_count": null,
   "id": "16bc9f28",
   "metadata": {},
   "outputs": [],
   "source": [
    "#oversampling with smote reduced accuracy\n",
    "from imblearn.over_sampling import SMOTE\n",
    "smote=SMOTE(\"minority\")\n",
    "X_train,y_train=smote.fit_resample(X_train,y_train)"
   ]
  },
  {
   "cell_type": "markdown",
   "id": "8670160c",
   "metadata": {
    "papermill": {
     "duration": 0.312268,
     "end_time": "2021-08-27T11:31:23.464326",
     "exception": false,
     "start_time": "2021-08-27T11:31:23.152058",
     "status": "completed"
    },
    "tags": []
   },
   "source": [
    "## Creating models"
   ]
  },
  {
   "cell_type": "code",
   "execution_count": null,
   "id": "d1157a41",
   "metadata": {
    "execution": {
     "iopub.execute_input": "2021-08-27T11:31:24.091130Z",
     "iopub.status.busy": "2021-08-27T11:31:24.090385Z",
     "iopub.status.idle": "2021-08-27T11:31:24.093218Z",
     "shell.execute_reply": "2021-08-27T11:31:24.092769Z",
     "shell.execute_reply.started": "2021-08-25T22:27:36.374944Z"
    },
    "papermill": {
     "duration": 0.316358,
     "end_time": "2021-08-27T11:31:24.093343",
     "exception": false,
     "start_time": "2021-08-27T11:31:23.776985",
     "status": "completed"
    },
    "tags": []
   },
   "outputs": [],
   "source": [
    "from sklearn.pipeline import make_pipeline\n",
    "\n",
    "preprocessor = make_pipeline(MinMaxScaler())\n",
    "\n",
    "#PCAPipeline = make_pipeline(StandardScaler(), PCA(n_components=3,random_state=42))\n",
    "\n",
    "RandomPipeline = make_pipeline(preprocessor,RandomForestClassifier(random_state=42))\n",
    "AdaPipeline = make_pipeline(preprocessor,AdaBoostClassifier(random_state=42))\n",
    "SVMPipeline = make_pipeline(preprocessor,SVC(random_state=42,probability=True))\n",
    "KNNPipeline = make_pipeline(preprocessor,KNeighborsClassifier())\n",
    "LRPipeline = make_pipeline(preprocessor,LogisticRegression(solver='sag',random_state=42))"
   ]
  },
  {
   "cell_type": "markdown",
   "id": "4231fe99",
   "metadata": {
    "papermill": {
     "duration": 0.309903,
     "end_time": "2021-08-27T11:31:29.290336",
     "exception": false,
     "start_time": "2021-08-27T11:31:28.980433",
     "status": "completed"
    },
    "tags": []
   },
   "source": [
    "# Training models\n",
    "## Models overview"
   ]
  },
  {
   "cell_type": "code",
   "execution_count": null,
   "id": "893813ec",
   "metadata": {},
   "outputs": [],
   "source": [
    "from sklearn.preprocessing import LabelEncoder\n",
    "from sklearn.preprocessing import MinMaxScaler,StandardScaler\n",
    "from sklearn import metrics\n",
    "import seaborn as sns\n",
    "from sklearn.preprocessing import LabelBinarizer\n",
    "from sklearn.metrics import roc_curve, auc\n",
    "from sklearn.metrics import roc_auc_score"
   ]
  },
  {
   "cell_type": "code",
   "execution_count": null,
   "id": "5ac84d50",
   "metadata": {},
   "outputs": [],
   "source": [
    "def multiclass_roc_auc_score(y_test, y_pred, average=\"macro\"):\n",
    "    lb = LabelBinarizer()\n",
    "    lb.fit(y_test)\n",
    "    y_test = lb.transform(y_test)\n",
    "    y_pred = lb.transform(y_pred)\n",
    "    return roc_auc_score(y_test, y_pred, average=average)"
   ]
  },
  {
   "cell_type": "code",
   "execution_count": null,
   "id": "14f94153",
   "metadata": {
    "execution": {
     "iopub.execute_input": "2021-08-27T11:31:29.937695Z",
     "iopub.status.busy": "2021-08-27T11:31:29.936664Z",
     "iopub.status.idle": "2021-08-27T11:31:29.941883Z",
     "shell.execute_reply": "2021-08-27T11:31:29.941425Z",
     "shell.execute_reply.started": "2021-08-25T22:27:38.01561Z"
    },
    "papermill": {
     "duration": 0.318612,
     "end_time": "2021-08-27T11:31:29.942016",
     "exception": false,
     "start_time": "2021-08-27T11:31:29.623404",
     "status": "completed"
    },
    "tags": []
   },
   "outputs": [],
   "source": [
    "dict_of_models = {'RandomForest': RandomPipeline,\n",
    "'AdaBoost': AdaPipeline,\n",
    "'SVM': SVMPipeline,\n",
    "'KNN': KNNPipeline,\n",
    "'LR': LRPipeline}"
   ]
  },
  {
   "cell_type": "code",
   "execution_count": null,
   "id": "d7463c55",
   "metadata": {
    "execution": {
     "iopub.execute_input": "2021-08-27T11:31:30.573954Z",
     "iopub.status.busy": "2021-08-27T11:31:30.573044Z",
     "iopub.status.idle": "2021-08-27T11:31:30.576085Z",
     "shell.execute_reply": "2021-08-27T11:31:30.575636Z",
     "shell.execute_reply.started": "2021-08-25T22:27:38.506621Z"
    },
    "papermill": {
     "duration": 0.323365,
     "end_time": "2021-08-27T11:31:30.576234",
     "exception": false,
     "start_time": "2021-08-27T11:31:30.252869",
     "status": "completed"
    },
    "tags": []
   },
   "outputs": [],
   "source": [
    "def evaluation(model):\n",
    "    model.fit(X_train, y_train)\n",
    "    # calculating the probabilities\n",
    "    y_pred_proba = model.predict_proba(X_test)\n",
    "\n",
    "    # finding the predicted valued\n",
    "    y_pred = np.argmax(y_pred_proba,axis=1)\n",
    "    print('Accuracy = ', accuracy_score(y_test, y_pred))\n",
    "    print('-')\n",
    "    print(confusion_matrix(y_test,y_pred))\n",
    "    print('-')\n",
    "    print(classification_report(y_test,y_pred))\n",
    "    print('-')\n",
    "    \n",
    "    N, train_score, test_score = learning_curve(model, X_train, y_train, \n",
    "                                               cv=4, scoring='f1', \n",
    "                                               train_sizes=np.linspace(0.1,1,10))\n",
    "    plt.figure(figsize=(5,5))\n",
    "    plt.plot(N, train_score.mean(axis=1), label='train score')\n",
    "    plt.plot(N, test_score.mean(axis=1), label='validation score')\n",
    "    plt.legend()\n",
    "    plt.show()\n",
    "    plt.figure(figsize=(5,5))\n",
    "    plt.plot(N, train_score.mean(axis=1), label='train score')\n",
    "    plt.plot(N, test_score.mean(axis=1), label='validation score')\n",
    "    plt.legend()\n",
    "    plt.show()\n",
    "    \n",
    "    cnf_matrix = metrics.confusion_matrix(y_test, y_pred)\n",
    "    p = sns.heatmap(pd.DataFrame(cnf_matrix), annot=True, cmap=\"YlGnBu\" ,fmt='g')\n",
    "    plt.title('Confusion matrix', y=1.1)\n",
    "    plt.ylabel('Actual label')\n",
    "    plt.xlabel('Predicted label')\n",
    "    plt.show()\n",
    "    \n",
    "    print(multiclass_roc_auc_score(y_test, y_pred))\n",
    "    \n",
    "    from sklearn.metrics import roc_curve\n",
    "    y_pred_keras = RandomPipeline.predict_proba(X=X_test)\n",
    "    import scikitplot as skplt\n",
    "    plot = skplt.metrics.plot_roc(y_test, y_pred_keras)\n",
    "    plt.show()"
   ]
  },
  {
   "cell_type": "code",
   "execution_count": null,
   "id": "f3eddde1",
   "metadata": {},
   "outputs": [],
   "source": [
    "from sklearn.metrics import f1_score, accuracy_score, confusion_matrix, classification_report, roc_curve\n",
    "from sklearn.model_selection import learning_curve, cross_val_score, GridSearchCV"
   ]
  },
  {
   "cell_type": "code",
   "execution_count": null,
   "id": "86b08f35",
   "metadata": {
    "execution": {
     "iopub.execute_input": "2021-08-27T11:31:31.217348Z",
     "iopub.status.busy": "2021-08-27T11:31:31.216343Z",
     "iopub.status.idle": "2021-08-27T11:31:42.201835Z",
     "shell.execute_reply": "2021-08-27T11:31:42.202234Z",
     "shell.execute_reply.started": "2021-08-25T22:27:38.863719Z"
    },
    "papermill": {
     "duration": 11.30061,
     "end_time": "2021-08-27T11:31:42.202396",
     "exception": false,
     "start_time": "2021-08-27T11:31:30.901786",
     "status": "completed"
    },
    "tags": []
   },
   "outputs": [],
   "source": [
    "for name, model in dict_of_models.items():\n",
    "    print('---------------------------------')\n",
    "    print(name)\n",
    "    evaluation(model)"
   ]
  },
  {
   "cell_type": "markdown",
   "id": "190681cf",
   "metadata": {
    "papermill": {
     "duration": 0.314923,
     "end_time": "2021-08-27T11:31:42.837587",
     "exception": false,
     "start_time": "2021-08-27T11:31:42.522664",
     "status": "completed"
    },
    "tags": []
   },
   "source": [
    "## Using RandomForest"
   ]
  },
  {
   "cell_type": "code",
   "execution_count": null,
   "id": "b67e2900",
   "metadata": {
    "execution": {
     "iopub.execute_input": "2021-08-27T11:31:43.499423Z",
     "iopub.status.busy": "2021-08-27T11:31:43.498826Z",
     "iopub.status.idle": "2021-08-27T11:31:43.637742Z",
     "shell.execute_reply": "2021-08-27T11:31:43.636874Z",
     "shell.execute_reply.started": "2021-08-25T22:27:54.018071Z"
    },
    "papermill": {
     "duration": 0.482504,
     "end_time": "2021-08-27T11:31:43.637937",
     "exception": false,
     "start_time": "2021-08-27T11:31:43.155433",
     "status": "completed"
    },
    "tags": []
   },
   "outputs": [],
   "source": [
    "RandomPipeline.fit(X_train, y_train)\n",
    "y_proba = RandomPipeline.predict_proba(X_test)\n",
    "y_pred = np.argmax(y_proba,axis=1)\n",
    "print(\"RandomForest : \", accuracy_score(y_test, y_pred))"
   ]
  },
  {
   "cell_type": "code",
   "execution_count": null,
   "id": "41c23aee",
   "metadata": {},
   "outputs": [],
   "source": [
    "from sklearn.preprocessing import LabelBinarizer\n",
    "from sklearn.metrics import roc_curve, auc\n",
    "from sklearn.metrics import roc_auc_score"
   ]
  },
  {
   "cell_type": "code",
   "execution_count": null,
   "id": "eb4e2641",
   "metadata": {},
   "outputs": [],
   "source": [
    "def multiclass_roc_auc_score(y_test, y_pred, average=\"macro\"):\n",
    "    lb = LabelBinarizer()\n",
    "    lb.fit(y_test)\n",
    "    y_test = lb.transform(y_test)\n",
    "    y_pred = lb.transform(y_pred)\n",
    "    return roc_auc_score(y_test, y_pred, average=average)"
   ]
  },
  {
   "cell_type": "code",
   "execution_count": null,
   "id": "3d3dd728",
   "metadata": {},
   "outputs": [],
   "source": [
    "print(multiclass_roc_auc_score(y_test, y_pred))"
   ]
  },
  {
   "cell_type": "code",
   "execution_count": null,
   "id": "2e64cc3e",
   "metadata": {},
   "outputs": [],
   "source": [
    "from sklearn.metrics import roc_curve\n",
    "y_pred_keras_pr = RandomPipeline.predict_proba(X=X_test)\n",
    "import scikitplot as skplt\n",
    "plot = skplt.metrics.plot_roc(y_test, y_pred_keras_pr)"
   ]
  },
  {
   "cell_type": "markdown",
   "id": "61c21226",
   "metadata": {
    "papermill": {
     "duration": 0.323427,
     "end_time": "2021-08-27T11:31:45.049963",
     "exception": false,
     "start_time": "2021-08-27T11:31:44.726536",
     "status": "completed"
    },
    "tags": []
   },
   "source": [
    "### Optimization"
   ]
  },
  {
   "cell_type": "code",
   "execution_count": null,
   "id": "ace44e85",
   "metadata": {
    "execution": {
     "iopub.execute_input": "2021-08-27T11:31:45.695458Z",
     "iopub.status.busy": "2021-08-27T11:31:45.694514Z",
     "iopub.status.idle": "2021-08-27T11:31:45.699740Z",
     "shell.execute_reply": "2021-08-27T11:31:45.699155Z",
     "shell.execute_reply.started": "2021-08-25T22:27:54.401044Z"
    },
    "papermill": {
     "duration": 0.328575,
     "end_time": "2021-08-27T11:31:45.699873",
     "exception": false,
     "start_time": "2021-08-27T11:31:45.371298",
     "status": "completed"
    },
    "tags": []
   },
   "outputs": [],
   "source": [
    "from sklearn.model_selection import RandomizedSearchCV\n",
    "RandomPipeline.get_params().keys()"
   ]
  },
  {
   "cell_type": "code",
   "execution_count": null,
   "id": "22c2414d",
   "metadata": {
    "execution": {
     "iopub.execute_input": "2021-08-27T11:31:46.344338Z",
     "iopub.status.busy": "2021-08-27T11:31:46.343369Z",
     "iopub.status.idle": "2021-08-27T11:31:46.348387Z",
     "shell.execute_reply": "2021-08-27T11:31:46.347949Z",
     "shell.execute_reply.started": "2021-08-25T22:27:54.412339Z"
    },
    "papermill": {
     "duration": 0.330148,
     "end_time": "2021-08-27T11:31:46.348543",
     "exception": false,
     "start_time": "2021-08-27T11:31:46.018395",
     "status": "completed"
    },
    "tags": []
   },
   "outputs": [],
   "source": [
    "hyper_params = {\n",
    "    'randomforestclassifier__n_estimators':[10,100,150,250,400,600],\n",
    "    'randomforestclassifier__criterion':['gini','entropy'],\n",
    "    'randomforestclassifier__min_samples_split':[2,6,12],\n",
    "    'randomforestclassifier__min_samples_leaf':[1,4,6,10],\n",
    "    'randomforestclassifier__max_features':['auto','srqt','log2',int,float],\n",
    "    'randomforestclassifier__n_jobs':[-1],\n",
    "    'randomforestclassifier__verbose':[0,1,2],\n",
    "    'randomforestclassifier__class_weight':['balanced','balanced_subsample'],\n",
    "    'randomforestclassifier__n_jobs':[-1],\n",
    "}"
   ]
  },
  {
   "cell_type": "code",
   "execution_count": null,
   "id": "a1ab6ca8",
   "metadata": {
    "_kg_hide-output": true,
    "execution": {
     "iopub.execute_input": "2021-08-27T11:31:46.994215Z",
     "iopub.status.busy": "2021-08-27T11:31:46.993609Z",
     "iopub.status.idle": "2021-08-27T11:36:19.820832Z",
     "shell.execute_reply": "2021-08-27T11:36:19.821416Z",
     "shell.execute_reply.started": "2021-08-25T22:27:54.423952Z"
    },
    "jupyter": {
     "outputs_hidden": true
    },
    "papermill": {
     "duration": 273.155835,
     "end_time": "2021-08-27T11:36:19.821773",
     "exception": false,
     "start_time": "2021-08-27T11:31:46.665938",
     "status": "completed"
    },
    "tags": []
   },
   "outputs": [],
   "source": [
    "RF_grid = RandomizedSearchCV(RandomPipeline,hyper_params,scoring='accuracy',n_iter=40)\n",
    "RF_grid.fit(X_train,y_train)\n",
    "ypred = RF_grid.predict(X_test)"
   ]
  },
  {
   "cell_type": "code",
   "execution_count": null,
   "id": "fab1727d",
   "metadata": {
    "execution": {
     "iopub.execute_input": "2021-08-27T11:36:20.544410Z",
     "iopub.status.busy": "2021-08-27T11:36:20.543826Z",
     "iopub.status.idle": "2021-08-27T11:36:20.551559Z",
     "shell.execute_reply": "2021-08-27T11:36:20.551102Z",
     "shell.execute_reply.started": "2021-08-25T22:32:37.284015Z"
    },
    "papermill": {
     "duration": 0.371581,
     "end_time": "2021-08-27T11:36:20.551702",
     "exception": false,
     "start_time": "2021-08-27T11:36:20.180121",
     "status": "completed"
    },
    "tags": []
   },
   "outputs": [],
   "source": [
    "print(classification_report(y_test,ypred))\n",
    "print(accuracy_score(y_test, y_pred))"
   ]
  },
  {
   "cell_type": "markdown",
   "id": "f9470863",
   "metadata": {
    "papermill": {
     "duration": 0.353648,
     "end_time": "2021-08-27T11:36:21.258059",
     "exception": false,
     "start_time": "2021-08-27T11:36:20.904411",
     "status": "completed"
    },
    "tags": []
   },
   "source": [
    "## Using KNN"
   ]
  },
  {
   "cell_type": "code",
   "execution_count": null,
   "id": "9286030f",
   "metadata": {
    "execution": {
     "iopub.execute_input": "2021-08-27T11:36:22.020576Z",
     "iopub.status.busy": "2021-08-27T11:36:22.019931Z",
     "iopub.status.idle": "2021-08-27T11:36:22.475820Z",
     "shell.execute_reply": "2021-08-27T11:36:22.476324Z",
     "shell.execute_reply.started": "2021-08-25T22:36:36.655141Z"
    },
    "papermill": {
     "duration": 0.867049,
     "end_time": "2021-08-27T11:36:22.476507",
     "exception": false,
     "start_time": "2021-08-27T11:36:21.609458",
     "status": "completed"
    },
    "tags": []
   },
   "outputs": [],
   "source": [
    "err = []\n",
    "  \n",
    "for i in range(1, 40):\n",
    "    \n",
    "    model = make_pipeline(preprocessor,KNeighborsClassifier(n_neighbors = i))\n",
    "    model.fit(X_train, y_train)\n",
    "    pred_i = model.predict(X_test)\n",
    "    err.append(np.mean(pred_i != y_test))\n",
    "  \n",
    "plt.figure(figsize =(10, 8))\n",
    "plt.plot(range(1, 40), err, color ='blue',\n",
    "                linestyle ='dashed', marker ='o',\n",
    "         markerfacecolor ='blue', markersize = 8)\n",
    "  \n",
    "plt.title('Mean Err = f(K)')\n",
    "plt.xlabel('K')\n",
    "plt.ylabel('Mean Err')"
   ]
  },
  {
   "cell_type": "code",
   "execution_count": null,
   "id": "29aa9ad8",
   "metadata": {
    "execution": {
     "iopub.execute_input": "2021-08-27T11:36:23.188075Z",
     "iopub.status.busy": "2021-08-27T11:36:23.187464Z",
     "iopub.status.idle": "2021-08-27T11:36:23.203040Z",
     "shell.execute_reply": "2021-08-27T11:36:23.203725Z",
     "shell.execute_reply.started": "2021-08-25T22:36:39.613394Z"
    },
    "papermill": {
     "duration": 0.374066,
     "end_time": "2021-08-27T11:36:23.203944",
     "exception": false,
     "start_time": "2021-08-27T11:36:22.829878",
     "status": "completed"
    },
    "tags": []
   },
   "outputs": [],
   "source": [
    "KNNPipeline = make_pipeline(preprocessor,KNeighborsClassifier(n_neighbors = 34))\n",
    "KNNPipeline.fit(X_train, y_train)\n",
    "y_proba = KNNPipeline.predict_proba(X_test)\n",
    "y_pred = np.argmax(y_proba,axis=1)\n",
    "print(\"KNN : \", accuracy_score(y_test, y_pred))"
   ]
  },
  {
   "cell_type": "markdown",
   "id": "5c4e1dfb",
   "metadata": {
    "papermill": {
     "duration": 0.359968,
     "end_time": "2021-08-27T11:36:23.925030",
     "exception": false,
     "start_time": "2021-08-27T11:36:23.565062",
     "status": "completed"
    },
    "tags": []
   },
   "source": [
    "## Using XGBoost"
   ]
  },
  {
   "cell_type": "code",
   "execution_count": null,
   "id": "462203fb",
   "metadata": {
    "execution": {
     "iopub.execute_input": "2021-08-27T11:36:24.638767Z",
     "iopub.status.busy": "2021-08-27T11:36:24.637967Z",
     "iopub.status.idle": "2021-08-27T11:36:42.565476Z",
     "shell.execute_reply": "2021-08-27T11:36:42.566217Z",
     "shell.execute_reply.started": "2021-08-25T22:32:37.881875Z"
    },
    "papermill": {
     "duration": 18.288235,
     "end_time": "2021-08-27T11:36:42.566384",
     "exception": false,
     "start_time": "2021-08-27T11:36:24.278149",
     "status": "completed"
    },
    "tags": []
   },
   "outputs": [],
   "source": [
    "import xgboost as xgb\n",
    "gbm = xgb.XGBClassifier(\n",
    "     learning_rate = 0.02,\n",
    "     n_estimators= 2000,\n",
    "     max_depth= 4,\n",
    "     min_child_weight= 2,\n",
    "     #gamma=1,\n",
    "     gamma=0.9,                        \n",
    "     subsample=0.8,\n",
    "     colsample_bytree=0.8,\n",
    "     objective= 'binary:logistic',\n",
    "     eval_metric = 'logloss',\n",
    "     nthread= -1,\n",
    "     scale_pos_weight=1).fit(X_train, y_train)\n",
    "evaluation (gbm)"
   ]
  },
  {
   "cell_type": "code",
   "execution_count": null,
   "id": "dc8ed550",
   "metadata": {},
   "outputs": [],
   "source": [
    "y_pred = gbm.predict(X_test)"
   ]
  },
  {
   "cell_type": "code",
   "execution_count": null,
   "id": "a8d614e8",
   "metadata": {},
   "outputs": [],
   "source": [
    "#! pip install scikit-plot\n",
    "from sklearn.preprocessing import LabelBinarizer\n",
    "from sklearn.metrics import roc_curve, auc\n",
    "from sklearn.metrics import roc_auc_score"
   ]
  },
  {
   "cell_type": "code",
   "execution_count": null,
   "id": "b36a4df2",
   "metadata": {},
   "outputs": [],
   "source": [
    "from sklearn.metrics import classification_report, accuracy_score\n",
    "\n",
    "print(accuracy_score(y_test, y_pred))\n",
    "print(classification_report(y_test, y_pred))"
   ]
  },
  {
   "cell_type": "code",
   "execution_count": null,
   "id": "ee098b2b",
   "metadata": {},
   "outputs": [],
   "source": [
    "from sklearn import metrics\n",
    "import seaborn as sns\n",
    "cnf_matrix = metrics.confusion_matrix(y_test, y_pred)\n",
    "p = sns.heatmap(pd.DataFrame(cnf_matrix), annot=True, cmap=\"YlGnBu\" ,fmt='g')\n",
    "plt.title('Confusion matrix', y=1.1)\n",
    "plt.ylabel('Actual label')\n",
    "plt.xlabel('Predicted label')"
   ]
  },
  {
   "cell_type": "code",
   "execution_count": null,
   "id": "d2889fe3",
   "metadata": {},
   "outputs": [],
   "source": [
    "from sklearn.preprocessing import LabelBinarizer\n",
    "from sklearn.metrics import roc_curve, auc\n",
    "from sklearn.metrics import roc_auc_score"
   ]
  },
  {
   "cell_type": "code",
   "execution_count": null,
   "id": "4abf4dca",
   "metadata": {},
   "outputs": [],
   "source": [
    "def multiclass_roc_auc_score(y_test, y_pred, average=\"macro\"):\n",
    "    lb = LabelBinarizer()\n",
    "    lb.fit(y_test)\n",
    "    y_test = lb.transform(y_test)\n",
    "    y_pred = lb.transform(y_pred)\n",
    "    return roc_auc_score(y_test, y_pred, average=average)"
   ]
  },
  {
   "cell_type": "code",
   "execution_count": null,
   "id": "16e2b376",
   "metadata": {},
   "outputs": [],
   "source": [
    "print(multiclass_roc_auc_score(y_test, y_pred))"
   ]
  },
  {
   "cell_type": "code",
   "execution_count": null,
   "id": "174b2ccc",
   "metadata": {
    "scrolled": true
   },
   "outputs": [],
   "source": [
    "from sklearn.metrics import roc_curve\n",
    "y_pred_keras_pr = gbm.predict_proba(X=X_test)\n",
    "import scikitplot as skplt\n",
    "plot = skplt.metrics.plot_roc(y_test, y_pred_keras_pr)"
   ]
  }
 ],
 "metadata": {
  "kernelspec": {
   "display_name": "Python 3 (ipykernel)",
   "language": "python",
   "name": "python3"
  },
  "language_info": {
   "codemirror_mode": {
    "name": "ipython",
    "version": 3
   },
   "file_extension": ".py",
   "mimetype": "text/x-python",
   "name": "python",
   "nbconvert_exporter": "python",
   "pygments_lexer": "ipython3",
   "version": "3.9.13"
  }
 },
 "nbformat": 4,
 "nbformat_minor": 5
}
