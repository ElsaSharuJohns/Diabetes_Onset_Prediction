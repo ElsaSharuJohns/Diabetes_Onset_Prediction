{
 "cells": [
  {
   "cell_type": "markdown",
   "metadata": {},
   "source": [
    "## Diabetes Prediction using predict features dataset"
   ]
  },
  {
   "cell_type": "markdown",
   "metadata": {},
   "source": [
    "<h4>Importing Libraries</h4>"
   ]
  },
  {
   "cell_type": "code",
   "execution_count": 1,
   "metadata": {
    "_cell_guid": "b1076dfc-b9ad-4769-8c92-a6c4dae69d19",
    "_uuid": "8f2839f25d086af736a60e9eeb907d3b93b6e0e5"
   },
   "outputs": [],
   "source": [
    "import sys #This module provides access to some variables used or maintained by the interpreter and to functions that interact strongly with the interpreter. \n",
    "import pandas as pd\n",
    "import numpy as np\n",
    "import sklearn\n",
    "import matplotlib\n",
    "import keras\n",
    "from sklearn.model_selection import train_test_split\n",
    "from sklearn.impute import SimpleImputer \n",
    "from pytorch_tabnet.tab_model import TabNetClassifier\n",
    "\n",
    "import torch\n",
    "from sklearn.preprocessing import LabelEncoder\n",
    "from sklearn.metrics import roc_auc_score\n",
    "\n",
    "import pandas as pd\n",
    "import numpy as np\n",
    "np.random.seed(0)\n",
    "\n",
    "\n",
    "import os\n",
    "import wget\n",
    "from pathlib import Path\n",
    "\n",
    "from matplotlib import pyplot as plt\n",
    "%matplotlib inline"
   ]
  },
  {
   "cell_type": "markdown",
   "metadata": {},
   "source": [
    "**Loading the Dataset**"
   ]
  },
  {
   "cell_type": "code",
   "execution_count": 2,
   "metadata": {},
   "outputs": [],
   "source": [
    "import time\n",
    "# store starting time\n",
    "begin_dataprep = time.time()"
   ]
  },
  {
   "cell_type": "code",
   "execution_count": 3,
   "metadata": {},
   "outputs": [
    {
     "data": {
      "text/html": [
       "<div>\n",
       "<style scoped>\n",
       "    .dataframe tbody tr th:only-of-type {\n",
       "        vertical-align: middle;\n",
       "    }\n",
       "\n",
       "    .dataframe tbody tr th {\n",
       "        vertical-align: top;\n",
       "    }\n",
       "\n",
       "    .dataframe thead th {\n",
       "        text-align: right;\n",
       "    }\n",
       "</style>\n",
       "<table border=\"1\" class=\"dataframe\">\n",
       "  <thead>\n",
       "    <tr style=\"text-align: right;\">\n",
       "      <th></th>\n",
       "      <th>Patient no</th>\n",
       "      <th>cholesterol</th>\n",
       "      <th>glucose</th>\n",
       "      <th>hdl_chol</th>\n",
       "      <th>chol_hdl_ratio</th>\n",
       "      <th>age</th>\n",
       "      <th>gender</th>\n",
       "      <th>height</th>\n",
       "      <th>weight</th>\n",
       "      <th>bmi</th>\n",
       "      <th>systolic_bp</th>\n",
       "      <th>diastolic_bp</th>\n",
       "      <th>waist</th>\n",
       "      <th>hip</th>\n",
       "      <th>waist_hip_ratio</th>\n",
       "      <th>Outcome</th>\n",
       "    </tr>\n",
       "  </thead>\n",
       "  <tbody>\n",
       "    <tr>\n",
       "      <th>0</th>\n",
       "      <td>1</td>\n",
       "      <td>193</td>\n",
       "      <td>77</td>\n",
       "      <td>49</td>\n",
       "      <td>3.9</td>\n",
       "      <td>19</td>\n",
       "      <td>1</td>\n",
       "      <td>61</td>\n",
       "      <td>119</td>\n",
       "      <td>22.5</td>\n",
       "      <td>118</td>\n",
       "      <td>70</td>\n",
       "      <td>32</td>\n",
       "      <td>38</td>\n",
       "      <td>0.84</td>\n",
       "      <td>0</td>\n",
       "    </tr>\n",
       "    <tr>\n",
       "      <th>1</th>\n",
       "      <td>2</td>\n",
       "      <td>146</td>\n",
       "      <td>79</td>\n",
       "      <td>41</td>\n",
       "      <td>3.6</td>\n",
       "      <td>19</td>\n",
       "      <td>1</td>\n",
       "      <td>60</td>\n",
       "      <td>135</td>\n",
       "      <td>26.4</td>\n",
       "      <td>108</td>\n",
       "      <td>58</td>\n",
       "      <td>33</td>\n",
       "      <td>40</td>\n",
       "      <td>0.83</td>\n",
       "      <td>0</td>\n",
       "    </tr>\n",
       "    <tr>\n",
       "      <th>2</th>\n",
       "      <td>3</td>\n",
       "      <td>217</td>\n",
       "      <td>75</td>\n",
       "      <td>54</td>\n",
       "      <td>4.0</td>\n",
       "      <td>20</td>\n",
       "      <td>1</td>\n",
       "      <td>67</td>\n",
       "      <td>187</td>\n",
       "      <td>29.3</td>\n",
       "      <td>110</td>\n",
       "      <td>72</td>\n",
       "      <td>40</td>\n",
       "      <td>45</td>\n",
       "      <td>0.89</td>\n",
       "      <td>0</td>\n",
       "    </tr>\n",
       "    <tr>\n",
       "      <th>3</th>\n",
       "      <td>4</td>\n",
       "      <td>226</td>\n",
       "      <td>97</td>\n",
       "      <td>70</td>\n",
       "      <td>3.2</td>\n",
       "      <td>20</td>\n",
       "      <td>1</td>\n",
       "      <td>64</td>\n",
       "      <td>114</td>\n",
       "      <td>19.6</td>\n",
       "      <td>122</td>\n",
       "      <td>64</td>\n",
       "      <td>31</td>\n",
       "      <td>39</td>\n",
       "      <td>0.79</td>\n",
       "      <td>0</td>\n",
       "    </tr>\n",
       "    <tr>\n",
       "      <th>4</th>\n",
       "      <td>5</td>\n",
       "      <td>164</td>\n",
       "      <td>91</td>\n",
       "      <td>67</td>\n",
       "      <td>2.4</td>\n",
       "      <td>20</td>\n",
       "      <td>1</td>\n",
       "      <td>70</td>\n",
       "      <td>141</td>\n",
       "      <td>20.2</td>\n",
       "      <td>122</td>\n",
       "      <td>86</td>\n",
       "      <td>32</td>\n",
       "      <td>39</td>\n",
       "      <td>0.82</td>\n",
       "      <td>0</td>\n",
       "    </tr>\n",
       "  </tbody>\n",
       "</table>\n",
       "</div>"
      ],
      "text/plain": [
       "   Patient no  cholesterol  glucose  hdl_chol  chol_hdl_ratio  age  gender  \\\n",
       "0           1          193       77        49             3.9   19       1   \n",
       "1           2          146       79        41             3.6   19       1   \n",
       "2           3          217       75        54             4.0   20       1   \n",
       "3           4          226       97        70             3.2   20       1   \n",
       "4           5          164       91        67             2.4   20       1   \n",
       "\n",
       "   height  weight   bmi  systolic_bp  diastolic_bp  waist  hip  \\\n",
       "0      61     119  22.5          118            70     32   38   \n",
       "1      60     135  26.4          108            58     33   40   \n",
       "2      67     187  29.3          110            72     40   45   \n",
       "3      64     114  19.6          122            64     31   39   \n",
       "4      70     141  20.2          122            86     32   39   \n",
       "\n",
       "   waist_hip_ratio  Outcome  \n",
       "0             0.84        0  \n",
       "1             0.83        0  \n",
       "2             0.89        0  \n",
       "3             0.79        0  \n",
       "4             0.82        0  "
      ]
     },
     "execution_count": 3,
     "metadata": {},
     "output_type": "execute_result"
    }
   ],
   "source": [
    "#read diabetes data \n",
    "df1 = pd.read_csv('diag_syn_great_diab_copy.csv')\n",
    "#df1.drop(['Patient no'],axis=1,inplace=True)\n",
    "df1.head()"
   ]
  },
  {
   "cell_type": "code",
   "execution_count": 4,
   "metadata": {},
   "outputs": [
    {
     "data": {
      "text/plain": [
       "Index(['Patient no', 'cholesterol', 'glucose', 'hdl_chol', 'chol_hdl_ratio',\n",
       "       'age', 'gender', 'height', 'weight', 'bmi', 'systolic_bp',\n",
       "       'diastolic_bp', 'waist', 'hip', 'waist_hip_ratio', 'Outcome'],\n",
       "      dtype='object')"
      ]
     },
     "execution_count": 4,
     "metadata": {},
     "output_type": "execute_result"
    }
   ],
   "source": [
    "df1.columns"
   ]
  },
  {
   "cell_type": "code",
   "execution_count": 5,
   "metadata": {},
   "outputs": [],
   "source": [
    "from sklearn import preprocessing\n",
    "lbl = preprocessing.LabelEncoder()\n",
    "df1['gender'] = df1['gender'].astype(int)\n",
    "df1['gender'] = lbl.fit_transform(df1['gender'].astype(str))"
   ]
  },
  {
   "cell_type": "code",
   "execution_count": 6,
   "metadata": {},
   "outputs": [],
   "source": [
    "columns=df1.columns"
   ]
  },
  {
   "cell_type": "code",
   "execution_count": 7,
   "metadata": {},
   "outputs": [],
   "source": [
    "df1 = df1.reindex(columns=columns)"
   ]
  },
  {
   "cell_type": "code",
   "execution_count": 8,
   "metadata": {},
   "outputs": [
    {
     "data": {
      "text/plain": [
       "0    0.543750\n",
       "1    0.258333\n",
       "2    0.197917\n",
       "Name: Outcome, dtype: float64"
      ]
     },
     "execution_count": 8,
     "metadata": {},
     "output_type": "execute_result"
    }
   ],
   "source": [
    "df1['Outcome'].value_counts(normalize=True)"
   ]
  },
  {
   "cell_type": "code",
   "execution_count": 9,
   "metadata": {},
   "outputs": [],
   "source": [
    "train=df1\n",
    "# dropping ALL duplicate values\n",
    "train.drop_duplicates(keep = False, inplace = True)"
   ]
  },
  {
   "cell_type": "code",
   "execution_count": 10,
   "metadata": {},
   "outputs": [],
   "source": [
    "\n",
    "target = 'Outcome'\n",
    "if \"Set\" not in train.columns:\n",
    "    train[\"Set\"] = np.random.choice([\"train\", \"valid\", \"test\"], p =[.8, .1, .1], size=(train.shape[0],))\n",
    "\n",
    "train_indices = train[train.Set==\"train\"].index\n",
    "valid_indices = train[train.Set==\"valid\"].index\n",
    "test_indices = train[train.Set==\"test\"].index"
   ]
  },
  {
   "cell_type": "code",
   "execution_count": 11,
   "metadata": {},
   "outputs": [
    {
     "name": "stdout",
     "output_type": "stream",
     "text": [
      "gender 2\n",
      "Outcome 3\n",
      "Set 3\n"
     ]
    }
   ],
   "source": [
    "#Simple preprocessing\n",
    "nunique = train.nunique()\n",
    "types = train.dtypes\n",
    "\n",
    "categorical_columns = []\n",
    "categorical_dims =  {}\n",
    "for col in train.columns:\n",
    "    if types[col] == 'object' or nunique[col] < 10:\n",
    "        print(col, train[col].nunique())\n",
    "        l_enc = LabelEncoder()\n",
    "        train[col] = train[col].fillna(\"VV_likely\")\n",
    "        train[col] = l_enc.fit_transform(train[col].values)\n",
    "        categorical_columns.append(col)\n",
    "        categorical_dims[col] = len(l_enc.classes_)\n",
    "    else:\n",
    "        train.fillna(train.loc[train_indices, col].mean(), inplace=True)"
   ]
  },
  {
   "cell_type": "code",
   "execution_count": 12,
   "metadata": {},
   "outputs": [
    {
     "name": "stdout",
     "output_type": "stream",
     "text": [
      "<class 'pandas.core.frame.DataFrame'>\n",
      "Int64Index: 480 entries, 0 to 479\n",
      "Data columns (total 17 columns):\n",
      " #   Column           Non-Null Count  Dtype  \n",
      "---  ------           --------------  -----  \n",
      " 0   Patient no       480 non-null    int64  \n",
      " 1   cholesterol      480 non-null    int64  \n",
      " 2   glucose          480 non-null    int64  \n",
      " 3   hdl_chol         480 non-null    int64  \n",
      " 4   chol_hdl_ratio   480 non-null    float64\n",
      " 5   age              480 non-null    int64  \n",
      " 6   gender           480 non-null    int64  \n",
      " 7   height           480 non-null    int64  \n",
      " 8   weight           480 non-null    int64  \n",
      " 9   bmi              480 non-null    float64\n",
      " 10  systolic_bp      480 non-null    int64  \n",
      " 11  diastolic_bp     480 non-null    int64  \n",
      " 12  waist            480 non-null    int64  \n",
      " 13  hip              480 non-null    int64  \n",
      " 14  waist_hip_ratio  480 non-null    float64\n",
      " 15  Outcome          480 non-null    int64  \n",
      " 16  Set              480 non-null    int32  \n",
      "dtypes: float64(3), int32(1), int64(13)\n",
      "memory usage: 81.8 KB\n"
     ]
    }
   ],
   "source": [
    "train.info()"
   ]
  },
  {
   "cell_type": "code",
   "execution_count": 13,
   "metadata": {},
   "outputs": [],
   "source": [
    "# check that pipeline accepts strings\n",
    "train.loc[train[target]==0, target] = \"Normal\"\n",
    "train.loc[train[target]==2, target] = \"Prediabetic\"\n",
    "train.loc[train[target]==1, target] = \"Diabetic\""
   ]
  },
  {
   "cell_type": "code",
   "execution_count": 14,
   "metadata": {},
   "outputs": [],
   "source": [
    "#Define categorical features for categorical embeddings\n",
    "unused_feat = ['Set']\n",
    "\n",
    "features = [ col for col in train.columns if col not in unused_feat+[target]] \n",
    "\n",
    "cat_idxs = [ i for i, f in enumerate(features) if f in categorical_columns]\n",
    "\n",
    "cat_dims = [ categorical_dims[f] for i, f in enumerate(features) if f in categorical_columns]"
   ]
  },
  {
   "cell_type": "code",
   "execution_count": 15,
   "metadata": {},
   "outputs": [],
   "source": [
    "train.replace([np.inf, -np.inf], np.nan, inplace=True)"
   ]
  },
  {
   "cell_type": "markdown",
   "metadata": {},
   "source": [
    "### Training"
   ]
  },
  {
   "cell_type": "code",
   "execution_count": 16,
   "metadata": {},
   "outputs": [],
   "source": [
    "start_clf= time.time()"
   ]
  },
  {
   "cell_type": "code",
   "execution_count": 17,
   "metadata": {},
   "outputs": [
    {
     "name": "stderr",
     "output_type": "stream",
     "text": [
      "C:\\Users\\admin\\anaconda3\\envs\\pytorch-gpu-diab\\lib\\site-packages\\pytorch_tabnet\\abstract_model.py:75: UserWarning: Device used : cuda\n",
      "  warnings.warn(f\"Device used : {self.device}\")\n"
     ]
    }
   ],
   "source": [
    "#Network parameters\n",
    "tabnet_params = {\"cat_idxs\":cat_idxs,\n",
    "                 \"cat_dims\":cat_dims,\n",
    "                 \"cat_emb_dim\":1,\n",
    "                 \"optimizer_fn\":torch.optim.Adam,\n",
    "                 \"optimizer_params\":dict(lr=2e-2),\n",
    "                 \"scheduler_params\":{\"step_size\":50, # how to use learning rate scheduler\n",
    "                                 \"gamma\":0.9},\n",
    "                 \"scheduler_fn\":torch.optim.lr_scheduler.StepLR,\n",
    "                 \"mask_type\":'entmax' # \"sparsemax\"\n",
    "                }\n",
    "\n",
    "clf = TabNetClassifier(**tabnet_params\n",
    "                      )"
   ]
  },
  {
   "cell_type": "code",
   "execution_count": 18,
   "metadata": {},
   "outputs": [
    {
     "data": {
      "text/plain": [
       "(385,)"
      ]
     },
     "execution_count": 18,
     "metadata": {},
     "output_type": "execute_result"
    }
   ],
   "source": [
    "train_indices.shape"
   ]
  },
  {
   "cell_type": "code",
   "execution_count": 19,
   "metadata": {},
   "outputs": [
    {
     "data": {
      "text/plain": [
       "Int64Index([  0,   1,   2,   3,   4,   5,   6,   9,  10,  11,\n",
       "            ...\n",
       "            464, 465, 466, 467, 469, 470, 472, 475, 476, 479],\n",
       "           dtype='int64', length=385)"
      ]
     },
     "execution_count": 19,
     "metadata": {},
     "output_type": "execute_result"
    }
   ],
   "source": [
    "train_indices"
   ]
  },
  {
   "cell_type": "code",
   "execution_count": 20,
   "metadata": {},
   "outputs": [],
   "source": [
    "X_train = train[features].values[train_indices]\n",
    "y_train = train[target].values[train_indices]\n",
    "\n",
    "X_valid = train[features].values[valid_indices]\n",
    "y_valid = train[target].values[valid_indices]\n",
    "\n",
    "X_test = train[features].values[test_indices]\n",
    "y_test = train[target].values[test_indices]"
   ]
  },
  {
   "cell_type": "code",
   "execution_count": 21,
   "metadata": {},
   "outputs": [
    {
     "data": {
      "text/plain": [
       "(385, 15)"
      ]
     },
     "execution_count": 21,
     "metadata": {},
     "output_type": "execute_result"
    }
   ],
   "source": [
    "X_train.shape"
   ]
  },
  {
   "cell_type": "code",
   "execution_count": 22,
   "metadata": {},
   "outputs": [
    {
     "data": {
      "text/plain": [
       "(385,)"
      ]
     },
     "execution_count": 22,
     "metadata": {},
     "output_type": "execute_result"
    }
   ],
   "source": [
    "y_train.shape"
   ]
  },
  {
   "cell_type": "code",
   "execution_count": 23,
   "metadata": {},
   "outputs": [
    {
     "data": {
      "text/plain": [
       "(56, 15)"
      ]
     },
     "execution_count": 23,
     "metadata": {},
     "output_type": "execute_result"
    }
   ],
   "source": [
    "X_test.shape"
   ]
  },
  {
   "cell_type": "code",
   "execution_count": 24,
   "metadata": {},
   "outputs": [
    {
     "data": {
      "text/plain": [
       "(56,)"
      ]
     },
     "execution_count": 24,
     "metadata": {},
     "output_type": "execute_result"
    }
   ],
   "source": [
    "y_test.shape"
   ]
  },
  {
   "cell_type": "code",
   "execution_count": 25,
   "metadata": {},
   "outputs": [],
   "source": [
    "max_epochs = 100 if not os.getenv(\"CI\", False) else 2"
   ]
  },
  {
   "cell_type": "code",
   "execution_count": 26,
   "metadata": {},
   "outputs": [],
   "source": [
    "from pytorch_tabnet.augmentations import ClassificationSMOTE\n",
    "aug = ClassificationSMOTE(p=0.2)"
   ]
  },
  {
   "cell_type": "code",
   "execution_count": 29,
   "metadata": {},
   "outputs": [
    {
     "name": "stdout",
     "output_type": "stream",
     "text": [
      "epoch 0  | loss: 1.26743 | train_accuracy: 0.32468 | valid_accuracy: 0.38462 |  0:00:01s\n",
      "epoch 1  | loss: 1.02711 | train_accuracy: 0.55065 | valid_accuracy: 0.5641  |  0:00:02s\n",
      "epoch 2  | loss: 0.89297 | train_accuracy: 0.55844 | valid_accuracy: 0.61538 |  0:00:03s\n",
      "epoch 3  | loss: 0.88661 | train_accuracy: 0.58442 | valid_accuracy: 0.53846 |  0:00:05s\n",
      "epoch 4  | loss: 0.71474 | train_accuracy: 0.62078 | valid_accuracy: 0.76923 |  0:00:06s\n",
      "epoch 5  | loss: 0.81421 | train_accuracy: 0.6961  | valid_accuracy: 0.76923 |  0:00:07s\n",
      "epoch 6  | loss: 0.70358 | train_accuracy: 0.78182 | valid_accuracy: 0.87179 |  0:00:09s\n",
      "epoch 7  | loss: 0.6807  | train_accuracy: 0.83636 | valid_accuracy: 0.89744 |  0:00:10s\n",
      "epoch 8  | loss: 0.66929 | train_accuracy: 0.76364 | valid_accuracy: 0.82051 |  0:00:11s\n",
      "epoch 9  | loss: 0.66721 | train_accuracy: 0.87792 | valid_accuracy: 0.92308 |  0:00:13s\n",
      "epoch 10 | loss: 0.6498  | train_accuracy: 0.87013 | valid_accuracy: 0.92308 |  0:00:14s\n",
      "epoch 11 | loss: 0.68171 | train_accuracy: 0.86234 | valid_accuracy: 0.89744 |  0:00:15s\n",
      "epoch 12 | loss: 0.65036 | train_accuracy: 0.88831 | valid_accuracy: 0.89744 |  0:00:17s\n",
      "epoch 13 | loss: 0.72044 | train_accuracy: 0.86234 | valid_accuracy: 0.92308 |  0:00:18s\n",
      "epoch 14 | loss: 0.65803 | train_accuracy: 0.83117 | valid_accuracy: 0.87179 |  0:00:19s\n",
      "epoch 15 | loss: 0.60944 | train_accuracy: 0.86494 | valid_accuracy: 0.89744 |  0:00:20s\n",
      "epoch 16 | loss: 0.73988 | train_accuracy: 0.80519 | valid_accuracy: 0.89744 |  0:00:22s\n",
      "epoch 17 | loss: 0.61406 | train_accuracy: 0.88831 | valid_accuracy: 0.89744 |  0:00:23s\n",
      "epoch 18 | loss: 0.60428 | train_accuracy: 0.77922 | valid_accuracy: 0.87179 |  0:00:24s\n",
      "epoch 19 | loss: 0.74424 | train_accuracy: 0.87013 | valid_accuracy: 0.92308 |  0:00:26s\n",
      "epoch 20 | loss: 0.6203  | train_accuracy: 0.83377 | valid_accuracy: 0.92308 |  0:00:27s\n",
      "epoch 21 | loss: 0.78276 | train_accuracy: 0.85974 | valid_accuracy: 0.92308 |  0:00:28s\n",
      "epoch 22 | loss: 0.63812 | train_accuracy: 0.86494 | valid_accuracy: 0.94872 |  0:00:29s\n",
      "epoch 23 | loss: 0.64574 | train_accuracy: 0.86234 | valid_accuracy: 0.94872 |  0:00:31s\n",
      "epoch 24 | loss: 0.64431 | train_accuracy: 0.87273 | valid_accuracy: 0.94872 |  0:00:32s\n",
      "epoch 25 | loss: 0.62096 | train_accuracy: 0.85714 | valid_accuracy: 0.84615 |  0:00:33s\n",
      "epoch 26 | loss: 0.5822  | train_accuracy: 0.88312 | valid_accuracy: 0.94872 |  0:00:35s\n",
      "epoch 27 | loss: 0.59988 | train_accuracy: 0.83117 | valid_accuracy: 0.94872 |  0:00:36s\n",
      "epoch 28 | loss: 0.71414 | train_accuracy: 0.88052 | valid_accuracy: 0.92308 |  0:00:37s\n",
      "epoch 29 | loss: 0.63909 | train_accuracy: 0.85974 | valid_accuracy: 0.87179 |  0:00:39s\n",
      "epoch 30 | loss: 0.7042  | train_accuracy: 0.84416 | valid_accuracy: 0.92308 |  0:00:40s\n",
      "epoch 31 | loss: 0.60146 | train_accuracy: 0.84675 | valid_accuracy: 0.89744 |  0:00:41s\n",
      "epoch 32 | loss: 0.66778 | train_accuracy: 0.81299 | valid_accuracy: 0.87179 |  0:00:42s\n",
      "epoch 33 | loss: 0.62362 | train_accuracy: 0.87792 | valid_accuracy: 0.97436 |  0:00:44s\n",
      "epoch 34 | loss: 0.61436 | train_accuracy: 0.85455 | valid_accuracy: 0.92308 |  0:00:45s\n",
      "epoch 35 | loss: 0.51346 | train_accuracy: 0.82338 | valid_accuracy: 0.87179 |  0:00:46s\n",
      "epoch 36 | loss: 0.63954 | train_accuracy: 0.89091 | valid_accuracy: 0.92308 |  0:00:48s\n",
      "epoch 37 | loss: 0.61581 | train_accuracy: 0.82078 | valid_accuracy: 0.89744 |  0:00:49s\n",
      "epoch 38 | loss: 0.62963 | train_accuracy: 0.83377 | valid_accuracy: 0.94872 |  0:00:50s\n",
      "epoch 39 | loss: 0.61621 | train_accuracy: 0.87013 | valid_accuracy: 0.92308 |  0:00:52s\n",
      "epoch 40 | loss: 0.57895 | train_accuracy: 0.86494 | valid_accuracy: 0.97436 |  0:00:53s\n",
      "epoch 41 | loss: 0.55765 | train_accuracy: 0.85974 | valid_accuracy: 0.92308 |  0:00:54s\n",
      "epoch 42 | loss: 0.6623  | train_accuracy: 0.80779 | valid_accuracy: 0.94872 |  0:00:55s\n",
      "epoch 43 | loss: 0.62059 | train_accuracy: 0.86753 | valid_accuracy: 0.97436 |  0:00:57s\n",
      "epoch 44 | loss: 0.59286 | train_accuracy: 0.85714 | valid_accuracy: 0.92308 |  0:00:58s\n",
      "epoch 45 | loss: 0.65724 | train_accuracy: 0.8961  | valid_accuracy: 0.94872 |  0:00:59s\n",
      "epoch 46 | loss: 0.5852  | train_accuracy: 0.87532 | valid_accuracy: 0.87179 |  0:01:01s\n",
      "epoch 47 | loss: 0.65988 | train_accuracy: 0.86753 | valid_accuracy: 0.92308 |  0:01:02s\n",
      "epoch 48 | loss: 0.59766 | train_accuracy: 0.80779 | valid_accuracy: 0.94872 |  0:01:03s\n",
      "epoch 49 | loss: 0.59484 | train_accuracy: 0.85455 | valid_accuracy: 0.94872 |  0:01:05s\n",
      "epoch 50 | loss: 0.6186  | train_accuracy: 0.83636 | valid_accuracy: 0.94872 |  0:01:06s\n",
      "epoch 51 | loss: 0.5778  | train_accuracy: 0.86494 | valid_accuracy: 0.89744 |  0:01:07s\n",
      "epoch 52 | loss: 0.61646 | train_accuracy: 0.90909 | valid_accuracy: 0.94872 |  0:01:08s\n",
      "epoch 53 | loss: 0.5838  | train_accuracy: 0.9013  | valid_accuracy: 0.94872 |  0:01:10s\n",
      "\n",
      "Early stopping occurred at epoch 53 with best_epoch = 33 and best_valid_accuracy = 0.97436\n"
     ]
    },
    {
     "name": "stderr",
     "output_type": "stream",
     "text": [
      "C:\\Users\\admin\\anaconda3\\envs\\pytorch-gpu-diab\\lib\\site-packages\\pytorch_tabnet\\callbacks.py:172: UserWarning: Best weights from best epoch are automatically used!\n",
      "  warnings.warn(wrn_msg)\n"
     ]
    },
    {
     "name": "stdout",
     "output_type": "stream",
     "text": [
      "epoch 0  | loss: 1.26743 | train_accuracy: 0.32468 | valid_accuracy: 0.38462 |  0:00:01s\n",
      "epoch 1  | loss: 1.02711 | train_accuracy: 0.55065 | valid_accuracy: 0.5641  |  0:00:02s\n",
      "epoch 2  | loss: 0.89297 | train_accuracy: 0.55844 | valid_accuracy: 0.61538 |  0:00:03s\n",
      "epoch 3  | loss: 0.88661 | train_accuracy: 0.58442 | valid_accuracy: 0.53846 |  0:00:05s\n",
      "epoch 4  | loss: 0.71474 | train_accuracy: 0.62078 | valid_accuracy: 0.76923 |  0:00:06s\n",
      "epoch 5  | loss: 0.81421 | train_accuracy: 0.6961  | valid_accuracy: 0.76923 |  0:00:07s\n",
      "epoch 6  | loss: 0.70358 | train_accuracy: 0.78182 | valid_accuracy: 0.87179 |  0:00:09s\n",
      "epoch 7  | loss: 0.6807  | train_accuracy: 0.83636 | valid_accuracy: 0.89744 |  0:00:10s\n",
      "epoch 8  | loss: 0.66929 | train_accuracy: 0.76364 | valid_accuracy: 0.82051 |  0:00:11s\n",
      "epoch 9  | loss: 0.66721 | train_accuracy: 0.87792 | valid_accuracy: 0.92308 |  0:00:13s\n",
      "epoch 10 | loss: 0.6498  | train_accuracy: 0.87013 | valid_accuracy: 0.92308 |  0:00:14s\n",
      "epoch 11 | loss: 0.68171 | train_accuracy: 0.86234 | valid_accuracy: 0.89744 |  0:00:15s\n",
      "epoch 12 | loss: 0.65036 | train_accuracy: 0.88831 | valid_accuracy: 0.89744 |  0:00:16s\n",
      "epoch 13 | loss: 0.72044 | train_accuracy: 0.86234 | valid_accuracy: 0.92308 |  0:00:18s\n",
      "epoch 14 | loss: 0.65803 | train_accuracy: 0.83117 | valid_accuracy: 0.87179 |  0:00:19s\n",
      "epoch 15 | loss: 0.60944 | train_accuracy: 0.86494 | valid_accuracy: 0.89744 |  0:00:20s\n",
      "epoch 16 | loss: 0.73988 | train_accuracy: 0.80519 | valid_accuracy: 0.89744 |  0:00:22s\n",
      "epoch 17 | loss: 0.61406 | train_accuracy: 0.88831 | valid_accuracy: 0.89744 |  0:00:23s\n",
      "epoch 18 | loss: 0.60428 | train_accuracy: 0.77922 | valid_accuracy: 0.87179 |  0:00:24s\n",
      "epoch 19 | loss: 0.74424 | train_accuracy: 0.87013 | valid_accuracy: 0.92308 |  0:00:25s\n",
      "epoch 20 | loss: 0.6203  | train_accuracy: 0.83377 | valid_accuracy: 0.92308 |  0:00:27s\n",
      "epoch 21 | loss: 0.78276 | train_accuracy: 0.85974 | valid_accuracy: 0.92308 |  0:00:28s\n",
      "epoch 22 | loss: 0.63812 | train_accuracy: 0.86494 | valid_accuracy: 0.94872 |  0:00:29s\n",
      "epoch 23 | loss: 0.64574 | train_accuracy: 0.86234 | valid_accuracy: 0.94872 |  0:00:30s\n",
      "epoch 24 | loss: 0.64431 | train_accuracy: 0.87273 | valid_accuracy: 0.94872 |  0:00:32s\n",
      "epoch 25 | loss: 0.62096 | train_accuracy: 0.85714 | valid_accuracy: 0.84615 |  0:00:33s\n",
      "epoch 26 | loss: 0.5822  | train_accuracy: 0.88312 | valid_accuracy: 0.94872 |  0:00:34s\n",
      "epoch 27 | loss: 0.59988 | train_accuracy: 0.83117 | valid_accuracy: 0.94872 |  0:00:36s\n",
      "epoch 28 | loss: 0.71414 | train_accuracy: 0.88052 | valid_accuracy: 0.92308 |  0:00:37s\n",
      "epoch 29 | loss: 0.63909 | train_accuracy: 0.85974 | valid_accuracy: 0.87179 |  0:00:38s\n",
      "epoch 30 | loss: 0.7042  | train_accuracy: 0.84416 | valid_accuracy: 0.92308 |  0:00:40s\n",
      "epoch 31 | loss: 0.60146 | train_accuracy: 0.84675 | valid_accuracy: 0.89744 |  0:00:41s\n",
      "epoch 32 | loss: 0.66778 | train_accuracy: 0.81299 | valid_accuracy: 0.87179 |  0:00:42s\n",
      "epoch 33 | loss: 0.62362 | train_accuracy: 0.87792 | valid_accuracy: 0.97436 |  0:00:43s\n",
      "epoch 34 | loss: 0.61436 | train_accuracy: 0.85455 | valid_accuracy: 0.92308 |  0:00:45s\n",
      "epoch 35 | loss: 0.51346 | train_accuracy: 0.82338 | valid_accuracy: 0.87179 |  0:00:46s\n",
      "epoch 36 | loss: 0.63954 | train_accuracy: 0.89091 | valid_accuracy: 0.92308 |  0:00:47s\n",
      "epoch 37 | loss: 0.61581 | train_accuracy: 0.82078 | valid_accuracy: 0.89744 |  0:00:49s\n",
      "epoch 38 | loss: 0.62963 | train_accuracy: 0.83377 | valid_accuracy: 0.94872 |  0:00:50s\n",
      "epoch 39 | loss: 0.61621 | train_accuracy: 0.87013 | valid_accuracy: 0.92308 |  0:00:51s\n",
      "epoch 40 | loss: 0.57895 | train_accuracy: 0.86494 | valid_accuracy: 0.97436 |  0:00:53s\n",
      "epoch 41 | loss: 0.55765 | train_accuracy: 0.85974 | valid_accuracy: 0.92308 |  0:00:54s\n",
      "epoch 42 | loss: 0.6623  | train_accuracy: 0.80779 | valid_accuracy: 0.94872 |  0:00:55s\n",
      "epoch 43 | loss: 0.62059 | train_accuracy: 0.86753 | valid_accuracy: 0.97436 |  0:00:56s\n",
      "epoch 44 | loss: 0.59286 | train_accuracy: 0.85714 | valid_accuracy: 0.92308 |  0:00:58s\n",
      "epoch 45 | loss: 0.65724 | train_accuracy: 0.8961  | valid_accuracy: 0.94872 |  0:00:59s\n",
      "epoch 46 | loss: 0.5852  | train_accuracy: 0.87532 | valid_accuracy: 0.87179 |  0:01:00s\n",
      "epoch 47 | loss: 0.65988 | train_accuracy: 0.86753 | valid_accuracy: 0.92308 |  0:01:02s\n",
      "epoch 48 | loss: 0.59766 | train_accuracy: 0.80779 | valid_accuracy: 0.94872 |  0:01:03s\n",
      "epoch 49 | loss: 0.59484 | train_accuracy: 0.85455 | valid_accuracy: 0.94872 |  0:01:04s\n",
      "epoch 50 | loss: 0.6186  | train_accuracy: 0.83636 | valid_accuracy: 0.94872 |  0:01:05s\n",
      "epoch 51 | loss: 0.5778  | train_accuracy: 0.86494 | valid_accuracy: 0.89744 |  0:01:07s\n",
      "epoch 52 | loss: 0.61646 | train_accuracy: 0.90909 | valid_accuracy: 0.94872 |  0:01:08s\n",
      "epoch 53 | loss: 0.5838  | train_accuracy: 0.9013  | valid_accuracy: 0.94872 |  0:01:09s\n",
      "\n",
      "Early stopping occurred at epoch 53 with best_epoch = 33 and best_valid_accuracy = 0.97436\n"
     ]
    },
    {
     "name": "stderr",
     "output_type": "stream",
     "text": [
      "C:\\Users\\admin\\anaconda3\\envs\\pytorch-gpu-diab\\lib\\site-packages\\pytorch_tabnet\\callbacks.py:172: UserWarning: Best weights from best epoch are automatically used!\n",
      "  warnings.warn(wrn_msg)\n"
     ]
    }
   ],
   "source": [
    "# This illustrates the warm_start=False behaviour\n",
    "save_history = []\n",
    "for _ in range(2):\n",
    "    clf.fit(\n",
    "        X_train=X_train, y_train=y_train,\n",
    "        eval_set=[(X_train, y_train), (X_valid, y_valid)],\n",
    "        eval_name=['train', 'valid'],\n",
    "        eval_metric=['accuracy'],#,'balanced_accuracy'\n",
    "        max_epochs=max_epochs , patience=20,\n",
    "        batch_size=8, \n",
    "        num_workers=0,\n",
    "        weights=1,\n",
    "        drop_last=True,# changed because of the value error,ValueError: Expected more than 1 value per channel when training, got input size torch.Size([1, 15])\n",
    "        augmentations=aug, #aug, None\n",
    "    )\n",
    "    save_history.append(clf.history[\"valid_accuracy\"])\n",
    "\n",
    "assert(np.all(np.array(save_history[0]==np.array(save_history[1]))))"
   ]
  },
  {
   "cell_type": "code",
   "execution_count": 30,
   "metadata": {},
   "outputs": [
    {
     "data": {
      "text/plain": [
       "[<matplotlib.lines.Line2D at 0x2441402a5e0>]"
      ]
     },
     "execution_count": 30,
     "metadata": {},
     "output_type": "execute_result"
    },
    {
     "data": {
      "image/png": "[encoded data removed]",
      "text/plain": [
       "<Figure size 432x288 with 1 Axes>"
      ]
     },
     "metadata": {
      "needs_background": "light"
     },
     "output_type": "display_data"
    }
   ],
   "source": [
    "# plot losses\n",
    "plt.plot(clf.history['loss'])"
   ]
  },
  {
   "cell_type": "code",
   "execution_count": 31,
   "metadata": {},
   "outputs": [
    {
     "data": {
      "text/plain": [
       "[<matplotlib.lines.Line2D at 0x244a81721c0>]"
      ]
     },
     "execution_count": 31,
     "metadata": {},
     "output_type": "execute_result"
    },
    {
     "data": {
      "image/png": "[encoded data removed]",
      "text/plain": [
       "<Figure size 432x288 with 1 Axes>"
      ]
     },
     "metadata": {
      "needs_background": "light"
     },
     "output_type": "display_data"
    }
   ],
   "source": [
    "# plot auc\n",
    "plt.plot(clf.history['train_accuracy'])\n",
    "plt.plot(clf.history['valid_accuracy'])"
   ]
  },
  {
   "cell_type": "code",
   "execution_count": 32,
   "metadata": {},
   "outputs": [
    {
     "data": {
      "text/plain": [
       "[<matplotlib.lines.Line2D at 0x244a83567c0>]"
      ]
     },
     "execution_count": 32,
     "metadata": {},
     "output_type": "execute_result"
    },
    {
     "data": {
      "image/png": "[encoded data removed]",
      "text/plain": [
       "<Figure size 432x288 with 1 Axes>"
      ]
     },
     "metadata": {
      "needs_background": "light"
     },
     "output_type": "display_data"
    }
   ],
   "source": [
    "# plot learning rates\n",
    "plt.plot(clf.history['lr'])"
   ]
  },
  {
   "cell_type": "markdown",
   "metadata": {},
   "source": [
    "### Prediction"
   ]
  },
  {
   "cell_type": "code",
   "execution_count": 33,
   "metadata": {},
   "outputs": [],
   "source": [
    "y_pred = clf.predict(X_test)"
   ]
  },
  {
   "cell_type": "code",
   "execution_count": 34,
   "metadata": {},
   "outputs": [
    {
     "data": {
      "text/plain": [
       "(56,)"
      ]
     },
     "execution_count": 34,
     "metadata": {},
     "output_type": "execute_result"
    }
   ],
   "source": [
    "y_pred.shape"
   ]
  },
  {
   "cell_type": "code",
   "execution_count": 35,
   "metadata": {},
   "outputs": [],
   "source": [
    "import seaborn as sns\n",
    "from sklearn import metrics\n",
    "from sklearn.metrics import precision_score\n",
    "from sklearn.metrics import recall_score\n",
    "from sklearn.metrics import classification_report, accuracy_score\n",
    "from sklearn.metrics import accuracy_score, f1_score, confusion_matrix"
   ]
  },
  {
   "cell_type": "code",
   "execution_count": 36,
   "metadata": {},
   "outputs": [],
   "source": [
    "from sklearn.preprocessing import LabelBinarizer\n",
    "from sklearn.metrics import roc_curve, auc\n",
    "from sklearn.metrics import roc_auc_score"
   ]
  },
  {
   "cell_type": "code",
   "execution_count": 37,
   "metadata": {},
   "outputs": [],
   "source": [
    "def multiclass_roc_auc_score(y_test, y_pred, average=\"macro\"):\n",
    "    lb = LabelBinarizer()\n",
    "    lb.fit(y_test)\n",
    "    y_test = lb.transform(y_test)\n",
    "    y_pred = lb.transform(y_pred)\n",
    "    return roc_auc_score(y_test, y_pred, average=average)"
   ]
  },
  {
   "cell_type": "code",
   "execution_count": 38,
   "metadata": {},
   "outputs": [
    {
     "name": "stdout",
     "output_type": "stream",
     "text": [
      "0.8092305165475898\n"
     ]
    }
   ],
   "source": [
    "print(multiclass_roc_auc_score(y_test, y_pred))"
   ]
  },
  {
   "cell_type": "code",
   "execution_count": 39,
   "metadata": {},
   "outputs": [
    {
     "data": {
      "text/plain": [
       "(56, 15)"
      ]
     },
     "execution_count": 39,
     "metadata": {},
     "output_type": "execute_result"
    }
   ],
   "source": [
    "X_test.shape"
   ]
  },
  {
   "cell_type": "code",
   "execution_count": 40,
   "metadata": {},
   "outputs": [
    {
     "data": {
      "text/plain": [
       "(56,)"
      ]
     },
     "execution_count": 40,
     "metadata": {},
     "output_type": "execute_result"
    }
   ],
   "source": [
    "y_test.shape"
   ]
  },
  {
   "cell_type": "code",
   "execution_count": 41,
   "metadata": {},
   "outputs": [
    {
     "name": "stdout",
     "output_type": "stream",
     "text": [
      "Accuracy =  0.7857142857142857\n",
      "-\n",
      "[[15  0  0]\n",
      " [ 0 26  4]\n",
      " [ 8  0  3]]\n",
      "-\n",
      "              precision    recall  f1-score   support\n",
      "\n",
      "    Diabetic       0.65      1.00      0.79        15\n",
      "      Normal       1.00      0.87      0.93        30\n",
      " Prediabetic       0.43      0.27      0.33        11\n",
      "\n",
      "    accuracy                           0.79        56\n",
      "   macro avg       0.69      0.71      0.68        56\n",
      "weighted avg       0.79      0.79      0.77        56\n",
      "\n",
      "-\n"
     ]
    },
    {
     "data": {
      "image/png": "[encoded data removed]",
      "text/plain": [
       "<Figure size 432x288 with 2 Axes>"
      ]
     },
     "metadata": {
      "needs_background": "light"
     },
     "output_type": "display_data"
    }
   ],
   "source": [
    "print('Accuracy = ', accuracy_score(y_test, y_pred))\n",
    "print('-')\n",
    "print(confusion_matrix(y_test,y_pred))\n",
    "print('-')\n",
    "print(classification_report(y_test,y_pred))\n",
    "print('-')\n",
    "\n",
    "cnf_matrix = metrics.confusion_matrix(y_test, y_pred)\n",
    "p = sns.heatmap(pd.DataFrame(cnf_matrix), annot=True, cmap=\"YlGnBu\" ,fmt='g')\n",
    "plt.title('Confusion matrix', y=1.1)\n",
    "plt.ylabel('Actual label')\n",
    "plt.xlabel('Predicted label')\n",
    "plt.show()"
   ]
  },
  {
   "cell_type": "code",
   "execution_count": 42,
   "metadata": {},
   "outputs": [
    {
     "name": "stdout",
     "output_type": "stream",
     "text": [
      "              precision    recall  f1-score   support\n",
      "\n",
      "    Diabetic       0.65      1.00      0.79        15\n",
      "      Normal       1.00      0.87      0.93        30\n",
      " Prediabetic       0.43      0.27      0.33        11\n",
      "\n",
      "    accuracy                           0.79        56\n",
      "   macro avg       0.69      0.71      0.68        56\n",
      "weighted avg       0.79      0.79      0.77        56\n",
      "\n"
     ]
    }
   ],
   "source": [
    "pred=clf.predict(X_test)\n",
    "print(classification_report(y_test, y_pred))"
   ]
  },
  {
   "cell_type": "code",
   "execution_count": 44,
   "metadata": {},
   "outputs": [
    {
     "name": "stdout",
     "output_type": "stream",
     "text": [
      "Time taken: 9875.662692308426\n"
     ]
    }
   ],
   "source": [
    "end_clf= time.time()\n",
    "time_clf = end_clf-start_clf\n",
    "print('Time taken:',time_clf)"
   ]
  },
  {
   "cell_type": "code",
   "execution_count": 45,
   "metadata": {},
   "outputs": [
    {
     "name": "stdout",
     "output_type": "stream",
     "text": [
      "Time taken in minutes: 164.59437820514043\n"
     ]
    }
   ],
   "source": [
    "print('Time taken in minutes:',time_clf/60)"
   ]
  }
 ],
 "metadata": {
  "kernelspec": {
   "display_name": "Python 3 (ipykernel)",
   "language": "python",
   "name": "python3"
  },
  "language_info": {
   "codemirror_mode": {
    "name": "ipython",
    "version": 3
   },
   "file_extension": ".py",
   "mimetype": "text/x-python",
   "name": "python",
   "nbconvert_exporter": "python",
   "pygments_lexer": "ipython3",
   "version": "3.9.13"
  }
 },
 "nbformat": 4,
 "nbformat_minor": 1
}
