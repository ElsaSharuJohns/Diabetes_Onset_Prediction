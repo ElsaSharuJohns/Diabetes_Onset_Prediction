{
 "cells": [
  {
   "cell_type": "markdown",
   "metadata": {},
   "source": [
    "<h4>Importing Libraries</h4>"
   ]
  },
  {
   "cell_type": "code",
   "execution_count": 1,
   "metadata": {
    "_cell_guid": "b1076dfc-b9ad-4769-8c92-a6c4dae69d19",
    "_uuid": "8f2839f25d086af736a60e9eeb907d3b93b6e0e5"
   },
   "outputs": [],
   "source": [
    "import sys #This module provides access to some variables used or maintained by the interpreter and to functions that interact strongly with the interpreter. \n",
    "import pandas as pd\n",
    "import numpy as np\n",
    "import sklearn\n",
    "import matplotlib\n",
    "import keras\n",
    "from sklearn.model_selection import train_test_split\n",
    "from sklearn.impute import SimpleImputer \n",
    "from pytorch_tabnet.tab_model import TabNetClassifier\n",
    "\n",
    "import torch\n",
    "from sklearn.preprocessing import LabelEncoder\n",
    "from sklearn.metrics import roc_auc_score\n",
    "\n",
    "import pandas as pd\n",
    "import numpy as np\n",
    "np.random.seed(0)\n",
    "\n",
    "\n",
    "import os\n",
    "import wget\n",
    "from pathlib import Path\n",
    "\n",
    "from matplotlib import pyplot as plt\n",
    "%matplotlib inline"
   ]
  },
  {
   "cell_type": "markdown",
   "metadata": {},
   "source": [
    "**Loading the Dataset**"
   ]
  },
  {
   "cell_type": "code",
   "execution_count": 2,
   "metadata": {},
   "outputs": [],
   "source": [
    "import time\n",
    "# store starting time\n",
    "begin_dataprep = time.time()"
   ]
  },
  {
   "cell_type": "code",
   "execution_count": 3,
   "metadata": {},
   "outputs": [
    {
     "data": {
      "text/html": [
       "<div>\n",
       "<style scoped>\n",
       "    .dataframe tbody tr th:only-of-type {\n",
       "        vertical-align: middle;\n",
       "    }\n",
       "\n",
       "    .dataframe tbody tr th {\n",
       "        vertical-align: top;\n",
       "    }\n",
       "\n",
       "    .dataframe thead th {\n",
       "        text-align: right;\n",
       "    }\n",
       "</style>\n",
       "<table border=\"1\" class=\"dataframe\">\n",
       "  <thead>\n",
       "    <tr style=\"text-align: right;\">\n",
       "      <th></th>\n",
       "      <th>cholesterol</th>\n",
       "      <th>glucose</th>\n",
       "      <th>hdl_chol</th>\n",
       "      <th>chol_hdl_ratio</th>\n",
       "      <th>age</th>\n",
       "      <th>height</th>\n",
       "      <th>weight</th>\n",
       "      <th>bmi</th>\n",
       "      <th>systolic_bp</th>\n",
       "      <th>diastolic_bp</th>\n",
       "      <th>waist</th>\n",
       "      <th>hip</th>\n",
       "      <th>waist_hip_ratio</th>\n",
       "      <th>Class</th>\n",
       "      <th>gender_female</th>\n",
       "      <th>gender_male</th>\n",
       "    </tr>\n",
       "  </thead>\n",
       "  <tbody>\n",
       "    <tr>\n",
       "      <th>0</th>\n",
       "      <td>193.0</td>\n",
       "      <td>77.0</td>\n",
       "      <td>49.0</td>\n",
       "      <td>3.9</td>\n",
       "      <td>19.0</td>\n",
       "      <td>61.0</td>\n",
       "      <td>119.0</td>\n",
       "      <td>22.5</td>\n",
       "      <td>118.0</td>\n",
       "      <td>70.0</td>\n",
       "      <td>32.0</td>\n",
       "      <td>38.0</td>\n",
       "      <td>0.84</td>\n",
       "      <td>0</td>\n",
       "      <td>1.0</td>\n",
       "      <td>0.0</td>\n",
       "    </tr>\n",
       "    <tr>\n",
       "      <th>1</th>\n",
       "      <td>146.0</td>\n",
       "      <td>79.0</td>\n",
       "      <td>41.0</td>\n",
       "      <td>3.6</td>\n",
       "      <td>19.0</td>\n",
       "      <td>60.0</td>\n",
       "      <td>135.0</td>\n",
       "      <td>26.4</td>\n",
       "      <td>108.0</td>\n",
       "      <td>58.0</td>\n",
       "      <td>33.0</td>\n",
       "      <td>40.0</td>\n",
       "      <td>0.83</td>\n",
       "      <td>0</td>\n",
       "      <td>1.0</td>\n",
       "      <td>0.0</td>\n",
       "    </tr>\n",
       "    <tr>\n",
       "      <th>2</th>\n",
       "      <td>217.0</td>\n",
       "      <td>75.0</td>\n",
       "      <td>54.0</td>\n",
       "      <td>4.0</td>\n",
       "      <td>20.0</td>\n",
       "      <td>67.0</td>\n",
       "      <td>187.0</td>\n",
       "      <td>29.3</td>\n",
       "      <td>110.0</td>\n",
       "      <td>72.0</td>\n",
       "      <td>40.0</td>\n",
       "      <td>45.0</td>\n",
       "      <td>0.89</td>\n",
       "      <td>0</td>\n",
       "      <td>1.0</td>\n",
       "      <td>0.0</td>\n",
       "    </tr>\n",
       "    <tr>\n",
       "      <th>3</th>\n",
       "      <td>226.0</td>\n",
       "      <td>97.0</td>\n",
       "      <td>70.0</td>\n",
       "      <td>3.2</td>\n",
       "      <td>20.0</td>\n",
       "      <td>64.0</td>\n",
       "      <td>114.0</td>\n",
       "      <td>19.6</td>\n",
       "      <td>122.0</td>\n",
       "      <td>64.0</td>\n",
       "      <td>31.0</td>\n",
       "      <td>39.0</td>\n",
       "      <td>0.79</td>\n",
       "      <td>0</td>\n",
       "      <td>1.0</td>\n",
       "      <td>0.0</td>\n",
       "    </tr>\n",
       "    <tr>\n",
       "      <th>4</th>\n",
       "      <td>164.0</td>\n",
       "      <td>91.0</td>\n",
       "      <td>67.0</td>\n",
       "      <td>2.4</td>\n",
       "      <td>20.0</td>\n",
       "      <td>70.0</td>\n",
       "      <td>141.0</td>\n",
       "      <td>20.2</td>\n",
       "      <td>122.0</td>\n",
       "      <td>86.0</td>\n",
       "      <td>32.0</td>\n",
       "      <td>39.0</td>\n",
       "      <td>0.82</td>\n",
       "      <td>0</td>\n",
       "      <td>1.0</td>\n",
       "      <td>0.0</td>\n",
       "    </tr>\n",
       "  </tbody>\n",
       "</table>\n",
       "</div>"
      ],
      "text/plain": [
       "   cholesterol  glucose  hdl_chol  chol_hdl_ratio   age  height  weight   bmi  \\\n",
       "0        193.0     77.0      49.0             3.9  19.0    61.0   119.0  22.5   \n",
       "1        146.0     79.0      41.0             3.6  19.0    60.0   135.0  26.4   \n",
       "2        217.0     75.0      54.0             4.0  20.0    67.0   187.0  29.3   \n",
       "3        226.0     97.0      70.0             3.2  20.0    64.0   114.0  19.6   \n",
       "4        164.0     91.0      67.0             2.4  20.0    70.0   141.0  20.2   \n",
       "\n",
       "   systolic_bp  diastolic_bp  waist   hip  waist_hip_ratio  Class  \\\n",
       "0        118.0          70.0   32.0  38.0             0.84      0   \n",
       "1        108.0          58.0   33.0  40.0             0.83      0   \n",
       "2        110.0          72.0   40.0  45.0             0.89      0   \n",
       "3        122.0          64.0   31.0  39.0             0.79      0   \n",
       "4        122.0          86.0   32.0  39.0             0.82      0   \n",
       "\n",
       "   gender_female  gender_male  \n",
       "0            1.0          0.0  \n",
       "1            1.0          0.0  \n",
       "2            1.0          0.0  \n",
       "3            1.0          0.0  \n",
       "4            1.0          0.0  "
      ]
     },
     "execution_count": 3,
     "metadata": {},
     "output_type": "execute_result"
    }
   ],
   "source": [
    "#read diabetes data \n",
    "df = pd.read_csv('diabetes_synthetic_3targetclasses.csv')\n",
    "df.head()"
   ]
  },
  {
   "cell_type": "code",
   "execution_count": 4,
   "metadata": {},
   "outputs": [
    {
     "name": "stdout",
     "output_type": "stream",
     "text": [
      "<class 'pandas.core.frame.DataFrame'>\n",
      "RangeIndex: 574 entries, 0 to 573\n",
      "Data columns (total 16 columns):\n",
      " #   Column           Non-Null Count  Dtype  \n",
      "---  ------           --------------  -----  \n",
      " 0   cholesterol      574 non-null    float64\n",
      " 1   glucose          574 non-null    float64\n",
      " 2   hdl_chol         574 non-null    float64\n",
      " 3   chol_hdl_ratio   574 non-null    float64\n",
      " 4   age              574 non-null    float64\n",
      " 5   height           574 non-null    float64\n",
      " 6   weight           574 non-null    float64\n",
      " 7   bmi              574 non-null    float64\n",
      " 8   systolic_bp      574 non-null    float64\n",
      " 9   diastolic_bp     574 non-null    float64\n",
      " 10  waist            574 non-null    float64\n",
      " 11  hip              574 non-null    float64\n",
      " 12  waist_hip_ratio  574 non-null    float64\n",
      " 13  Class            574 non-null    int64  \n",
      " 14  gender_female    574 non-null    float64\n",
      " 15  gender_male      574 non-null    float64\n",
      "dtypes: float64(15), int64(1)\n",
      "memory usage: 71.9 KB\n"
     ]
    }
   ],
   "source": [
    "df.info()"
   ]
  },
  {
   "cell_type": "code",
   "execution_count": 5,
   "metadata": {},
   "outputs": [],
   "source": [
    "train=df\n",
    "target = 'Class'\n",
    "if \"Set\" not in train.columns:\n",
    "    train[\"Set\"] = np.random.choice([\"train\", \"valid\", \"test\"], p =[.8, .1, .1], size=(train.shape[0],))\n",
    "\n",
    "train_indices = train[train.Set==\"train\"].index\n",
    "valid_indices = train[train.Set==\"valid\"].index\n",
    "test_indices = train[train.Set==\"test\"].index"
   ]
  },
  {
   "cell_type": "code",
   "execution_count": 6,
   "metadata": {},
   "outputs": [],
   "source": [
    "# dropping ALL duplicate values\n",
    "train.drop_duplicates(keep = False, inplace = True)"
   ]
  },
  {
   "cell_type": "code",
   "execution_count": 7,
   "metadata": {},
   "outputs": [
    {
     "name": "stdout",
     "output_type": "stream",
     "text": [
      "Class 3\n",
      "Set 3\n"
     ]
    }
   ],
   "source": [
    "#Simple preprocessing\n",
    "nunique = train.nunique()\n",
    "types = train.dtypes\n",
    "\n",
    "categorical_columns = []\n",
    "categorical_dims =  {}\n",
    "for col in train.columns:\n",
    "    if types[col] == 'object' or nunique[col] < 10:\n",
    "        print(col, train[col].nunique())\n",
    "        l_enc = LabelEncoder()\n",
    "        train[col] = train[col].fillna(\"VV_likely\")\n",
    "        train[col] = l_enc.fit_transform(train[col].values)\n",
    "        categorical_columns.append(col)\n",
    "        categorical_dims[col] = len(l_enc.classes_)\n",
    "    else:\n",
    "        train.fillna(train.loc[train_indices, col].mean(), inplace=True)"
   ]
  },
  {
   "cell_type": "code",
   "execution_count": 8,
   "metadata": {},
   "outputs": [
    {
     "name": "stdout",
     "output_type": "stream",
     "text": [
      "<class 'pandas.core.frame.DataFrame'>\n",
      "Int64Index: 574 entries, 0 to 573\n",
      "Data columns (total 17 columns):\n",
      " #   Column           Non-Null Count  Dtype  \n",
      "---  ------           --------------  -----  \n",
      " 0   cholesterol      574 non-null    float64\n",
      " 1   glucose          574 non-null    float64\n",
      " 2   hdl_chol         574 non-null    float64\n",
      " 3   chol_hdl_ratio   574 non-null    float64\n",
      " 4   age              574 non-null    float64\n",
      " 5   height           574 non-null    float64\n",
      " 6   weight           574 non-null    float64\n",
      " 7   bmi              574 non-null    float64\n",
      " 8   systolic_bp      574 non-null    float64\n",
      " 9   diastolic_bp     574 non-null    float64\n",
      " 10  waist            574 non-null    float64\n",
      " 11  hip              574 non-null    float64\n",
      " 12  waist_hip_ratio  574 non-null    float64\n",
      " 13  Class            574 non-null    int64  \n",
      " 14  gender_female    574 non-null    float64\n",
      " 15  gender_male      574 non-null    float64\n",
      " 16  Set              574 non-null    int32  \n",
      "dtypes: float64(15), int32(1), int64(1)\n",
      "memory usage: 94.6 KB\n"
     ]
    }
   ],
   "source": [
    "train.info()"
   ]
  },
  {
   "cell_type": "code",
   "execution_count": 9,
   "metadata": {},
   "outputs": [],
   "source": [
    "# check that pipeline accepts strings\n",
    "train.loc[train[target]==0, target] = \"Normal\"\n",
    "train.loc[train[target]==2, target] = \"Prediabetic\"\n",
    "train.loc[train[target]==1, target] = \"Diabetic\""
   ]
  },
  {
   "cell_type": "code",
   "execution_count": 10,
   "metadata": {},
   "outputs": [],
   "source": [
    "#Define categorical features for categorical embeddings\n",
    "unused_feat = ['Set']\n",
    "\n",
    "features = [ col for col in train.columns if col not in unused_feat+[target]] \n",
    "\n",
    "cat_idxs = [ i for i, f in enumerate(features) if f in categorical_columns]\n",
    "\n",
    "cat_dims = [ categorical_dims[f] for i, f in enumerate(features) if f in categorical_columns]"
   ]
  },
  {
   "cell_type": "code",
   "execution_count": 11,
   "metadata": {},
   "outputs": [],
   "source": [
    "train.replace([np.inf, -np.inf], np.nan, inplace=True)"
   ]
  },
  {
   "cell_type": "markdown",
   "metadata": {},
   "source": [
    "### Training"
   ]
  },
  {
   "cell_type": "code",
   "execution_count": 12,
   "metadata": {},
   "outputs": [],
   "source": [
    "start_clf= time.time()"
   ]
  },
  {
   "cell_type": "code",
   "execution_count": 13,
   "metadata": {},
   "outputs": [
    {
     "name": "stderr",
     "output_type": "stream",
     "text": [
      "C:\\Users\\admin\\anaconda3\\envs\\pytorch-gpu-diab\\lib\\site-packages\\pytorch_tabnet\\abstract_model.py:75: UserWarning: Device used : cuda\n",
      "  warnings.warn(f\"Device used : {self.device}\")\n"
     ]
    }
   ],
   "source": [
    "#Network parameters\n",
    "tabnet_params = {\"cat_idxs\":cat_idxs,\n",
    "                 \"cat_dims\":cat_dims,\n",
    "                 \"cat_emb_dim\":1,\n",
    "                 \"optimizer_fn\":torch.optim.Adam,\n",
    "                 \"optimizer_params\":dict(lr=2e-2),\n",
    "                 \"scheduler_params\":{\"step_size\":50, # how to use learning rate scheduler\n",
    "                                 \"gamma\":0.9},\n",
    "                 \"scheduler_fn\":torch.optim.lr_scheduler.StepLR,\n",
    "                 \"mask_type\":'entmax' # \"sparsemax\"\n",
    "                }\n",
    "\n",
    "clf = TabNetClassifier(**tabnet_params\n",
    "                      )"
   ]
  },
  {
   "cell_type": "code",
   "execution_count": 14,
   "metadata": {},
   "outputs": [],
   "source": [
    "X_train = train[features].values[train_indices]\n",
    "y_train = train[target].values[train_indices]\n",
    "\n",
    "X_valid = train[features].values[valid_indices]\n",
    "y_valid = train[target].values[valid_indices]\n",
    "\n",
    "X_test = train[features].values[test_indices]\n",
    "y_test = train[target].values[test_indices]"
   ]
  },
  {
   "cell_type": "code",
   "execution_count": 15,
   "metadata": {},
   "outputs": [
    {
     "data": {
      "text/plain": [
       "(461, 15)"
      ]
     },
     "execution_count": 15,
     "metadata": {},
     "output_type": "execute_result"
    }
   ],
   "source": [
    "X_train.shape"
   ]
  },
  {
   "cell_type": "code",
   "execution_count": 16,
   "metadata": {},
   "outputs": [
    {
     "data": {
      "text/plain": [
       "(461,)"
      ]
     },
     "execution_count": 16,
     "metadata": {},
     "output_type": "execute_result"
    }
   ],
   "source": [
    "y_train.shape"
   ]
  },
  {
   "cell_type": "code",
   "execution_count": 17,
   "metadata": {},
   "outputs": [
    {
     "data": {
      "text/plain": [
       "(66, 15)"
      ]
     },
     "execution_count": 17,
     "metadata": {},
     "output_type": "execute_result"
    }
   ],
   "source": [
    "X_test.shape"
   ]
  },
  {
   "cell_type": "code",
   "execution_count": 18,
   "metadata": {},
   "outputs": [
    {
     "data": {
      "text/plain": [
       "(66,)"
      ]
     },
     "execution_count": 18,
     "metadata": {},
     "output_type": "execute_result"
    }
   ],
   "source": [
    "y_test.shape"
   ]
  },
  {
   "cell_type": "code",
   "execution_count": 19,
   "metadata": {},
   "outputs": [],
   "source": [
    "max_epochs = 100 if not os.getenv(\"CI\", False) else 2"
   ]
  },
  {
   "cell_type": "code",
   "execution_count": 20,
   "metadata": {},
   "outputs": [],
   "source": [
    "from pytorch_tabnet.augmentations import ClassificationSMOTE\n",
    "aug = ClassificationSMOTE(p=0.2)"
   ]
  },
  {
   "cell_type": "code",
   "execution_count": 21,
   "metadata": {},
   "outputs": [
    {
     "name": "stdout",
     "output_type": "stream",
     "text": [
      "epoch 0  | loss: 1.29894 | train_accuracy: 0.21258 | valid_accuracy: 0.21277 |  0:00:02s\n",
      "epoch 1  | loss: 0.82884 | train_accuracy: 0.29284 | valid_accuracy: 0.38298 |  0:00:04s\n",
      "epoch 2  | loss: 0.73044 | train_accuracy: 0.13883 | valid_accuracy: 0.14894 |  0:00:05s\n",
      "epoch 3  | loss: 0.64681 | train_accuracy: 0.38395 | valid_accuracy: 0.2766  |  0:00:06s\n",
      "epoch 4  | loss: 0.6603  | train_accuracy: 0.83948 | valid_accuracy: 0.91489 |  0:00:08s\n",
      "epoch 5  | loss: 0.52347 | train_accuracy: 0.87419 | valid_accuracy: 0.91489 |  0:00:09s\n",
      "epoch 6  | loss: 0.56764 | train_accuracy: 0.86551 | valid_accuracy: 0.91489 |  0:00:11s\n",
      "epoch 7  | loss: 0.53007 | train_accuracy: 0.91323 | valid_accuracy: 0.91489 |  0:00:12s\n",
      "epoch 8  | loss: 0.46323 | train_accuracy: 0.87202 | valid_accuracy: 0.91489 |  0:00:14s\n",
      "epoch 9  | loss: 0.55951 | train_accuracy: 0.89371 | valid_accuracy: 0.91489 |  0:00:15s\n",
      "epoch 10 | loss: 0.53817 | train_accuracy: 0.93492 | valid_accuracy: 0.93617 |  0:00:17s\n",
      "epoch 11 | loss: 0.47823 | train_accuracy: 0.94794 | valid_accuracy: 0.95745 |  0:00:18s\n",
      "epoch 12 | loss: 0.49457 | train_accuracy: 0.92842 | valid_accuracy: 0.91489 |  0:00:20s\n",
      "epoch 13 | loss: 0.61659 | train_accuracy: 0.86985 | valid_accuracy: 0.91489 |  0:00:21s\n",
      "epoch 14 | loss: 0.39923 | train_accuracy: 0.94577 | valid_accuracy: 0.97872 |  0:00:23s\n",
      "epoch 15 | loss: 0.47152 | train_accuracy: 0.92408 | valid_accuracy: 0.93617 |  0:00:24s\n",
      "epoch 16 | loss: 0.51229 | train_accuracy: 0.8872  | valid_accuracy: 0.93617 |  0:00:26s\n",
      "epoch 17 | loss: 0.41372 | train_accuracy: 0.90239 | valid_accuracy: 0.91489 |  0:00:27s\n",
      "epoch 18 | loss: 0.45032 | train_accuracy: 0.9154  | valid_accuracy: 0.95745 |  0:00:29s\n",
      "epoch 19 | loss: 0.50918 | train_accuracy: 0.93059 | valid_accuracy: 0.95745 |  0:00:30s\n",
      "epoch 20 | loss: 0.49276 | train_accuracy: 0.93059 | valid_accuracy: 0.95745 |  0:00:32s\n",
      "epoch 21 | loss: 0.4695  | train_accuracy: 0.90456 | valid_accuracy: 0.93617 |  0:00:33s\n",
      "epoch 22 | loss: 0.53699 | train_accuracy: 0.94143 | valid_accuracy: 0.95745 |  0:00:35s\n",
      "epoch 23 | loss: 0.54061 | train_accuracy: 0.93709 | valid_accuracy: 0.95745 |  0:00:36s\n",
      "epoch 24 | loss: 0.45051 | train_accuracy: 0.95011 | valid_accuracy: 0.97872 |  0:00:38s\n",
      "epoch 25 | loss: 0.50461 | train_accuracy: 0.94577 | valid_accuracy: 0.95745 |  0:00:39s\n",
      "epoch 26 | loss: 0.39908 | train_accuracy: 0.93492 | valid_accuracy: 0.95745 |  0:00:41s\n",
      "epoch 27 | loss: 0.40026 | train_accuracy: 0.91323 | valid_accuracy: 0.93617 |  0:00:42s\n",
      "epoch 28 | loss: 0.464   | train_accuracy: 0.93492 | valid_accuracy: 0.97872 |  0:00:44s\n",
      "epoch 29 | loss: 0.44536 | train_accuracy: 0.95662 | valid_accuracy: 0.95745 |  0:00:45s\n",
      "epoch 30 | loss: 0.50212 | train_accuracy: 0.9436  | valid_accuracy: 0.95745 |  0:00:47s\n",
      "epoch 31 | loss: 0.37481 | train_accuracy: 0.9436  | valid_accuracy: 0.91489 |  0:00:48s\n",
      "epoch 32 | loss: 0.50884 | train_accuracy: 0.94794 | valid_accuracy: 0.95745 |  0:00:50s\n",
      "epoch 33 | loss: 0.48225 | train_accuracy: 0.94577 | valid_accuracy: 0.95745 |  0:00:51s\n",
      "epoch 34 | loss: 0.40195 | train_accuracy: 0.95662 | valid_accuracy: 0.97872 |  0:00:53s\n",
      "\n",
      "Early stopping occurred at epoch 34 with best_epoch = 14 and best_valid_accuracy = 0.97872\n"
     ]
    },
    {
     "name": "stderr",
     "output_type": "stream",
     "text": [
      "C:\\Users\\admin\\anaconda3\\envs\\pytorch-gpu-diab\\lib\\site-packages\\pytorch_tabnet\\callbacks.py:172: UserWarning: Best weights from best epoch are automatically used!\n",
      "  warnings.warn(wrn_msg)\n"
     ]
    },
    {
     "name": "stdout",
     "output_type": "stream",
     "text": [
      "epoch 0  | loss: 1.29894 | train_accuracy: 0.21258 | valid_accuracy: 0.21277 |  0:00:01s\n",
      "epoch 1  | loss: 0.82884 | train_accuracy: 0.29284 | valid_accuracy: 0.38298 |  0:00:03s\n",
      "epoch 2  | loss: 0.73044 | train_accuracy: 0.13883 | valid_accuracy: 0.14894 |  0:00:04s\n",
      "epoch 3  | loss: 0.64681 | train_accuracy: 0.38395 | valid_accuracy: 0.2766  |  0:00:06s\n",
      "epoch 4  | loss: 0.6603  | train_accuracy: 0.83948 | valid_accuracy: 0.91489 |  0:00:07s\n",
      "epoch 5  | loss: 0.52347 | train_accuracy: 0.87419 | valid_accuracy: 0.91489 |  0:00:09s\n",
      "epoch 6  | loss: 0.56764 | train_accuracy: 0.86551 | valid_accuracy: 0.91489 |  0:00:10s\n",
      "epoch 7  | loss: 0.53007 | train_accuracy: 0.91323 | valid_accuracy: 0.91489 |  0:00:11s\n",
      "epoch 8  | loss: 0.46323 | train_accuracy: 0.87202 | valid_accuracy: 0.91489 |  0:00:13s\n",
      "epoch 9  | loss: 0.55951 | train_accuracy: 0.89371 | valid_accuracy: 0.91489 |  0:00:14s\n",
      "epoch 10 | loss: 0.53817 | train_accuracy: 0.93492 | valid_accuracy: 0.93617 |  0:00:16s\n",
      "epoch 11 | loss: 0.47823 | train_accuracy: 0.94794 | valid_accuracy: 0.95745 |  0:00:17s\n",
      "epoch 12 | loss: 0.49457 | train_accuracy: 0.92842 | valid_accuracy: 0.91489 |  0:00:19s\n",
      "epoch 13 | loss: 0.61659 | train_accuracy: 0.86985 | valid_accuracy: 0.91489 |  0:00:20s\n",
      "epoch 14 | loss: 0.39923 | train_accuracy: 0.94577 | valid_accuracy: 0.97872 |  0:00:22s\n",
      "epoch 15 | loss: 0.47152 | train_accuracy: 0.92408 | valid_accuracy: 0.93617 |  0:00:23s\n",
      "epoch 16 | loss: 0.51229 | train_accuracy: 0.8872  | valid_accuracy: 0.93617 |  0:00:25s\n",
      "epoch 17 | loss: 0.41372 | train_accuracy: 0.90239 | valid_accuracy: 0.91489 |  0:00:26s\n",
      "epoch 18 | loss: 0.45032 | train_accuracy: 0.9154  | valid_accuracy: 0.95745 |  0:00:28s\n",
      "epoch 19 | loss: 0.50918 | train_accuracy: 0.93059 | valid_accuracy: 0.95745 |  0:00:29s\n",
      "epoch 20 | loss: 0.49276 | train_accuracy: 0.93059 | valid_accuracy: 0.95745 |  0:00:31s\n",
      "epoch 21 | loss: 0.4695  | train_accuracy: 0.90456 | valid_accuracy: 0.93617 |  0:00:32s\n",
      "epoch 22 | loss: 0.53699 | train_accuracy: 0.94143 | valid_accuracy: 0.95745 |  0:00:34s\n",
      "epoch 23 | loss: 0.54061 | train_accuracy: 0.93709 | valid_accuracy: 0.95745 |  0:00:35s\n",
      "epoch 24 | loss: 0.45051 | train_accuracy: 0.95011 | valid_accuracy: 0.97872 |  0:00:37s\n",
      "epoch 25 | loss: 0.50461 | train_accuracy: 0.94577 | valid_accuracy: 0.95745 |  0:00:38s\n",
      "epoch 26 | loss: 0.39908 | train_accuracy: 0.93492 | valid_accuracy: 0.95745 |  0:00:40s\n",
      "epoch 27 | loss: 0.40026 | train_accuracy: 0.91323 | valid_accuracy: 0.93617 |  0:00:41s\n",
      "epoch 28 | loss: 0.464   | train_accuracy: 0.93492 | valid_accuracy: 0.97872 |  0:00:43s\n",
      "epoch 29 | loss: 0.44536 | train_accuracy: 0.95662 | valid_accuracy: 0.95745 |  0:00:44s\n",
      "epoch 30 | loss: 0.50212 | train_accuracy: 0.9436  | valid_accuracy: 0.95745 |  0:00:46s\n",
      "epoch 31 | loss: 0.37481 | train_accuracy: 0.9436  | valid_accuracy: 0.91489 |  0:00:47s\n",
      "epoch 32 | loss: 0.50884 | train_accuracy: 0.94794 | valid_accuracy: 0.95745 |  0:00:49s\n",
      "epoch 33 | loss: 0.48225 | train_accuracy: 0.94577 | valid_accuracy: 0.95745 |  0:00:50s\n",
      "epoch 34 | loss: 0.40195 | train_accuracy: 0.95662 | valid_accuracy: 0.97872 |  0:00:52s\n",
      "\n",
      "Early stopping occurred at epoch 34 with best_epoch = 14 and best_valid_accuracy = 0.97872\n"
     ]
    },
    {
     "name": "stderr",
     "output_type": "stream",
     "text": [
      "C:\\Users\\admin\\anaconda3\\envs\\pytorch-gpu-diab\\lib\\site-packages\\pytorch_tabnet\\callbacks.py:172: UserWarning: Best weights from best epoch are automatically used!\n",
      "  warnings.warn(wrn_msg)\n"
     ]
    }
   ],
   "source": [
    "# This illustrates the warm_start=False behaviour\n",
    "save_history = []\n",
    "for _ in range(2):\n",
    "    clf.fit(\n",
    "        X_train=X_train, y_train=y_train,\n",
    "        eval_set=[(X_train, y_train), (X_valid, y_valid)],\n",
    "        eval_name=['train', 'valid'],\n",
    "        eval_metric=['accuracy'],\n",
    "        max_epochs=max_epochs , patience=20,\n",
    "        batch_size=8, \n",
    "        num_workers=0,\n",
    "        weights=1,\n",
    "        drop_last=False,\n",
    "        augmentations=aug, #aug, None\n",
    "    )\n",
    "    save_history.append(clf.history[\"valid_accuracy\"])\n",
    "\n",
    "assert(np.all(np.array(save_history[0]==np.array(save_history[1]))))"
   ]
  },
  {
   "cell_type": "code",
   "execution_count": 22,
   "metadata": {},
   "outputs": [
    {
     "data": {
      "text/plain": [
       "[<matplotlib.lines.Line2D at 0x1a5825671f0>]"
      ]
     },
     "execution_count": 22,
     "metadata": {},
     "output_type": "execute_result"
    },
    {
     "data": {
      "image/png": "[encoded data removed]",
      "text/plain": [
       "<Figure size 432x288 with 1 Axes>"
      ]
     },
     "metadata": {
      "needs_background": "light"
     },
     "output_type": "display_data"
    }
   ],
   "source": [
    "# plot losses\n",
    "plt.plot(clf.history['loss'])"
   ]
  },
  {
   "cell_type": "code",
   "execution_count": 23,
   "metadata": {},
   "outputs": [
    {
     "data": {
      "text/plain": [
       "[<matplotlib.lines.Line2D at 0x1a58eed1160>]"
      ]
     },
     "execution_count": 23,
     "metadata": {},
     "output_type": "execute_result"
    },
    {
     "data": {
      "image/png": "[encoded data removed]",
      "text/plain": [
       "<Figure size 432x288 with 1 Axes>"
      ]
     },
     "metadata": {
      "needs_background": "light"
     },
     "output_type": "display_data"
    }
   ],
   "source": [
    "# plot auc\n",
    "plt.plot(clf.history['train_accuracy'])\n",
    "plt.plot(clf.history['valid_accuracy'])"
   ]
  },
  {
   "cell_type": "code",
   "execution_count": 24,
   "metadata": {},
   "outputs": [
    {
     "data": {
      "text/plain": [
       "[<matplotlib.lines.Line2D at 0x1a590d94e20>]"
      ]
     },
     "execution_count": 24,
     "metadata": {},
     "output_type": "execute_result"
    },
    {
     "data": {
      "image/png": "[encoded data removed]",
      "text/plain": [
       "<Figure size 432x288 with 1 Axes>"
      ]
     },
     "metadata": {
      "needs_background": "light"
     },
     "output_type": "display_data"
    }
   ],
   "source": [
    "# plot learning rates\n",
    "plt.plot(clf.history['lr'])"
   ]
  },
  {
   "cell_type": "markdown",
   "metadata": {},
   "source": [
    "### Prediction"
   ]
  },
  {
   "cell_type": "code",
   "execution_count": 25,
   "metadata": {},
   "outputs": [],
   "source": [
    "y_pred = clf.predict(X_test)"
   ]
  },
  {
   "cell_type": "code",
   "execution_count": 26,
   "metadata": {},
   "outputs": [
    {
     "data": {
      "text/plain": [
       "(66,)"
      ]
     },
     "execution_count": 26,
     "metadata": {},
     "output_type": "execute_result"
    }
   ],
   "source": [
    "y_pred.shape"
   ]
  },
  {
   "cell_type": "code",
   "execution_count": 27,
   "metadata": {},
   "outputs": [],
   "source": [
    "import seaborn as sns\n",
    "from sklearn import metrics\n",
    "from sklearn.metrics import precision_score\n",
    "from sklearn.metrics import recall_score\n",
    "from sklearn.metrics import classification_report, accuracy_score\n",
    "from sklearn.metrics import accuracy_score, f1_score, confusion_matrix"
   ]
  },
  {
   "cell_type": "code",
   "execution_count": 28,
   "metadata": {},
   "outputs": [],
   "source": [
    "from sklearn.preprocessing import LabelBinarizer\n",
    "from sklearn.metrics import roc_curve, auc\n",
    "from sklearn.metrics import roc_auc_score"
   ]
  },
  {
   "cell_type": "code",
   "execution_count": 29,
   "metadata": {},
   "outputs": [],
   "source": [
    "def multiclass_roc_auc_score(y_test, y_pred, average=\"macro\"):\n",
    "    lb = LabelBinarizer()\n",
    "    lb.fit(y_test)\n",
    "    y_test = lb.transform(y_test)\n",
    "    y_pred = lb.transform(y_pred)\n",
    "    return roc_auc_score(y_test, y_pred, average=average)"
   ]
  },
  {
   "cell_type": "code",
   "execution_count": 30,
   "metadata": {},
   "outputs": [],
   "source": [
    "#print(multiclass_roc_auc_score(y_test, y_pred))"
   ]
  },
  {
   "cell_type": "code",
   "execution_count": 31,
   "metadata": {},
   "outputs": [
    {
     "data": {
      "text/plain": [
       "(66, 15)"
      ]
     },
     "execution_count": 31,
     "metadata": {},
     "output_type": "execute_result"
    }
   ],
   "source": [
    "X_test.shape"
   ]
  },
  {
   "cell_type": "code",
   "execution_count": 32,
   "metadata": {},
   "outputs": [
    {
     "data": {
      "text/plain": [
       "(66,)"
      ]
     },
     "execution_count": 32,
     "metadata": {},
     "output_type": "execute_result"
    }
   ],
   "source": [
    "y_test.shape"
   ]
  },
  {
   "cell_type": "code",
   "execution_count": 33,
   "metadata": {
    "scrolled": true
   },
   "outputs": [
    {
     "name": "stdout",
     "output_type": "stream",
     "text": [
      "Accuracy =  0.9848484848484849\n",
      "-\n",
      "[[33  0  0]\n",
      " [ 0 29  1]\n",
      " [ 0  0  3]]\n",
      "-\n",
      "              precision    recall  f1-score   support\n",
      "\n",
      "    Diabetic       1.00      1.00      1.00        33\n",
      "      Normal       1.00      0.97      0.98        30\n",
      " Prediabetic       0.75      1.00      0.86         3\n",
      "\n",
      "    accuracy                           0.98        66\n",
      "   macro avg       0.92      0.99      0.95        66\n",
      "weighted avg       0.99      0.98      0.99        66\n",
      "\n",
      "-\n"
     ]
    },
    {
     "data": {
      "image/png": "[encoded data removed]",
      "text/plain": [
       "<Figure size 432x288 with 2 Axes>"
      ]
     },
     "metadata": {
      "needs_background": "light"
     },
     "output_type": "display_data"
    }
   ],
   "source": [
    "print('Accuracy = ', accuracy_score(y_test, y_pred))\n",
    "print('-')\n",
    "print(confusion_matrix(y_test,y_pred))\n",
    "print('-')\n",
    "print(classification_report(y_test,y_pred))\n",
    "print('-')\n",
    "\n",
    "cnf_matrix = metrics.confusion_matrix(y_test, y_pred)\n",
    "p = sns.heatmap(pd.DataFrame(cnf_matrix), annot=True, cmap=\"YlGnBu\" ,fmt='g')\n",
    "plt.title('Confusion matrix', y=1.1)\n",
    "plt.ylabel('Actual label')\n",
    "plt.xlabel('Predicted label')\n",
    "plt.show()"
   ]
  },
  {
   "cell_type": "markdown",
   "metadata": {},
   "source": [
    "#### Local Explainability and Masks"
   ]
  },
  {
   "cell_type": "code",
   "execution_count": 34,
   "metadata": {},
   "outputs": [],
   "source": [
    "explain_matrix, masks = clf.explain(X_test)"
   ]
  },
  {
   "cell_type": "code",
   "execution_count": 35,
   "metadata": {},
   "outputs": [
    {
     "data": {
      "image/png": "[encoded data removed]",
      "text/plain": [
       "<Figure size 1440x1440 with 3 Axes>"
      ]
     },
     "metadata": {
      "needs_background": "light"
     },
     "output_type": "display_data"
    }
   ],
   "source": [
    "fig, axs = plt.subplots(1,3,figsize=(20,20))\n",
    "\n",
    "for i in range(3):\n",
    "    axs[i].imshow(masks[i][:50])\n",
    "    axs[i].set_title(f\"mask {i}\")"
   ]
  }
 ],
 "metadata": {
  "kernelspec": {
   "display_name": "Python 3 (ipykernel)",
   "language": "python",
   "name": "python3"
  },
  "language_info": {
   "codemirror_mode": {
    "name": "ipython",
    "version": 3
   },
   "file_extension": ".py",
   "mimetype": "text/x-python",
   "name": "python",
   "nbconvert_exporter": "python",
   "pygments_lexer": "ipython3",
   "version": "3.9.13"
  }
 },
 "nbformat": 4,
 "nbformat_minor": 1
}
