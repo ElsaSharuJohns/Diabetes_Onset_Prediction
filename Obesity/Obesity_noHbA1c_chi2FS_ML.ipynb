{
 "cells": [
  {
   "cell_type": "markdown",
   "metadata": {},
   "source": [
    "\n",
    "# Importing Libraries"
   ]
  },
  {
   "cell_type": "code",
   "execution_count": 1,
   "metadata": {},
   "outputs": [],
   "source": [
    "import pandas as pd\n",
    "import numpy as np\n",
    "from sklearn.impute import SimpleImputer \n",
    "from sklearn.tree import DecisionTreeClassifier\n",
    "from sklearn.ensemble import RandomForestClassifier\n",
    "from sklearn.model_selection import train_test_split\n",
    "from sklearn import metrics\n",
    "import matplotlib.pyplot as plt\n",
    "from sklearn.model_selection import StratifiedKFold                #Provides train/test indices to split data in train/test sets\n",
    "from sklearn.metrics import accuracy_score, f1_score, confusion_matrix\n",
    "from sklearn.model_selection import cross_val_score\n",
    "from sklearn.naive_bayes import GaussianNB\n",
    "from sklearn.naive_bayes import BernoulliNB\n",
    "from sklearn.svm import SVC\n",
    "from sklearn.feature_selection import SelectKBest\n",
    "from sklearn.feature_selection import chi2\n",
    "from sklearn.model_selection import GridSearchCV\n",
    "from numpy import linalg\n",
    "#from sklearn import datasets\n",
    "from sklearn.neighbors import kneighbors_graph\n",
    "#SciPy optimize provides functions for minimizing (or maximizing) objective functions, \n",
    "#possibly subject to constraints. It includes solvers for nonlinear problems \n",
    "#(with support for both local and global optimization algorithms), \n",
    "#linear programing, constrained and nonlinear least-squares, root finding, and curve fitting.\n",
    "import scipy.optimize as sco  \n",
    "from itertools import cycle, islice  \n",
    "#Iterator is defined as object types which contains values that can be accessed or iterated using a loop\n",
    "from scipy import sparse\n",
    "from scipy.optimize import minimize\n",
    "from scipy.spatial.distance import cdist\n",
    "from sklearn.neighbors import kneighbors_graph\n",
    "#!pip install -q datascience                                         \n",
    "#Package that is required by pandas profiling\n",
    "#!pip install -q pandas-profiling   \n",
    "import warnings\n",
    "warnings.filterwarnings('ignore')"
   ]
  },
  {
   "cell_type": "code",
   "execution_count": 2,
   "metadata": {},
   "outputs": [],
   "source": [
    "from pandas_profiling import ProfileReport                          # Import Pandas Profiling (To generate Univariate Analysis)\n",
    "pd.set_option('display.max_columns', None)                          # Unfolding hidden features if the cardinality is high\n",
    "pd.set_option('display.max_colwidth', None)                         # Unfolding the max feature width for better clearity\n",
    "pd.set_option('display.max_rows', None)                             # Unfolding hidden data points if the cardinality is high\n",
    "pd.set_option('mode.chained_assignment', None)                      # Removing restriction over chained assignments operations\n",
    "pd.set_option('display.float_format', lambda x: '%.5f' % x)         # To suppress scientific notation over exponential values\n",
    "#-------------------------------------------------------------------------------------------------------------------------------\n",
    "from collections import Counter                                     # For counting hashable objects\n",
    "#-------------------------------------------------------------------------------------------------------------------------------\n",
    "import matplotlib.pyplot as plt                                     # Importing pyplot interface to use matplotlib\n",
    "import seaborn as sns                                               # Importing seaborn library for interactive visualization\n",
    "%matplotlib inline\n",
    "#-------------------------------------------------------------------------------------------------------------------------------\n",
    "import scipy as sp    # Importing library for scientific calculations\n",
    "\n",
    "from sklearn.metrics import precision_score\n",
    "from sklearn.metrics import recall_score"
   ]
  },
  {
   "cell_type": "code",
   "execution_count": 3,
   "metadata": {},
   "outputs": [],
   "source": [
    "df = pd.read_excel(\"obesitymerge.xlsx\")"
   ]
  },
  {
   "cell_type": "code",
   "execution_count": 4,
   "metadata": {
    "scrolled": true
   },
   "outputs": [
    {
     "data": {
      "text/html": [
       "<div>\n",
       "<style scoped>\n",
       "    .dataframe tbody tr th:only-of-type {\n",
       "        vertical-align: middle;\n",
       "    }\n",
       "\n",
       "    .dataframe tbody tr th {\n",
       "        vertical-align: top;\n",
       "    }\n",
       "\n",
       "    .dataframe thead th {\n",
       "        text-align: right;\n",
       "    }\n",
       "</style>\n",
       "<table border=\"1\" class=\"dataframe\">\n",
       "  <thead>\n",
       "    <tr style=\"text-align: right;\">\n",
       "      <th></th>\n",
       "      <th>PatientId</th>\n",
       "      <th>Zone</th>\n",
       "      <th>State</th>\n",
       "      <th>District</th>\n",
       "      <th>Age</th>\n",
       "      <th>Gender</th>\n",
       "      <th>Waist</th>\n",
       "      <th>Height</th>\n",
       "      <th>Weight</th>\n",
       "      <th>DiabetesSelfDecl</th>\n",
       "      <th>Diafather</th>\n",
       "      <th>Diamother</th>\n",
       "      <th>Moderate</th>\n",
       "      <th>Vigorous</th>\n",
       "      <th>Dailyphysica</th>\n",
       "      <th>Hlba1c</th>\n",
       "      <th>DiabetesCalc</th>\n",
       "      <th>Diabetes</th>\n",
       "      <th>ClinicalNotes</th>\n",
       "      <th>Bmi</th>\n",
       "      <th>WcRiskScore</th>\n",
       "      <th>BmiRiskScore</th>\n",
       "      <th>BmiWcRiskScore</th>\n",
       "      <th>Waistscore</th>\n",
       "      <th>IDRSAge</th>\n",
       "      <th>IDRSFamilyH</th>\n",
       "      <th>IDRSBmi</th>\n",
       "      <th>IDRSBmiWc</th>\n",
       "      <th>IDRSPhysicalActivity</th>\n",
       "      <th>IDRS</th>\n",
       "      <th>IDRSWithBMI</th>\n",
       "      <th>IDRSWithBMIWC</th>\n",
       "    </tr>\n",
       "  </thead>\n",
       "  <tbody>\n",
       "    <tr>\n",
       "      <th>3154</th>\n",
       "      <td>8106</td>\n",
       "      <td>E</td>\n",
       "      <td>Jharkhand</td>\n",
       "      <td>Ranchi</td>\n",
       "      <td>56</td>\n",
       "      <td>Female</td>\n",
       "      <td>110.00000</td>\n",
       "      <td>150</td>\n",
       "      <td>81</td>\n",
       "      <td>Normal</td>\n",
       "      <td>0</td>\n",
       "      <td>0</td>\n",
       "      <td>0</td>\n",
       "      <td>0</td>\n",
       "      <td>1</td>\n",
       "      <td>5.90000</td>\n",
       "      <td>Prediabetic</td>\n",
       "      <td>Normal</td>\n",
       "      <td>NewPreDia</td>\n",
       "      <td>36.00000</td>\n",
       "      <td>5</td>\n",
       "      <td>5</td>\n",
       "      <td>5</td>\n",
       "      <td>20</td>\n",
       "      <td>30</td>\n",
       "      <td>0</td>\n",
       "      <td>20</td>\n",
       "      <td>30</td>\n",
       "      <td>30</td>\n",
       "      <td>80</td>\n",
       "      <td>80</td>\n",
       "      <td>90</td>\n",
       "    </tr>\n",
       "    <tr>\n",
       "      <th>1402</th>\n",
       "      <td>3639</td>\n",
       "      <td>NW</td>\n",
       "      <td>JammuandKashmir</td>\n",
       "      <td>Kathua</td>\n",
       "      <td>38</td>\n",
       "      <td>Male</td>\n",
       "      <td>94.00000</td>\n",
       "      <td>157</td>\n",
       "      <td>64</td>\n",
       "      <td>Normal</td>\n",
       "      <td>0</td>\n",
       "      <td>0</td>\n",
       "      <td>0</td>\n",
       "      <td>0</td>\n",
       "      <td>2</td>\n",
       "      <td>5.40000</td>\n",
       "      <td>Normal</td>\n",
       "      <td>Normal</td>\n",
       "      <td>AlwaysNormal</td>\n",
       "      <td>25.96454</td>\n",
       "      <td>3</td>\n",
       "      <td>3</td>\n",
       "      <td>3</td>\n",
       "      <td>10</td>\n",
       "      <td>20</td>\n",
       "      <td>0</td>\n",
       "      <td>10</td>\n",
       "      <td>20</td>\n",
       "      <td>30</td>\n",
       "      <td>60</td>\n",
       "      <td>60</td>\n",
       "      <td>70</td>\n",
       "    </tr>\n",
       "    <tr>\n",
       "      <th>5341</th>\n",
       "      <td>13870</td>\n",
       "      <td>NE</td>\n",
       "      <td>Manipur</td>\n",
       "      <td>ImphalWest</td>\n",
       "      <td>47</td>\n",
       "      <td>Female</td>\n",
       "      <td>95.00000</td>\n",
       "      <td>138</td>\n",
       "      <td>49</td>\n",
       "      <td>Normal</td>\n",
       "      <td>0</td>\n",
       "      <td>0</td>\n",
       "      <td>5</td>\n",
       "      <td>4</td>\n",
       "      <td>5</td>\n",
       "      <td>5.70000</td>\n",
       "      <td>Normal</td>\n",
       "      <td>Normal</td>\n",
       "      <td>AlwaysNormal</td>\n",
       "      <td>25.72989</td>\n",
       "      <td>4</td>\n",
       "      <td>3</td>\n",
       "      <td>3</td>\n",
       "      <td>20</td>\n",
       "      <td>20</td>\n",
       "      <td>0</td>\n",
       "      <td>10</td>\n",
       "      <td>20</td>\n",
       "      <td>0</td>\n",
       "      <td>40</td>\n",
       "      <td>30</td>\n",
       "      <td>40</td>\n",
       "    </tr>\n",
       "    <tr>\n",
       "      <th>3732</th>\n",
       "      <td>9777</td>\n",
       "      <td>NW</td>\n",
       "      <td>JammuandKashmir</td>\n",
       "      <td>Samba</td>\n",
       "      <td>60</td>\n",
       "      <td>Female</td>\n",
       "      <td>88.00000</td>\n",
       "      <td>162</td>\n",
       "      <td>80</td>\n",
       "      <td>Normal</td>\n",
       "      <td>0</td>\n",
       "      <td>0</td>\n",
       "      <td>1</td>\n",
       "      <td>2</td>\n",
       "      <td>1</td>\n",
       "      <td>8.40000</td>\n",
       "      <td>Diabetic</td>\n",
       "      <td>Diabetic</td>\n",
       "      <td>NewDia</td>\n",
       "      <td>30.48316</td>\n",
       "      <td>3</td>\n",
       "      <td>4</td>\n",
       "      <td>4</td>\n",
       "      <td>10</td>\n",
       "      <td>30</td>\n",
       "      <td>0</td>\n",
       "      <td>20</td>\n",
       "      <td>30</td>\n",
       "      <td>30</td>\n",
       "      <td>70</td>\n",
       "      <td>80</td>\n",
       "      <td>90</td>\n",
       "    </tr>\n",
       "    <tr>\n",
       "      <th>4928</th>\n",
       "      <td>12889</td>\n",
       "      <td>S</td>\n",
       "      <td>TamilNadu</td>\n",
       "      <td>Kanchipuram</td>\n",
       "      <td>60</td>\n",
       "      <td>Female</td>\n",
       "      <td>84.00000</td>\n",
       "      <td>138</td>\n",
       "      <td>54</td>\n",
       "      <td>Normal</td>\n",
       "      <td>0</td>\n",
       "      <td>0</td>\n",
       "      <td>0</td>\n",
       "      <td>0</td>\n",
       "      <td>3</td>\n",
       "      <td>6.00000</td>\n",
       "      <td>Prediabetic</td>\n",
       "      <td>Normal</td>\n",
       "      <td>NewPreDia</td>\n",
       "      <td>28.35539</td>\n",
       "      <td>3</td>\n",
       "      <td>4</td>\n",
       "      <td>4</td>\n",
       "      <td>10</td>\n",
       "      <td>30</td>\n",
       "      <td>0</td>\n",
       "      <td>20</td>\n",
       "      <td>30</td>\n",
       "      <td>30</td>\n",
       "      <td>70</td>\n",
       "      <td>80</td>\n",
       "      <td>90</td>\n",
       "    </tr>\n",
       "    <tr>\n",
       "      <th>707</th>\n",
       "      <td>1950</td>\n",
       "      <td>NW</td>\n",
       "      <td>JammuandKashmir</td>\n",
       "      <td>Jammu</td>\n",
       "      <td>38</td>\n",
       "      <td>Male</td>\n",
       "      <td>99.00000</td>\n",
       "      <td>163</td>\n",
       "      <td>68</td>\n",
       "      <td>Normal</td>\n",
       "      <td>0</td>\n",
       "      <td>0</td>\n",
       "      <td>4</td>\n",
       "      <td>1</td>\n",
       "      <td>4</td>\n",
       "      <td>5.90000</td>\n",
       "      <td>Prediabetic</td>\n",
       "      <td>Normal</td>\n",
       "      <td>NewPreDia</td>\n",
       "      <td>25.59374</td>\n",
       "      <td>3</td>\n",
       "      <td>3</td>\n",
       "      <td>3</td>\n",
       "      <td>10</td>\n",
       "      <td>20</td>\n",
       "      <td>0</td>\n",
       "      <td>10</td>\n",
       "      <td>20</td>\n",
       "      <td>30</td>\n",
       "      <td>60</td>\n",
       "      <td>60</td>\n",
       "      <td>70</td>\n",
       "    </tr>\n",
       "    <tr>\n",
       "      <th>5847</th>\n",
       "      <td>14750</td>\n",
       "      <td>S</td>\n",
       "      <td>Karnataka</td>\n",
       "      <td>Bangalore</td>\n",
       "      <td>76</td>\n",
       "      <td>Female</td>\n",
       "      <td>71.00000</td>\n",
       "      <td>158</td>\n",
       "      <td>50</td>\n",
       "      <td>Diabetic</td>\n",
       "      <td>0</td>\n",
       "      <td>0</td>\n",
       "      <td>6</td>\n",
       "      <td>0</td>\n",
       "      <td>4</td>\n",
       "      <td>6.50000</td>\n",
       "      <td>Diabetic</td>\n",
       "      <td>Diabetic</td>\n",
       "      <td>KnownDiaDia</td>\n",
       "      <td>20.02884</td>\n",
       "      <td>2</td>\n",
       "      <td>2</td>\n",
       "      <td>1</td>\n",
       "      <td>0</td>\n",
       "      <td>30</td>\n",
       "      <td>0</td>\n",
       "      <td>0</td>\n",
       "      <td>0</td>\n",
       "      <td>20</td>\n",
       "      <td>50</td>\n",
       "      <td>50</td>\n",
       "      <td>50</td>\n",
       "    </tr>\n",
       "    <tr>\n",
       "      <th>6254</th>\n",
       "      <td>15561</td>\n",
       "      <td>S</td>\n",
       "      <td>AndhraPradesh</td>\n",
       "      <td>Visakhapatnam</td>\n",
       "      <td>60</td>\n",
       "      <td>Female</td>\n",
       "      <td>107.00000</td>\n",
       "      <td>150</td>\n",
       "      <td>60</td>\n",
       "      <td>Diabetic</td>\n",
       "      <td>1</td>\n",
       "      <td>1</td>\n",
       "      <td>1</td>\n",
       "      <td>1</td>\n",
       "      <td>4</td>\n",
       "      <td>7.60000</td>\n",
       "      <td>Diabetic</td>\n",
       "      <td>Diabetic</td>\n",
       "      <td>KnownDiaDia</td>\n",
       "      <td>26.66667</td>\n",
       "      <td>5</td>\n",
       "      <td>3</td>\n",
       "      <td>3</td>\n",
       "      <td>20</td>\n",
       "      <td>30</td>\n",
       "      <td>20</td>\n",
       "      <td>10</td>\n",
       "      <td>20</td>\n",
       "      <td>30</td>\n",
       "      <td>100</td>\n",
       "      <td>90</td>\n",
       "      <td>100</td>\n",
       "    </tr>\n",
       "    <tr>\n",
       "      <th>3550</th>\n",
       "      <td>9353</td>\n",
       "      <td>E</td>\n",
       "      <td>Orissa</td>\n",
       "      <td>Bargarh</td>\n",
       "      <td>33</td>\n",
       "      <td>Female</td>\n",
       "      <td>80.00000</td>\n",
       "      <td>162</td>\n",
       "      <td>70</td>\n",
       "      <td>Normal</td>\n",
       "      <td>0</td>\n",
       "      <td>0</td>\n",
       "      <td>0</td>\n",
       "      <td>0</td>\n",
       "      <td>2</td>\n",
       "      <td>4.60000</td>\n",
       "      <td>Normal</td>\n",
       "      <td>Normal</td>\n",
       "      <td>AlwaysNormal</td>\n",
       "      <td>26.67276</td>\n",
       "      <td>3</td>\n",
       "      <td>3</td>\n",
       "      <td>3</td>\n",
       "      <td>10</td>\n",
       "      <td>0</td>\n",
       "      <td>0</td>\n",
       "      <td>10</td>\n",
       "      <td>20</td>\n",
       "      <td>30</td>\n",
       "      <td>40</td>\n",
       "      <td>40</td>\n",
       "      <td>50</td>\n",
       "    </tr>\n",
       "    <tr>\n",
       "      <th>1533</th>\n",
       "      <td>3888</td>\n",
       "      <td>S</td>\n",
       "      <td>TamilNadu</td>\n",
       "      <td>Madurai</td>\n",
       "      <td>27</td>\n",
       "      <td>Female</td>\n",
       "      <td>92.00000</td>\n",
       "      <td>143</td>\n",
       "      <td>50</td>\n",
       "      <td>Normal</td>\n",
       "      <td>0</td>\n",
       "      <td>0</td>\n",
       "      <td>1</td>\n",
       "      <td>1</td>\n",
       "      <td>1</td>\n",
       "      <td>5.30000</td>\n",
       "      <td>Normal</td>\n",
       "      <td>Normal</td>\n",
       "      <td>AlwaysNormal</td>\n",
       "      <td>24.45107</td>\n",
       "      <td>4</td>\n",
       "      <td>3</td>\n",
       "      <td>3</td>\n",
       "      <td>20</td>\n",
       "      <td>0</td>\n",
       "      <td>0</td>\n",
       "      <td>10</td>\n",
       "      <td>20</td>\n",
       "      <td>30</td>\n",
       "      <td>50</td>\n",
       "      <td>40</td>\n",
       "      <td>50</td>\n",
       "    </tr>\n",
       "  </tbody>\n",
       "</table>\n",
       "</div>"
      ],
      "text/plain": [
       "      PatientId Zone            State       District  Age  Gender     Waist  \\\n",
       "3154       8106    E        Jharkhand         Ranchi   56  Female 110.00000   \n",
       "1402       3639   NW  JammuandKashmir         Kathua   38    Male  94.00000   \n",
       "5341      13870   NE          Manipur     ImphalWest   47  Female  95.00000   \n",
       "3732       9777   NW  JammuandKashmir          Samba   60  Female  88.00000   \n",
       "4928      12889    S        TamilNadu    Kanchipuram   60  Female  84.00000   \n",
       "707        1950   NW  JammuandKashmir          Jammu   38    Male  99.00000   \n",
       "5847      14750    S        Karnataka      Bangalore   76  Female  71.00000   \n",
       "6254      15561    S    AndhraPradesh  Visakhapatnam   60  Female 107.00000   \n",
       "3550       9353    E           Orissa        Bargarh   33  Female  80.00000   \n",
       "1533       3888    S        TamilNadu        Madurai   27  Female  92.00000   \n",
       "\n",
       "      Height  Weight DiabetesSelfDecl  Diafather  Diamother  Moderate  \\\n",
       "3154     150      81           Normal          0          0         0   \n",
       "1402     157      64           Normal          0          0         0   \n",
       "5341     138      49           Normal          0          0         5   \n",
       "3732     162      80           Normal          0          0         1   \n",
       "4928     138      54           Normal          0          0         0   \n",
       "707      163      68           Normal          0          0         4   \n",
       "5847     158      50         Diabetic          0          0         6   \n",
       "6254     150      60         Diabetic          1          1         1   \n",
       "3550     162      70           Normal          0          0         0   \n",
       "1533     143      50           Normal          0          0         1   \n",
       "\n",
       "      Vigorous  Dailyphysica  Hlba1c DiabetesCalc  Diabetes ClinicalNotes  \\\n",
       "3154         0             1 5.90000  Prediabetic    Normal     NewPreDia   \n",
       "1402         0             2 5.40000       Normal    Normal  AlwaysNormal   \n",
       "5341         4             5 5.70000       Normal    Normal  AlwaysNormal   \n",
       "3732         2             1 8.40000     Diabetic  Diabetic        NewDia   \n",
       "4928         0             3 6.00000  Prediabetic    Normal     NewPreDia   \n",
       "707          1             4 5.90000  Prediabetic    Normal     NewPreDia   \n",
       "5847         0             4 6.50000     Diabetic  Diabetic   KnownDiaDia   \n",
       "6254         1             4 7.60000     Diabetic  Diabetic   KnownDiaDia   \n",
       "3550         0             2 4.60000       Normal    Normal  AlwaysNormal   \n",
       "1533         1             1 5.30000       Normal    Normal  AlwaysNormal   \n",
       "\n",
       "          Bmi  WcRiskScore  BmiRiskScore  BmiWcRiskScore  Waistscore  IDRSAge  \\\n",
       "3154 36.00000            5             5               5          20       30   \n",
       "1402 25.96454            3             3               3          10       20   \n",
       "5341 25.72989            4             3               3          20       20   \n",
       "3732 30.48316            3             4               4          10       30   \n",
       "4928 28.35539            3             4               4          10       30   \n",
       "707  25.59374            3             3               3          10       20   \n",
       "5847 20.02884            2             2               1           0       30   \n",
       "6254 26.66667            5             3               3          20       30   \n",
       "3550 26.67276            3             3               3          10        0   \n",
       "1533 24.45107            4             3               3          20        0   \n",
       "\n",
       "      IDRSFamilyH  IDRSBmi  IDRSBmiWc  IDRSPhysicalActivity  IDRS  \\\n",
       "3154            0       20         30                    30    80   \n",
       "1402            0       10         20                    30    60   \n",
       "5341            0       10         20                     0    40   \n",
       "3732            0       20         30                    30    70   \n",
       "4928            0       20         30                    30    70   \n",
       "707             0       10         20                    30    60   \n",
       "5847            0        0          0                    20    50   \n",
       "6254           20       10         20                    30   100   \n",
       "3550            0       10         20                    30    40   \n",
       "1533            0       10         20                    30    50   \n",
       "\n",
       "      IDRSWithBMI  IDRSWithBMIWC  \n",
       "3154           80             90  \n",
       "1402           60             70  \n",
       "5341           30             40  \n",
       "3732           80             90  \n",
       "4928           80             90  \n",
       "707            60             70  \n",
       "5847           50             50  \n",
       "6254           90            100  \n",
       "3550           40             50  \n",
       "1533           40             50  "
      ]
     },
     "execution_count": 4,
     "metadata": {},
     "output_type": "execute_result"
    }
   ],
   "source": [
    "df.sample(10)"
   ]
  },
  {
   "cell_type": "code",
   "execution_count": 5,
   "metadata": {},
   "outputs": [
    {
     "name": "stdout",
     "output_type": "stream",
     "text": [
      "<class 'pandas.core.frame.DataFrame'>\n",
      "RangeIndex: 7496 entries, 0 to 7495\n",
      "Data columns (total 32 columns):\n",
      " #   Column                Non-Null Count  Dtype  \n",
      "---  ------                --------------  -----  \n",
      " 0   PatientId             7496 non-null   int64  \n",
      " 1   Zone                  7496 non-null   object \n",
      " 2   State                 7496 non-null   object \n",
      " 3   District              7496 non-null   object \n",
      " 4   Age                   7496 non-null   int64  \n",
      " 5   Gender                7496 non-null   object \n",
      " 6   Waist                 7495 non-null   float64\n",
      " 7   Height                7496 non-null   int64  \n",
      " 8   Weight                7496 non-null   int64  \n",
      " 9   DiabetesSelfDecl      7496 non-null   object \n",
      " 10  Diafather             7496 non-null   int64  \n",
      " 11  Diamother             7496 non-null   int64  \n",
      " 12  Moderate              7496 non-null   int64  \n",
      " 13  Vigorous              7496 non-null   int64  \n",
      " 14  Dailyphysica          7496 non-null   int64  \n",
      " 15  Hlba1c                7496 non-null   float64\n",
      " 16  DiabetesCalc          7496 non-null   object \n",
      " 17  Diabetes              7496 non-null   object \n",
      " 18  ClinicalNotes         7496 non-null   object \n",
      " 19  Bmi                   7496 non-null   float64\n",
      " 20  WcRiskScore           7496 non-null   int64  \n",
      " 21  BmiRiskScore          7496 non-null   int64  \n",
      " 22  BmiWcRiskScore        7496 non-null   int64  \n",
      " 23  Waistscore            7496 non-null   int64  \n",
      " 24  IDRSAge               7496 non-null   int64  \n",
      " 25  IDRSFamilyH           7496 non-null   int64  \n",
      " 26  IDRSBmi               7496 non-null   int64  \n",
      " 27  IDRSBmiWc             7496 non-null   int64  \n",
      " 28  IDRSPhysicalActivity  7496 non-null   int64  \n",
      " 29  IDRS                  7496 non-null   int64  \n",
      " 30  IDRSWithBMI           7496 non-null   int64  \n",
      " 31  IDRSWithBMIWC         7496 non-null   int64  \n",
      "dtypes: float64(3), int64(21), object(8)\n",
      "memory usage: 1.8+ MB\n"
     ]
    }
   ],
   "source": [
    "df.info()"
   ]
  },
  {
   "cell_type": "code",
   "execution_count": 6,
   "metadata": {},
   "outputs": [],
   "source": [
    "string_col = df.select_dtypes(include=\"object\").columns\n",
    "df[string_col]=df[string_col].astype(\"string\")"
   ]
  },
  {
   "cell_type": "code",
   "execution_count": 7,
   "metadata": {},
   "outputs": [],
   "source": [
    "# dropping ALL duplicate values\n",
    "df.drop_duplicates(keep = False, inplace = True)"
   ]
  },
  {
   "cell_type": "code",
   "execution_count": 8,
   "metadata": {},
   "outputs": [
    {
     "data": {
      "text/plain": [
       "Normal         3547\n",
       "Diabetic       2307\n",
       "Prediabetic    1642\n",
       "Name: DiabetesCalc, dtype: Int64"
      ]
     },
     "execution_count": 8,
     "metadata": {},
     "output_type": "execute_result"
    }
   ],
   "source": [
    "df.DiabetesCalc.value_counts()"
   ]
  },
  {
   "cell_type": "code",
   "execution_count": 9,
   "metadata": {},
   "outputs": [
    {
     "name": "stdout",
     "output_type": "stream",
     "text": [
      "<class 'pandas.core.frame.DataFrame'>\n",
      "Int64Index: 7496 entries, 0 to 7495\n",
      "Data columns (total 32 columns):\n",
      " #   Column                Non-Null Count  Dtype  \n",
      "---  ------                --------------  -----  \n",
      " 0   PatientId             7496 non-null   int64  \n",
      " 1   Zone                  7496 non-null   string \n",
      " 2   State                 7496 non-null   string \n",
      " 3   District              7496 non-null   string \n",
      " 4   Age                   7496 non-null   int64  \n",
      " 5   Gender                7496 non-null   string \n",
      " 6   Waist                 7495 non-null   float64\n",
      " 7   Height                7496 non-null   int64  \n",
      " 8   Weight                7496 non-null   int64  \n",
      " 9   DiabetesSelfDecl      7496 non-null   string \n",
      " 10  Diafather             7496 non-null   int64  \n",
      " 11  Diamother             7496 non-null   int64  \n",
      " 12  Moderate              7496 non-null   int64  \n",
      " 13  Vigorous              7496 non-null   int64  \n",
      " 14  Dailyphysica          7496 non-null   int64  \n",
      " 15  Hlba1c                7496 non-null   float64\n",
      " 16  DiabetesCalc          7496 non-null   string \n",
      " 17  Diabetes              7496 non-null   string \n",
      " 18  ClinicalNotes         7496 non-null   string \n",
      " 19  Bmi                   7496 non-null   float64\n",
      " 20  WcRiskScore           7496 non-null   int64  \n",
      " 21  BmiRiskScore          7496 non-null   int64  \n",
      " 22  BmiWcRiskScore        7496 non-null   int64  \n",
      " 23  Waistscore            7496 non-null   int64  \n",
      " 24  IDRSAge               7496 non-null   int64  \n",
      " 25  IDRSFamilyH           7496 non-null   int64  \n",
      " 26  IDRSBmi               7496 non-null   int64  \n",
      " 27  IDRSBmiWc             7496 non-null   int64  \n",
      " 28  IDRSPhysicalActivity  7496 non-null   int64  \n",
      " 29  IDRS                  7496 non-null   int64  \n",
      " 30  IDRSWithBMI           7496 non-null   int64  \n",
      " 31  IDRSWithBMIWC         7496 non-null   int64  \n",
      "dtypes: float64(3), int64(21), string(8)\n",
      "memory usage: 1.9 MB\n"
     ]
    }
   ],
   "source": [
    "df.info()"
   ]
  },
  {
   "cell_type": "markdown",
   "metadata": {},
   "source": [
    "# Data Preprocessing"
   ]
  },
  {
   "cell_type": "code",
   "execution_count": 10,
   "metadata": {},
   "outputs": [
    {
     "data": {
      "text/plain": [
       "PatientId               0\n",
       "Zone                    0\n",
       "State                   0\n",
       "District                0\n",
       "Age                     0\n",
       "Gender                  0\n",
       "Waist                   1\n",
       "Height                  0\n",
       "Weight                  0\n",
       "DiabetesSelfDecl        0\n",
       "Diafather               0\n",
       "Diamother               0\n",
       "Moderate                0\n",
       "Vigorous                0\n",
       "Dailyphysica            0\n",
       "Hlba1c                  0\n",
       "DiabetesCalc            0\n",
       "Diabetes                0\n",
       "ClinicalNotes           0\n",
       "Bmi                     0\n",
       "WcRiskScore             0\n",
       "BmiRiskScore            0\n",
       "BmiWcRiskScore          0\n",
       "Waistscore              0\n",
       "IDRSAge                 0\n",
       "IDRSFamilyH             0\n",
       "IDRSBmi                 0\n",
       "IDRSBmiWc               0\n",
       "IDRSPhysicalActivity    0\n",
       "IDRS                    0\n",
       "IDRSWithBMI             0\n",
       "IDRSWithBMIWC           0\n",
       "dtype: int64"
      ]
     },
     "execution_count": 10,
     "metadata": {},
     "output_type": "execute_result"
    }
   ],
   "source": [
    "df.isnull().sum()"
   ]
  },
  {
   "cell_type": "code",
   "execution_count": 11,
   "metadata": {},
   "outputs": [
    {
     "data": {
      "text/plain": [
       "0"
      ]
     },
     "execution_count": 11,
     "metadata": {},
     "output_type": "execute_result"
    }
   ],
   "source": [
    "df.duplicated().sum()"
   ]
  },
  {
   "cell_type": "code",
   "execution_count": 12,
   "metadata": {},
   "outputs": [
    {
     "data": {
      "text/plain": [
       "(7496, 32)"
      ]
     },
     "execution_count": 12,
     "metadata": {},
     "output_type": "execute_result"
    }
   ],
   "source": [
    "df.shape"
   ]
  },
  {
   "cell_type": "code",
   "execution_count": 13,
   "metadata": {},
   "outputs": [
    {
     "data": {
      "text/html": [
       "<div>\n",
       "<style scoped>\n",
       "    .dataframe tbody tr th:only-of-type {\n",
       "        vertical-align: middle;\n",
       "    }\n",
       "\n",
       "    .dataframe tbody tr th {\n",
       "        vertical-align: top;\n",
       "    }\n",
       "\n",
       "    .dataframe thead th {\n",
       "        text-align: right;\n",
       "    }\n",
       "</style>\n",
       "<table border=\"1\" class=\"dataframe\">\n",
       "  <thead>\n",
       "    <tr style=\"text-align: right;\">\n",
       "      <th></th>\n",
       "      <th>PatientId</th>\n",
       "      <th>Age</th>\n",
       "      <th>Waist</th>\n",
       "      <th>Height</th>\n",
       "      <th>Weight</th>\n",
       "      <th>Diafather</th>\n",
       "      <th>Diamother</th>\n",
       "      <th>Moderate</th>\n",
       "      <th>Vigorous</th>\n",
       "      <th>Dailyphysica</th>\n",
       "      <th>Hlba1c</th>\n",
       "      <th>Bmi</th>\n",
       "      <th>WcRiskScore</th>\n",
       "      <th>BmiRiskScore</th>\n",
       "      <th>BmiWcRiskScore</th>\n",
       "      <th>Waistscore</th>\n",
       "      <th>IDRSAge</th>\n",
       "      <th>IDRSFamilyH</th>\n",
       "      <th>IDRSBmi</th>\n",
       "      <th>IDRSBmiWc</th>\n",
       "      <th>IDRSPhysicalActivity</th>\n",
       "      <th>IDRS</th>\n",
       "      <th>IDRSWithBMI</th>\n",
       "      <th>IDRSWithBMIWC</th>\n",
       "    </tr>\n",
       "  </thead>\n",
       "  <tbody>\n",
       "    <tr>\n",
       "      <th>count</th>\n",
       "      <td>7496.00000</td>\n",
       "      <td>7496.00000</td>\n",
       "      <td>7495.00000</td>\n",
       "      <td>7496.00000</td>\n",
       "      <td>7496.00000</td>\n",
       "      <td>7496.00000</td>\n",
       "      <td>7496.00000</td>\n",
       "      <td>7496.00000</td>\n",
       "      <td>7496.00000</td>\n",
       "      <td>7496.00000</td>\n",
       "      <td>7496.00000</td>\n",
       "      <td>7496.00000</td>\n",
       "      <td>7496.00000</td>\n",
       "      <td>7496.00000</td>\n",
       "      <td>7496.00000</td>\n",
       "      <td>7496.00000</td>\n",
       "      <td>7496.00000</td>\n",
       "      <td>7496.00000</td>\n",
       "      <td>7496.00000</td>\n",
       "      <td>7496.00000</td>\n",
       "      <td>7496.00000</td>\n",
       "      <td>7496.00000</td>\n",
       "      <td>7496.00000</td>\n",
       "      <td>7496.00000</td>\n",
       "    </tr>\n",
       "    <tr>\n",
       "      <th>mean</th>\n",
       "      <td>9508.34965</td>\n",
       "      <td>48.39221</td>\n",
       "      <td>91.20747</td>\n",
       "      <td>158.79336</td>\n",
       "      <td>65.77628</td>\n",
       "      <td>0.17129</td>\n",
       "      <td>0.15101</td>\n",
       "      <td>1.76507</td>\n",
       "      <td>1.17863</td>\n",
       "      <td>2.10112</td>\n",
       "      <td>6.45603</td>\n",
       "      <td>26.13203</td>\n",
       "      <td>3.19544</td>\n",
       "      <td>3.15155</td>\n",
       "      <td>2.89154</td>\n",
       "      <td>11.21665</td>\n",
       "      <td>22.35993</td>\n",
       "      <td>3.22305</td>\n",
       "      <td>10.97519</td>\n",
       "      <td>18.37513</td>\n",
       "      <td>27.44130</td>\n",
       "      <td>64.24093</td>\n",
       "      <td>63.99947</td>\n",
       "      <td>71.39941</td>\n",
       "    </tr>\n",
       "    <tr>\n",
       "      <th>std</th>\n",
       "      <td>5321.69188</td>\n",
       "      <td>11.86568</td>\n",
       "      <td>10.90646</td>\n",
       "      <td>9.53561</td>\n",
       "      <td>12.16213</td>\n",
       "      <td>0.37679</td>\n",
       "      <td>0.35809</td>\n",
       "      <td>2.07676</td>\n",
       "      <td>1.71225</td>\n",
       "      <td>1.31687</td>\n",
       "      <td>1.82042</td>\n",
       "      <td>4.59481</td>\n",
       "      <td>1.07978</td>\n",
       "      <td>0.92564</td>\n",
       "      <td>1.14609</td>\n",
       "      <td>7.91806</td>\n",
       "      <td>9.47419</td>\n",
       "      <td>5.72358</td>\n",
       "      <td>7.51047</td>\n",
       "      <td>9.88263</td>\n",
       "      <td>5.43411</td>\n",
       "      <td>15.13330</td>\n",
       "      <td>15.10690</td>\n",
       "      <td>16.63011</td>\n",
       "    </tr>\n",
       "    <tr>\n",
       "      <th>min</th>\n",
       "      <td>0.00000</td>\n",
       "      <td>20.00000</td>\n",
       "      <td>60.00000</td>\n",
       "      <td>121.00000</td>\n",
       "      <td>41.00000</td>\n",
       "      <td>0.00000</td>\n",
       "      <td>0.00000</td>\n",
       "      <td>0.00000</td>\n",
       "      <td>0.00000</td>\n",
       "      <td>1.00000</td>\n",
       "      <td>3.20000</td>\n",
       "      <td>12.20703</td>\n",
       "      <td>1.00000</td>\n",
       "      <td>1.00000</td>\n",
       "      <td>0.00000</td>\n",
       "      <td>0.00000</td>\n",
       "      <td>0.00000</td>\n",
       "      <td>0.00000</td>\n",
       "      <td>0.00000</td>\n",
       "      <td>0.00000</td>\n",
       "      <td>0.00000</td>\n",
       "      <td>0.00000</td>\n",
       "      <td>0.00000</td>\n",
       "      <td>0.00000</td>\n",
       "    </tr>\n",
       "    <tr>\n",
       "      <th>25%</th>\n",
       "      <td>4871.75000</td>\n",
       "      <td>40.00000</td>\n",
       "      <td>84.00000</td>\n",
       "      <td>152.00000</td>\n",
       "      <td>57.00000</td>\n",
       "      <td>0.00000</td>\n",
       "      <td>0.00000</td>\n",
       "      <td>0.00000</td>\n",
       "      <td>0.00000</td>\n",
       "      <td>1.00000</td>\n",
       "      <td>5.30000</td>\n",
       "      <td>23.11111</td>\n",
       "      <td>2.00000</td>\n",
       "      <td>3.00000</td>\n",
       "      <td>2.00000</td>\n",
       "      <td>0.00000</td>\n",
       "      <td>20.00000</td>\n",
       "      <td>0.00000</td>\n",
       "      <td>10.00000</td>\n",
       "      <td>10.00000</td>\n",
       "      <td>30.00000</td>\n",
       "      <td>60.00000</td>\n",
       "      <td>60.00000</td>\n",
       "      <td>60.00000</td>\n",
       "    </tr>\n",
       "    <tr>\n",
       "      <th>50%</th>\n",
       "      <td>9811.50000</td>\n",
       "      <td>48.00000</td>\n",
       "      <td>90.00000</td>\n",
       "      <td>158.00000</td>\n",
       "      <td>65.00000</td>\n",
       "      <td>0.00000</td>\n",
       "      <td>0.00000</td>\n",
       "      <td>1.00000</td>\n",
       "      <td>0.00000</td>\n",
       "      <td>2.00000</td>\n",
       "      <td>5.80000</td>\n",
       "      <td>25.71166</td>\n",
       "      <td>3.00000</td>\n",
       "      <td>3.00000</td>\n",
       "      <td>3.00000</td>\n",
       "      <td>10.00000</td>\n",
       "      <td>20.00000</td>\n",
       "      <td>0.00000</td>\n",
       "      <td>10.00000</td>\n",
       "      <td>20.00000</td>\n",
       "      <td>30.00000</td>\n",
       "      <td>70.00000</td>\n",
       "      <td>70.00000</td>\n",
       "      <td>70.00000</td>\n",
       "    </tr>\n",
       "    <tr>\n",
       "      <th>75%</th>\n",
       "      <td>14394.25000</td>\n",
       "      <td>58.00000</td>\n",
       "      <td>98.00000</td>\n",
       "      <td>165.00000</td>\n",
       "      <td>73.00000</td>\n",
       "      <td>0.00000</td>\n",
       "      <td>0.00000</td>\n",
       "      <td>3.00000</td>\n",
       "      <td>2.00000</td>\n",
       "      <td>3.00000</td>\n",
       "      <td>6.80000</td>\n",
       "      <td>28.62147</td>\n",
       "      <td>4.00000</td>\n",
       "      <td>4.00000</td>\n",
       "      <td>4.00000</td>\n",
       "      <td>20.00000</td>\n",
       "      <td>30.00000</td>\n",
       "      <td>10.00000</td>\n",
       "      <td>20.00000</td>\n",
       "      <td>30.00000</td>\n",
       "      <td>30.00000</td>\n",
       "      <td>70.00000</td>\n",
       "      <td>70.00000</td>\n",
       "      <td>80.00000</td>\n",
       "    </tr>\n",
       "    <tr>\n",
       "      <th>max</th>\n",
       "      <td>17872.00000</td>\n",
       "      <td>85.00000</td>\n",
       "      <td>150.00000</td>\n",
       "      <td>194.00000</td>\n",
       "      <td>168.00000</td>\n",
       "      <td>1.00000</td>\n",
       "      <td>1.00000</td>\n",
       "      <td>6.00000</td>\n",
       "      <td>6.00000</td>\n",
       "      <td>6.00000</td>\n",
       "      <td>15.80000</td>\n",
       "      <td>66.22230</td>\n",
       "      <td>5.00000</td>\n",
       "      <td>5.00000</td>\n",
       "      <td>5.00000</td>\n",
       "      <td>20.00000</td>\n",
       "      <td>30.00000</td>\n",
       "      <td>20.00000</td>\n",
       "      <td>20.00000</td>\n",
       "      <td>30.00000</td>\n",
       "      <td>30.00000</td>\n",
       "      <td>100.00000</td>\n",
       "      <td>100.00000</td>\n",
       "      <td>110.00000</td>\n",
       "    </tr>\n",
       "  </tbody>\n",
       "</table>\n",
       "</div>"
      ],
      "text/plain": [
       "        PatientId        Age      Waist     Height     Weight  Diafather  \\\n",
       "count  7496.00000 7496.00000 7495.00000 7496.00000 7496.00000 7496.00000   \n",
       "mean   9508.34965   48.39221   91.20747  158.79336   65.77628    0.17129   \n",
       "std    5321.69188   11.86568   10.90646    9.53561   12.16213    0.37679   \n",
       "min       0.00000   20.00000   60.00000  121.00000   41.00000    0.00000   \n",
       "25%    4871.75000   40.00000   84.00000  152.00000   57.00000    0.00000   \n",
       "50%    9811.50000   48.00000   90.00000  158.00000   65.00000    0.00000   \n",
       "75%   14394.25000   58.00000   98.00000  165.00000   73.00000    0.00000   \n",
       "max   17872.00000   85.00000  150.00000  194.00000  168.00000    1.00000   \n",
       "\n",
       "       Diamother   Moderate   Vigorous  Dailyphysica     Hlba1c        Bmi  \\\n",
       "count 7496.00000 7496.00000 7496.00000    7496.00000 7496.00000 7496.00000   \n",
       "mean     0.15101    1.76507    1.17863       2.10112    6.45603   26.13203   \n",
       "std      0.35809    2.07676    1.71225       1.31687    1.82042    4.59481   \n",
       "min      0.00000    0.00000    0.00000       1.00000    3.20000   12.20703   \n",
       "25%      0.00000    0.00000    0.00000       1.00000    5.30000   23.11111   \n",
       "50%      0.00000    1.00000    0.00000       2.00000    5.80000   25.71166   \n",
       "75%      0.00000    3.00000    2.00000       3.00000    6.80000   28.62147   \n",
       "max      1.00000    6.00000    6.00000       6.00000   15.80000   66.22230   \n",
       "\n",
       "       WcRiskScore  BmiRiskScore  BmiWcRiskScore  Waistscore    IDRSAge  \\\n",
       "count   7496.00000    7496.00000      7496.00000  7496.00000 7496.00000   \n",
       "mean       3.19544       3.15155         2.89154    11.21665   22.35993   \n",
       "std        1.07978       0.92564         1.14609     7.91806    9.47419   \n",
       "min        1.00000       1.00000         0.00000     0.00000    0.00000   \n",
       "25%        2.00000       3.00000         2.00000     0.00000   20.00000   \n",
       "50%        3.00000       3.00000         3.00000    10.00000   20.00000   \n",
       "75%        4.00000       4.00000         4.00000    20.00000   30.00000   \n",
       "max        5.00000       5.00000         5.00000    20.00000   30.00000   \n",
       "\n",
       "       IDRSFamilyH    IDRSBmi  IDRSBmiWc  IDRSPhysicalActivity       IDRS  \\\n",
       "count   7496.00000 7496.00000 7496.00000            7496.00000 7496.00000   \n",
       "mean       3.22305   10.97519   18.37513              27.44130   64.24093   \n",
       "std        5.72358    7.51047    9.88263               5.43411   15.13330   \n",
       "min        0.00000    0.00000    0.00000               0.00000    0.00000   \n",
       "25%        0.00000   10.00000   10.00000              30.00000   60.00000   \n",
       "50%        0.00000   10.00000   20.00000              30.00000   70.00000   \n",
       "75%       10.00000   20.00000   30.00000              30.00000   70.00000   \n",
       "max       20.00000   20.00000   30.00000              30.00000  100.00000   \n",
       "\n",
       "       IDRSWithBMI  IDRSWithBMIWC  \n",
       "count   7496.00000     7496.00000  \n",
       "mean      63.99947       71.39941  \n",
       "std       15.10690       16.63011  \n",
       "min        0.00000        0.00000  \n",
       "25%       60.00000       60.00000  \n",
       "50%       70.00000       70.00000  \n",
       "75%       70.00000       80.00000  \n",
       "max      100.00000      110.00000  "
      ]
     },
     "execution_count": 13,
     "metadata": {},
     "output_type": "execute_result"
    }
   ],
   "source": [
    "df.describe()"
   ]
  },
  {
   "cell_type": "code",
   "execution_count": 14,
   "metadata": {},
   "outputs": [],
   "source": [
    "df=df.drop(['PatientId', 'Zone', 'State', 'District'],axis=1)"
   ]
  },
  {
   "cell_type": "code",
   "execution_count": 15,
   "metadata": {},
   "outputs": [],
   "source": [
    "df.replace([np.inf, -np.inf], np.nan, inplace=True)"
   ]
  },
  {
   "cell_type": "code",
   "execution_count": 16,
   "metadata": {},
   "outputs": [],
   "source": [
    " df = df.dropna(axis=0)"
   ]
  },
  {
   "cell_type": "code",
   "execution_count": 17,
   "metadata": {},
   "outputs": [
    {
     "data": {
      "text/html": [
       "<div>\n",
       "<style scoped>\n",
       "    .dataframe tbody tr th:only-of-type {\n",
       "        vertical-align: middle;\n",
       "    }\n",
       "\n",
       "    .dataframe tbody tr th {\n",
       "        vertical-align: top;\n",
       "    }\n",
       "\n",
       "    .dataframe thead th {\n",
       "        text-align: right;\n",
       "    }\n",
       "</style>\n",
       "<table border=\"1\" class=\"dataframe\">\n",
       "  <thead>\n",
       "    <tr style=\"text-align: right;\">\n",
       "      <th></th>\n",
       "      <th>Age</th>\n",
       "      <th>Gender</th>\n",
       "      <th>Waist</th>\n",
       "      <th>Height</th>\n",
       "      <th>Weight</th>\n",
       "      <th>DiabetesSelfDecl</th>\n",
       "      <th>Diafather</th>\n",
       "      <th>Diamother</th>\n",
       "      <th>Moderate</th>\n",
       "      <th>Vigorous</th>\n",
       "      <th>Dailyphysica</th>\n",
       "      <th>Hlba1c</th>\n",
       "      <th>DiabetesCalc</th>\n",
       "      <th>Diabetes</th>\n",
       "      <th>ClinicalNotes</th>\n",
       "      <th>Bmi</th>\n",
       "      <th>WcRiskScore</th>\n",
       "      <th>BmiRiskScore</th>\n",
       "      <th>BmiWcRiskScore</th>\n",
       "      <th>Waistscore</th>\n",
       "      <th>IDRSAge</th>\n",
       "      <th>IDRSFamilyH</th>\n",
       "      <th>IDRSBmi</th>\n",
       "      <th>IDRSBmiWc</th>\n",
       "      <th>IDRSPhysicalActivity</th>\n",
       "      <th>IDRS</th>\n",
       "      <th>IDRSWithBMI</th>\n",
       "      <th>IDRSWithBMIWC</th>\n",
       "    </tr>\n",
       "  </thead>\n",
       "  <tbody>\n",
       "    <tr>\n",
       "      <th>0</th>\n",
       "      <td>35</td>\n",
       "      <td>0</td>\n",
       "      <td>70.00000</td>\n",
       "      <td>157</td>\n",
       "      <td>47</td>\n",
       "      <td>1</td>\n",
       "      <td>0</td>\n",
       "      <td>0</td>\n",
       "      <td>0</td>\n",
       "      <td>0</td>\n",
       "      <td>3</td>\n",
       "      <td>4.90000</td>\n",
       "      <td>1</td>\n",
       "      <td>1</td>\n",
       "      <td>0</td>\n",
       "      <td>19.06771</td>\n",
       "      <td>1</td>\n",
       "      <td>1</td>\n",
       "      <td>1</td>\n",
       "      <td>0</td>\n",
       "      <td>1</td>\n",
       "      <td>0</td>\n",
       "      <td>0</td>\n",
       "      <td>0</td>\n",
       "      <td>2</td>\n",
       "      <td>5</td>\n",
       "      <td>5</td>\n",
       "      <td>5</td>\n",
       "    </tr>\n",
       "    <tr>\n",
       "      <th>1</th>\n",
       "      <td>38</td>\n",
       "      <td>0</td>\n",
       "      <td>81.00000</td>\n",
       "      <td>145</td>\n",
       "      <td>65</td>\n",
       "      <td>1</td>\n",
       "      <td>1</td>\n",
       "      <td>0</td>\n",
       "      <td>0</td>\n",
       "      <td>3</td>\n",
       "      <td>1</td>\n",
       "      <td>5.30000</td>\n",
       "      <td>1</td>\n",
       "      <td>1</td>\n",
       "      <td>0</td>\n",
       "      <td>30.91558</td>\n",
       "      <td>2</td>\n",
       "      <td>3</td>\n",
       "      <td>4</td>\n",
       "      <td>1</td>\n",
       "      <td>1</td>\n",
       "      <td>1</td>\n",
       "      <td>2</td>\n",
       "      <td>3</td>\n",
       "      <td>2</td>\n",
       "      <td>7</td>\n",
       "      <td>8</td>\n",
       "      <td>9</td>\n",
       "    </tr>\n",
       "    <tr>\n",
       "      <th>2</th>\n",
       "      <td>42</td>\n",
       "      <td>0</td>\n",
       "      <td>102.00000</td>\n",
       "      <td>159</td>\n",
       "      <td>68</td>\n",
       "      <td>1</td>\n",
       "      <td>1</td>\n",
       "      <td>1</td>\n",
       "      <td>0</td>\n",
       "      <td>0</td>\n",
       "      <td>2</td>\n",
       "      <td>5.00000</td>\n",
       "      <td>1</td>\n",
       "      <td>1</td>\n",
       "      <td>0</td>\n",
       "      <td>26.89767</td>\n",
       "      <td>4</td>\n",
       "      <td>2</td>\n",
       "      <td>3</td>\n",
       "      <td>2</td>\n",
       "      <td>1</td>\n",
       "      <td>2</td>\n",
       "      <td>1</td>\n",
       "      <td>2</td>\n",
       "      <td>2</td>\n",
       "      <td>9</td>\n",
       "      <td>8</td>\n",
       "      <td>9</td>\n",
       "    </tr>\n",
       "    <tr>\n",
       "      <th>3</th>\n",
       "      <td>37</td>\n",
       "      <td>0</td>\n",
       "      <td>76.00000</td>\n",
       "      <td>142</td>\n",
       "      <td>44</td>\n",
       "      <td>1</td>\n",
       "      <td>1</td>\n",
       "      <td>0</td>\n",
       "      <td>2</td>\n",
       "      <td>3</td>\n",
       "      <td>2</td>\n",
       "      <td>5.40000</td>\n",
       "      <td>1</td>\n",
       "      <td>1</td>\n",
       "      <td>0</td>\n",
       "      <td>21.82107</td>\n",
       "      <td>1</td>\n",
       "      <td>1</td>\n",
       "      <td>1</td>\n",
       "      <td>0</td>\n",
       "      <td>1</td>\n",
       "      <td>1</td>\n",
       "      <td>0</td>\n",
       "      <td>0</td>\n",
       "      <td>2</td>\n",
       "      <td>6</td>\n",
       "      <td>6</td>\n",
       "      <td>6</td>\n",
       "    </tr>\n",
       "    <tr>\n",
       "      <th>4</th>\n",
       "      <td>47</td>\n",
       "      <td>1</td>\n",
       "      <td>87.00000</td>\n",
       "      <td>160</td>\n",
       "      <td>60</td>\n",
       "      <td>1</td>\n",
       "      <td>1</td>\n",
       "      <td>0</td>\n",
       "      <td>2</td>\n",
       "      <td>3</td>\n",
       "      <td>3</td>\n",
       "      <td>12.60000</td>\n",
       "      <td>0</td>\n",
       "      <td>0</td>\n",
       "      <td>4</td>\n",
       "      <td>23.43750</td>\n",
       "      <td>1</td>\n",
       "      <td>2</td>\n",
       "      <td>2</td>\n",
       "      <td>0</td>\n",
       "      <td>1</td>\n",
       "      <td>1</td>\n",
       "      <td>1</td>\n",
       "      <td>1</td>\n",
       "      <td>2</td>\n",
       "      <td>6</td>\n",
       "      <td>7</td>\n",
       "      <td>7</td>\n",
       "    </tr>\n",
       "  </tbody>\n",
       "</table>\n",
       "</div>"
      ],
      "text/plain": [
       "   Age  Gender     Waist  Height  Weight  DiabetesSelfDecl  Diafather  \\\n",
       "0   35       0  70.00000     157      47                 1          0   \n",
       "1   38       0  81.00000     145      65                 1          1   \n",
       "2   42       0 102.00000     159      68                 1          1   \n",
       "3   37       0  76.00000     142      44                 1          1   \n",
       "4   47       1  87.00000     160      60                 1          1   \n",
       "\n",
       "   Diamother  Moderate  Vigorous  Dailyphysica   Hlba1c  DiabetesCalc  \\\n",
       "0          0         0         0             3  4.90000             1   \n",
       "1          0         0         3             1  5.30000             1   \n",
       "2          1         0         0             2  5.00000             1   \n",
       "3          0         2         3             2  5.40000             1   \n",
       "4          0         2         3             3 12.60000             0   \n",
       "\n",
       "   Diabetes  ClinicalNotes      Bmi  WcRiskScore  BmiRiskScore  \\\n",
       "0         1              0 19.06771            1             1   \n",
       "1         1              0 30.91558            2             3   \n",
       "2         1              0 26.89767            4             2   \n",
       "3         1              0 21.82107            1             1   \n",
       "4         0              4 23.43750            1             2   \n",
       "\n",
       "   BmiWcRiskScore  Waistscore  IDRSAge  IDRSFamilyH  IDRSBmi  IDRSBmiWc  \\\n",
       "0               1           0        1            0        0          0   \n",
       "1               4           1        1            1        2          3   \n",
       "2               3           2        1            2        1          2   \n",
       "3               1           0        1            1        0          0   \n",
       "4               2           0        1            1        1          1   \n",
       "\n",
       "   IDRSPhysicalActivity  IDRS  IDRSWithBMI  IDRSWithBMIWC  \n",
       "0                     2     5            5              5  \n",
       "1                     2     7            8              9  \n",
       "2                     2     9            8              9  \n",
       "3                     2     6            6              6  \n",
       "4                     2     6            7              7  "
      ]
     },
     "execution_count": 17,
     "metadata": {},
     "output_type": "execute_result"
    }
   ],
   "source": [
    "from sklearn.preprocessing import LabelEncoder\n",
    "cols = ['Gender', 'DiabetesSelfDecl', 'DiabetesCalc','Diabetes', 'ClinicalNotes', 'WcRiskScore', 'BmiRiskScore','BmiWcRiskScore', 'Waistscore', 'IDRSAge', 'IDRSFamilyH', 'IDRSBmi','IDRSBmiWc', 'IDRSPhysicalActivity', 'IDRS', 'IDRSWithBMI',\n",
    "       'IDRSWithBMIWC']\n",
    "df[cols] = df[cols].apply(LabelEncoder().fit_transform)\n",
    "df.head()"
   ]
  },
  {
   "cell_type": "code",
   "execution_count": 18,
   "metadata": {},
   "outputs": [],
   "source": [
    "x=df.drop(['DiabetesCalc','Hlba1c','ClinicalNotes', 'Diabetes'],axis=1)\n",
    "y=df['DiabetesCalc']\n",
    "z=df['Diabetes']\n",
    "x1= df['ClinicalNotes']"
   ]
  },
  {
   "cell_type": "markdown",
   "metadata": {},
   "source": [
    "# Feature Selection using SelectKBest with chi2"
   ]
  },
  {
   "cell_type": "code",
   "execution_count": 19,
   "metadata": {},
   "outputs": [],
   "source": [
    "bestfeatures = SelectKBest(score_func=chi2, k=5)\n",
    "fit = bestfeatures.fit(x,y)\n"
   ]
  },
  {
   "cell_type": "code",
   "execution_count": 20,
   "metadata": {},
   "outputs": [],
   "source": [
    "dfscores = pd.DataFrame(fit.scores_)\n",
    "dfcolumns = pd.DataFrame(x.columns)"
   ]
  },
  {
   "cell_type": "code",
   "execution_count": 21,
   "metadata": {},
   "outputs": [],
   "source": [
    "featureScores = pd.concat([dfcolumns,dfscores],axis=1)\n",
    "featureScores.columns = ['features','Score']"
   ]
  },
  {
   "cell_type": "code",
   "execution_count": 22,
   "metadata": {},
   "outputs": [
    {
     "data": {
      "text/html": [
       "<div>\n",
       "<style scoped>\n",
       "    .dataframe tbody tr th:only-of-type {\n",
       "        vertical-align: middle;\n",
       "    }\n",
       "\n",
       "    .dataframe tbody tr th {\n",
       "        vertical-align: top;\n",
       "    }\n",
       "\n",
       "    .dataframe thead th {\n",
       "        text-align: right;\n",
       "    }\n",
       "</style>\n",
       "<table border=\"1\" class=\"dataframe\">\n",
       "  <thead>\n",
       "    <tr style=\"text-align: right;\">\n",
       "      <th></th>\n",
       "      <th>features</th>\n",
       "      <th>Score</th>\n",
       "    </tr>\n",
       "  </thead>\n",
       "  <tbody>\n",
       "    <tr>\n",
       "      <th>0</th>\n",
       "      <td>Age</td>\n",
       "      <td>2434.68283</td>\n",
       "    </tr>\n",
       "    <tr>\n",
       "      <th>1</th>\n",
       "      <td>Gender</td>\n",
       "      <td>33.47882</td>\n",
       "    </tr>\n",
       "    <tr>\n",
       "      <th>2</th>\n",
       "      <td>Waist</td>\n",
       "      <td>153.00629</td>\n",
       "    </tr>\n",
       "    <tr>\n",
       "      <th>3</th>\n",
       "      <td>Height</td>\n",
       "      <td>4.15566</td>\n",
       "    </tr>\n",
       "    <tr>\n",
       "      <th>4</th>\n",
       "      <td>Weight</td>\n",
       "      <td>231.68792</td>\n",
       "    </tr>\n",
       "    <tr>\n",
       "      <th>5</th>\n",
       "      <td>DiabetesSelfDecl</td>\n",
       "      <td>317.74953</td>\n",
       "    </tr>\n",
       "    <tr>\n",
       "      <th>6</th>\n",
       "      <td>Diafather</td>\n",
       "      <td>49.55539</td>\n",
       "    </tr>\n",
       "    <tr>\n",
       "      <th>7</th>\n",
       "      <td>Diamother</td>\n",
       "      <td>80.47706</td>\n",
       "    </tr>\n",
       "    <tr>\n",
       "      <th>8</th>\n",
       "      <td>Moderate</td>\n",
       "      <td>1.28297</td>\n",
       "    </tr>\n",
       "    <tr>\n",
       "      <th>9</th>\n",
       "      <td>Vigorous</td>\n",
       "      <td>4.22005</td>\n",
       "    </tr>\n",
       "    <tr>\n",
       "      <th>10</th>\n",
       "      <td>Dailyphysica</td>\n",
       "      <td>8.27192</td>\n",
       "    </tr>\n",
       "    <tr>\n",
       "      <th>11</th>\n",
       "      <td>Bmi</td>\n",
       "      <td>87.43193</td>\n",
       "    </tr>\n",
       "    <tr>\n",
       "      <th>12</th>\n",
       "      <td>WcRiskScore</td>\n",
       "      <td>32.57306</td>\n",
       "    </tr>\n",
       "    <tr>\n",
       "      <th>13</th>\n",
       "      <td>BmiRiskScore</td>\n",
       "      <td>44.26891</td>\n",
       "    </tr>\n",
       "    <tr>\n",
       "      <th>14</th>\n",
       "      <td>BmiWcRiskScore</td>\n",
       "      <td>48.20794</td>\n",
       "    </tr>\n",
       "    <tr>\n",
       "      <th>15</th>\n",
       "      <td>Waistscore</td>\n",
       "      <td>25.08586</td>\n",
       "    </tr>\n",
       "    <tr>\n",
       "      <th>16</th>\n",
       "      <td>IDRSAge</td>\n",
       "      <td>268.62880</td>\n",
       "    </tr>\n",
       "    <tr>\n",
       "      <th>17</th>\n",
       "      <td>IDRSFamilyH</td>\n",
       "      <td>125.15833</td>\n",
       "    </tr>\n",
       "    <tr>\n",
       "      <th>18</th>\n",
       "      <td>IDRSBmi</td>\n",
       "      <td>54.06465</td>\n",
       "    </tr>\n",
       "    <tr>\n",
       "      <th>19</th>\n",
       "      <td>IDRSBmiWc</td>\n",
       "      <td>51.69902</td>\n",
       "    </tr>\n",
       "    <tr>\n",
       "      <th>20</th>\n",
       "      <td>IDRSPhysicalActivity</td>\n",
       "      <td>0.14742</td>\n",
       "    </tr>\n",
       "    <tr>\n",
       "      <th>21</th>\n",
       "      <td>IDRS</td>\n",
       "      <td>222.53718</td>\n",
       "    </tr>\n",
       "    <tr>\n",
       "      <th>22</th>\n",
       "      <td>IDRSWithBMI</td>\n",
       "      <td>251.25732</td>\n",
       "    </tr>\n",
       "    <tr>\n",
       "      <th>23</th>\n",
       "      <td>IDRSWithBMIWC</td>\n",
       "      <td>248.71896</td>\n",
       "    </tr>\n",
       "  </tbody>\n",
       "</table>\n",
       "</div>"
      ],
      "text/plain": [
       "                features      Score\n",
       "0                    Age 2434.68283\n",
       "1                 Gender   33.47882\n",
       "2                  Waist  153.00629\n",
       "3                 Height    4.15566\n",
       "4                 Weight  231.68792\n",
       "5       DiabetesSelfDecl  317.74953\n",
       "6              Diafather   49.55539\n",
       "7              Diamother   80.47706\n",
       "8               Moderate    1.28297\n",
       "9               Vigorous    4.22005\n",
       "10          Dailyphysica    8.27192\n",
       "11                   Bmi   87.43193\n",
       "12           WcRiskScore   32.57306\n",
       "13          BmiRiskScore   44.26891\n",
       "14        BmiWcRiskScore   48.20794\n",
       "15            Waistscore   25.08586\n",
       "16               IDRSAge  268.62880\n",
       "17           IDRSFamilyH  125.15833\n",
       "18               IDRSBmi   54.06465\n",
       "19             IDRSBmiWc   51.69902\n",
       "20  IDRSPhysicalActivity    0.14742\n",
       "21                  IDRS  222.53718\n",
       "22           IDRSWithBMI  251.25732\n",
       "23         IDRSWithBMIWC  248.71896"
      ]
     },
     "execution_count": 22,
     "metadata": {},
     "output_type": "execute_result"
    }
   ],
   "source": [
    "featureScores"
   ]
  },
  {
   "cell_type": "code",
   "execution_count": 23,
   "metadata": {},
   "outputs": [
    {
     "name": "stdout",
     "output_type": "stream",
     "text": [
      "            features      Score\n",
      "0                Age 2434.68283\n",
      "5   DiabetesSelfDecl  317.74953\n",
      "16           IDRSAge  268.62880\n",
      "22       IDRSWithBMI  251.25732\n",
      "23     IDRSWithBMIWC  248.71896\n",
      "4             Weight  231.68792\n",
      "21              IDRS  222.53718\n",
      "2              Waist  153.00629\n"
     ]
    }
   ],
   "source": [
    "print(featureScores.nlargest(8,'Score'))"
   ]
  },
  {
   "cell_type": "code",
   "execution_count": 24,
   "metadata": {},
   "outputs": [],
   "source": [
    "#sel_df= df[['IDRSAge','Hlba1c','IDRSWithBMI','Age','IDRSWithBMIWC','IDRS','IDRSFamilyH','DiabetesSelfDecl']]\n",
    "sel_df= df[['IDRSAge','Waist','IDRSWithBMI','Age','IDRSWithBMIWC','IDRS','Weight']]# removed 'DiabetesSelfDecl'"
   ]
  },
  {
   "cell_type": "markdown",
   "metadata": {},
   "source": [
    "# OverSampling the Imbalance Data Set"
   ]
  },
  {
   "cell_type": "code",
   "execution_count": 25,
   "metadata": {},
   "outputs": [],
   "source": [
    "X_train,X_test,y_train,y_test = train_test_split(sel_df,y,test_size=0.2)"
   ]
  },
  {
   "cell_type": "code",
   "execution_count": 26,
   "metadata": {},
   "outputs": [],
   "source": [
    "from imblearn.over_sampling import SMOTE\n",
    "smote=SMOTE(\"minority\")\n",
    "X_train,y_train=smote.fit_resample(X_train,y_train)"
   ]
  },
  {
   "cell_type": "markdown",
   "metadata": {},
   "source": [
    "# Prediction before Tuning HyperParameters "
   ]
  },
  {
   "cell_type": "code",
   "execution_count": 27,
   "metadata": {},
   "outputs": [],
   "source": [
    "import time"
   ]
  },
  {
   "cell_type": "code",
   "execution_count": 28,
   "metadata": {},
   "outputs": [
    {
     "name": "stdout",
     "output_type": "stream",
     "text": [
      "40.29352901934623\n"
     ]
    }
   ],
   "source": [
    "dtc = DecisionTreeClassifier()\n",
    "dtc.fit(X_train, y_train)\n",
    "y_pred = dtc.predict(X_test)\n",
    "cm = confusion_matrix(y_test, y_pred) \n",
    "accuracy=metrics.f1_score(y_test,y_pred,average='micro')\n",
    "print(accuracy*100)"
   ]
  },
  {
   "cell_type": "code",
   "execution_count": 29,
   "metadata": {},
   "outputs": [
    {
     "name": "stdout",
     "output_type": "stream",
     "text": [
      "Precision Score :  0.4029352901934623\n",
      "Recall Score :  0.4029352901934623\n"
     ]
    }
   ],
   "source": [
    "print(\"Precision Score : \",precision_score(y_test, y_pred,average='micro'))\n",
    "print(\"Recall Score : \",recall_score(y_test, y_pred,average='micro'))"
   ]
  },
  {
   "cell_type": "code",
   "execution_count": 30,
   "metadata": {},
   "outputs": [
    {
     "name": "stdout",
     "output_type": "stream",
     "text": [
      "45.29686457638425\n"
     ]
    }
   ],
   "source": [
    "rfc = RandomForestClassifier()\n",
    "rfc.fit(X_train, y_train)\n",
    "y_pred = rfc.predict(X_test)\n",
    "cm = confusion_matrix(y_test, y_pred)  \n",
    "accuracy=metrics.f1_score(y_test,y_pred,average='micro')\n",
    "print(accuracy*100)"
   ]
  },
  {
   "cell_type": "code",
   "execution_count": 31,
   "metadata": {},
   "outputs": [
    {
     "data": {
      "text/plain": [
       "Text(0.5, 15.0, 'Predicted label')"
      ]
     },
     "execution_count": 31,
     "metadata": {},
     "output_type": "execute_result"
    },
    {
     "data": {
      "image/png": "[encoded data removed]",
      "text/plain": [
       "<Figure size 432x288 with 2 Axes>"
      ]
     },
     "metadata": {
      "needs_background": "light"
     },
     "output_type": "display_data"
    }
   ],
   "source": [
    "from sklearn import metrics\n",
    "import seaborn as sns\n",
    "cnf_matrix = metrics.confusion_matrix(y_test, y_pred)\n",
    "p = sns.heatmap(pd.DataFrame(cnf_matrix), annot=True, cmap=\"YlGnBu\" ,fmt='g')\n",
    "plt.title('Confusion matrix', y=1.1)\n",
    "plt.ylabel('Actual label')\n",
    "plt.xlabel('Predicted label')"
   ]
  },
  {
   "cell_type": "code",
   "execution_count": 32,
   "metadata": {},
   "outputs": [
    {
     "name": "stdout",
     "output_type": "stream",
     "text": [
      "0.45296864576384255\n",
      "              precision    recall  f1-score   support\n",
      "\n",
      "           0       0.44      0.39      0.42       466\n",
      "           1       0.59      0.59      0.59       724\n",
      "           2       0.19      0.23      0.21       309\n",
      "\n",
      "    accuracy                           0.45      1499\n",
      "   macro avg       0.41      0.40      0.40      1499\n",
      "weighted avg       0.46      0.45      0.46      1499\n",
      "\n"
     ]
    }
   ],
   "source": [
    "from sklearn.metrics import classification_report, accuracy_score\n",
    "\n",
    "print(accuracy_score(y_test, y_pred))\n",
    "print(classification_report(y_test, y_pred))"
   ]
  },
  {
   "cell_type": "code",
   "execution_count": 33,
   "metadata": {},
   "outputs": [
    {
     "name": "stdout",
     "output_type": "stream",
     "text": [
      "38.0920613742495\n"
     ]
    }
   ],
   "source": [
    "svm = SVC()\n",
    "svm.fit(X_train, y_train)\n",
    "y_pred = svm.predict(X_test)\n",
    "cm = confusion_matrix(y_test, y_pred)  \n",
    "accuracy=metrics.recall_score(y_test,y_pred,average='micro')\n",
    "print(accuracy*100)"
   ]
  },
  {
   "cell_type": "code",
   "execution_count": 34,
   "metadata": {},
   "outputs": [
    {
     "name": "stdout",
     "output_type": "stream",
     "text": [
      "46.831220813875916\n"
     ]
    }
   ],
   "source": [
    "gnb = GaussianNB()\n",
    "gnb.fit(X_train, y_train)\n",
    "y_pred = gnb.predict(X_test)\n",
    "cm = confusion_matrix(y_test, y_pred)  \n",
    "accuracy=metrics.f1_score(y_test,y_pred,average='micro')\n",
    "print(accuracy*100)"
   ]
  },
  {
   "cell_type": "code",
   "execution_count": 35,
   "metadata": {},
   "outputs": [
    {
     "name": "stdout",
     "output_type": "stream",
     "text": [
      "28.752501667778517\n"
     ]
    }
   ],
   "source": [
    "bnb = BernoulliNB()\n",
    "bnb.fit(X_train, y_train)\n",
    "y_pred = bnb.predict(X_test)\n",
    "cm = confusion_matrix(y_test, y_pred)  \n",
    "accuracy=metrics.f1_score(y_test,y_pred,average='micro')\n",
    "print(accuracy*100)"
   ]
  },
  {
   "cell_type": "markdown",
   "metadata": {},
   "source": [
    "# Predicting by Tuning HyperParameters using GridSearchCV"
   ]
  },
  {
   "cell_type": "code",
   "execution_count": 36,
   "metadata": {},
   "outputs": [],
   "source": [
    "from sklearn import metrics\n",
    "import seaborn as sns\n",
    "from sklearn.preprocessing import LabelBinarizer\n",
    "from sklearn.metrics import roc_curve, auc\n",
    "from sklearn.metrics import roc_auc_score"
   ]
  },
  {
   "cell_type": "markdown",
   "metadata": {},
   "source": [
    "#### Grid Search for SVM"
   ]
  },
  {
   "cell_type": "code",
   "execution_count": 37,
   "metadata": {},
   "outputs": [],
   "source": [
    "start_svm= time.time()"
   ]
  },
  {
   "cell_type": "code",
   "execution_count": 38,
   "metadata": {},
   "outputs": [],
   "source": [
    "parameters = [{'C': [1, 10, 100, 1000], 'kernel': ['linear']},\n",
    "              {'C': [1, 10, 100, 1000], 'kernel': ['rbf'], 'gamma': [0.1, 0.2, 0.3, 0.4, 0.5, 0.6, 0.7, 0.8, 0.9]}]\n",
    "grid_search = GridSearchCV(estimator =svm,\n",
    "                           param_grid = parameters,\n",
    "                           scoring = 'accuracy',\n",
    "                           cv = StratifiedKFold(10),\n",
    "                           n_jobs = -1)\n",
    "grid_search = grid_search.fit(X_train, y_train)"
   ]
  },
  {
   "cell_type": "code",
   "execution_count": 39,
   "metadata": {},
   "outputs": [
    {
     "data": {
      "text/plain": [
       "0.5900546539771389"
      ]
     },
     "execution_count": 39,
     "metadata": {},
     "output_type": "execute_result"
    }
   ],
   "source": [
    " grid_search.best_score_"
   ]
  },
  {
   "cell_type": "code",
   "execution_count": 40,
   "metadata": {},
   "outputs": [
    {
     "data": {
      "text/plain": [
       "{'C': 1, 'gamma': 0.3, 'kernel': 'rbf'}"
      ]
     },
     "execution_count": 40,
     "metadata": {},
     "output_type": "execute_result"
    }
   ],
   "source": [
    "grid_search.best_params_"
   ]
  },
  {
   "cell_type": "code",
   "execution_count": 41,
   "metadata": {},
   "outputs": [
    {
     "name": "stdout",
     "output_type": "stream",
     "text": [
      "42.69513008672448\n"
     ]
    }
   ],
   "source": [
    "svm = SVC(C = 10, kernel='linear', probability=True)\n",
    "svm.fit(X_train, y_train)\n",
    "y_pred = svm.predict(X_test)\n",
    "cm = confusion_matrix(y_test, y_pred)  \n",
    "accuracy=metrics.recall_score(y_test,y_pred,average='micro')\n",
    "print(accuracy*100)"
   ]
  },
  {
   "cell_type": "code",
   "execution_count": 42,
   "metadata": {},
   "outputs": [
    {
     "name": "stdout",
     "output_type": "stream",
     "text": [
      "Accuracy =  0.4269513008672448\n",
      "-\n",
      "[[ 22 131 313]\n",
      " [ 13 449 262]\n",
      " [  9 131 169]]\n",
      "-\n",
      "              precision    recall  f1-score   support\n",
      "\n",
      "           0       0.50      0.05      0.09       466\n",
      "           1       0.63      0.62      0.63       724\n",
      "           2       0.23      0.55      0.32       309\n",
      "\n",
      "    accuracy                           0.43      1499\n",
      "   macro avg       0.45      0.40      0.34      1499\n",
      "weighted avg       0.51      0.43      0.40      1499\n",
      "\n",
      "-\n"
     ]
    },
    {
     "data": {
      "image/png": "[encoded data removed]",
      "text/plain": [
       "<Figure size 432x288 with 2 Axes>"
      ]
     },
     "metadata": {
      "needs_background": "light"
     },
     "output_type": "display_data"
    }
   ],
   "source": [
    "print('Accuracy = ', accuracy_score(y_test, y_pred))\n",
    "print('-')\n",
    "print(confusion_matrix(y_test,y_pred))\n",
    "print('-')\n",
    "print(classification_report(y_test,y_pred))\n",
    "print('-')\n",
    "\n",
    "cnf_matrix = metrics.confusion_matrix(y_test, y_pred)\n",
    "p = sns.heatmap(pd.DataFrame(cnf_matrix), annot=True, cmap=\"YlGnBu\" ,fmt='g')\n",
    "plt.title('Confusion matrix', y=1.1)\n",
    "plt.ylabel('Actual label')\n",
    "plt.xlabel('Predicted label')\n",
    "plt.show()"
   ]
  },
  {
   "cell_type": "code",
   "execution_count": 43,
   "metadata": {},
   "outputs": [],
   "source": [
    "def multiclass_roc_auc_score(y_test, y_pred, average=\"macro\"):\n",
    "    lb = LabelBinarizer()\n",
    "    lb.fit(y_test)\n",
    "    y_test = lb.transform(y_test)\n",
    "    y_pred = lb.transform(y_pred)\n",
    "    return roc_auc_score(y_test, y_pred, average=average)"
   ]
  },
  {
   "cell_type": "code",
   "execution_count": 44,
   "metadata": {},
   "outputs": [
    {
     "name": "stdout",
     "output_type": "stream",
     "text": [
      "0.5619577710909727\n"
     ]
    }
   ],
   "source": [
    "print(multiclass_roc_auc_score(y_test, y_pred))"
   ]
  },
  {
   "cell_type": "code",
   "execution_count": 45,
   "metadata": {},
   "outputs": [
    {
     "data": {
      "image/png": "[encoded data removed]",
      "text/plain": [
       "<Figure size 432x288 with 1 Axes>"
      ]
     },
     "metadata": {
      "needs_background": "light"
     },
     "output_type": "display_data"
    }
   ],
   "source": [
    "from sklearn.metrics import roc_curve\n",
    "y_pred_keras = svm.predict_proba(X=X_test)\n",
    "import scikitplot as skplt\n",
    "plot = skplt.metrics.plot_roc(y_test, y_pred_keras)\n",
    "plt.show()"
   ]
  },
  {
   "cell_type": "code",
   "execution_count": 46,
   "metadata": {},
   "outputs": [
    {
     "name": "stdout",
     "output_type": "stream",
     "text": [
      "Time taken: 2840.9420087337494\n"
     ]
    }
   ],
   "source": [
    "end_svm= time.time()\n",
    "time_svm = end_svm-start_svm\n",
    "print('Time taken:',time_svm)"
   ]
  },
  {
   "cell_type": "markdown",
   "metadata": {},
   "source": [
    "#### Grid Search for DT"
   ]
  },
  {
   "cell_type": "code",
   "execution_count": 47,
   "metadata": {},
   "outputs": [],
   "source": [
    "start_dtc= time.time()"
   ]
  },
  {
   "cell_type": "code",
   "execution_count": 48,
   "metadata": {},
   "outputs": [],
   "source": [
    "parameters = {\n",
    "    \"criterion\":[\"gini\",\"entropy\"],\n",
    "    \"max_depth\":[1,2,3,4,5,6,7,None]}\n",
    "grid_search = GridSearchCV(estimator =dtc,\n",
    "                           param_grid = parameters,\n",
    "                           scoring = 'accuracy',\n",
    "                           cv = StratifiedKFold(3),\n",
    "                           n_jobs = -1)\n",
    "grid_search = grid_search.fit(X_train, y_train)"
   ]
  },
  {
   "cell_type": "code",
   "execution_count": 49,
   "metadata": {},
   "outputs": [
    {
     "data": {
      "text/plain": [
       "0.5049471806861586"
      ]
     },
     "execution_count": 49,
     "metadata": {},
     "output_type": "execute_result"
    }
   ],
   "source": [
    " grid_search.best_score_"
   ]
  },
  {
   "cell_type": "code",
   "execution_count": 50,
   "metadata": {},
   "outputs": [
    {
     "data": {
      "text/plain": [
       "{'criterion': 'entropy', 'max_depth': None}"
      ]
     },
     "execution_count": 50,
     "metadata": {},
     "output_type": "execute_result"
    }
   ],
   "source": [
    "grid_search.best_params_"
   ]
  },
  {
   "cell_type": "code",
   "execution_count": 51,
   "metadata": {},
   "outputs": [
    {
     "name": "stdout",
     "output_type": "stream",
     "text": [
      "34.02268178785857\n"
     ]
    }
   ],
   "source": [
    "dtc = DecisionTreeClassifier(criterion='gini',max_depth = 2)\n",
    "dtc.fit(X_train, y_train)\n",
    "y_pred = dtc.predict(X_test)\n",
    "cm = confusion_matrix(y_test, y_pred) \n",
    "accuracy=metrics.recall_score(y_test,y_pred,average='micro')\n",
    "print(accuracy*100)"
   ]
  },
  {
   "cell_type": "code",
   "execution_count": 52,
   "metadata": {
    "scrolled": false
   },
   "outputs": [
    {
     "name": "stdout",
     "output_type": "stream",
     "text": [
      "Accuracy =  0.3402268178785857\n",
      "-\n",
      "[[  0  36 430]\n",
      " [  0 247 477]\n",
      " [  0  46 263]]\n",
      "-\n",
      "              precision    recall  f1-score   support\n",
      "\n",
      "           0       0.00      0.00      0.00       466\n",
      "           1       0.75      0.34      0.47       724\n",
      "           2       0.22      0.85      0.36       309\n",
      "\n",
      "    accuracy                           0.34      1499\n",
      "   macro avg       0.33      0.40      0.27      1499\n",
      "weighted avg       0.41      0.34      0.30      1499\n",
      "\n",
      "-\n"
     ]
    },
    {
     "data": {
      "image/png": "[encoded data removed]",
      "text/plain": [
       "<Figure size 432x288 with 2 Axes>"
      ]
     },
     "metadata": {
      "needs_background": "light"
     },
     "output_type": "display_data"
    },
    {
     "name": "stdout",
     "output_type": "stream",
     "text": [
      "0.5540502635860224\n"
     ]
    },
    {
     "data": {
      "image/png": "[encoded data removed]",
      "text/plain": [
       "<Figure size 432x288 with 1 Axes>"
      ]
     },
     "metadata": {
      "needs_background": "light"
     },
     "output_type": "display_data"
    }
   ],
   "source": [
    "print('Accuracy = ', accuracy_score(y_test, y_pred))\n",
    "print('-')\n",
    "print(confusion_matrix(y_test,y_pred))\n",
    "print('-')\n",
    "print(classification_report(y_test,y_pred))\n",
    "print('-')\n",
    "\n",
    "cnf_matrix = metrics.confusion_matrix(y_test, y_pred)\n",
    "p = sns.heatmap(pd.DataFrame(cnf_matrix), annot=True, cmap=\"YlGnBu\" ,fmt='g')\n",
    "plt.title('Confusion matrix', y=1.1)\n",
    "plt.ylabel('Actual label')\n",
    "plt.xlabel('Predicted label')\n",
    "plt.show()\n",
    "\n",
    "print(multiclass_roc_auc_score(y_test, y_pred))\n",
    "\n",
    "from sklearn.metrics import roc_curve\n",
    "y_pred_keras = dtc.predict_proba(X=X_test)\n",
    "import scikitplot as skplt\n",
    "plot = skplt.metrics.plot_roc(y_test, y_pred_keras)\n",
    "plt.show()"
   ]
  },
  {
   "cell_type": "code",
   "execution_count": 53,
   "metadata": {},
   "outputs": [
    {
     "name": "stdout",
     "output_type": "stream",
     "text": [
      "Time taken: 3.1709818840026855\n"
     ]
    }
   ],
   "source": [
    "end_dtc= time.time()\n",
    "time_dtc = end_dtc-start_dtc\n",
    "print('Time taken:', time_dtc)"
   ]
  },
  {
   "cell_type": "markdown",
   "metadata": {},
   "source": [
    "#### Gridsearch for RF"
   ]
  },
  {
   "cell_type": "code",
   "execution_count": 54,
   "metadata": {},
   "outputs": [],
   "source": [
    "start_rf= time.time()"
   ]
  },
  {
   "cell_type": "code",
   "execution_count": 55,
   "metadata": {},
   "outputs": [],
   "source": [
    "n_estimators = [int(x) for x in np.linspace(start = 10, stop = 80, num = 10)]\n",
    "max_features = ['auto', 'sqrt']\n",
    "max_depth = [2,4]\n",
    "min_samples_split = [2, 5]\n",
    "min_samples_leaf = [1, 2]\n",
    "bootstrap = [True, False]"
   ]
  },
  {
   "cell_type": "code",
   "execution_count": 56,
   "metadata": {},
   "outputs": [],
   "source": [
    "parameters = {'n_estimators': n_estimators,\n",
    "               'max_features': max_features,\n",
    "               'max_depth': max_depth,\n",
    "               'min_samples_split': min_samples_split,\n",
    "               'min_samples_leaf': min_samples_leaf,\n",
    "               'bootstrap': bootstrap}\n",
    "grid_search = GridSearchCV(estimator =rfc,\n",
    "                           param_grid = parameters,\n",
    "                           scoring = 'accuracy',\n",
    "                           cv = StratifiedKFold(10),\n",
    "                           n_jobs = -1)\n",
    "grid_search = grid_search.fit(X_train, y_train)"
   ]
  },
  {
   "cell_type": "code",
   "execution_count": 57,
   "metadata": {},
   "outputs": [
    {
     "data": {
      "text/plain": [
       "0.4837142928539301"
      ]
     },
     "execution_count": 57,
     "metadata": {},
     "output_type": "execute_result"
    }
   ],
   "source": [
    " grid_search.best_score_"
   ]
  },
  {
   "cell_type": "code",
   "execution_count": 58,
   "metadata": {},
   "outputs": [
    {
     "data": {
      "text/plain": [
       "{'bootstrap': True,\n",
       " 'max_depth': 4,\n",
       " 'max_features': 'sqrt',\n",
       " 'min_samples_leaf': 1,\n",
       " 'min_samples_split': 2,\n",
       " 'n_estimators': 48}"
      ]
     },
     "execution_count": 58,
     "metadata": {},
     "output_type": "execute_result"
    }
   ],
   "source": [
    "grid_search.best_params_"
   ]
  },
  {
   "cell_type": "code",
   "execution_count": 59,
   "metadata": {},
   "outputs": [
    {
     "name": "stdout",
     "output_type": "stream",
     "text": [
      "44.429619746497664\n"
     ]
    }
   ],
   "source": [
    "rfc = RandomForestClassifier(bootstrap = True,\n",
    " max_depth = 4,\n",
    " max_features = 'sqrt',\n",
    " min_samples_leaf = 2,\n",
    " min_samples_split= 5,\n",
    " n_estimators = 41)\n",
    "rfc.fit(X_train, y_train)\n",
    "y_pred = rfc.predict(X_test)\n",
    "cm = confusion_matrix(y_test, y_pred) \n",
    "accuracy=metrics.recall_score(y_test,y_pred,average='micro')\n",
    "print(accuracy*100)"
   ]
  },
  {
   "cell_type": "code",
   "execution_count": 60,
   "metadata": {},
   "outputs": [
    {
     "name": "stdout",
     "output_type": "stream",
     "text": [
      "Accuracy =  0.44429619746497667\n",
      "-\n",
      "[[ 68 113 285]\n",
      " [ 28 434 262]\n",
      " [ 26 119 164]]\n",
      "-\n",
      "              precision    recall  f1-score   support\n",
      "\n",
      "           0       0.56      0.15      0.23       466\n",
      "           1       0.65      0.60      0.62       724\n",
      "           2       0.23      0.53      0.32       309\n",
      "\n",
      "    accuracy                           0.44      1499\n",
      "   macro avg       0.48      0.43      0.39      1499\n",
      "weighted avg       0.54      0.44      0.44      1499\n",
      "\n",
      "-\n"
     ]
    },
    {
     "data": {
      "image/png": "[encoded data removed]",
      "text/plain": [
       "<Figure size 432x288 with 2 Axes>"
      ]
     },
     "metadata": {
      "needs_background": "light"
     },
     "output_type": "display_data"
    },
    {
     "name": "stdout",
     "output_type": "stream",
     "text": [
      "0.5774701609185033\n"
     ]
    },
    {
     "data": {
      "image/png": "[encoded data removed]",
      "text/plain": [
       "<Figure size 432x288 with 1 Axes>"
      ]
     },
     "metadata": {
      "needs_background": "light"
     },
     "output_type": "display_data"
    }
   ],
   "source": [
    "print('Accuracy = ', accuracy_score(y_test, y_pred))\n",
    "print('-')\n",
    "print(confusion_matrix(y_test,y_pred))\n",
    "print('-')\n",
    "print(classification_report(y_test,y_pred))\n",
    "print('-')\n",
    "\n",
    "cnf_matrix = metrics.confusion_matrix(y_test, y_pred)\n",
    "p = sns.heatmap(pd.DataFrame(cnf_matrix), annot=True, cmap=\"YlGnBu\" ,fmt='g')\n",
    "plt.title('Confusion matrix', y=1.1)\n",
    "plt.ylabel('Actual label')\n",
    "plt.xlabel('Predicted label')\n",
    "plt.show()\n",
    "\n",
    "print(multiclass_roc_auc_score(y_test, y_pred))\n",
    "\n",
    "from sklearn.metrics import roc_curve\n",
    "y_pred_keras = dtc.predict_proba(X=X_test)\n",
    "import scikitplot as skplt\n",
    "plot = skplt.metrics.plot_roc(y_test, y_pred_keras)\n",
    "plt.show()"
   ]
  },
  {
   "cell_type": "code",
   "execution_count": 61,
   "metadata": {},
   "outputs": [
    {
     "name": "stdout",
     "output_type": "stream",
     "text": [
      "Time taken: 35.99130654335022\n"
     ]
    }
   ],
   "source": [
    "end_rf= time.time()\n",
    "time_rf= end_rf-start_rf\n",
    "print('Time taken:',time_rf)"
   ]
  },
  {
   "cell_type": "markdown",
   "metadata": {},
   "source": [
    "#### GridSearch for GNB"
   ]
  },
  {
   "cell_type": "code",
   "execution_count": 62,
   "metadata": {},
   "outputs": [],
   "source": [
    "parameters = {'var_smoothing': np.logspace(0,-9, num=100)}\n",
    "grid_search = GridSearchCV(estimator =gnb,\n",
    "                           param_grid = parameters,\n",
    "                           scoring = 'accuracy',\n",
    "                           cv = StratifiedKFold(10),\n",
    "                           n_jobs = -1)\n",
    "grid_search = grid_search.fit(X_train, y_train)"
   ]
  },
  {
   "cell_type": "code",
   "execution_count": 63,
   "metadata": {},
   "outputs": [
    {
     "data": {
      "text/plain": [
       "0.46660538471973323"
      ]
     },
     "execution_count": 63,
     "metadata": {},
     "output_type": "execute_result"
    }
   ],
   "source": [
    " grid_search.best_score_"
   ]
  },
  {
   "cell_type": "code",
   "execution_count": 64,
   "metadata": {},
   "outputs": [
    {
     "data": {
      "text/plain": [
       "{'var_smoothing': 0.12328467394420659}"
      ]
     },
     "execution_count": 64,
     "metadata": {},
     "output_type": "execute_result"
    }
   ],
   "source": [
    "grid_search.best_params_"
   ]
  },
  {
   "cell_type": "code",
   "execution_count": 65,
   "metadata": {},
   "outputs": [
    {
     "name": "stdout",
     "output_type": "stream",
     "text": [
      "46.831220813875916\n"
     ]
    }
   ],
   "source": [
    "gnb = GaussianNB(var_smoothing=0.000001873817422860383)\n",
    "# earlier var_smoothing value= 0.0002848035868435802\n",
    "gnb.fit(X_train, y_train)\n",
    "y_pred = gnb.predict(X_test)\n",
    "cm = confusion_matrix(y_test, y_pred)  \n",
    "accuracy=metrics.recall_score(y_test,y_pred,average='micro')\n",
    "print(accuracy*100)"
   ]
  },
  {
   "cell_type": "code",
   "execution_count": 66,
   "metadata": {},
   "outputs": [],
   "source": [
    "parameters = {\"alpha\":[1.0,2.0],'binarize':[0.0,1.0],\"fit_prior\":[True,False], 'class_prior':[0,1,2,3,4,5,6,None]}\n",
    "grid_search = GridSearchCV(estimator =bnb,\n",
    "                           param_grid = parameters,\n",
    "                           scoring = 'accuracy',\n",
    "                           cv = StratifiedKFold(10),\n",
    "                           n_jobs = -1)\n",
    "grid_search = grid_search.fit(X_train, y_train)"
   ]
  },
  {
   "cell_type": "code",
   "execution_count": 67,
   "metadata": {},
   "outputs": [
    {
     "data": {
      "text/plain": [
       "0.45364764427436227"
      ]
     },
     "execution_count": 67,
     "metadata": {},
     "output_type": "execute_result"
    }
   ],
   "source": [
    " grid_search.best_score_"
   ]
  },
  {
   "cell_type": "code",
   "execution_count": 68,
   "metadata": {
    "scrolled": true
   },
   "outputs": [
    {
     "data": {
      "text/plain": [
       "{'alpha': 1.0, 'binarize': 1.0, 'class_prior': None, 'fit_prior': True}"
      ]
     },
     "execution_count": 68,
     "metadata": {},
     "output_type": "execute_result"
    }
   ],
   "source": [
    "grid_search.best_params_"
   ]
  },
  {
   "cell_type": "markdown",
   "metadata": {},
   "source": [
    "#### Using XGBoost"
   ]
  },
  {
   "cell_type": "code",
   "execution_count": 69,
   "metadata": {
    "scrolled": true
   },
   "outputs": [
    {
     "name": "stdout",
     "output_type": "stream",
     "text": [
      "[16:04:12] WARNING: D:\\bld\\xgboost-split_1645118015404\\work\\src\\learner.cc:576: \n",
      "Parameters: { \"scale_pos_weight\" } might not be used.\n",
      "\n",
      "  This could be a false alarm, with some parameters getting used by language bindings but\n",
      "  then being mistakenly passed down to XGBoost core, or some parameter actually being used\n",
      "  but getting flagged wrongly here. Please open an issue if you find any such cases.\n",
      "\n",
      "\n"
     ]
    },
    {
     "data": {
      "text/plain": [
       "Text(0.5, 15.0, 'Predicted label')"
      ]
     },
     "execution_count": 69,
     "metadata": {},
     "output_type": "execute_result"
    },
    {
     "data": {
      "image/png": "[encoded data removed]",
      "text/plain": [
       "<Figure size 432x288 with 2 Axes>"
      ]
     },
     "metadata": {
      "needs_background": "light"
     },
     "output_type": "display_data"
    }
   ],
   "source": [
    "XG_start_time = time.time()\n",
    "import xgboost as xgb\n",
    "\n",
    "gbm = xgb.XGBClassifier(\n",
    "\n",
    "     learning_rate = 0.02,\n",
    "\n",
    "     n_estimators= 2000,\n",
    "\n",
    "     max_depth= 4,\n",
    "\n",
    "     min_child_weight= 2,\n",
    "\n",
    "     #gamma=1,\n",
    "\n",
    "     gamma=0.9,                        \n",
    "\n",
    "     subsample=0.8,\n",
    "\n",
    "     colsample_bytree=0.8,\n",
    "\n",
    "     objective= 'binary:logistic',\n",
    "\n",
    "     eval_metric = 'logloss',\n",
    "\n",
    "     nthread= -1,\n",
    "    \n",
    "    booster = 'dart',\n",
    "\n",
    "     scale_pos_weight=1).fit(X_train, y_train)\n",
    "\n",
    "ypred_XG=gbm.predict(X_test)\n",
    "\n",
    "from sklearn import metrics\n",
    "\n",
    "import seaborn as sns\n",
    "\n",
    "cnf_matrix = metrics.confusion_matrix(y_test, ypred_XG)\n",
    "\n",
    "p = sns.heatmap(pd.DataFrame(cnf_matrix), annot=True, cmap=\"YlGnBu\" ,fmt='g')\n",
    "\n",
    "plt.title('Confusion matrix', y=1.1)\n",
    "\n",
    "plt.ylabel('Actual label')\n",
    "\n",
    "plt.xlabel('Predicted label')\n"
   ]
  },
  {
   "cell_type": "code",
   "execution_count": 70,
   "metadata": {},
   "outputs": [
    {
     "name": "stdout",
     "output_type": "stream",
     "text": [
      "ACCURACY OF THE MODEL:  0.4836557705136758\n",
      "Recall score of the model:  0.422516191653269\n",
      "precision of the model:  0.43421244479573945\n"
     ]
    }
   ],
   "source": [
    "print(\"ACCURACY OF THE MODEL: \", accuracy_score(y_test, ypred_XG))\n",
    "\n",
    "print(\"Recall score of the model: \", recall_score(y_test, ypred_XG, average='macro'))\n",
    "\n",
    "print(\"precision of the model: \", precision_score(y_test, ypred_XG, average='macro'))"
   ]
  },
  {
   "cell_type": "code",
   "execution_count": 71,
   "metadata": {},
   "outputs": [],
   "source": [
    "from sklearn.preprocessing import LabelBinarizer\n",
    "from sklearn.metrics import roc_curve, auc\n",
    "from sklearn.metrics import roc_auc_score\n",
    "def multiclass_roc_auc_score(y_test, y_pred, average=\"macro\"):\n",
    "    lb = LabelBinarizer()\n",
    "    lb.fit(y_test)\n",
    "    y_test = lb.transform(y_test)\n",
    "    y_pred = lb.transform(y_pred)\n",
    "    return roc_auc_score(y_test, y_pred, average=average)"
   ]
  },
  {
   "cell_type": "code",
   "execution_count": 72,
   "metadata": {},
   "outputs": [
    {
     "name": "stdout",
     "output_type": "stream",
     "text": [
      "0.5734682667200863\n"
     ]
    }
   ],
   "source": [
    "print(multiclass_roc_auc_score(y_test, ypred_XG))"
   ]
  },
  {
   "cell_type": "code",
   "execution_count": 73,
   "metadata": {},
   "outputs": [],
   "source": [
    "XG_end_time = time.time()\n",
    "time_XG= XG_end_time - XG_start_time"
   ]
  },
  {
   "cell_type": "code",
   "execution_count": 74,
   "metadata": {},
   "outputs": [
    {
     "name": "stdout",
     "output_type": "stream",
     "text": [
      "Time taken in minutes: 12.508720326423646\n"
     ]
    }
   ],
   "source": [
    "print('Time taken in minutes:',time_XG/60)"
   ]
  }
 ],
 "metadata": {
  "kernelspec": {
   "display_name": "Python 3 (ipykernel)",
   "language": "python",
   "name": "python3"
  },
  "language_info": {
   "codemirror_mode": {
    "name": "ipython",
    "version": 3
   },
   "file_extension": ".py",
   "mimetype": "text/x-python",
   "name": "python",
   "nbconvert_exporter": "python",
   "pygments_lexer": "ipython3",
   "version": "3.9.13"
  }
 },
 "nbformat": 4,
 "nbformat_minor": 4
}
