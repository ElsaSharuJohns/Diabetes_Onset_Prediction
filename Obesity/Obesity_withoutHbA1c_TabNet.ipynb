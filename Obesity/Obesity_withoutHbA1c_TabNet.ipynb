{
 "cells": [
  {
   "cell_type": "markdown",
   "metadata": {},
   "source": [
    "# Importing Libraries"
   ]
  },
  {
   "cell_type": "code",
   "execution_count": 1,
   "metadata": {},
   "outputs": [],
   "source": [
    "import pandas as pd\n",
    "import numpy as np\n",
    "from sklearn.impute import SimpleImputer \n",
    "from pytorch_tabnet.tab_model import TabNetClassifier\n",
    "\n",
    "import torch\n",
    "from sklearn.preprocessing import LabelEncoder\n",
    "from sklearn.metrics import roc_auc_score\n",
    "\n",
    "import pandas as pd\n",
    "import numpy as np\n",
    "np.random.seed(0)\n",
    "\n",
    "\n",
    "import os\n",
    "import wget\n",
    "from pathlib import Path\n",
    "\n",
    "from matplotlib import pyplot as plt\n",
    "%matplotlib inline"
   ]
  },
  {
   "cell_type": "code",
   "execution_count": 2,
   "metadata": {},
   "outputs": [],
   "source": [
    "df = pd.read_excel(\"obesitymerge.xlsx\")"
   ]
  },
  {
   "cell_type": "code",
   "execution_count": 3,
   "metadata": {
    "scrolled": true
   },
   "outputs": [
    {
     "data": {
      "text/html": [
       "<div>\n",
       "<style scoped>\n",
       "    .dataframe tbody tr th:only-of-type {\n",
       "        vertical-align: middle;\n",
       "    }\n",
       "\n",
       "    .dataframe tbody tr th {\n",
       "        vertical-align: top;\n",
       "    }\n",
       "\n",
       "    .dataframe thead th {\n",
       "        text-align: right;\n",
       "    }\n",
       "</style>\n",
       "<table border=\"1\" class=\"dataframe\">\n",
       "  <thead>\n",
       "    <tr style=\"text-align: right;\">\n",
       "      <th></th>\n",
       "      <th>PatientId</th>\n",
       "      <th>Zone</th>\n",
       "      <th>State</th>\n",
       "      <th>District</th>\n",
       "      <th>Age</th>\n",
       "      <th>Gender</th>\n",
       "      <th>Waist</th>\n",
       "      <th>Height</th>\n",
       "      <th>Weight</th>\n",
       "      <th>DiabetesSelfDecl</th>\n",
       "      <th>...</th>\n",
       "      <th>BmiWcRiskScore</th>\n",
       "      <th>Waistscore</th>\n",
       "      <th>IDRSAge</th>\n",
       "      <th>IDRSFamilyH</th>\n",
       "      <th>IDRSBmi</th>\n",
       "      <th>IDRSBmiWc</th>\n",
       "      <th>IDRSPhysicalActivity</th>\n",
       "      <th>IDRS</th>\n",
       "      <th>IDRSWithBMI</th>\n",
       "      <th>IDRSWithBMIWC</th>\n",
       "    </tr>\n",
       "  </thead>\n",
       "  <tbody>\n",
       "    <tr>\n",
       "      <th>6454</th>\n",
       "      <td>15944</td>\n",
       "      <td>S</td>\n",
       "      <td>Karnataka</td>\n",
       "      <td>Bangalore</td>\n",
       "      <td>62</td>\n",
       "      <td>Male</td>\n",
       "      <td>105.0</td>\n",
       "      <td>157</td>\n",
       "      <td>75</td>\n",
       "      <td>Diabetic</td>\n",
       "      <td>...</td>\n",
       "      <td>4</td>\n",
       "      <td>20</td>\n",
       "      <td>30</td>\n",
       "      <td>20</td>\n",
       "      <td>20</td>\n",
       "      <td>30</td>\n",
       "      <td>30</td>\n",
       "      <td>100</td>\n",
       "      <td>100</td>\n",
       "      <td>110</td>\n",
       "    </tr>\n",
       "    <tr>\n",
       "      <th>3719</th>\n",
       "      <td>9748</td>\n",
       "      <td>E</td>\n",
       "      <td>Jharkhand</td>\n",
       "      <td>Ranchi</td>\n",
       "      <td>39</td>\n",
       "      <td>Male</td>\n",
       "      <td>94.0</td>\n",
       "      <td>168</td>\n",
       "      <td>69</td>\n",
       "      <td>Normal</td>\n",
       "      <td>...</td>\n",
       "      <td>3</td>\n",
       "      <td>10</td>\n",
       "      <td>20</td>\n",
       "      <td>0</td>\n",
       "      <td>10</td>\n",
       "      <td>20</td>\n",
       "      <td>20</td>\n",
       "      <td>50</td>\n",
       "      <td>50</td>\n",
       "      <td>60</td>\n",
       "    </tr>\n",
       "    <tr>\n",
       "      <th>4465</th>\n",
       "      <td>11705</td>\n",
       "      <td>NW</td>\n",
       "      <td>JammuandKashmir</td>\n",
       "      <td>Samba</td>\n",
       "      <td>32</td>\n",
       "      <td>Female</td>\n",
       "      <td>88.0</td>\n",
       "      <td>152</td>\n",
       "      <td>64</td>\n",
       "      <td>Normal</td>\n",
       "      <td>...</td>\n",
       "      <td>4</td>\n",
       "      <td>10</td>\n",
       "      <td>0</td>\n",
       "      <td>0</td>\n",
       "      <td>20</td>\n",
       "      <td>30</td>\n",
       "      <td>30</td>\n",
       "      <td>40</td>\n",
       "      <td>50</td>\n",
       "      <td>60</td>\n",
       "    </tr>\n",
       "    <tr>\n",
       "      <th>7440</th>\n",
       "      <td>17778</td>\n",
       "      <td>S</td>\n",
       "      <td>TamilNadu</td>\n",
       "      <td>Madurai</td>\n",
       "      <td>34</td>\n",
       "      <td>Female</td>\n",
       "      <td>81.0</td>\n",
       "      <td>159</td>\n",
       "      <td>81</td>\n",
       "      <td>Diabetic</td>\n",
       "      <td>...</td>\n",
       "      <td>4</td>\n",
       "      <td>10</td>\n",
       "      <td>0</td>\n",
       "      <td>10</td>\n",
       "      <td>20</td>\n",
       "      <td>30</td>\n",
       "      <td>30</td>\n",
       "      <td>50</td>\n",
       "      <td>60</td>\n",
       "      <td>70</td>\n",
       "    </tr>\n",
       "    <tr>\n",
       "      <th>3671</th>\n",
       "      <td>9646</td>\n",
       "      <td>S</td>\n",
       "      <td>AndamanAndNicobar</td>\n",
       "      <td>PortBlair</td>\n",
       "      <td>29</td>\n",
       "      <td>Female</td>\n",
       "      <td>76.0</td>\n",
       "      <td>150</td>\n",
       "      <td>44</td>\n",
       "      <td>Normal</td>\n",
       "      <td>...</td>\n",
       "      <td>1</td>\n",
       "      <td>0</td>\n",
       "      <td>0</td>\n",
       "      <td>0</td>\n",
       "      <td>0</td>\n",
       "      <td>0</td>\n",
       "      <td>30</td>\n",
       "      <td>30</td>\n",
       "      <td>30</td>\n",
       "      <td>30</td>\n",
       "    </tr>\n",
       "    <tr>\n",
       "      <th>5723</th>\n",
       "      <td>14516</td>\n",
       "      <td>E</td>\n",
       "      <td>Orissa</td>\n",
       "      <td>Balasore</td>\n",
       "      <td>52</td>\n",
       "      <td>Male</td>\n",
       "      <td>91.0</td>\n",
       "      <td>155</td>\n",
       "      <td>55</td>\n",
       "      <td>Diabetic</td>\n",
       "      <td>...</td>\n",
       "      <td>2</td>\n",
       "      <td>10</td>\n",
       "      <td>30</td>\n",
       "      <td>10</td>\n",
       "      <td>0</td>\n",
       "      <td>10</td>\n",
       "      <td>30</td>\n",
       "      <td>80</td>\n",
       "      <td>70</td>\n",
       "      <td>80</td>\n",
       "    </tr>\n",
       "    <tr>\n",
       "      <th>2103</th>\n",
       "      <td>5403</td>\n",
       "      <td>W</td>\n",
       "      <td>Maharashtra</td>\n",
       "      <td>Nagpur</td>\n",
       "      <td>60</td>\n",
       "      <td>Female</td>\n",
       "      <td>99.0</td>\n",
       "      <td>153</td>\n",
       "      <td>68</td>\n",
       "      <td>Normal</td>\n",
       "      <td>...</td>\n",
       "      <td>4</td>\n",
       "      <td>20</td>\n",
       "      <td>30</td>\n",
       "      <td>0</td>\n",
       "      <td>20</td>\n",
       "      <td>30</td>\n",
       "      <td>30</td>\n",
       "      <td>80</td>\n",
       "      <td>80</td>\n",
       "      <td>90</td>\n",
       "    </tr>\n",
       "    <tr>\n",
       "      <th>7321</th>\n",
       "      <td>17567</td>\n",
       "      <td>W</td>\n",
       "      <td>Gujarat</td>\n",
       "      <td>Navsari</td>\n",
       "      <td>61</td>\n",
       "      <td>Male</td>\n",
       "      <td>96.0</td>\n",
       "      <td>163</td>\n",
       "      <td>65</td>\n",
       "      <td>Diabetic</td>\n",
       "      <td>...</td>\n",
       "      <td>3</td>\n",
       "      <td>10</td>\n",
       "      <td>30</td>\n",
       "      <td>0</td>\n",
       "      <td>10</td>\n",
       "      <td>20</td>\n",
       "      <td>30</td>\n",
       "      <td>70</td>\n",
       "      <td>70</td>\n",
       "      <td>80</td>\n",
       "    </tr>\n",
       "    <tr>\n",
       "      <th>7196</th>\n",
       "      <td>17348</td>\n",
       "      <td>C</td>\n",
       "      <td>MadhyaPradesh</td>\n",
       "      <td>Gwalior</td>\n",
       "      <td>56</td>\n",
       "      <td>Male</td>\n",
       "      <td>77.0</td>\n",
       "      <td>160</td>\n",
       "      <td>54</td>\n",
       "      <td>Diabetic</td>\n",
       "      <td>...</td>\n",
       "      <td>1</td>\n",
       "      <td>0</td>\n",
       "      <td>30</td>\n",
       "      <td>0</td>\n",
       "      <td>0</td>\n",
       "      <td>0</td>\n",
       "      <td>20</td>\n",
       "      <td>50</td>\n",
       "      <td>50</td>\n",
       "      <td>50</td>\n",
       "    </tr>\n",
       "    <tr>\n",
       "      <th>4156</th>\n",
       "      <td>10859</td>\n",
       "      <td>NW</td>\n",
       "      <td>JammuandKashmir</td>\n",
       "      <td>Samba</td>\n",
       "      <td>60</td>\n",
       "      <td>Male</td>\n",
       "      <td>94.0</td>\n",
       "      <td>169</td>\n",
       "      <td>62</td>\n",
       "      <td>Normal</td>\n",
       "      <td>...</td>\n",
       "      <td>2</td>\n",
       "      <td>10</td>\n",
       "      <td>30</td>\n",
       "      <td>0</td>\n",
       "      <td>0</td>\n",
       "      <td>10</td>\n",
       "      <td>30</td>\n",
       "      <td>70</td>\n",
       "      <td>60</td>\n",
       "      <td>70</td>\n",
       "    </tr>\n",
       "  </tbody>\n",
       "</table>\n",
       "<p>10 rows × 32 columns</p>\n",
       "</div>"
      ],
      "text/plain": [
       "      PatientId Zone              State   District  Age  Gender  Waist  \\\n",
       "6454      15944    S          Karnataka  Bangalore   62    Male  105.0   \n",
       "3719       9748    E          Jharkhand     Ranchi   39    Male   94.0   \n",
       "4465      11705   NW    JammuandKashmir      Samba   32  Female   88.0   \n",
       "7440      17778    S          TamilNadu    Madurai   34  Female   81.0   \n",
       "3671       9646    S  AndamanAndNicobar  PortBlair   29  Female   76.0   \n",
       "5723      14516    E             Orissa   Balasore   52    Male   91.0   \n",
       "2103       5403    W        Maharashtra     Nagpur   60  Female   99.0   \n",
       "7321      17567    W            Gujarat    Navsari   61    Male   96.0   \n",
       "7196      17348    C      MadhyaPradesh    Gwalior   56    Male   77.0   \n",
       "4156      10859   NW    JammuandKashmir      Samba   60    Male   94.0   \n",
       "\n",
       "      Height  Weight DiabetesSelfDecl  ...  BmiWcRiskScore  Waistscore  \\\n",
       "6454     157      75         Diabetic  ...               4          20   \n",
       "3719     168      69           Normal  ...               3          10   \n",
       "4465     152      64           Normal  ...               4          10   \n",
       "7440     159      81         Diabetic  ...               4          10   \n",
       "3671     150      44           Normal  ...               1           0   \n",
       "5723     155      55         Diabetic  ...               2          10   \n",
       "2103     153      68           Normal  ...               4          20   \n",
       "7321     163      65         Diabetic  ...               3          10   \n",
       "7196     160      54         Diabetic  ...               1           0   \n",
       "4156     169      62           Normal  ...               2          10   \n",
       "\n",
       "      IDRSAge  IDRSFamilyH  IDRSBmi  IDRSBmiWc IDRSPhysicalActivity IDRS  \\\n",
       "6454       30           20       20         30                   30  100   \n",
       "3719       20            0       10         20                   20   50   \n",
       "4465        0            0       20         30                   30   40   \n",
       "7440        0           10       20         30                   30   50   \n",
       "3671        0            0        0          0                   30   30   \n",
       "5723       30           10        0         10                   30   80   \n",
       "2103       30            0       20         30                   30   80   \n",
       "7321       30            0       10         20                   30   70   \n",
       "7196       30            0        0          0                   20   50   \n",
       "4156       30            0        0         10                   30   70   \n",
       "\n",
       "     IDRSWithBMI  IDRSWithBMIWC  \n",
       "6454         100            110  \n",
       "3719          50             60  \n",
       "4465          50             60  \n",
       "7440          60             70  \n",
       "3671          30             30  \n",
       "5723          70             80  \n",
       "2103          80             90  \n",
       "7321          70             80  \n",
       "7196          50             50  \n",
       "4156          60             70  \n",
       "\n",
       "[10 rows x 32 columns]"
      ]
     },
     "execution_count": 3,
     "metadata": {},
     "output_type": "execute_result"
    }
   ],
   "source": [
    "df.sample(10)"
   ]
  },
  {
   "cell_type": "markdown",
   "metadata": {},
   "source": [
    "# Data Preprocessing"
   ]
  },
  {
   "cell_type": "code",
   "execution_count": 4,
   "metadata": {},
   "outputs": [],
   "source": [
    "train=df\n",
    "target = 'DiabetesCalc'\n",
    "if \"Set\" not in train.columns:\n",
    "    train[\"Set\"] = np.random.choice([\"train\", \"valid\", \"test\"], p =[.8, .1, .1], size=(train.shape[0],))\n",
    "\n",
    "train_indices = train[train.Set==\"train\"].index\n",
    "valid_indices = train[train.Set==\"valid\"].index\n",
    "test_indices = train[train.Set==\"test\"].index"
   ]
  },
  {
   "cell_type": "code",
   "execution_count": 5,
   "metadata": {},
   "outputs": [
    {
     "name": "stdout",
     "output_type": "stream",
     "text": [
      "<class 'pandas.core.frame.DataFrame'>\n",
      "RangeIndex: 7496 entries, 0 to 7495\n",
      "Data columns (total 33 columns):\n",
      " #   Column                Non-Null Count  Dtype  \n",
      "---  ------                --------------  -----  \n",
      " 0   PatientId             7496 non-null   int64  \n",
      " 1   Zone                  7496 non-null   object \n",
      " 2   State                 7496 non-null   object \n",
      " 3   District              7496 non-null   object \n",
      " 4   Age                   7496 non-null   int64  \n",
      " 5   Gender                7496 non-null   object \n",
      " 6   Waist                 7495 non-null   float64\n",
      " 7   Height                7496 non-null   int64  \n",
      " 8   Weight                7496 non-null   int64  \n",
      " 9   DiabetesSelfDecl      7496 non-null   object \n",
      " 10  Diafather             7496 non-null   int64  \n",
      " 11  Diamother             7496 non-null   int64  \n",
      " 12  Moderate              7496 non-null   int64  \n",
      " 13  Vigorous              7496 non-null   int64  \n",
      " 14  Dailyphysica          7496 non-null   int64  \n",
      " 15  Hlba1c                7496 non-null   float64\n",
      " 16  DiabetesCalc          7496 non-null   object \n",
      " 17  Diabetes              7496 non-null   object \n",
      " 18  ClinicalNotes         7496 non-null   object \n",
      " 19  Bmi                   7496 non-null   float64\n",
      " 20  WcRiskScore           7496 non-null   int64  \n",
      " 21  BmiRiskScore          7496 non-null   int64  \n",
      " 22  BmiWcRiskScore        7496 non-null   int64  \n",
      " 23  Waistscore            7496 non-null   int64  \n",
      " 24  IDRSAge               7496 non-null   int64  \n",
      " 25  IDRSFamilyH           7496 non-null   int64  \n",
      " 26  IDRSBmi               7496 non-null   int64  \n",
      " 27  IDRSBmiWc             7496 non-null   int64  \n",
      " 28  IDRSPhysicalActivity  7496 non-null   int64  \n",
      " 29  IDRS                  7496 non-null   int64  \n",
      " 30  IDRSWithBMI           7496 non-null   int64  \n",
      " 31  IDRSWithBMIWC         7496 non-null   int64  \n",
      " 32  Set                   7496 non-null   object \n",
      "dtypes: float64(3), int64(21), object(9)\n",
      "memory usage: 1.9+ MB\n"
     ]
    }
   ],
   "source": [
    "train.info()"
   ]
  },
  {
   "cell_type": "code",
   "execution_count": 6,
   "metadata": {},
   "outputs": [],
   "source": [
    "# dropping ALL duplicate values\n",
    "train.drop_duplicates(keep = False, inplace = True)"
   ]
  },
  {
   "cell_type": "code",
   "execution_count": 7,
   "metadata": {},
   "outputs": [
    {
     "name": "stdout",
     "output_type": "stream",
     "text": [
      "Zone 7\n",
      "State 29\n",
      "District 55\n",
      "Age 65\n",
      "Gender 2\n",
      "Waist 81\n",
      "Height 71\n",
      "Weight 84\n",
      "DiabetesSelfDecl 2\n",
      "Diafather 2\n",
      "Diamother 2\n",
      "Moderate 7\n",
      "Vigorous 7\n",
      "Dailyphysica 6\n",
      "Hlba1c 119\n",
      "DiabetesCalc 3\n",
      "Diabetes 2\n",
      "ClinicalNotes 6\n",
      "WcRiskScore 5\n",
      "BmiRiskScore 5\n",
      "BmiWcRiskScore 6\n",
      "Waistscore 3\n",
      "IDRSAge 3\n",
      "IDRSFamilyH 3\n",
      "IDRSBmi 3\n",
      "IDRSBmiWc 4\n",
      "IDRSPhysicalActivity 3\n",
      "IDRS 11\n",
      "IDRSWithBMI 11\n",
      "IDRSWithBMIWC 12\n",
      "Set 3\n"
     ]
    }
   ],
   "source": [
    "#Simple preprocessing\n",
    "nunique = train.nunique()\n",
    "types = train.dtypes\n",
    "\n",
    "categorical_columns = []\n",
    "categorical_dims =  {}\n",
    "for col in train.columns:\n",
    "    if types[col] == 'object' or nunique[col] < 200:\n",
    "        print(col, train[col].nunique())\n",
    "        l_enc = LabelEncoder()\n",
    "        train[col] = train[col].fillna(\"VV_likely\")\n",
    "        train[col] = l_enc.fit_transform(train[col].values)\n",
    "        categorical_columns.append(col)\n",
    "        categorical_dims[col] = len(l_enc.classes_)\n",
    "    else:\n",
    "        train.fillna(train.loc[train_indices, col].mean(), inplace=True)"
   ]
  },
  {
   "cell_type": "code",
   "execution_count": 8,
   "metadata": {},
   "outputs": [],
   "source": [
    "train=train.drop(['PatientId', 'Zone', 'State', 'District','Hlba1c', 'DiabetesSelfDecl'],axis=1)"
   ]
  },
  {
   "cell_type": "code",
   "execution_count": 9,
   "metadata": {},
   "outputs": [
    {
     "name": "stdout",
     "output_type": "stream",
     "text": [
      "Index(['Age', 'Gender', 'Waist', 'Height', 'Weight', 'Diafather', 'Diamother',\n",
      "       'Moderate', 'Vigorous', 'Dailyphysica', 'DiabetesCalc', 'Diabetes',\n",
      "       'ClinicalNotes', 'Bmi', 'WcRiskScore', 'BmiRiskScore', 'BmiWcRiskScore',\n",
      "       'Waistscore', 'IDRSAge', 'IDRSFamilyH', 'IDRSBmi', 'IDRSBmiWc',\n",
      "       'IDRSPhysicalActivity', 'IDRS', 'IDRSWithBMI', 'IDRSWithBMIWC', 'Set'],\n",
      "      dtype='object')\n"
     ]
    }
   ],
   "source": [
    "print(train.columns)"
   ]
  },
  {
   "cell_type": "code",
   "execution_count": 10,
   "metadata": {},
   "outputs": [],
   "source": [
    "# check that pipeline accepts strings\n",
    "train.loc[train[target]==0, target] = \"Normal\"\n",
    "train.loc[train[target]==1, target] = \"Prediabetic\"\n",
    "train.loc[train[target]==2, target] = \"Diabetic\""
   ]
  },
  {
   "cell_type": "code",
   "execution_count": 11,
   "metadata": {},
   "outputs": [],
   "source": [
    "#Define categorical features for categorical embeddings\n",
    "unused_feat = ['Set']\n",
    "\n",
    "features = [ col for col in train.columns if col not in unused_feat+[target]] \n",
    "\n",
    "cat_idxs = [ i for i, f in enumerate(features) if f in categorical_columns]\n",
    "\n",
    "cat_dims = [ categorical_dims[f] for i, f in enumerate(features) if f in categorical_columns]"
   ]
  },
  {
   "cell_type": "code",
   "execution_count": 12,
   "metadata": {},
   "outputs": [],
   "source": [
    "train.replace([np.inf, -np.inf], np.nan, inplace=True)"
   ]
  },
  {
   "cell_type": "markdown",
   "metadata": {},
   "source": [
    "## Training"
   ]
  },
  {
   "cell_type": "code",
   "execution_count": 13,
   "metadata": {},
   "outputs": [],
   "source": [
    "import time"
   ]
  },
  {
   "cell_type": "code",
   "execution_count": 14,
   "metadata": {},
   "outputs": [],
   "source": [
    "start_clf= time.time()"
   ]
  },
  {
   "cell_type": "code",
   "execution_count": 15,
   "metadata": {},
   "outputs": [
    {
     "name": "stderr",
     "output_type": "stream",
     "text": [
      "C:\\Users\\admin\\anaconda3\\envs\\pytorch-gpu-diab\\lib\\site-packages\\pytorch_tabnet\\abstract_model.py:75: UserWarning: Device used : cuda\n",
      "  warnings.warn(f\"Device used : {self.device}\")\n"
     ]
    }
   ],
   "source": [
    "#Network parameters\n",
    "tabnet_params = {\"cat_idxs\":cat_idxs,\n",
    "                 \"cat_dims\":cat_dims,\n",
    "                 \"cat_emb_dim\":1,\n",
    "                 \"optimizer_fn\":torch.optim.Adam,\n",
    "                 \"optimizer_params\":dict(lr=2e-2),\n",
    "                 \"scheduler_params\":{\"step_size\":50, # how to use learning rate scheduler\n",
    "                                 \"gamma\":0.9},\n",
    "                 \"scheduler_fn\":torch.optim.lr_scheduler.StepLR,\n",
    "                 \"mask_type\":'entmax' # \"sparsemax\"\n",
    "                }\n",
    "\n",
    "clf = TabNetClassifier(**tabnet_params\n",
    "                      )"
   ]
  },
  {
   "cell_type": "code",
   "execution_count": 16,
   "metadata": {},
   "outputs": [],
   "source": [
    "X_train = train[features].values[train_indices]\n",
    "y_train = train[target].values[train_indices]\n",
    "\n",
    "X_valid = train[features].values[valid_indices]\n",
    "y_valid = train[target].values[valid_indices]\n",
    "\n",
    "X_test = train[features].values[test_indices]\n",
    "y_test = train[target].values[test_indices]"
   ]
  },
  {
   "cell_type": "code",
   "execution_count": 17,
   "metadata": {},
   "outputs": [
    {
     "name": "stdout",
     "output_type": "stream",
     "text": [
      "['Age', 'Gender', 'Waist', 'Height', 'Weight', 'Diafather', 'Diamother', 'Moderate', 'Vigorous', 'Dailyphysica', 'Diabetes', 'ClinicalNotes', 'Bmi', 'WcRiskScore', 'BmiRiskScore', 'BmiWcRiskScore', 'Waistscore', 'IDRSAge', 'IDRSFamilyH', 'IDRSBmi', 'IDRSBmiWc', 'IDRSPhysicalActivity', 'IDRS', 'IDRSWithBMI', 'IDRSWithBMIWC']\n"
     ]
    }
   ],
   "source": [
    "print(features)"
   ]
  },
  {
   "cell_type": "code",
   "execution_count": 18,
   "metadata": {},
   "outputs": [
    {
     "name": "stdout",
     "output_type": "stream",
     "text": [
      "DiabetesCalc\n"
     ]
    }
   ],
   "source": [
    "print(target)"
   ]
  },
  {
   "cell_type": "code",
   "execution_count": 19,
   "metadata": {},
   "outputs": [],
   "source": [
    "max_epochs = 100 if not os.getenv(\"CI\", False) else 2"
   ]
  },
  {
   "cell_type": "code",
   "execution_count": 20,
   "metadata": {},
   "outputs": [],
   "source": [
    "from pytorch_tabnet.augmentations import ClassificationSMOTE\n",
    "aug = ClassificationSMOTE(p=0.2)"
   ]
  },
  {
   "cell_type": "code",
   "execution_count": 21,
   "metadata": {},
   "outputs": [
    {
     "name": "stdout",
     "output_type": "stream",
     "text": [
      "epoch 0  | loss: 1.34318 | train_accuracy: 0.41635 | valid_accuracy: 0.42818 |  0:00:04s\n",
      "epoch 1  | loss: 0.81284 | train_accuracy: 0.47521 | valid_accuracy: 0.46238 |  0:00:04s\n",
      "epoch 2  | loss: 0.6232  | train_accuracy: 0.64069 | valid_accuracy: 0.63611 |  0:00:05s\n",
      "epoch 3  | loss: 0.47003 | train_accuracy: 0.73636 | valid_accuracy: 0.7565  |  0:00:05s\n",
      "epoch 4  | loss: 0.40742 | train_accuracy: 0.75974 | valid_accuracy: 0.74829 |  0:00:06s\n",
      "epoch 5  | loss: 0.38436 | train_accuracy: 0.79688 | valid_accuracy: 0.77428 |  0:00:06s\n",
      "epoch 6  | loss: 0.33305 | train_accuracy: 0.87697 | valid_accuracy: 0.86867 |  0:00:06s\n",
      "epoch 7  | loss: 0.30719 | train_accuracy: 0.89488 | valid_accuracy: 0.89056 |  0:00:07s\n",
      "epoch 8  | loss: 0.30854 | train_accuracy: 0.95407 | valid_accuracy: 0.95075 |  0:00:07s\n",
      "epoch 9  | loss: 0.29165 | train_accuracy: 0.96717 | valid_accuracy: 0.96854 |  0:00:07s\n",
      "epoch 10 | loss: 0.26532 | train_accuracy: 0.97894 | valid_accuracy: 0.98495 |  0:00:08s\n",
      "epoch 11 | loss: 0.27208 | train_accuracy: 0.96916 | valid_accuracy: 0.97674 |  0:00:08s\n",
      "epoch 12 | loss: 0.25355 | train_accuracy: 0.97397 | valid_accuracy: 0.97674 |  0:00:09s\n",
      "epoch 13 | loss: 0.24968 | train_accuracy: 0.95656 | valid_accuracy: 0.9658  |  0:00:09s\n",
      "epoch 14 | loss: 0.22801 | train_accuracy: 0.95722 | valid_accuracy: 0.9658  |  0:00:09s\n",
      "epoch 15 | loss: 0.23496 | train_accuracy: 0.96037 | valid_accuracy: 0.96854 |  0:00:10s\n",
      "epoch 16 | loss: 0.23221 | train_accuracy: 0.97927 | valid_accuracy: 0.98358 |  0:00:10s\n",
      "epoch 17 | loss: 0.22794 | train_accuracy: 0.95788 | valid_accuracy: 0.96717 |  0:00:10s\n",
      "epoch 18 | loss: 0.21078 | train_accuracy: 0.97795 | valid_accuracy: 0.98495 |  0:00:11s\n",
      "epoch 19 | loss: 0.20747 | train_accuracy: 0.98392 | valid_accuracy: 0.99042 |  0:00:11s\n",
      "epoch 20 | loss: 0.2103  | train_accuracy: 0.87647 | valid_accuracy: 0.88235 |  0:00:11s\n",
      "epoch 21 | loss: 0.18985 | train_accuracy: 0.98591 | valid_accuracy: 0.98769 |  0:00:12s\n",
      "epoch 22 | loss: 0.20539 | train_accuracy: 0.99038 | valid_accuracy: 0.98632 |  0:00:12s\n",
      "epoch 23 | loss: 0.19579 | train_accuracy: 0.97629 | valid_accuracy: 0.97811 |  0:00:13s\n",
      "epoch 24 | loss: 0.19556 | train_accuracy: 0.99519 | valid_accuracy: 0.99453 |  0:00:13s\n",
      "epoch 25 | loss: 0.19021 | train_accuracy: 0.9927  | valid_accuracy: 0.98906 |  0:00:13s\n",
      "epoch 26 | loss: 0.19425 | train_accuracy: 0.99619 | valid_accuracy: 0.99726 |  0:00:14s\n",
      "epoch 27 | loss: 0.17824 | train_accuracy: 0.99353 | valid_accuracy: 0.9959  |  0:00:14s\n",
      "epoch 28 | loss: 0.19732 | train_accuracy: 0.99221 | valid_accuracy: 0.98906 |  0:00:14s\n",
      "epoch 29 | loss: 0.1766  | train_accuracy: 0.99121 | valid_accuracy: 0.99042 |  0:00:15s\n",
      "epoch 30 | loss: 0.19271 | train_accuracy: 0.99287 | valid_accuracy: 0.99179 |  0:00:15s\n",
      "epoch 31 | loss: 0.18457 | train_accuracy: 0.99469 | valid_accuracy: 0.99453 |  0:00:15s\n",
      "epoch 32 | loss: 0.18065 | train_accuracy: 0.99801 | valid_accuracy: 0.99726 |  0:00:16s\n",
      "epoch 33 | loss: 0.18328 | train_accuracy: 0.99901 | valid_accuracy: 0.99726 |  0:00:16s\n",
      "epoch 34 | loss: 0.1773  | train_accuracy: 0.99751 | valid_accuracy: 0.99726 |  0:00:17s\n",
      "epoch 35 | loss: 0.18443 | train_accuracy: 0.98955 | valid_accuracy: 0.98906 |  0:00:17s\n",
      "epoch 36 | loss: 0.18611 | train_accuracy: 0.99602 | valid_accuracy: 0.9959  |  0:00:17s\n",
      "epoch 37 | loss: 0.17053 | train_accuracy: 0.99718 | valid_accuracy: 0.99726 |  0:00:18s\n",
      "epoch 38 | loss: 0.18423 | train_accuracy: 0.99768 | valid_accuracy: 0.99453 |  0:00:18s\n",
      "epoch 39 | loss: 0.16918 | train_accuracy: 0.9995  | valid_accuracy: 0.9959  |  0:00:18s\n",
      "epoch 40 | loss: 0.18226 | train_accuracy: 0.99635 | valid_accuracy: 0.99316 |  0:00:19s\n",
      "epoch 41 | loss: 0.1797  | train_accuracy: 0.99818 | valid_accuracy: 0.99316 |  0:00:19s\n",
      "epoch 42 | loss: 0.16823 | train_accuracy: 0.99801 | valid_accuracy: 0.99726 |  0:00:19s\n",
      "epoch 43 | loss: 0.15843 | train_accuracy: 0.99884 | valid_accuracy: 0.99726 |  0:00:20s\n",
      "epoch 44 | loss: 0.17459 | train_accuracy: 0.99818 | valid_accuracy: 0.99453 |  0:00:20s\n",
      "epoch 45 | loss: 0.17936 | train_accuracy: 0.99055 | valid_accuracy: 0.98358 |  0:00:21s\n",
      "epoch 46 | loss: 0.17233 | train_accuracy: 0.99983 | valid_accuracy: 0.9959  |  0:00:21s\n",
      "\n",
      "Early stopping occurred at epoch 46 with best_epoch = 26 and best_valid_accuracy = 0.99726\n"
     ]
    },
    {
     "name": "stderr",
     "output_type": "stream",
     "text": [
      "C:\\Users\\admin\\anaconda3\\envs\\pytorch-gpu-diab\\lib\\site-packages\\pytorch_tabnet\\callbacks.py:172: UserWarning: Best weights from best epoch are automatically used!\n",
      "  warnings.warn(wrn_msg)\n"
     ]
    },
    {
     "name": "stdout",
     "output_type": "stream",
     "text": [
      "epoch 0  | loss: 1.34318 | train_accuracy: 0.41635 | valid_accuracy: 0.42818 |  0:00:00s\n",
      "epoch 1  | loss: 0.81284 | train_accuracy: 0.47521 | valid_accuracy: 0.46238 |  0:00:00s\n",
      "epoch 2  | loss: 0.6232  | train_accuracy: 0.64069 | valid_accuracy: 0.63611 |  0:00:01s\n",
      "epoch 3  | loss: 0.47003 | train_accuracy: 0.73636 | valid_accuracy: 0.7565  |  0:00:01s\n",
      "epoch 4  | loss: 0.40742 | train_accuracy: 0.75974 | valid_accuracy: 0.74829 |  0:00:01s\n",
      "epoch 5  | loss: 0.38436 | train_accuracy: 0.79688 | valid_accuracy: 0.77428 |  0:00:02s\n",
      "epoch 6  | loss: 0.33305 | train_accuracy: 0.87697 | valid_accuracy: 0.86867 |  0:00:02s\n",
      "epoch 7  | loss: 0.30719 | train_accuracy: 0.89488 | valid_accuracy: 0.89056 |  0:00:02s\n",
      "epoch 8  | loss: 0.30854 | train_accuracy: 0.95407 | valid_accuracy: 0.95075 |  0:00:03s\n",
      "epoch 9  | loss: 0.29165 | train_accuracy: 0.96717 | valid_accuracy: 0.96854 |  0:00:03s\n",
      "epoch 10 | loss: 0.26532 | train_accuracy: 0.97894 | valid_accuracy: 0.98495 |  0:00:04s\n",
      "epoch 11 | loss: 0.27208 | train_accuracy: 0.96916 | valid_accuracy: 0.97674 |  0:00:04s\n",
      "epoch 12 | loss: 0.25355 | train_accuracy: 0.97397 | valid_accuracy: 0.97674 |  0:00:04s\n",
      "epoch 13 | loss: 0.24968 | train_accuracy: 0.95656 | valid_accuracy: 0.9658  |  0:00:05s\n",
      "epoch 14 | loss: 0.22801 | train_accuracy: 0.95722 | valid_accuracy: 0.9658  |  0:00:05s\n",
      "epoch 15 | loss: 0.23496 | train_accuracy: 0.96037 | valid_accuracy: 0.96854 |  0:00:05s\n",
      "epoch 16 | loss: 0.23221 | train_accuracy: 0.97927 | valid_accuracy: 0.98358 |  0:00:06s\n",
      "epoch 17 | loss: 0.22794 | train_accuracy: 0.95788 | valid_accuracy: 0.96717 |  0:00:06s\n",
      "epoch 18 | loss: 0.21078 | train_accuracy: 0.97795 | valid_accuracy: 0.98495 |  0:00:07s\n",
      "epoch 19 | loss: 0.20747 | train_accuracy: 0.98392 | valid_accuracy: 0.99042 |  0:00:07s\n",
      "epoch 20 | loss: 0.2103  | train_accuracy: 0.87647 | valid_accuracy: 0.88235 |  0:00:07s\n",
      "epoch 21 | loss: 0.18985 | train_accuracy: 0.98591 | valid_accuracy: 0.98769 |  0:00:08s\n",
      "epoch 22 | loss: 0.20539 | train_accuracy: 0.99038 | valid_accuracy: 0.98632 |  0:00:08s\n",
      "epoch 23 | loss: 0.19579 | train_accuracy: 0.97629 | valid_accuracy: 0.97811 |  0:00:08s\n",
      "epoch 24 | loss: 0.19556 | train_accuracy: 0.99519 | valid_accuracy: 0.99453 |  0:00:09s\n",
      "epoch 25 | loss: 0.19021 | train_accuracy: 0.9927  | valid_accuracy: 0.98906 |  0:00:09s\n",
      "epoch 26 | loss: 0.19425 | train_accuracy: 0.99619 | valid_accuracy: 0.99726 |  0:00:10s\n",
      "epoch 27 | loss: 0.17824 | train_accuracy: 0.99353 | valid_accuracy: 0.9959  |  0:00:10s\n",
      "epoch 28 | loss: 0.19732 | train_accuracy: 0.99221 | valid_accuracy: 0.98906 |  0:00:10s\n",
      "epoch 29 | loss: 0.1766  | train_accuracy: 0.99121 | valid_accuracy: 0.99042 |  0:00:11s\n",
      "epoch 30 | loss: 0.19271 | train_accuracy: 0.99287 | valid_accuracy: 0.99179 |  0:00:11s\n",
      "epoch 31 | loss: 0.18457 | train_accuracy: 0.99469 | valid_accuracy: 0.99453 |  0:00:11s\n",
      "epoch 32 | loss: 0.18065 | train_accuracy: 0.99801 | valid_accuracy: 0.99726 |  0:00:12s\n",
      "epoch 33 | loss: 0.18328 | train_accuracy: 0.99901 | valid_accuracy: 0.99726 |  0:00:12s\n",
      "epoch 34 | loss: 0.1773  | train_accuracy: 0.99751 | valid_accuracy: 0.99726 |  0:00:12s\n",
      "epoch 35 | loss: 0.18443 | train_accuracy: 0.98955 | valid_accuracy: 0.98906 |  0:00:13s\n",
      "epoch 36 | loss: 0.18611 | train_accuracy: 0.99602 | valid_accuracy: 0.9959  |  0:00:13s\n",
      "epoch 37 | loss: 0.17053 | train_accuracy: 0.99718 | valid_accuracy: 0.99726 |  0:00:14s\n",
      "epoch 38 | loss: 0.18423 | train_accuracy: 0.99768 | valid_accuracy: 0.99453 |  0:00:14s\n",
      "epoch 39 | loss: 0.16918 | train_accuracy: 0.9995  | valid_accuracy: 0.9959  |  0:00:14s\n",
      "epoch 40 | loss: 0.18226 | train_accuracy: 0.99635 | valid_accuracy: 0.99316 |  0:00:15s\n",
      "epoch 41 | loss: 0.1797  | train_accuracy: 0.99818 | valid_accuracy: 0.99316 |  0:00:15s\n",
      "epoch 42 | loss: 0.16823 | train_accuracy: 0.99801 | valid_accuracy: 0.99726 |  0:00:15s\n",
      "epoch 43 | loss: 0.15843 | train_accuracy: 0.99884 | valid_accuracy: 0.99726 |  0:00:16s\n",
      "epoch 44 | loss: 0.17459 | train_accuracy: 0.99818 | valid_accuracy: 0.99453 |  0:00:16s\n",
      "epoch 45 | loss: 0.17936 | train_accuracy: 0.99055 | valid_accuracy: 0.98358 |  0:00:16s\n",
      "epoch 46 | loss: 0.17233 | train_accuracy: 0.99983 | valid_accuracy: 0.9959  |  0:00:17s\n",
      "\n",
      "Early stopping occurred at epoch 46 with best_epoch = 26 and best_valid_accuracy = 0.99726\n"
     ]
    },
    {
     "name": "stderr",
     "output_type": "stream",
     "text": [
      "C:\\Users\\admin\\anaconda3\\envs\\pytorch-gpu-diab\\lib\\site-packages\\pytorch_tabnet\\callbacks.py:172: UserWarning: Best weights from best epoch are automatically used!\n",
      "  warnings.warn(wrn_msg)\n"
     ]
    }
   ],
   "source": [
    "# This illustrates the warm_start=False behaviour\n",
    "save_history = []\n",
    "for _ in range(2):\n",
    "    clf.fit(\n",
    "        X_train=X_train, y_train=y_train,\n",
    "        eval_set=[(X_train, y_train), (X_valid, y_valid)],\n",
    "        eval_name=['train', 'valid'],\n",
    "        eval_metric=['accuracy'],\n",
    "        max_epochs=max_epochs , patience=20,\n",
    "        batch_size=1024, virtual_batch_size=128,\n",
    "        num_workers=0,\n",
    "        weights=1,\n",
    "        drop_last=False,\n",
    "        augmentations=aug, #aug, None\n",
    "    )\n",
    "    save_history.append(clf.history[\"valid_accuracy\"])\n",
    "\n",
    "assert(np.all(np.array(save_history[0]==np.array(save_history[1]))))"
   ]
  },
  {
   "cell_type": "code",
   "execution_count": 22,
   "metadata": {},
   "outputs": [
    {
     "data": {
      "text/plain": [
       "[<matplotlib.lines.Line2D at 0x1a8943d3310>]"
      ]
     },
     "execution_count": 22,
     "metadata": {},
     "output_type": "execute_result"
    },
    {
     "data": {
      "image/png": "[encoded data removed]",
      "text/plain": [
       "<Figure size 432x288 with 1 Axes>"
      ]
     },
     "metadata": {
      "needs_background": "light"
     },
     "output_type": "display_data"
    }
   ],
   "source": [
    "# plot losses\n",
    "plt.plot(clf.history['loss'])"
   ]
  },
  {
   "cell_type": "code",
   "execution_count": 23,
   "metadata": {},
   "outputs": [
    {
     "data": {
      "text/plain": [
       "[<matplotlib.lines.Line2D at 0x1a8941c7970>]"
      ]
     },
     "execution_count": 23,
     "metadata": {},
     "output_type": "execute_result"
    },
    {
     "data": {
      "image/png": "[encoded data removed]",
      "text/plain": [
       "<Figure size 432x288 with 1 Axes>"
      ]
     },
     "metadata": {
      "needs_background": "light"
     },
     "output_type": "display_data"
    }
   ],
   "source": [
    "# plot auc\n",
    "plt.plot(clf.history['train_accuracy'])\n",
    "plt.plot(clf.history['valid_accuracy'])"
   ]
  },
  {
   "cell_type": "code",
   "execution_count": 24,
   "metadata": {},
   "outputs": [
    {
     "data": {
      "text/plain": [
       "[<matplotlib.lines.Line2D at 0x1a89414e3d0>]"
      ]
     },
     "execution_count": 24,
     "metadata": {},
     "output_type": "execute_result"
    },
    {
     "data": {
      "image/png": "[encoded data removed]",
      "text/plain": [
       "<Figure size 432x288 with 1 Axes>"
      ]
     },
     "metadata": {
      "needs_background": "light"
     },
     "output_type": "display_data"
    }
   ],
   "source": [
    "# plot learning rates\n",
    "plt.plot(clf.history['lr'])"
   ]
  },
  {
   "cell_type": "markdown",
   "metadata": {},
   "source": [
    "### Predictions"
   ]
  },
  {
   "cell_type": "code",
   "execution_count": 25,
   "metadata": {},
   "outputs": [],
   "source": [
    "y_pred = clf.predict(X_test)"
   ]
  },
  {
   "cell_type": "code",
   "execution_count": 26,
   "metadata": {},
   "outputs": [],
   "source": [
    "import seaborn as sns\n",
    "from sklearn import metrics\n",
    "from sklearn.metrics import precision_score\n",
    "from sklearn.metrics import recall_score\n",
    "from sklearn.metrics import classification_report, accuracy_score\n",
    "from sklearn.metrics import accuracy_score, f1_score, confusion_matrix"
   ]
  },
  {
   "cell_type": "code",
   "execution_count": 27,
   "metadata": {},
   "outputs": [],
   "source": [
    "from sklearn.preprocessing import LabelBinarizer\n",
    "from sklearn.metrics import roc_curve, auc\n",
    "from sklearn.metrics import roc_auc_score"
   ]
  },
  {
   "cell_type": "code",
   "execution_count": 28,
   "metadata": {},
   "outputs": [],
   "source": [
    "cm = confusion_matrix(y_test, y_pred) \n",
    "accuracy=metrics.recall_score(y_test,y_pred,average='micro')"
   ]
  },
  {
   "cell_type": "code",
   "execution_count": 29,
   "metadata": {},
   "outputs": [],
   "source": [
    "def multiclass_roc_auc_score(y_test, y_pred, average=\"macro\"):\n",
    "    lb = LabelBinarizer()\n",
    "    lb.fit(y_test)\n",
    "    y_test = lb.transform(y_test)\n",
    "    y_pred = lb.transform(y_pred)\n",
    "    return roc_auc_score(y_test, y_pred, average=average)"
   ]
  },
  {
   "cell_type": "code",
   "execution_count": 30,
   "metadata": {},
   "outputs": [
    {
     "name": "stdout",
     "output_type": "stream",
     "text": [
      "Accuracy =  0.997275204359673\n",
      "-\n",
      "[[169   0   0]\n",
      " [  0 217   0]\n",
      " [  0   2 346]]\n",
      "-\n",
      "              precision    recall  f1-score   support\n",
      "\n",
      "    Diabetic       1.00      1.00      1.00       169\n",
      "      Normal       0.99      1.00      1.00       217\n",
      " Prediabetic       1.00      0.99      1.00       348\n",
      "\n",
      "    accuracy                           1.00       734\n",
      "   macro avg       1.00      1.00      1.00       734\n",
      "weighted avg       1.00      1.00      1.00       734\n",
      "\n",
      "-\n"
     ]
    },
    {
     "data": {
      "image/png": "[encoded data removed]",
      "text/plain": [
       "<Figure size 432x288 with 2 Axes>"
      ]
     },
     "metadata": {
      "needs_background": "light"
     },
     "output_type": "display_data"
    },
    {
     "name": "stdout",
     "output_type": "stream",
     "text": [
      "0.9983974002682734\n"
     ]
    },
    {
     "data": {
      "image/png": "[encoded data removed]",
      "text/plain": [
       "<Figure size 432x288 with 1 Axes>"
      ]
     },
     "metadata": {
      "needs_background": "light"
     },
     "output_type": "display_data"
    }
   ],
   "source": [
    "print('Accuracy = ', accuracy_score(y_test, y_pred))\n",
    "print('-')\n",
    "print(confusion_matrix(y_test,y_pred))\n",
    "print('-')\n",
    "print(classification_report(y_test,y_pred))\n",
    "print('-')\n",
    "\n",
    "cnf_matrix = metrics.confusion_matrix(y_test, y_pred)\n",
    "p = sns.heatmap(pd.DataFrame(cnf_matrix), annot=True, cmap=\"YlGnBu\" ,fmt='g')\n",
    "plt.title('Confusion matrix', y=1.1)\n",
    "plt.ylabel('Actual label')\n",
    "plt.xlabel('Predicted label')\n",
    "plt.show()\n",
    "\n",
    "print(multiclass_roc_auc_score(y_test, y_pred))\n",
    "\n",
    "from sklearn.metrics import roc_curve\n",
    "y_pred_keras = clf.predict_proba(X=X_test)\n",
    "import scikitplot as skplt\n",
    "plot = skplt.metrics.plot_roc(y_test, y_pred_keras)\n",
    "plt.show()"
   ]
  },
  {
   "cell_type": "code",
   "execution_count": 31,
   "metadata": {},
   "outputs": [
    {
     "name": "stdout",
     "output_type": "stream",
     "text": [
      "0.9983974002682734\n"
     ]
    }
   ],
   "source": [
    "print(multiclass_roc_auc_score(y_test, y_pred))"
   ]
  },
  {
   "cell_type": "code",
   "execution_count": 32,
   "metadata": {},
   "outputs": [
    {
     "name": "stdout",
     "output_type": "stream",
     "text": [
      "Time taken: 39.976903438568115\n"
     ]
    }
   ],
   "source": [
    "end_clf= time.time()\n",
    "time_clf = end_clf-start_clf\n",
    "print('Time taken:',time_clf)"
   ]
  },
  {
   "cell_type": "code",
   "execution_count": 33,
   "metadata": {},
   "outputs": [
    {
     "name": "stdout",
     "output_type": "stream",
     "text": [
      "Time taken in minutes: 0.6662817239761353\n"
     ]
    }
   ],
   "source": [
    "print('Time taken in minutes:',time_clf/60)"
   ]
  },
  {
   "cell_type": "code",
   "execution_count": 34,
   "metadata": {},
   "outputs": [
    {
     "data": {
      "text/plain": [
       "array([0.01514505, 0.03155911, 0.00819443, 0.00504365, 0.00722619,\n",
       "       0.00964707, 0.02549988, 0.00728321, 0.00664424, 0.00437787,\n",
       "       0.19746948, 0.50570066, 0.00936008, 0.0011338 , 0.00409343,\n",
       "       0.01195655, 0.00466194, 0.0333746 , 0.01020127, 0.00398882,\n",
       "       0.04555865, 0.00329338, 0.0130168 , 0.02240722, 0.01316263])"
      ]
     },
     "execution_count": 34,
     "metadata": {},
     "output_type": "execute_result"
    }
   ],
   "source": [
    "clf.feature_importances_"
   ]
  },
  {
   "cell_type": "markdown",
   "metadata": {},
   "source": [
    "#### Local Explainability and Masks"
   ]
  },
  {
   "cell_type": "code",
   "execution_count": 35,
   "metadata": {},
   "outputs": [],
   "source": [
    "explain_matrix, masks = clf.explain(X_test)"
   ]
  },
  {
   "cell_type": "code",
   "execution_count": 36,
   "metadata": {},
   "outputs": [
    {
     "data": {
      "image/png": "[encoded data removed]",
      "text/plain": [
       "<Figure size 1440x1440 with 3 Axes>"
      ]
     },
     "metadata": {
      "needs_background": "light"
     },
     "output_type": "display_data"
    }
   ],
   "source": [
    "fig, axs = plt.subplots(1,3,figsize=(20,20))\n",
    "\n",
    "for i in range(3):\n",
    "    axs[i].imshow(masks[i][:50])\n",
    "    axs[i].set_title(f\"mask {i}\")"
   ]
  }
 ],
 "metadata": {
  "kernelspec": {
   "display_name": "Python 3 (ipykernel)",
   "language": "python",
   "name": "python3"
  },
  "language_info": {
   "codemirror_mode": {
    "name": "ipython",
    "version": 3
   },
   "file_extension": ".py",
   "mimetype": "text/x-python",
   "name": "python",
   "nbconvert_exporter": "python",
   "pygments_lexer": "ipython3",
   "version": "3.9.13"
  }
 },
 "nbformat": 4,
 "nbformat_minor": 4
}
